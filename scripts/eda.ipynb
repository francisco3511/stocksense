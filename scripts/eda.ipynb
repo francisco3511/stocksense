{
 "cells": [
  {
   "cell_type": "code",
   "execution_count": 2,
   "metadata": {},
   "outputs": [],
   "source": [
    "import yfinance as yf\n",
    "from config import get_config_dict\n",
    "import datetime as dt\n",
    "import sys\n",
    "from pathlib import Path\n",
    "from loguru import logger\n",
    "from tqdm import tqdm\n",
    "import pandas as pd\n",
    "\n",
    "from config import get_config_dict\n",
    "from pipeline import Stock, Etl\n",
    "\n",
    "t = yf.Ticker('AAPL')\n",
    "earn_dates = t.get_earnings_dates(limit=n_quarters).reset_index()"
   ]
  },
  {
   "cell_type": "code",
   "execution_count": 3,
   "metadata": {},
   "outputs": [
    {
     "data": {
      "text/plain": [
       "2.2489"
      ]
     },
     "execution_count": 3,
     "metadata": {},
     "output_type": "execute_result"
    }
   ],
   "source": [
    "from utils import get_stock_metadata, \n",
    "\n",
    "data = get_stock_metadata('AAPL')\n",
    "data['trailingPegRatio']"
   ]
  }
 ],
 "metadata": {
  "kernelspec": {
   "display_name": "fin",
   "language": "python",
   "name": "python3"
  },
  "language_info": {
   "codemirror_mode": {
    "name": "ipython",
    "version": 3
   },
   "file_extension": ".py",
   "mimetype": "text/x-python",
   "name": "python",
   "nbconvert_exporter": "python",
   "pygments_lexer": "ipython3",
   "version": "3.10.14"
  },
  "orig_nbformat": 4
 },
 "nbformat": 4,
 "nbformat_minor": 2
}
