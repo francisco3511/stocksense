{
 "cells": [
  {
   "cell_type": "code",
   "execution_count": 1,
   "metadata": {},
   "outputs": [],
   "source": [
    "import datetime as dt\n",
    "\n",
    "import polars as pl\n",
    "\n",
    "from stocksense.config import config\n",
    "from stocksense.database import DatabaseHandler\n",
    "from stocksense.model import XGBoostRegressor\n",
    "from stocksense.pipeline import clean, engineer_features\n",
    "\n",
    "features = config.model.features\n",
    "date_col = config.model.date_col\n",
    "aux_cols = [\"tic\", \"datadate\", \"rdq\"]\n",
    "\n",
    "features = config.model.features\n",
    "targets = [\"risk_return_3Q_hit\", \"risk_return_4Q_hit\", \"fwd_return_4Q_hit\", \"risk_return_4Q_hit\"]\n",
    "prediction_horizon = config.processing.prediction_horizon\n",
    "min_train_years = config.model.min_train_years\n",
    "\n",
    "trade_date = dt.datetime(2023, 6, 1)"
   ]
  },
  {
   "cell_type": "code",
   "execution_count": 2,
   "metadata": {},
   "outputs": [
    {
     "name": "stderr",
     "output_type": "stream",
     "text": [
      "\u001b[32m2024-12-28 19:18:29.286\u001b[0m | \u001b[1mINFO    \u001b[0m | \u001b[36mstocksense.pipeline.preprocess\u001b[0m:\u001b[36mengineer_features\u001b[0m:\u001b[36m20\u001b[0m - \u001b[1mSTART processing stock data\u001b[0m\n",
      "\u001b[32m2024-12-28 19:18:29.288\u001b[0m | \u001b[32m\u001b[1mSUCCESS \u001b[0m | \u001b[36mstocksense.database.schema\u001b[0m:\u001b[36mcreate_tables\u001b[0m:\u001b[36m121\u001b[0m - \u001b[32m\u001b[1mTables created successfully\u001b[0m\n",
      "\u001b[32m2024-12-28 19:18:33.720\u001b[0m | \u001b[1mINFO    \u001b[0m | \u001b[36mstocksense.pipeline.preprocess\u001b[0m:\u001b[36mengineer_features\u001b[0m:\u001b[36m33\u001b[0m - \u001b[1mSTART feature engineering\u001b[0m\n",
      "\u001b[32m2024-12-28 19:18:46.905\u001b[0m | \u001b[32m\u001b[1mSUCCESS \u001b[0m | \u001b[36mstocksense.pipeline.preprocess\u001b[0m:\u001b[36mengineer_features\u001b[0m:\u001b[36m47\u001b[0m - \u001b[32m\u001b[1mEND 58960 rows PROCESSED\u001b[0m\n",
      "\u001b[32m2024-12-28 19:18:46.909\u001b[0m | \u001b[1mINFO    \u001b[0m | \u001b[36mstocksense.pipeline.preprocess\u001b[0m:\u001b[36mclean\u001b[0m:\u001b[36m69\u001b[0m - \u001b[1mSTART cleaning data\u001b[0m\n",
      "\u001b[32m2024-12-28 19:18:47.043\u001b[0m | \u001b[32m\u001b[1mSUCCESS \u001b[0m | \u001b[36mstocksense.pipeline.preprocess\u001b[0m:\u001b[36mclean\u001b[0m:\u001b[36m106\u001b[0m - \u001b[32m\u001b[1m37806 rows retained after CLEANING\u001b[0m\n",
      "\u001b[32m2024-12-28 19:18:47.044\u001b[0m | \u001b[32m\u001b[1mSUCCESS \u001b[0m | \u001b[36mstocksense.database.schema\u001b[0m:\u001b[36mcreate_tables\u001b[0m:\u001b[36m121\u001b[0m - \u001b[32m\u001b[1mTables created successfully\u001b[0m\n"
     ]
    }
   ],
   "source": [
    "def prepare_data():\n",
    "    \"\"\"Prepare data for model operations.\"\"\"\n",
    "    data = engineer_features()\n",
    "    data = clean(data)\n",
    "    return data\n",
    "\n",
    "\n",
    "data = prepare_data()\n",
    "constituents = DatabaseHandler().fetch_constituents(trade_date)"
   ]
  },
  {
   "cell_type": "code",
   "execution_count": 4,
   "metadata": {},
   "outputs": [],
   "source": [
    "def format_parameters(solution, scale: float) -> dict:\n",
    "    return {\n",
    "        \"objective\": \"binary:logistic\",\n",
    "        \"learning_rate\": solution[0],\n",
    "        \"n_estimators\": round(solution[1]),\n",
    "        \"max_depth\": round(solution[2]),\n",
    "        \"min_child_weight\": solution[3],\n",
    "        \"gamma\": solution[4],\n",
    "        \"subsample\": solution[5],\n",
    "        \"colsample_bytree\": solution[6],\n",
    "        \"reg_alpha\": solution[7],\n",
    "        \"reg_lambda\": solution[8],\n",
    "        \"scale_pos_weight\": scale,\n",
    "        \"eval_metric\": \"logloss\",\n",
    "        \"tree_method\": \"hist\",\n",
    "        \"nthread\": -1,\n",
    "        \"random_state\": 100,\n",
    "    }"
   ]
  },
  {
   "cell_type": "code",
   "execution_count": 5,
   "metadata": {},
   "outputs": [
    {
     "name": "stdout",
     "output_type": "stream",
     "text": [
      "START training model for risk_return_3Q_hit, 2023-06-01 00:00:00\n",
      "1.83\n",
      "START training model for risk_return_4Q_hit, 2023-06-01 00:00:00\n",
      "2.17\n",
      "START training model for fwd_return_4Q_hit, 2023-06-01 00:00:00\n",
      "3.64\n",
      "START training model for risk_return_4Q_hit, 2023-06-01 00:00:00\n",
      "2.17\n"
     ]
    }
   ],
   "source": [
    "def get_dataset_imbalance_scale(train: pl.DataFrame, target: str):\n",
    "    \"\"\"\n",
    "    Compute dataset class imbalance scale.\n",
    "\n",
    "    Parameters\n",
    "    ----------\n",
    "    train : pl.DataFrame\n",
    "        Training dataset.\n",
    "\n",
    "    Returns\n",
    "    -------\n",
    "    float\n",
    "        Class imbalance scale.\n",
    "    \"\"\"\n",
    "    min_year = pl.col(\"tdq\").dt.year().min()\n",
    "    filtered_data = train.filter(pl.col(\"tdq\").dt.year() < min_year + min_train_years)\n",
    "    neg_count = len(filtered_data.filter(pl.col(target) == 0))\n",
    "    pos_count = len(filtered_data.filter(pl.col(target) == 1))\n",
    "    return round(neg_count / pos_count, 2)\n",
    "\n",
    "\n",
    "def train_model(data, trade_date, targets, features):\n",
    "    models = {}\n",
    "    for target in targets:\n",
    "        print(f\"START training model for {target}, {trade_date}\")\n",
    "\n",
    "        train = data.filter(\n",
    "            (pl.col(\"tdq\") < trade_date - dt.timedelta(days=360))\n",
    "            & ~pl.all_horizontal(pl.col(target).is_null())\n",
    "        ).select([\"tdq\", \"tic\"] + features + [target])\n",
    "\n",
    "        scale = get_dataset_imbalance_scale(train, target)\n",
    "        print(scale)\n",
    "\n",
    "        params = [0.10, 192.50, 7.85, 6.65, 0.47, 0.52, 0.87, 6.89, 8.68]\n",
    "        params = format_parameters(params, scale)\n",
    "\n",
    "        X_train = train.select(features).to_pandas()\n",
    "        y_train = train.select(target).to_pandas().values.ravel()\n",
    "\n",
    "        model = XGBoostRegressor(params)\n",
    "        model.train(X_train, y_train)\n",
    "        models[target] = model\n",
    "    return models\n",
    "\n",
    "\n",
    "models = train_model(data, trade_date, targets, features)"
   ]
  },
  {
   "cell_type": "code",
   "execution_count": 6,
   "metadata": {},
   "outputs": [
    {
     "name": "stdout",
     "output_type": "stream",
     "text": [
      "loaded model with params: {'objective': 'binary:logistic', 'learning_rate': 0.1, 'n_estimators': 192, 'max_depth': 8, 'min_child_weight': 6.65, 'gamma': 0.47, 'subsample': 0.52, 'colsample_bytree': 0.87, 'reg_alpha': 6.89, 'reg_lambda': 8.68, 'scale_pos_weight': 1.83, 'eval_metric': 'logloss', 'tree_method': 'hist', 'nthread': -1, 'random_state': 100}\n",
      "loaded model with params: {'objective': 'binary:logistic', 'learning_rate': 0.1, 'n_estimators': 192, 'max_depth': 8, 'min_child_weight': 6.65, 'gamma': 0.47, 'subsample': 0.52, 'colsample_bytree': 0.87, 'reg_alpha': 6.89, 'reg_lambda': 8.68, 'scale_pos_weight': 2.17, 'eval_metric': 'logloss', 'tree_method': 'hist', 'nthread': -1, 'random_state': 100}\n",
      "loaded model with params: {'objective': 'binary:logistic', 'learning_rate': 0.1, 'n_estimators': 192, 'max_depth': 8, 'min_child_weight': 6.65, 'gamma': 0.47, 'subsample': 0.52, 'colsample_bytree': 0.87, 'reg_alpha': 6.89, 'reg_lambda': 8.68, 'scale_pos_weight': 3.64, 'eval_metric': 'logloss', 'tree_method': 'hist', 'nthread': -1, 'random_state': 100}\n",
      "loaded model with params: {'objective': 'binary:logistic', 'learning_rate': 0.1, 'n_estimators': 192, 'max_depth': 8, 'min_child_weight': 6.65, 'gamma': 0.47, 'subsample': 0.52, 'colsample_bytree': 0.87, 'reg_alpha': 6.89, 'reg_lambda': 8.68, 'scale_pos_weight': 2.17, 'eval_metric': 'logloss', 'tree_method': 'hist', 'nthread': -1, 'random_state': 100}\n"
     ]
    },
    {
     "data": {
      "text/html": [
       "<div><style>\n",
       ".dataframe > thead > tr,\n",
       ".dataframe > tbody > tr {\n",
       "  text-align: right;\n",
       "  white-space: pre-wrap;\n",
       "}\n",
       "</style>\n",
       "<small>shape: (20, 13)</small><table border=\"1\" class=\"dataframe\"><thead><tr><th>tic</th><th>adj_close</th><th>f_score</th><th>pe</th><th>pb</th><th>saleq_yoy</th><th>price_mom</th><th>index_mom</th><th>risk_return_4Q</th><th>rank_risk_return_3Q_hit</th><th>rank_risk_return_4Q_hit</th><th>rank_fwd_return_4Q_hit</th><th>avg_score</th></tr><tr><td>str</td><td>f64</td><td>i8</td><td>f64</td><td>f64</td><td>f64</td><td>f64</td><td>f64</td><td>f64</td><td>u32</td><td>u32</td><td>u32</td><td>f64</td></tr></thead><tbody><tr><td>&quot;GL&quot;</td><td>102.404884</td><td>5</td><td>13.999426</td><td>2.641819</td><td>1.434948</td><td>-3.433519</td><td>2.462385</td><td>-1.114624</td><td>1</td><td>5</td><td>79</td><td>22.5</td></tr><tr><td>&quot;LKQ&quot;</td><td>50.051731</td><td>8</td><td>12.192901</td><td>2.449266</td><td>0.029869</td><td>-8.982872</td><td>2.462385</td><td>-3.596411</td><td>3</td><td>45</td><td>30</td><td>30.75</td></tr><tr><td>&quot;AMP&quot;</td><td>297.257599</td><td>5</td><td>15.532451</td><td>8.062331</td><td>3.227586</td><td>3.239292</td><td>2.462385</td><td>37.020242</td><td>93</td><td>6</td><td>20</td><td>31.25</td></tr><tr><td>&quot;AOS&quot;</td><td>62.996155</td><td>7</td><td>40.402664</td><td>5.479704</td><td>-1.155774</td><td>-7.451988</td><td>2.462385</td><td>25.215617</td><td>26</td><td>25</td><td>78</td><td>38.5</td></tr><tr><td>&quot;FDX&quot;</td><td>210.729767</td><td>4</td><td>18.373786</td><td>2.222713</td><td>-6.226471</td><td>-4.864274</td><td>2.462385</td><td>14.244502</td><td>32</td><td>37</td><td>58</td><td>41.0</td></tr><tr><td>&hellip;</td><td>&hellip;</td><td>&hellip;</td><td>&hellip;</td><td>&hellip;</td><td>&hellip;</td><td>&hellip;</td><td>&hellip;</td><td>&hellip;</td><td>&hellip;</td><td>&hellip;</td><td>&hellip;</td><td>&hellip;</td></tr><tr><td>&quot;LOW&quot;</td><td>198.007385</td><td>4</td><td>19.186799</td><td>-8.276019</td><td>-5.545458</td><td>-0.995292</td><td>2.462385</td><td>13.168511</td><td>172</td><td>4</td><td>100</td><td>70.0</td></tr><tr><td>&quot;KEYS&quot;</td><td>163.139999</td><td>6</td><td>24.747508</td><td>6.206601</td><td>2.886751</td><td>14.54852</td><td>2.462385</td><td>-4.196431</td><td>125</td><td>61</td><td>64</td><td>77.75</td></tr><tr><td>&quot;JKHY&quot;</td><td>148.719849</td><td>3</td><td>31.625135</td><td>7.181</td><td>6.333793</td><td>-5.495129</td><td>2.462385</td><td>10.380574</td><td>224</td><td>9</td><td>72</td><td>78.5</td></tr><tr><td>&quot;WRB&quot;</td><td>36.645657</td><td>3</td><td>9.701942</td><td>1.510597</td><td>-0.699902</td><td>-2.551376</td><td>2.462385</td><td>38.026687</td><td>128</td><td>13</td><td>162</td><td>79.0</td></tr><tr><td>&quot;MS&quot;</td><td>77.512672</td><td>3</td><td>13.878626</td><td>1.338667</td><td>-1.918789</td><td>-4.890487</td><td>2.462385</td><td>10.93458</td><td>81</td><td>44</td><td>153</td><td>80.5</td></tr></tbody></table></div>"
      ],
      "text/plain": [
       "shape: (20, 13)\n",
       "┌──────┬────────────┬─────────┬───────────┬───┬─────────────┬─────────────┬────────────┬───────────┐\n",
       "│ tic  ┆ adj_close  ┆ f_score ┆ pe        ┆ … ┆ rank_risk_r ┆ rank_risk_r ┆ rank_fwd_r ┆ avg_score │\n",
       "│ ---  ┆ ---        ┆ ---     ┆ ---       ┆   ┆ eturn_3Q_hi ┆ eturn_4Q_hi ┆ eturn_4Q_h ┆ ---       │\n",
       "│ str  ┆ f64        ┆ i8      ┆ f64       ┆   ┆ t           ┆ t           ┆ it         ┆ f64       │\n",
       "│      ┆            ┆         ┆           ┆   ┆ ---         ┆ ---         ┆ ---        ┆           │\n",
       "│      ┆            ┆         ┆           ┆   ┆ u32         ┆ u32         ┆ u32        ┆           │\n",
       "╞══════╪════════════╪═════════╪═══════════╪═══╪═════════════╪═════════════╪════════════╪═══════════╡\n",
       "│ GL   ┆ 102.404884 ┆ 5       ┆ 13.999426 ┆ … ┆ 1           ┆ 5           ┆ 79         ┆ 22.5      │\n",
       "│ LKQ  ┆ 50.051731  ┆ 8       ┆ 12.192901 ┆ … ┆ 3           ┆ 45          ┆ 30         ┆ 30.75     │\n",
       "│ AMP  ┆ 297.257599 ┆ 5       ┆ 15.532451 ┆ … ┆ 93          ┆ 6           ┆ 20         ┆ 31.25     │\n",
       "│ AOS  ┆ 62.996155  ┆ 7       ┆ 40.402664 ┆ … ┆ 26          ┆ 25          ┆ 78         ┆ 38.5      │\n",
       "│ FDX  ┆ 210.729767 ┆ 4       ┆ 18.373786 ┆ … ┆ 32          ┆ 37          ┆ 58         ┆ 41.0      │\n",
       "│ …    ┆ …          ┆ …       ┆ …         ┆ … ┆ …           ┆ …           ┆ …          ┆ …         │\n",
       "│ LOW  ┆ 198.007385 ┆ 4       ┆ 19.186799 ┆ … ┆ 172         ┆ 4           ┆ 100        ┆ 70.0      │\n",
       "│ KEYS ┆ 163.139999 ┆ 6       ┆ 24.747508 ┆ … ┆ 125         ┆ 61          ┆ 64         ┆ 77.75     │\n",
       "│ JKHY ┆ 148.719849 ┆ 3       ┆ 31.625135 ┆ … ┆ 224         ┆ 9           ┆ 72         ┆ 78.5      │\n",
       "│ WRB  ┆ 36.645657  ┆ 3       ┆ 9.701942  ┆ … ┆ 128         ┆ 13          ┆ 162        ┆ 79.0      │\n",
       "│ MS   ┆ 77.512672  ┆ 3       ┆ 13.878626 ┆ … ┆ 81          ┆ 44          ┆ 153        ┆ 80.5      │\n",
       "└──────┴────────────┴─────────┴───────────┴───┴─────────────┴─────────────┴────────────┴───────────┘"
      ]
     },
     "execution_count": 6,
     "metadata": {},
     "output_type": "execute_result"
    }
   ],
   "source": [
    "def score_models(data, models, trade_date, targets, features, stocks):\n",
    "    final_ranks = data.filter(\n",
    "        (pl.col(\"tdq\") == trade_date) & pl.col(\"tic\").is_in(constituents)\n",
    "    ).select(\n",
    "        [\n",
    "            \"tic\",\n",
    "            \"adj_close\",\n",
    "            \"f_score\",\n",
    "            \"pe\",\n",
    "            \"pb\",\n",
    "            \"saleq_yoy\",\n",
    "            \"price_mom\",\n",
    "            \"index_mom\",\n",
    "            \"risk_return_4Q\",\n",
    "        ]\n",
    "    )\n",
    "\n",
    "    rank_cols = []\n",
    "    pred_cols = []\n",
    "    for target in targets:\n",
    "        test_df = (\n",
    "            data.filter((pl.col(\"tdq\") == trade_date) & pl.col(\"tic\").is_in(stocks))\n",
    "            .select(features)\n",
    "            .to_pandas()\n",
    "        )\n",
    "\n",
    "        model = models[target]\n",
    "        print(f\"loaded model with params: {model.params}\")\n",
    "\n",
    "        prob_scores = model.predict(test_df)\n",
    "        final_ranks = final_ranks.with_columns(\n",
    "            [pl.Series(prob_scores).rank(\"dense\", descending=True).alias(f\"rank_{target}\")]\n",
    "        )\n",
    "        rank_cols.append(f\"rank_{target}\")\n",
    "        pred_cols.append(f\"pred_{target}\")\n",
    "\n",
    "    # Calculate average rank\n",
    "    return (\n",
    "        final_ranks.with_columns(pl.mean_horizontal(rank_cols).alias(\"avg_score\"))\n",
    "        .sort(\"avg_score\", descending=False)\n",
    "        .with_columns(pl.col(\"avg_score\").round(3).alias(\"avg_score\"))\n",
    "    )\n",
    "\n",
    "\n",
    "ranks = score_models(data, models, trade_date, targets, features, constituents)\n",
    "ranks.head(20)"
   ]
  },
  {
   "cell_type": "code",
   "execution_count": 7,
   "metadata": {},
   "outputs": [
    {
     "data": {
      "text/html": [
       "<div><style>\n",
       ".dataframe > thead > tr,\n",
       ".dataframe > tbody > tr {\n",
       "  text-align: right;\n",
       "  white-space: pre-wrap;\n",
       "}\n",
       "</style>\n",
       "<small>shape: (480, 13)</small><table border=\"1\" class=\"dataframe\"><thead><tr><th>tic</th><th>adj_close</th><th>f_score</th><th>pe</th><th>pb</th><th>saleq_yoy</th><th>price_mom</th><th>index_mom</th><th>risk_return_4Q</th><th>rank_risk_return_3Q_hit</th><th>rank_risk_return_4Q_hit</th><th>rank_fwd_return_4Q_hit</th><th>avg_score</th></tr><tr><td>str</td><td>f64</td><td>i8</td><td>f64</td><td>f64</td><td>f64</td><td>f64</td><td>f64</td><td>f64</td><td>u32</td><td>u32</td><td>u32</td><td>f64</td></tr></thead><tbody><tr><td>&quot;GL&quot;</td><td>102.404884</td><td>5</td><td>13.999426</td><td>2.641819</td><td>1.434948</td><td>-3.433519</td><td>2.462385</td><td>-1.114624</td><td>1</td><td>5</td><td>79</td><td>22.5</td></tr><tr><td>&quot;LKQ&quot;</td><td>50.051731</td><td>8</td><td>12.192901</td><td>2.449266</td><td>0.029869</td><td>-8.982872</td><td>2.462385</td><td>-3.596411</td><td>3</td><td>45</td><td>30</td><td>30.75</td></tr><tr><td>&quot;AMP&quot;</td><td>297.257599</td><td>5</td><td>15.532451</td><td>8.062331</td><td>3.227586</td><td>3.239292</td><td>2.462385</td><td>37.020242</td><td>93</td><td>6</td><td>20</td><td>31.25</td></tr><tr><td>&quot;AOS&quot;</td><td>62.996155</td><td>7</td><td>40.402664</td><td>5.479704</td><td>-1.155774</td><td>-7.451988</td><td>2.462385</td><td>25.215617</td><td>26</td><td>25</td><td>78</td><td>38.5</td></tr><tr><td>&quot;FDX&quot;</td><td>210.729767</td><td>4</td><td>18.373786</td><td>2.222713</td><td>-6.226471</td><td>-4.864274</td><td>2.462385</td><td>14.244502</td><td>32</td><td>37</td><td>58</td><td>41.0</td></tr><tr><td>&hellip;</td><td>&hellip;</td><td>&hellip;</td><td>&hellip;</td><td>&hellip;</td><td>&hellip;</td><td>&hellip;</td><td>&hellip;</td><td>&hellip;</td><td>&hellip;</td><td>&hellip;</td><td>&hellip;</td><td>&hellip;</td></tr><tr><td>&quot;APH&quot;</td><td>37.403244</td><td>7</td><td>24.533259</td><td>6.381125</td><td>0.74867</td><td>0.610402</td><td>2.462385</td><td>52.409538</td><td>405</td><td>415</td><td>432</td><td>416.75</td></tr><tr><td>&quot;GE&quot;</td><td>82.949905</td><td>6</td><td>10.801327</td><td>2.791898</td><td>14.287968</td><td>3.112997</td><td>2.462385</td><td>49.846659</td><td>424</td><td>446</td><td>351</td><td>416.75</td></tr><tr><td>&quot;RCL&quot;</td><td>83.03595</td><td>5</td><td>-20.509055</td><td>7.027901</td><td>172.38119</td><td>22.740018</td><td>2.462385</td><td>31.61142</td><td>475</td><td>461</td><td>355</td><td>438.0</td></tr><tr><td>&quot;VZ&quot;</td><td>32.211952</td><td>3</td><td>6.968586</td><td>1.596461</td><td>-1.913334</td><td>-5.176525</td><td>2.462385</td><td>13.291541</td><td>374</td><td>465</td><td>451</td><td>438.75</td></tr><tr><td>&quot;NFLX&quot;</td><td>403.130005</td><td>5</td><td>43.428659</td><td>8.355382</td><td>3.73341</td><td>26.950093</td><td>2.462385</td><td>23.529128</td><td>479</td><td>469</td><td>340</td><td>439.25</td></tr></tbody></table></div>"
      ],
      "text/plain": [
       "shape: (480, 13)\n",
       "┌──────┬────────────┬─────────┬────────────┬───┬─────────────┬────────────┬────────────┬───────────┐\n",
       "│ tic  ┆ adj_close  ┆ f_score ┆ pe         ┆ … ┆ rank_risk_r ┆ rank_risk_ ┆ rank_fwd_r ┆ avg_score │\n",
       "│ ---  ┆ ---        ┆ ---     ┆ ---        ┆   ┆ eturn_3Q_hi ┆ return_4Q_ ┆ eturn_4Q_h ┆ ---       │\n",
       "│ str  ┆ f64        ┆ i8      ┆ f64        ┆   ┆ t           ┆ hit        ┆ it         ┆ f64       │\n",
       "│      ┆            ┆         ┆            ┆   ┆ ---         ┆ ---        ┆ ---        ┆           │\n",
       "│      ┆            ┆         ┆            ┆   ┆ u32         ┆ u32        ┆ u32        ┆           │\n",
       "╞══════╪════════════╪═════════╪════════════╪═══╪═════════════╪════════════╪════════════╪═══════════╡\n",
       "│ GL   ┆ 102.404884 ┆ 5       ┆ 13.999426  ┆ … ┆ 1           ┆ 5          ┆ 79         ┆ 22.5      │\n",
       "│ LKQ  ┆ 50.051731  ┆ 8       ┆ 12.192901  ┆ … ┆ 3           ┆ 45         ┆ 30         ┆ 30.75     │\n",
       "│ AMP  ┆ 297.257599 ┆ 5       ┆ 15.532451  ┆ … ┆ 93          ┆ 6          ┆ 20         ┆ 31.25     │\n",
       "│ AOS  ┆ 62.996155  ┆ 7       ┆ 40.402664  ┆ … ┆ 26          ┆ 25         ┆ 78         ┆ 38.5      │\n",
       "│ FDX  ┆ 210.729767 ┆ 4       ┆ 18.373786  ┆ … ┆ 32          ┆ 37         ┆ 58         ┆ 41.0      │\n",
       "│ …    ┆ …          ┆ …       ┆ …          ┆ … ┆ …           ┆ …          ┆ …          ┆ …         │\n",
       "│ APH  ┆ 37.403244  ┆ 7       ┆ 24.533259  ┆ … ┆ 405         ┆ 415        ┆ 432        ┆ 416.75    │\n",
       "│ GE   ┆ 82.949905  ┆ 6       ┆ 10.801327  ┆ … ┆ 424         ┆ 446        ┆ 351        ┆ 416.75    │\n",
       "│ RCL  ┆ 83.03595   ┆ 5       ┆ -20.509055 ┆ … ┆ 475         ┆ 461        ┆ 355        ┆ 438.0     │\n",
       "│ VZ   ┆ 32.211952  ┆ 3       ┆ 6.968586   ┆ … ┆ 374         ┆ 465        ┆ 451        ┆ 438.75    │\n",
       "│ NFLX ┆ 403.130005 ┆ 5       ┆ 43.428659  ┆ … ┆ 479         ┆ 469        ┆ 340        ┆ 439.25    │\n",
       "└──────┴────────────┴─────────┴────────────┴───┴─────────────┴────────────┴────────────┴───────────┘"
      ]
     },
     "execution_count": 7,
     "metadata": {},
     "output_type": "execute_result"
    }
   ],
   "source": [
    "ranks"
   ]
  },
  {
   "cell_type": "code",
   "execution_count": 8,
   "metadata": {},
   "outputs": [
    {
     "name": "stdout",
     "output_type": "stream",
     "text": [
      "\n",
      "DATE 2023-06-01 00:00:00\n",
      "Average top return: 16.87% (79.0)\n",
      "Average bottom return: 13.49% (84.0)\n"
     ]
    }
   ],
   "source": [
    "top = ranks.head(100)\n",
    "bottom = ranks.tail(100)\n",
    "\n",
    "top_freturn = top.select(pl.col(\"risk_return_4Q\")).mean().item()\n",
    "bottom_freturn = bottom.select(pl.col(\"risk_return_4Q\")).mean().item()\n",
    "\n",
    "# Calculate hit rates (% of stocks with positive returns)\n",
    "top_hits = top.select(pl.col(\"risk_return_4Q\") > 0).sum().item()\n",
    "bottom_hits = bottom.select(pl.col(\"risk_return_4Q\") > 0).sum().item()\n",
    "\n",
    "top_hitrate = (top_hits / len(top)) * 100\n",
    "bottom_hitrate = (bottom_hits / len(bottom)) * 100\n",
    "\n",
    "\n",
    "print(f\"\\nDATE {trade_date}\")\n",
    "print(f\"Average top return: {top_freturn:.2f}% ({top_hitrate:.1f})\")\n",
    "print(f\"Average bottom return: {bottom_freturn:.2f}% ({bottom_hitrate:.1f})\")"
   ]
  }
 ],
 "metadata": {
  "kernelspec": {
   "display_name": "stocksense",
   "language": "python",
   "name": "python3"
  },
  "language_info": {
   "codemirror_mode": {
    "name": "ipython",
    "version": 3
   },
   "file_extension": ".py",
   "mimetype": "text/x-python",
   "name": "python",
   "nbconvert_exporter": "python",
   "pygments_lexer": "ipython3",
   "version": "3.11.0"
  }
 },
 "nbformat": 4,
 "nbformat_minor": 2
}
