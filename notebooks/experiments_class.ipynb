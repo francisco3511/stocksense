{
 "cells": [
  {
   "cell_type": "code",
   "execution_count": 1,
   "metadata": {},
   "outputs": [],
   "source": [
    "import datetime as dt\n",
    "\n",
    "import polars as pl\n",
    "\n",
    "from stocksense.config import config\n",
    "from stocksense.database import DatabaseHandler\n",
    "from stocksense.model import XGBoostRegressor\n",
    "from stocksense.pipeline import clean, engineer_features\n",
    "\n",
    "features = config.model.features\n",
    "date_col = config.model.date_col\n",
    "aux_cols = [\"tic\", \"datadate\", \"rdq\"]\n",
    "\n",
    "features = config.model.features\n",
    "targets = [\"risk_return_3Q_hit\", \"fwd_return_4Q_hit\", \"risk_return_4Q_hit\"]\n",
    "prediction_horizon = config.processing.prediction_horizon\n",
    "min_train_years = config.model.min_train_years\n",
    "\n",
    "trade_date = dt.datetime(2023, 6, 1)"
   ]
  },
  {
   "cell_type": "code",
   "execution_count": 2,
   "metadata": {},
   "outputs": [
    {
     "name": "stderr",
     "output_type": "stream",
     "text": [
      "\u001b[32m2024-12-25 12:04:05.841\u001b[0m | \u001b[1mINFO    \u001b[0m | \u001b[36mstocksense.pipeline.preprocess\u001b[0m:\u001b[36mengineer_features\u001b[0m:\u001b[36m20\u001b[0m - \u001b[1mSTART processing stock data\u001b[0m\n",
      "\u001b[32m2024-12-25 12:04:05.842\u001b[0m | \u001b[32m\u001b[1mSUCCESS \u001b[0m | \u001b[36mstocksense.database.schema\u001b[0m:\u001b[36mcreate_tables\u001b[0m:\u001b[36m121\u001b[0m - \u001b[32m\u001b[1mTables created successfully\u001b[0m\n",
      "\u001b[32m2024-12-25 12:04:09.281\u001b[0m | \u001b[1mINFO    \u001b[0m | \u001b[36mstocksense.pipeline.preprocess\u001b[0m:\u001b[36mengineer_features\u001b[0m:\u001b[36m33\u001b[0m - \u001b[1mSTART feature engineering\u001b[0m\n",
      "\u001b[32m2024-12-25 12:04:25.943\u001b[0m | \u001b[32m\u001b[1mSUCCESS \u001b[0m | \u001b[36mstocksense.pipeline.preprocess\u001b[0m:\u001b[36mengineer_features\u001b[0m:\u001b[36m47\u001b[0m - \u001b[32m\u001b[1mEND 58960 rows PROCESSED\u001b[0m\n",
      "\u001b[32m2024-12-25 12:04:25.948\u001b[0m | \u001b[1mINFO    \u001b[0m | \u001b[36mstocksense.pipeline.preprocess\u001b[0m:\u001b[36mclean\u001b[0m:\u001b[36m69\u001b[0m - \u001b[1mSTART cleaning data\u001b[0m\n",
      "\u001b[32m2024-12-25 12:04:26.355\u001b[0m | \u001b[32m\u001b[1mSUCCESS \u001b[0m | \u001b[36mstocksense.pipeline.preprocess\u001b[0m:\u001b[36mclean\u001b[0m:\u001b[36m110\u001b[0m - \u001b[32m\u001b[1m37806 rows retained after CLEANING\u001b[0m\n",
      "\u001b[32m2024-12-25 12:04:26.357\u001b[0m | \u001b[32m\u001b[1mSUCCESS \u001b[0m | \u001b[36mstocksense.database.schema\u001b[0m:\u001b[36mcreate_tables\u001b[0m:\u001b[36m121\u001b[0m - \u001b[32m\u001b[1mTables created successfully\u001b[0m\n"
     ]
    }
   ],
   "source": [
    "def prepare_data():\n",
    "    \"\"\"Prepare data for model operations.\"\"\"\n",
    "    data = engineer_features()\n",
    "    data = clean(data)\n",
    "    return data\n",
    "\n",
    "\n",
    "data = prepare_data()\n",
    "constituents = DatabaseHandler().fetch_constituents(trade_date)"
   ]
  },
  {
   "cell_type": "code",
   "execution_count": 5,
   "metadata": {},
   "outputs": [
    {
     "data": {
      "text/html": [
       "<div><style>\n",
       ".dataframe > thead > tr,\n",
       ".dataframe > tbody > tr {\n",
       "  text-align: right;\n",
       "  white-space: pre-wrap;\n",
       "}\n",
       "</style>\n",
       "<small>shape: (72, 230)</small><table border=\"1\" class=\"dataframe\"><thead><tr><th>tdq</th><th>tic</th><th>datadate</th><th>rdq</th><th>saleq</th><th>cogsq</th><th>xsgaq</th><th>niq</th><th>ebitdaq</th><th>cshoq</th><th>actq</th><th>atq</th><th>cheq</th><th>rectq</th><th>invtq</th><th>ppentq</th><th>lctq</th><th>dlttq</th><th>ltq</th><th>req</th><th>seqq</th><th>oancfq</th><th>ivncfq</th><th>fincfq</th><th>dvq</th><th>capxq</th><th>icaptq</th><th>surprise_pct</th><th>stock_split</th><th>n_purch</th><th>val_purch</th><th>n_sales</th><th>val_sales</th><th>insider_balance</th><th>roa</th><th>roi</th><th>roe</th><th>&hellip;</th><th>eps_2y</th><th>ev_ebitda_yoy</th><th>ltcr_yoy</th><th>itr_yoy</th><th>rtr_yoy</th><th>atr_yoy</th><th>size_yoy</th><th>roa_sec_qoq</th><th>roa_sec_yoy</th><th>f_score</th><th>forward_vol_yoy</th><th>forward_vol_sos</th><th>forward_vol_qoq</th><th>excess_return_1Q</th><th>sharpe_ratio_1Q</th><th>risk_return_1Q</th><th>fwd_return_1Q_hit</th><th>excess_return_1Q_hit</th><th>risk_return_1Q_hit</th><th>excess_return_2Q</th><th>sharpe_ratio_2Q</th><th>risk_return_2Q</th><th>fwd_return_2Q_hit</th><th>excess_return_2Q_hit</th><th>risk_return_2Q_hit</th><th>excess_return_3Q</th><th>sharpe_ratio_3Q</th><th>risk_return_3Q</th><th>fwd_return_3Q_hit</th><th>excess_return_3Q_hit</th><th>risk_return_3Q_hit</th><th>excess_return_4Q</th><th>sharpe_ratio_4Q</th><th>risk_return_4Q</th><th>fwd_return_4Q_hit</th><th>excess_return_4Q_hit</th><th>risk_return_4Q_hit</th></tr><tr><td>date</td><td>str</td><td>date</td><td>date</td><td>f64</td><td>f64</td><td>f64</td><td>f64</td><td>f64</td><td>f64</td><td>f64</td><td>f64</td><td>f64</td><td>f64</td><td>f64</td><td>f64</td><td>f64</td><td>f64</td><td>f64</td><td>f64</td><td>f64</td><td>f64</td><td>f64</td><td>f64</td><td>f64</td><td>f64</td><td>f64</td><td>f64</td><td>i8</td><td>u32</td><td>f64</td><td>u32</td><td>f64</td><td>f64</td><td>f64</td><td>f64</td><td>f64</td><td>&hellip;</td><td>f64</td><td>f64</td><td>f64</td><td>f64</td><td>f64</td><td>f64</td><td>f64</td><td>f64</td><td>f64</td><td>i8</td><td>f64</td><td>f64</td><td>f64</td><td>f64</td><td>f64</td><td>f64</td><td>i8</td><td>i8</td><td>i8</td><td>f64</td><td>f64</td><td>f64</td><td>i8</td><td>i8</td><td>i8</td><td>f64</td><td>f64</td><td>f64</td><td>i8</td><td>i8</td><td>i8</td><td>f64</td><td>f64</td><td>f64</td><td>i8</td><td>i8</td><td>i8</td></tr></thead><tbody><tr><td>2007-03-01</td><td>&quot;AAPL&quot;</td><td>2006-12-31</td><td>2007-01-17</td><td>7115.0</td><td>4821.0</td><td>898.0</td><td>1004.0</td><td>1396.0</td><td>24086.16</td><td>16664.0</td><td>19461.0</td><td>11869.0</td><td>3113.0</td><td>303.0</td><td>1362.0</td><td>7337.0</td><td>0.0</td><td>8233.0</td><td>6634.0</td><td>11228.0</td><td>1813.0</td><td>-1234.0</td><td>188.0</td><td>0.0</td><td>142.0</td><td>11228.0</td><td>0.453</td><td>0</td><td>0</td><td>0.0</td><td>9</td><td>83.8</td><td>83.8</td><td>12.476235</td><td>8.941931</td><td>0.216245</td><td>&hellip;</td><td>null</td><td>-14.607498</td><td>NaN</td><td>-11.661243</td><td>-22.623626</td><td>-13.145444</td><td>3.310886</td><td>31.40398</td><td>171.993547</td><td>4</td><td>2.613724</td><td>2.198614</td><td>1.445804</td><td>9.625824</td><td>6.657767</td><td>10.682745</td><td>1</td><td>1</td><td>1</td><td>40.845842</td><td>28.251306</td><td>32.906736</td><td>1</td><td>1</td><td>1</td><td>77.23883</td><td>35.130699</td><td>38.510469</td><td>1</td><td>1</td><td>1</td><td>84.161474</td><td>32.199834</td><td>32.355575</td><td>1</td><td>1</td><td>1</td></tr><tr><td>2007-06-01</td><td>&quot;AAPL&quot;</td><td>2007-03-31</td><td>2007-04-25</td><td>5264.0</td><td>3346.0</td><td>863.0</td><td>770.0</td><td>1055.0</td><td>24211.404</td><td>16029.0</td><td>18711.0</td><td>12577.0</td><td>1667.0</td><td>208.0</td><td>1409.0</td><td>5485.0</td><td>0.0</td><td>6450.0</td><td>7413.0</td><td>12261.0</td><td>734.0</td><td>-978.0</td><td>180.0</td><td>0.0</td><td>105.0</td><td>12261.0</td><td>0.359</td><td>0</td><td>0</td><td>0.0</td><td>2</td><td>2.08</td><td>2.08</td><td>14.900326</td><td>6.280075</td><td>0.227388</td><td>&hellip;</td><td>null</td><td>20.089345</td><td>NaN</td><td>5.873221</td><td>11.085553</td><td>-11.127631</td><td>3.107109</td><td>59.90405</td><td>97.834928</td><td>5</td><td>2.792059</td><td>2.766874</td><td>2.792311</td><td>15.141031</td><td>5.4224</td><td>4.288529</td><td>1</td><td>1</td><td>1</td><td>39.002772</td><td>13.967916</td><td>13.097882</td><td>1</td><td>1</td><td>1</td><td>45.582556</td><td>16.474386</td><td>13.492304</td><td>1</td><td>1</td><td>1</td><td>42.675714</td><td>15.284672</td><td>11.282641</td><td>1</td><td>1</td><td>0</td></tr><tr><td>2007-09-01</td><td>&quot;AAPL&quot;</td><td>2007-06-30</td><td>2007-07-25</td><td>5410.0</td><td>3334.0</td><td>954.0</td><td>818.0</td><td>1122.0</td><td>24336.536</td><td>18745.0</td><td>21647.0</td><td>13767.0</td><td>2901.0</td><td>251.0</td><td>1626.0</td><td>6992.0</td><td>0.0</td><td>8243.0</td><td>8255.0</td><td>13404.0</td><td>1227.0</td><td>-1433.0</td><td>229.0</td><td>0.0</td><td>283.0</td><td>13404.0</td><td>0.271</td><td>0</td><td>0</td><td>0.0</td><td>8</td><td>38.399</td><td>38.399</td><td>14.477757</td><td>6.102656</td><td>0.233811</td><td>&hellip;</td><td>null</td><td>20.110764</td><td>NaN</td><td>12.470648</td><td>10.519002</td><td>-10.96548</td><td>3.733049</td><td>-17.000355</td><td>42.806873</td><td>5</td><td>2.702126</td><td>2.963765</td><td>2.710762</td><td>22.986262</td><td>8.47963</td><td>9.219309</td><td>1</td><td>1</td><td>1</td><td>19.298171</td><td>7.119094</td><td>5.386367</td><td>1</td><td>1</td><td>0</td><td>20.906667</td><td>7.054091</td><td>4.512087</td><td>0</td><td>1</td><td>0</td><td>36.943247</td><td>13.67192</td><td>9.291562</td><td>0</td><td>1</td><td>0</td></tr><tr><td>2007-12-01</td><td>&quot;AAPL&quot;</td><td>2007-09-30</td><td>2007-10-22</td><td>6217.0</td><td>4034.0</td><td>1030.0</td><td>904.0</td><td>1153.0</td><td>24425.212</td><td>21956.0</td><td>25347.0</td><td>15386.0</td><td>4029.0</td><td>346.0</td><td>1832.0</td><td>9299.0</td><td>0.0</td><td>10815.0</td><td>9164.0</td><td>14532.0</td><td>1696.0</td><td>396.0</td><td>142.0</td><td>0.0</td><td>205.0</td><td>14532.0</td><td>0.179</td><td>0</td><td>1</td><td>0.696</td><td>3</td><td>131.879</td><td>131.183</td><td>13.792559</td><td>6.220754</td><td>0.240573</td><td>&hellip;</td><td>null</td><td>15.326081</td><td>NaN</td><td>3.986648</td><td>-8.396816</td><td>-11.60651</td><td>3.972748</td><td>-12.499977</td><td>52.599244</td><td>5</td><td>3.635551</td><td>2.812971</td><td>3.086454</td><td>-13.717511</td><td>-4.444424</td><td>-6.938818</td><td>0</td><td>0</td><td>0</td><td>-5.03582</td><td>-1.631588</td><td>-4.185152</td><td>0</td><td>0</td><td>0</td><td>7.192317</td><td>2.55684</td><td>-1.977352</td><td>0</td><td>0</td><td>0</td><td>-6.577482</td><td>-1.809212</td><td>-9.914149</td><td>0</td><td>0</td><td>0</td></tr><tr><td>2008-03-01</td><td>&quot;AAPL&quot;</td><td>2007-12-31</td><td>2008-01-22</td><td>9608.0</td><td>6170.0</td><td>1206.0</td><td>1581.0</td><td>2232.0</td><td>24601.612</td><td>26189.0</td><td>30039.0</td><td>18448.0</td><td>4422.0</td><td>459.0</td><td>1870.0</td><td>10535.0</td><td>0.0</td><td>13235.0</td><td>10758.0</td><td>16804.0</td><td>2787.0</td><td>-3462.0</td><td>485.0</td><td>0.0</td><td>224.0</td><td>16804.0</td><td>0.089</td><td>0</td><td>0</td><td>0.0</td><td>2</td><td>6.884</td><td>6.884</td><td>13.55904</td><td>9.408474</td><td>0.242383</td><td>&hellip;</td><td>145.304665</td><td>-13.714245</td><td>NaN</td><td>-3.879321</td><td>-4.797032</td><td>-10.603272</td><td>4.395268</td><td>-4.206943</td><td>11.244333</td><td>5</td><td>3.64166</td><td>2.404911</td><td>2.40588</td><td>32.114818</td><td>13.348468</td><td>15.072915</td><td>1</td><td>1</td><td>1</td><td>40.92954</td><td>17.012291</td><td>15.982153</td><td>1</td><td>1</td><td>1</td><td>13.604471</td><td>5.656953</td><td>-2.870685</td><td>0</td><td>1</td><td>0</td><td>9.154933</td><td>2.513945</td><td>-7.455066</td><td>0</td><td>0</td><td>0</td></tr><tr><td>&hellip;</td><td>&hellip;</td><td>&hellip;</td><td>&hellip;</td><td>&hellip;</td><td>&hellip;</td><td>&hellip;</td><td>&hellip;</td><td>&hellip;</td><td>&hellip;</td><td>&hellip;</td><td>&hellip;</td><td>&hellip;</td><td>&hellip;</td><td>&hellip;</td><td>&hellip;</td><td>&hellip;</td><td>&hellip;</td><td>&hellip;</td><td>&hellip;</td><td>&hellip;</td><td>&hellip;</td><td>&hellip;</td><td>&hellip;</td><td>&hellip;</td><td>&hellip;</td><td>&hellip;</td><td>&hellip;</td><td>&hellip;</td><td>&hellip;</td><td>&hellip;</td><td>&hellip;</td><td>&hellip;</td><td>&hellip;</td><td>&hellip;</td><td>&hellip;</td><td>&hellip;</td><td>&hellip;</td><td>&hellip;</td><td>&hellip;</td><td>&hellip;</td><td>&hellip;</td><td>&hellip;</td><td>&hellip;</td><td>&hellip;</td><td>&hellip;</td><td>&hellip;</td><td>&hellip;</td><td>&hellip;</td><td>&hellip;</td><td>&hellip;</td><td>&hellip;</td><td>&hellip;</td><td>&hellip;</td><td>&hellip;</td><td>&hellip;</td><td>&hellip;</td><td>&hellip;</td><td>&hellip;</td><td>&hellip;</td><td>&hellip;</td><td>&hellip;</td><td>&hellip;</td><td>&hellip;</td><td>&hellip;</td><td>&hellip;</td><td>&hellip;</td><td>&hellip;</td><td>&hellip;</td><td>&hellip;</td><td>&hellip;</td><td>&hellip;</td><td>&hellip;</td><td>&hellip;</td><td>&hellip;</td></tr><tr><td>2023-12-01</td><td>&quot;AAPL&quot;</td><td>2023-09-30</td><td>2023-11-02</td><td>89498.0</td><td>49071.0</td><td>6151.0</td><td>22956.0</td><td>30653.0</td><td>15550.061</td><td>143566.0</td><td>352583.0</td><td>61555.0</td><td>60985.0</td><td>6331.0</td><td>43715.0</td><td>145308.0</td><td>95281.0</td><td>290437.0</td><td>-214.0</td><td>62146.0</td><td>21598.0</td><td>2394.0</td><td>-23153.0</td><td>3758.0</td><td>2163.0</td><td>173234.0</td><td>0.049</td><td>0</td><td>0</td><td>0.0</td><td>7</td><td>111.955</td><td>111.955</td><td>27.509835</td><td>13.25144</td><td>1.56076</td><td>&hellip;</td><td>11.107477</td><td>26.39167</td><td>-16.337621</td><td>-24.686506</td><td>2.25749</td><td>-0.510488</td><td>-0.003818</td><td>-5.737774</td><td>-0.656043</td><td>6</td><td>1.415201</td><td>1.343185</td><td>1.106571</td><td>-9.601592</td><td>-8.676889</td><td>-2.369563</td><td>0</td><td>0</td><td>0</td><td>-20.033258</td><td>-18.10391</td><td>-6.6633</td><td>0</td><td>0</td><td>0</td><td>-4.960896</td><td>-3.693383</td><td>10.558652</td><td>0</td><td>0</td><td>0</td><td>-6.181044</td><td>-4.367609</td><td>13.699963</td><td>0</td><td>0</td><td>0</td></tr><tr><td>2024-03-01</td><td>&quot;AAPL&quot;</td><td>2023-12-31</td><td>2024-02-01</td><td>119575.0</td><td>64720.0</td><td>6786.0</td><td>33916.0</td><td>43221.0</td><td>15460.223</td><td>143692.0</td><td>353514.0</td><td>73100.0</td><td>50102.0</td><td>6511.0</td><td>43666.0</td><td>133973.0</td><td>95088.0</td><td>279414.0</td><td>8242.0</td><td>74100.0</td><td>39895.0</td><td>1927.0</td><td>-30585.0</td><td>3825.0</td><td>2392.0</td><td>182140.0</td><td>0.039</td><td>0</td><td>0</td><td>0.0</td><td>1</td><td>1.058</td><td>1.058</td><td>28.545687</td><td>18.620841</td><td>1.361849</td><td>&hellip;</td><td>7.230683</td><td>14.453625</td><td>15.551229</td><td>-6.485394</td><td>5.764673</td><td>1.113202</td><td>0.151514</td><td>5.112562</td><td>6.896212</td><td>8</td><td>null</td><td>1.615673</td><td>1.491581</td><td>-1.781402</td><td>-1.194305</td><td>-0.78917</td><td>0</td><td>0</td><td>0</td><td>14.397554</td><td>9.652546</td><td>13.99829</td><td>1</td><td>1</td><td>1</td><td>14.486879</td><td>8.966466</td><td>16.441985</td><td>1</td><td>1</td><td>1</td><td>13.434717</td><td>null</td><td>null</td><td>0</td><td>0</td><td>null</td></tr><tr><td>2024-06-01</td><td>&quot;AAPL&quot;</td><td>2024-03-31</td><td>2024-05-02</td><td>90753.0</td><td>48482.0</td><td>6468.0</td><td>23636.0</td><td>30736.0</td><td>15337.686</td><td>128416.0</td><td>337411.0</td><td>67150.0</td><td>41150.0</td><td>6232.0</td><td>43546.0</td><td>123822.0</td><td>91831.0</td><td>263217.0</td><td>4339.0</td><td>74194.0</td><td>22690.0</td><td>-310.0</td><td>-30433.0</td><td>3710.0</td><td>1996.0</td><td>178784.0</td><td>0.02</td><td>0</td><td>0</td><td>0.0</td><td>7</td><td>90.244</td><td>90.244</td><td>29.752735</td><td>13.220422</td><td>1.353061</td><td>&hellip;</td><td>5.325788</td><td>-2.113215</td><td>-23.431138</td><td>7.40212</td><td>-5.535435</td><td>-5.969847</td><td>0.123374</td><td>6.398108</td><td>4.326248</td><td>7</td><td>null</td><td>1.485033</td><td>1.706893</td><td>11.739695</td><td>6.877816</td><td>9.385973</td><td>1</td><td>1</td><td>1</td><td>9.040261</td><td>5.296326</td><td>10.807127</td><td>1</td><td>1</td><td>1</td><td>9.423971</td><td>6.345968</td><td>15.97776</td><td>0</td><td>0</td><td>1</td><td>null</td><td>null</td><td>null</td><td>null</td><td>null</td><td>null</td></tr><tr><td>2024-09-01</td><td>&quot;AAPL&quot;</td><td>2024-06-30</td><td>2024-08-01</td><td>85777.0</td><td>46099.0</td><td>6320.0</td><td>21448.0</td><td>28202.0</td><td>15222.259</td><td>125435.0</td><td>331612.0</td><td>61801.0</td><td>43172.0</td><td>6165.0</td><td>44502.0</td><td>131624.0</td><td>86196.0</td><td>264904.0</td><td>-4726.0</td><td>66708.0</td><td>28858.0</td><td>-127.0</td><td>-36017.0</td><td>3895.0</td><td>2151.0</td><td>168012.0</td><td>0.0399</td><td>0</td><td>0</td><td>0.0</td><td>4</td><td>38.092</td><td>38.092</td><td>30.74557</td><td>12.765755</td><td>1.528392</td><td>&hellip;</td><td>9.322555</td><td>9.742691</td><td>25.113659</td><td>25.471726</td><td>-6.621743</td><td>4.579645</td><td>-0.080792</td><td>0.61492</td><td>6.069032</td><td>7</td><td>null</td><td>null</td><td>1.223949</td><td>-3.655292</td><td>-2.986473</td><td>-0.091351</td><td>0</td><td>0</td><td>0</td><td>-3.465013</td><td>-2.83101</td><td>2.509138</td><td>0</td><td>0</td><td>0</td><td>null</td><td>null</td><td>null</td><td>null</td><td>null</td><td>null</td><td>null</td><td>null</td><td>null</td><td>null</td><td>null</td><td>null</td></tr><tr><td>2024-12-01</td><td>&quot;AAPL&quot;</td><td>2024-09-30</td><td>2024-10-31</td><td>94930.0</td><td>51051.0</td><td>6523.0</td><td>14736.0</td><td>32502.0</td><td>15116.786</td><td>152987.0</td><td>364980.0</td><td>65171.0</td><td>66243.0</td><td>7286.0</td><td>45680.0</td><td>176392.0</td><td>85750.0</td><td>308030.0</td><td>-19154.0</td><td>56950.0</td><td>26811.0</td><td>1445.0</td><td>-24948.0</td><td>3804.0</td><td>2908.0</td><td>163579.0</td><td>0.0237</td><td>0</td><td>0</td><td>0.0</td><td>7</td><td>151.316</td><td>151.316</td><td>25.682503</td><td>9.008491</td><td>1.645935</td><td>&hellip;</td><td>1.432787</td><td>13.645782</td><td>36.659568</td><td>7.890986</td><td>-2.891936</td><td>4.703404</td><td>0.270542</td><td>-22.440193</td><td>-12.725447</td><td>5</td><td>null</td><td>null</td><td>null</td><td>null</td><td>null</td><td>null</td><td>null</td><td>null</td><td>null</td><td>null</td><td>null</td><td>null</td><td>null</td><td>null</td><td>null</td><td>null</td><td>null</td><td>null</td><td>null</td><td>null</td><td>null</td><td>null</td><td>null</td><td>null</td><td>null</td><td>null</td><td>null</td></tr></tbody></table></div>"
      ],
      "text/plain": [
       "shape: (72, 230)\n",
       "┌────────────┬──────┬────────────┬────────────┬───┬────────────┬───────────┬───────────┬───────────┐\n",
       "│ tdq        ┆ tic  ┆ datadate   ┆ rdq        ┆ … ┆ risk_retur ┆ fwd_retur ┆ excess_re ┆ risk_retu │\n",
       "│ ---        ┆ ---  ┆ ---        ┆ ---        ┆   ┆ n_4Q       ┆ n_4Q_hit  ┆ turn_4Q_h ┆ rn_4Q_hit │\n",
       "│ date       ┆ str  ┆ date       ┆ date       ┆   ┆ ---        ┆ ---       ┆ it        ┆ ---       │\n",
       "│            ┆      ┆            ┆            ┆   ┆ f64        ┆ i8        ┆ ---       ┆ i8        │\n",
       "│            ┆      ┆            ┆            ┆   ┆            ┆           ┆ i8        ┆           │\n",
       "╞════════════╪══════╪════════════╪════════════╪═══╪════════════╪═══════════╪═══════════╪═══════════╡\n",
       "│ 2007-03-01 ┆ AAPL ┆ 2006-12-31 ┆ 2007-01-17 ┆ … ┆ 32.355575  ┆ 1         ┆ 1         ┆ 1         │\n",
       "│ 2007-06-01 ┆ AAPL ┆ 2007-03-31 ┆ 2007-04-25 ┆ … ┆ 11.282641  ┆ 1         ┆ 1         ┆ 0         │\n",
       "│ 2007-09-01 ┆ AAPL ┆ 2007-06-30 ┆ 2007-07-25 ┆ … ┆ 9.291562   ┆ 0         ┆ 1         ┆ 0         │\n",
       "│ 2007-12-01 ┆ AAPL ┆ 2007-09-30 ┆ 2007-10-22 ┆ … ┆ -9.914149  ┆ 0         ┆ 0         ┆ 0         │\n",
       "│ 2008-03-01 ┆ AAPL ┆ 2007-12-31 ┆ 2008-01-22 ┆ … ┆ -7.455066  ┆ 0         ┆ 0         ┆ 0         │\n",
       "│ …          ┆ …    ┆ …          ┆ …          ┆ … ┆ …          ┆ …         ┆ …         ┆ …         │\n",
       "│ 2023-12-01 ┆ AAPL ┆ 2023-09-30 ┆ 2023-11-02 ┆ … ┆ 13.699963  ┆ 0         ┆ 0         ┆ 0         │\n",
       "│ 2024-03-01 ┆ AAPL ┆ 2023-12-31 ┆ 2024-02-01 ┆ … ┆ null       ┆ 0         ┆ 0         ┆ null      │\n",
       "│ 2024-06-01 ┆ AAPL ┆ 2024-03-31 ┆ 2024-05-02 ┆ … ┆ null       ┆ null      ┆ null      ┆ null      │\n",
       "│ 2024-09-01 ┆ AAPL ┆ 2024-06-30 ┆ 2024-08-01 ┆ … ┆ null       ┆ null      ┆ null      ┆ null      │\n",
       "│ 2024-12-01 ┆ AAPL ┆ 2024-09-30 ┆ 2024-10-31 ┆ … ┆ null       ┆ null      ┆ null      ┆ null      │\n",
       "└────────────┴──────┴────────────┴────────────┴───┴────────────┴───────────┴───────────┴───────────┘"
      ]
     },
     "execution_count": 5,
     "metadata": {},
     "output_type": "execute_result"
    }
   ],
   "source": [
    "data.filter(pl.col(\"tic\") == \"AAPL\")"
   ]
  },
  {
   "cell_type": "code",
   "execution_count": 3,
   "metadata": {},
   "outputs": [],
   "source": [
    "def format_parameters(solution, scale: float) -> dict:\n",
    "    return {\n",
    "        \"objective\": \"binary:logistic\",\n",
    "        \"learning_rate\": solution[0],\n",
    "        \"n_estimators\": round(solution[1]),\n",
    "        \"max_depth\": round(solution[2]),\n",
    "        \"min_child_weight\": solution[3],\n",
    "        \"gamma\": solution[4],\n",
    "        \"subsample\": solution[5],\n",
    "        \"colsample_bytree\": solution[6],\n",
    "        \"reg_alpha\": solution[7],\n",
    "        \"reg_lambda\": solution[8],\n",
    "        \"scale_pos_weight\": scale,\n",
    "        \"eval_metric\": \"logloss\",\n",
    "        \"tree_method\": \"hist\",\n",
    "        \"nthread\": -1,\n",
    "        \"random_state\": 100,\n",
    "    }"
   ]
  },
  {
   "cell_type": "code",
   "execution_count": 4,
   "metadata": {},
   "outputs": [
    {
     "name": "stdout",
     "output_type": "stream",
     "text": [
      "START training model for risk_return_3Q_hit, 2023-06-01 00:00:00\n",
      "2.2\n",
      "START training model for fwd_return_4Q_hit, 2023-06-01 00:00:00\n",
      "2.84\n",
      "START training model for risk_return_4Q_hit, 2023-06-01 00:00:00\n",
      "1.92\n"
     ]
    }
   ],
   "source": [
    "def get_dataset_imbalance_scale(train: pl.DataFrame, target: str):\n",
    "    \"\"\"\n",
    "    Compute dataset class imbalance scale.\n",
    "\n",
    "    Parameters\n",
    "    ----------\n",
    "    train : pl.DataFrame\n",
    "        Training dataset.\n",
    "\n",
    "    Returns\n",
    "    -------\n",
    "    float\n",
    "        Class imbalance scale.\n",
    "    \"\"\"\n",
    "    min_year = pl.col(\"tdq\").dt.year().min()\n",
    "    filtered_data = train.filter(pl.col(\"tdq\").dt.year() < min_year + min_train_years)\n",
    "    neg_count = len(filtered_data.filter(pl.col(target) == 0))\n",
    "    pos_count = len(filtered_data.filter(pl.col(target) == 1))\n",
    "    return round(neg_count / pos_count, 2)\n",
    "\n",
    "\n",
    "def train_model(data, trade_date, targets, features):\n",
    "    models = {}\n",
    "    for target in targets:\n",
    "        print(f\"START training model for {target}, {trade_date}\")\n",
    "\n",
    "        train = data.filter(\n",
    "            (pl.col(\"tdq\") < trade_date - dt.timedelta(days=360))\n",
    "            & ~pl.all_horizontal(pl.col(target).is_null())\n",
    "        ).select([\"tdq\", \"tic\"] + features + [target])\n",
    "\n",
    "        scale = get_dataset_imbalance_scale(train, target)\n",
    "        print(scale)\n",
    "\n",
    "        params = [0.10, 192.50, 7.85, 6.65, 0.47, 0.52, 0.87, 6.89, 8.68]\n",
    "        params = format_parameters(params, scale)\n",
    "\n",
    "        X_train = train.select(features).to_pandas()\n",
    "        y_train = train.select(target).to_pandas().values.ravel()\n",
    "\n",
    "        model = XGBoostRegressor(params)\n",
    "        model.train(X_train, y_train)\n",
    "        models[target] = model\n",
    "    return models\n",
    "\n",
    "\n",
    "models = train_model(data, trade_date, targets, features)"
   ]
  },
  {
   "cell_type": "code",
   "execution_count": 5,
   "metadata": {},
   "outputs": [
    {
     "name": "stdout",
     "output_type": "stream",
     "text": [
      "loaded model with params: {'objective': 'binary:logistic', 'learning_rate': 0.1, 'n_estimators': 192, 'max_depth': 8, 'min_child_weight': 6.65, 'gamma': 0.47, 'subsample': 0.52, 'colsample_bytree': 0.87, 'reg_alpha': 6.89, 'reg_lambda': 8.68, 'scale_pos_weight': 2.2, 'eval_metric': 'logloss', 'tree_method': 'hist', 'nthread': -1, 'random_state': 100}\n",
      "loaded model with params: {'objective': 'binary:logistic', 'learning_rate': 0.1, 'n_estimators': 192, 'max_depth': 8, 'min_child_weight': 6.65, 'gamma': 0.47, 'subsample': 0.52, 'colsample_bytree': 0.87, 'reg_alpha': 6.89, 'reg_lambda': 8.68, 'scale_pos_weight': 2.84, 'eval_metric': 'logloss', 'tree_method': 'hist', 'nthread': -1, 'random_state': 100}\n",
      "loaded model with params: {'objective': 'binary:logistic', 'learning_rate': 0.1, 'n_estimators': 192, 'max_depth': 8, 'min_child_weight': 6.65, 'gamma': 0.47, 'subsample': 0.52, 'colsample_bytree': 0.87, 'reg_alpha': 6.89, 'reg_lambda': 8.68, 'scale_pos_weight': 1.92, 'eval_metric': 'logloss', 'tree_method': 'hist', 'nthread': -1, 'random_state': 100}\n"
     ]
    },
    {
     "data": {
      "text/html": [
       "<div><style>\n",
       ".dataframe > thead > tr,\n",
       ".dataframe > tbody > tr {\n",
       "  text-align: right;\n",
       "  white-space: pre-wrap;\n",
       "}\n",
       "</style>\n",
       "<small>shape: (20, 13)</small><table border=\"1\" class=\"dataframe\"><thead><tr><th>tic</th><th>adj_close</th><th>f_score</th><th>pe</th><th>pb</th><th>saleq_yoy</th><th>price_mom</th><th>index_mom</th><th>risk_return_4Q</th><th>rank_risk_return_3Q_hit</th><th>rank_fwd_return_4Q_hit</th><th>rank_risk_return_4Q_hit</th><th>avg_score</th></tr><tr><td>str</td><td>f64</td><td>i8</td><td>f64</td><td>f64</td><td>f64</td><td>f64</td><td>f64</td><td>f64</td><td>u32</td><td>u32</td><td>u32</td><td>f64</td></tr></thead><tbody><tr><td>&quot;DPZ&quot;</td><td>290.792206</td><td>7</td><td>22.730088</td><td>-2.55163</td><td>1.310292</td><td>-4.788338</td><td>2.462385</td><td>40.475988</td><td>14</td><td>50</td><td>8</td><td>24.0</td></tr><tr><td>&quot;TECH&quot;</td><td>81.149132</td><td>5</td><td>48.662854</td><td>6.98652</td><td>1.298317</td><td>1.857862</td><td>2.462385</td><td>-4.873225</td><td>17</td><td>41</td><td>16</td><td>24.667</td></tr><tr><td>&quot;PH&quot;</td><td>320.088196</td><td>4</td><td>28.232592</td><td>4.332433</td><td>23.866511</td><td>0.298444</td><td>2.462385</td><td>46.037079</td><td>33</td><td>29</td><td>40</td><td>34.0</td></tr><tr><td>&quot;TSCO&quot;</td><td>200.908157</td><td>5</td><td>21.074042</td><td>11.938254</td><td>9.096594</td><td>-14.726179</td><td>2.462385</td><td>20.285739</td><td>24</td><td>71</td><td>20</td><td>38.333</td></tr><tr><td>&quot;IT&quot;</td><td>340.23999</td><td>6</td><td>29.337466</td><td>57.766067</td><td>11.572374</td><td>12.665983</td><td>2.462385</td><td>21.359485</td><td>15</td><td>52</td><td>66</td><td>44.333</td></tr><tr><td>&hellip;</td><td>&hellip;</td><td>&hellip;</td><td>&hellip;</td><td>&hellip;</td><td>&hellip;</td><td>&hellip;</td><td>&hellip;</td><td>&hellip;</td><td>&hellip;</td><td>&hellip;</td><td>&hellip;</td><td>&hellip;</td></tr><tr><td>&quot;GL&quot;</td><td>102.404884</td><td>5</td><td>13.999426</td><td>2.641819</td><td>1.434948</td><td>-3.433519</td><td>2.462385</td><td>-1.114624</td><td>12</td><td>188</td><td>3</td><td>67.667</td></tr><tr><td>&quot;KEYS&quot;</td><td>163.139999</td><td>6</td><td>24.747508</td><td>6.206601</td><td>2.886751</td><td>14.54852</td><td>2.462385</td><td>-4.196431</td><td>25</td><td>165</td><td>33</td><td>74.333</td></tr><tr><td>&quot;CTVA&quot;</td><td>53.034714</td><td>4</td><td>32.745783</td><td>1.49288</td><td>6.150837</td><td>-11.180737</td><td>2.462385</td><td>2.267512</td><td>97</td><td>61</td><td>80</td><td>79.333</td></tr><tr><td>&quot;ZBH&quot;</td><td>125.822914</td><td>7</td><td>59.561112</td><td>2.204098</td><td>10.088985</td><td>-10.943287</td><td>2.462385</td><td>-1.861312</td><td>61</td><td>117</td><td>62</td><td>80.0</td></tr><tr><td>&quot;MKTX&quot;</td><td>272.210175</td><td>7</td><td>40.296304</td><td>9.308773</td><td>9.197182</td><td>-13.081775</td><td>2.462385</td><td>-9.781731</td><td>144</td><td>53</td><td>47</td><td>81.333</td></tr></tbody></table></div>"
      ],
      "text/plain": [
       "shape: (20, 13)\n",
       "┌──────┬────────────┬─────────┬───────────┬───┬─────────────┬─────────────┬────────────┬───────────┐\n",
       "│ tic  ┆ adj_close  ┆ f_score ┆ pe        ┆ … ┆ rank_risk_r ┆ rank_fwd_re ┆ rank_risk_ ┆ avg_score │\n",
       "│ ---  ┆ ---        ┆ ---     ┆ ---       ┆   ┆ eturn_3Q_hi ┆ turn_4Q_hit ┆ return_4Q_ ┆ ---       │\n",
       "│ str  ┆ f64        ┆ i8      ┆ f64       ┆   ┆ t           ┆ ---         ┆ hit        ┆ f64       │\n",
       "│      ┆            ┆         ┆           ┆   ┆ ---         ┆ u32         ┆ ---        ┆           │\n",
       "│      ┆            ┆         ┆           ┆   ┆ u32         ┆             ┆ u32        ┆           │\n",
       "╞══════╪════════════╪═════════╪═══════════╪═══╪═════════════╪═════════════╪════════════╪═══════════╡\n",
       "│ DPZ  ┆ 290.792206 ┆ 7       ┆ 22.730088 ┆ … ┆ 14          ┆ 50          ┆ 8          ┆ 24.0      │\n",
       "│ TECH ┆ 81.149132  ┆ 5       ┆ 48.662854 ┆ … ┆ 17          ┆ 41          ┆ 16         ┆ 24.667    │\n",
       "│ PH   ┆ 320.088196 ┆ 4       ┆ 28.232592 ┆ … ┆ 33          ┆ 29          ┆ 40         ┆ 34.0      │\n",
       "│ TSCO ┆ 200.908157 ┆ 5       ┆ 21.074042 ┆ … ┆ 24          ┆ 71          ┆ 20         ┆ 38.333    │\n",
       "│ IT   ┆ 340.23999  ┆ 6       ┆ 29.337466 ┆ … ┆ 15          ┆ 52          ┆ 66         ┆ 44.333    │\n",
       "│ …    ┆ …          ┆ …       ┆ …         ┆ … ┆ …           ┆ …           ┆ …          ┆ …         │\n",
       "│ GL   ┆ 102.404884 ┆ 5       ┆ 13.999426 ┆ … ┆ 12          ┆ 188         ┆ 3          ┆ 67.667    │\n",
       "│ KEYS ┆ 163.139999 ┆ 6       ┆ 24.747508 ┆ … ┆ 25          ┆ 165         ┆ 33         ┆ 74.333    │\n",
       "│ CTVA ┆ 53.034714  ┆ 4       ┆ 32.745783 ┆ … ┆ 97          ┆ 61          ┆ 80         ┆ 79.333    │\n",
       "│ ZBH  ┆ 125.822914 ┆ 7       ┆ 59.561112 ┆ … ┆ 61          ┆ 117         ┆ 62         ┆ 80.0      │\n",
       "│ MKTX ┆ 272.210175 ┆ 7       ┆ 40.296304 ┆ … ┆ 144         ┆ 53          ┆ 47         ┆ 81.333    │\n",
       "└──────┴────────────┴─────────┴───────────┴───┴─────────────┴─────────────┴────────────┴───────────┘"
      ]
     },
     "execution_count": 5,
     "metadata": {},
     "output_type": "execute_result"
    }
   ],
   "source": [
    "def score_models(data, models, trade_date, targets, features, stocks):\n",
    "    final_ranks = data.filter(\n",
    "        (pl.col(\"tdq\") == trade_date) & pl.col(\"tic\").is_in(constituents)\n",
    "    ).select(\n",
    "        [\n",
    "            \"tic\",\n",
    "            \"adj_close\",\n",
    "            \"f_score\",\n",
    "            \"pe\",\n",
    "            \"pb\",\n",
    "            \"saleq_yoy\",\n",
    "            \"price_mom\",\n",
    "            \"index_mom\",\n",
    "            \"risk_return_4Q\",\n",
    "        ]\n",
    "    )\n",
    "\n",
    "    rank_cols = []\n",
    "    pred_cols = []\n",
    "    for target in targets:\n",
    "        test_df = (\n",
    "            data.filter((pl.col(\"tdq\") == trade_date) & pl.col(\"tic\").is_in(stocks))\n",
    "            .select(features)\n",
    "            .to_pandas()\n",
    "        )\n",
    "\n",
    "        model = models[target]\n",
    "        print(f\"loaded model with params: {model.params}\")\n",
    "\n",
    "        prob_scores = model.predict(test_df)\n",
    "        final_ranks = final_ranks.with_columns(\n",
    "            [pl.Series(prob_scores).rank(\"dense\", descending=True).alias(f\"rank_{target}\")]\n",
    "        )\n",
    "        rank_cols.append(f\"rank_{target}\")\n",
    "        pred_cols.append(f\"pred_{target}\")\n",
    "\n",
    "    # Calculate average rank\n",
    "    return (\n",
    "        final_ranks.with_columns(pl.mean_horizontal(rank_cols).alias(\"avg_score\"))\n",
    "        .sort(\"avg_score\", descending=False)\n",
    "        .with_columns(pl.col(\"avg_score\").round(3).alias(\"avg_score\"))\n",
    "    )\n",
    "\n",
    "\n",
    "ranks = score_models(data, models, trade_date, targets, features, constituents)\n",
    "ranks.head(20)"
   ]
  },
  {
   "cell_type": "code",
   "execution_count": 6,
   "metadata": {},
   "outputs": [
    {
     "name": "stdout",
     "output_type": "stream",
     "text": [
      "\n",
      "DATE 2023-06-01 00:00:00\n",
      "Average top return: 15.76% (79.0)\n",
      "Average bottom return: 11.29% (80.0)\n"
     ]
    }
   ],
   "source": [
    "top = ranks.head(100)\n",
    "bottom = ranks.tail(100)\n",
    "\n",
    "top_freturn = top.select(pl.col(\"risk_return_4Q\")).mean().item()\n",
    "bottom_freturn = bottom.select(pl.col(\"risk_return_4Q\")).mean().item()\n",
    "\n",
    "# Calculate hit rates (% of stocks with positive returns)\n",
    "top_hits = top.select(pl.col(\"risk_return_4Q\") > 0).sum().item()\n",
    "bottom_hits = bottom.select(pl.col(\"risk_return_4Q\") > 0).sum().item()\n",
    "\n",
    "top_hitrate = (top_hits / len(top)) * 100\n",
    "bottom_hitrate = (bottom_hits / len(bottom)) * 100\n",
    "\n",
    "\n",
    "print(f\"\\nDATE {trade_date}\")\n",
    "print(f\"Average top return: {top_freturn:.2f}% ({top_hitrate:.1f})\")\n",
    "print(f\"Average bottom return: {bottom_freturn:.2f}% ({bottom_hitrate:.1f})\")"
   ]
  }
 ],
 "metadata": {
  "kernelspec": {
   "display_name": "stocksense",
   "language": "python",
   "name": "python3"
  },
  "language_info": {
   "codemirror_mode": {
    "name": "ipython",
    "version": 3
   },
   "file_extension": ".py",
   "mimetype": "text/x-python",
   "name": "python",
   "nbconvert_exporter": "python",
   "pygments_lexer": "ipython3",
   "version": "3.11.0"
  }
 },
 "nbformat": 4,
 "nbformat_minor": 2
}
