{
 "cells": [
  {
   "cell_type": "code",
   "execution_count": 8,
   "metadata": {},
   "outputs": [],
   "source": [
    "import datetime as dt\n",
    "\n",
    "import lightgbm as lgb\n",
    "import numpy as np\n",
    "import polars as pl\n",
    "\n",
    "from stocksense.config import config\n",
    "from stocksense.database import DatabaseHandler\n",
    "from stocksense.pipeline import clean, engineer_features\n",
    "\n",
    "features = config.model.features\n",
    "date_col = config.model.date_col\n",
    "aux_cols = [\"tic\", \"datadate\", \"rdq\"]\n",
    "\n",
    "features = config.model.features\n",
    "targets = config.model.targets\n",
    "prediction_horizon = config.processing.prediction_horizon\n",
    "min_train_years = config.model.min_train_years\n",
    "\n",
    "trade_date = dt.datetime(2022, 6, 1)"
   ]
  },
  {
   "cell_type": "code",
   "execution_count": 9,
   "metadata": {},
   "outputs": [
    {
     "name": "stderr",
     "output_type": "stream",
     "text": [
      "\u001b[32m2025-02-07 19:21:21.525\u001b[0m | \u001b[1mINFO    \u001b[0m | \u001b[36mstocksense.pipeline.preprocess\u001b[0m:\u001b[36mengineer_features\u001b[0m:\u001b[36m20\u001b[0m - \u001b[1mSTART processing stock data\u001b[0m\n",
      "\u001b[32m2025-02-07 19:21:21.526\u001b[0m | \u001b[32m\u001b[1mSUCCESS \u001b[0m | \u001b[36mstocksense.database.schema\u001b[0m:\u001b[36mcreate_tables\u001b[0m:\u001b[36m121\u001b[0m - \u001b[32m\u001b[1mTables created successfully\u001b[0m\n",
      "\u001b[32m2025-02-07 19:21:24.577\u001b[0m | \u001b[1mINFO    \u001b[0m | \u001b[36mstocksense.pipeline.preprocess\u001b[0m:\u001b[36mengineer_features\u001b[0m:\u001b[36m33\u001b[0m - \u001b[1mSTART feature engineering\u001b[0m\n",
      "\u001b[32m2025-02-07 19:21:30.119\u001b[0m | \u001b[1mINFO    \u001b[0m | \u001b[36mstocksense.pipeline.preprocess\u001b[0m:\u001b[36mcompute_performance_targets\u001b[0m:\u001b[36m1258\u001b[0m - \u001b[1mTarget hit rates: shape: (1, 3)\n",
      "┌─────────────────┬───────────────┬──────────────┐\n",
      "│ aggressive_rate ┆ balanced_rate ┆ relaxed_rate │\n",
      "│ ---             ┆ ---           ┆ ---          │\n",
      "│ f64             ┆ f64           ┆ f64          │\n",
      "╞═════════════════╪═══════════════╪══════════════╡\n",
      "│ 0.277383        ┆ 0.291025      ┆ 0.300353     │\n",
      "└─────────────────┴───────────────┴──────────────┘\u001b[0m\n",
      "\u001b[32m2025-02-07 19:21:30.176\u001b[0m | \u001b[32m\u001b[1mSUCCESS \u001b[0m | \u001b[36mstocksense.pipeline.preprocess\u001b[0m:\u001b[36mengineer_features\u001b[0m:\u001b[36m53\u001b[0m - \u001b[32m\u001b[1mEND 41997 rows PROCESSED\u001b[0m\n",
      "\u001b[32m2025-02-07 19:21:30.178\u001b[0m | \u001b[1mINFO    \u001b[0m | \u001b[36mstocksense.pipeline.preprocess\u001b[0m:\u001b[36mclean\u001b[0m:\u001b[36m75\u001b[0m - \u001b[1mSTART cleaning data\u001b[0m\n",
      "\u001b[32m2025-02-07 19:21:30.297\u001b[0m | \u001b[32m\u001b[1mSUCCESS \u001b[0m | \u001b[36mstocksense.pipeline.preprocess\u001b[0m:\u001b[36mclean\u001b[0m:\u001b[36m112\u001b[0m - \u001b[32m\u001b[1m36491 rows retained after CLEANING\u001b[0m\n",
      "\u001b[32m2025-02-07 19:21:30.298\u001b[0m | \u001b[32m\u001b[1mSUCCESS \u001b[0m | \u001b[36mstocksense.database.schema\u001b[0m:\u001b[36mcreate_tables\u001b[0m:\u001b[36m121\u001b[0m - \u001b[32m\u001b[1mTables created successfully\u001b[0m\n"
     ]
    }
   ],
   "source": [
    "def prepare_data():\n",
    "    \"\"\"Prepare data for model operations.\"\"\"\n",
    "    data = engineer_features()\n",
    "    data = clean(data)\n",
    "    return data\n",
    "\n",
    "\n",
    "data = prepare_data()\n",
    "constituents = DatabaseHandler().fetch_constituents(trade_date)"
   ]
  },
  {
   "cell_type": "code",
   "execution_count": 10,
   "metadata": {},
   "outputs": [
    {
     "name": "stdout",
     "output_type": "stream",
     "text": [
      "START training model for aggressive_hit, 2022-06-01 00:00:00\n",
      "[LightGBM] [Info] Number of positive: 7600, number of negative: 21868\n",
      "[LightGBM] [Info] Auto-choosing col-wise multi-threading, the overhead of testing was 0.003071 seconds.\n",
      "You can set `force_col_wise=true` to remove the overhead.\n",
      "[LightGBM] [Info] Total Bins 19551\n",
      "[LightGBM] [Info] Number of data points in the train set: 29468, number of used features: 111\n",
      "[LightGBM] [Info] [binary:BoostFromScore]: pavg=0.257907 -> initscore=-1.056876\n",
      "[LightGBM] [Info] Start training from score -1.056876\n",
      "START training model for balanced_hit, 2022-06-01 00:00:00\n",
      "[LightGBM] [Info] Number of positive: 8751, number of negative: 20657\n",
      "[LightGBM] [Info] Auto-choosing col-wise multi-threading, the overhead of testing was 0.004109 seconds.\n",
      "You can set `force_col_wise=true` to remove the overhead.\n",
      "[LightGBM] [Info] Total Bins 19551\n",
      "[LightGBM] [Info] Number of data points in the train set: 29408, number of used features: 111\n",
      "[LightGBM] [Info] [binary:BoostFromScore]: pavg=0.297572 -> initscore=-0.858886\n",
      "[LightGBM] [Info] Start training from score -0.858886\n",
      "START training model for relaxed_hit, 2022-06-01 00:00:00\n",
      "[LightGBM] [Info] Number of positive: 10677, number of negative: 18573\n",
      "[LightGBM] [Info] Auto-choosing col-wise multi-threading, the overhead of testing was 0.003162 seconds.\n",
      "You can set `force_col_wise=true` to remove the overhead.\n",
      "[LightGBM] [Info] Total Bins 19552\n",
      "[LightGBM] [Info] Number of data points in the train set: 29250, number of used features: 111\n",
      "[LightGBM] [Info] [binary:BoostFromScore]: pavg=0.365026 -> initscore=-0.553617\n",
      "[LightGBM] [Info] Start training from score -0.553617\n"
     ]
    }
   ],
   "source": [
    "def get_dataset_imbalance_scale(train: pl.DataFrame, target: str):\n",
    "    \"\"\"\n",
    "    Compute dataset class imbalance scale.\n",
    "\n",
    "    Parameters\n",
    "    ----------\n",
    "    train : pl.DataFrame\n",
    "        Training dataset.\n",
    "\n",
    "    Returns\n",
    "    -------\n",
    "    float\n",
    "        Class imbalance scale.\n",
    "    \"\"\"\n",
    "    neg_count = len(train.filter(pl.col(target) == 0))\n",
    "    pos_count = len(train.filter(pl.col(target) == 1))\n",
    "    pos_ratio = pos_count / (neg_count + pos_count)\n",
    "\n",
    "    if pos_ratio >= 0.4:\n",
    "        return 1.0\n",
    "\n",
    "    scale = neg_count / pos_count\n",
    "    return round(scale, 2)\n",
    "\n",
    "\n",
    "def train_model(data, trade_date, targets, features):\n",
    "    models = {}\n",
    "    for target in targets:\n",
    "        print(f\"START training model for {target}, {trade_date}\")\n",
    "\n",
    "        train = data.filter(\n",
    "            (pl.col(\"tdq\") < trade_date - dt.timedelta(days=360))\n",
    "            & ~pl.all_horizontal(pl.col(target).is_null())\n",
    "        ).select([\"tdq\", \"tic\"] + features + [target])\n",
    "\n",
    "        scale = get_dataset_imbalance_scale(train, target)\n",
    "\n",
    "        X_train = train.select(features).to_pandas()\n",
    "        y_train = train.select(target).to_pandas().values.ravel()\n",
    "\n",
    "        model = lgb.LGBMClassifier(\n",
    "            objective='binary',\n",
    "            n_estimators=500,\n",
    "            scale_pos_weight=scale\n",
    "        )\n",
    "        model.fit(X_train, y_train)\n",
    "        models[target] = model\n",
    "    return models\n",
    "\n",
    "\n",
    "models = train_model(data, trade_date, targets, features)"
   ]
  },
  {
   "cell_type": "code",
   "execution_count": 11,
   "metadata": {},
   "outputs": [
    {
     "name": "stderr",
     "output_type": "stream",
     "text": [
      "/var/folders/b8/1sybx4y52l7fb3b8glvm3jk40000gn/T/ipykernel_59771/2203760073.py:37: MapWithoutReturnDtypeWarning: Calling `map_elements` without specifying `return_dtype` can lead to unpredictable results. Specify `return_dtype` to silence this warning.\n",
      "  .map_elements(\n",
      "/var/folders/b8/1sybx4y52l7fb3b8glvm3jk40000gn/T/ipykernel_59771/2203760073.py:37: MapWithoutReturnDtypeWarning: Calling `map_elements` without specifying `return_dtype` can lead to unpredictable results. Specify `return_dtype` to silence this warning.\n",
      "  .map_elements(\n",
      "/var/folders/b8/1sybx4y52l7fb3b8glvm3jk40000gn/T/ipykernel_59771/2203760073.py:37: MapWithoutReturnDtypeWarning: Calling `map_elements` without specifying `return_dtype` can lead to unpredictable results. Specify `return_dtype` to silence this warning.\n",
      "  .map_elements(\n"
     ]
    },
    {
     "data": {
      "text/html": [
       "<div><style>\n",
       ".dataframe > thead > tr,\n",
       ".dataframe > tbody > tr {\n",
       "  text-align: right;\n",
       "  white-space: pre-wrap;\n",
       "}\n",
       "</style>\n",
       "<small>shape: (20, 7)</small><table border=\"1\" class=\"dataframe\"><thead><tr><th>tic</th><th>perc_aggressive_hit</th><th>perc_balanced_hit</th><th>perc_relaxed_hit</th><th>avg_score</th><th>max_return_4Q</th><th>fwd_return_4Q</th></tr><tr><td>str</td><td>i64</td><td>i64</td><td>i64</td><td>f64</td><td>f64</td><td>f64</td></tr></thead><tbody><tr><td>&quot;SBAC&quot;</td><td>99</td><td>99</td><td>96</td><td>98.0</td><td>7.26412</td><td>-29.635108</td></tr><tr><td>&quot;CCI&quot;</td><td>83</td><td>100</td><td>99</td><td>94.0</td><td>-1.225592</td><td>-36.639401</td></tr><tr><td>&quot;FRT&quot;</td><td>88</td><td>100</td><td>93</td><td>93.67</td><td>3.746036</td><td>-16.944197</td></tr><tr><td>&quot;CPT&quot;</td><td>87</td><td>98</td><td>95</td><td>93.33</td><td>2.91194</td><td>-22.840902</td></tr><tr><td>&quot;AVB&quot;</td><td>82</td><td>98</td><td>98</td><td>92.67</td><td>6.95732</td><td>-11.639978</td></tr><tr><td>&hellip;</td><td>&hellip;</td><td>&hellip;</td><td>&hellip;</td><td>&hellip;</td><td>&hellip;</td><td>&hellip;</td></tr><tr><td>&quot;AMT&quot;</td><td>81</td><td>95</td><td>87</td><td>87.67</td><td>12.130806</td><td>-22.294006</td></tr><tr><td>&quot;VTR&quot;</td><td>84</td><td>96</td><td>82</td><td>87.33</td><td>-3.378919</td><td>-16.581553</td></tr><tr><td>&quot;ORCL&quot;</td><td>64</td><td>99</td><td>98</td><td>87.0</td><td>50.645793</td><td>42.680976</td></tr><tr><td>&quot;ALLE&quot;</td><td>65</td><td>96</td><td>97</td><td>86.0</td><td>10.84038</td><td>-2.408305</td></tr><tr><td>&quot;PSA&quot;</td><td>67</td><td>95</td><td>94</td><td>85.33</td><td>12.596634</td><td>-6.085548</td></tr></tbody></table></div>"
      ],
      "text/plain": [
       "shape: (20, 7)\n",
       "┌──────┬───────────────┬───────────────┬───────────────┬───────────┬───────────────┬───────────────┐\n",
       "│ tic  ┆ perc_aggressi ┆ perc_balanced ┆ perc_relaxed_ ┆ avg_score ┆ max_return_4Q ┆ fwd_return_4Q │\n",
       "│ ---  ┆ ve_hit        ┆ _hit          ┆ hit           ┆ ---       ┆ ---           ┆ ---           │\n",
       "│ str  ┆ ---           ┆ ---           ┆ ---           ┆ f64       ┆ f64           ┆ f64           │\n",
       "│      ┆ i64           ┆ i64           ┆ i64           ┆           ┆               ┆               │\n",
       "╞══════╪═══════════════╪═══════════════╪═══════════════╪═══════════╪═══════════════╪═══════════════╡\n",
       "│ SBAC ┆ 99            ┆ 99            ┆ 96            ┆ 98.0      ┆ 7.26412       ┆ -29.635108    │\n",
       "│ CCI  ┆ 83            ┆ 100           ┆ 99            ┆ 94.0      ┆ -1.225592     ┆ -36.639401    │\n",
       "│ FRT  ┆ 88            ┆ 100           ┆ 93            ┆ 93.67     ┆ 3.746036      ┆ -16.944197    │\n",
       "│ CPT  ┆ 87            ┆ 98            ┆ 95            ┆ 93.33     ┆ 2.91194       ┆ -22.840902    │\n",
       "│ AVB  ┆ 82            ┆ 98            ┆ 98            ┆ 92.67     ┆ 6.95732       ┆ -11.639978    │\n",
       "│ …    ┆ …             ┆ …             ┆ …             ┆ …         ┆ …             ┆ …             │\n",
       "│ AMT  ┆ 81            ┆ 95            ┆ 87            ┆ 87.67     ┆ 12.130806     ┆ -22.294006    │\n",
       "│ VTR  ┆ 84            ┆ 96            ┆ 82            ┆ 87.33     ┆ -3.378919     ┆ -16.581553    │\n",
       "│ ORCL ┆ 64            ┆ 99            ┆ 98            ┆ 87.0      ┆ 50.645793     ┆ 42.680976     │\n",
       "│ ALLE ┆ 65            ┆ 96            ┆ 97            ┆ 86.0      ┆ 10.84038      ┆ -2.408305     │\n",
       "│ PSA  ┆ 67            ┆ 95            ┆ 94            ┆ 85.33     ┆ 12.596634     ┆ -6.085548     │\n",
       "└──────┴───────────────┴───────────────┴───────────────┴───────────┴───────────────┴───────────────┘"
      ]
     },
     "execution_count": 11,
     "metadata": {},
     "output_type": "execute_result"
    }
   ],
   "source": [
    "def score(data, models, trade_date, targets, features, stocks):\n",
    "    \"\"\"\n",
    "    Score stocks using rank-based ensemble of target-specific models.\n",
    "\n",
    "    Parameters\n",
    "    ----------\n",
    "    data : pl.DataFrame\n",
    "        Preprocessed financial data.\n",
    "    stocks : list[str]\n",
    "        List of stocks to score.\n",
    "\n",
    "    Returns\n",
    "    -------\n",
    "    pl.DataFrame\n",
    "        Dataframe with stock ranks.\n",
    "    \"\"\"\n",
    "\n",
    "    test = data.filter((pl.col(\"tdq\") == trade_date) & pl.col(\"tic\").is_in(stocks))\n",
    "    final_ranks = test.clone()\n",
    "    pred_cols = []\n",
    "    perc_cols = []\n",
    "\n",
    "    # Get predictions for each target\n",
    "    for target in targets:\n",
    "\n",
    "        model = models[target]\n",
    "\n",
    "        test_df = test.select(features).to_pandas()\n",
    "        prob_scores = model.predict_proba(test_df)[:, 1]\n",
    "        n_bins = 100\n",
    "        n_elements = len(prob_scores)\n",
    "        final_ranks = final_ranks.with_columns([\n",
    "            pl.Series(f\"pred_{target}\", prob_scores),\n",
    "            (\n",
    "                pl.Series(f\"pred_{target}\", prob_scores)\n",
    "                .rank(method=\"ordinal\", descending=False)\n",
    "                .map_elements(\n",
    "                    lambda x, n=n_bins, total=n_elements: int(np.ceil(x * n / total))\n",
    "                )\n",
    "            ).alias(f\"perc_{target}\")\n",
    "        ])\n",
    "        pred_cols.append(f\"pred_{target}\")\n",
    "        perc_cols.append(f\"perc_{target}\")\n",
    "\n",
    "\n",
    "    final_ranks = final_ranks.with_columns(\n",
    "        pl.mean_horizontal([pl.col(col) for col in perc_cols]).round(2).alias(\"avg_score\")\n",
    "    ).sort(\"avg_score\", descending=True)\n",
    "\n",
    "    return final_ranks.select(\n",
    "        \"tic\", \"perc_aggressive_hit\", \"perc_balanced_hit\", \"perc_relaxed_hit\", \"avg_score\",\n",
    "        \"max_return_4Q\", \"fwd_return_4Q\"\n",
    "    )\n",
    "\n",
    "\n",
    "ranks = score(data, models, trade_date, targets, features, constituents)\n",
    "ranks.head(20)"
   ]
  },
  {
   "cell_type": "code",
   "execution_count": 12,
   "metadata": {},
   "outputs": [
    {
     "data": {
      "text/html": [
       "<div><style>\n",
       ".dataframe > thead > tr,\n",
       ".dataframe > tbody > tr {\n",
       "  text-align: right;\n",
       "  white-space: pre-wrap;\n",
       "}\n",
       "</style>\n",
       "<small>shape: (468, 7)</small><table border=\"1\" class=\"dataframe\"><thead><tr><th>tic</th><th>perc_aggressive_hit</th><th>perc_balanced_hit</th><th>perc_relaxed_hit</th><th>avg_score</th><th>max_return_4Q</th><th>fwd_return_4Q</th></tr><tr><td>str</td><td>i64</td><td>i64</td><td>i64</td><td>f64</td><td>f64</td><td>f64</td></tr></thead><tbody><tr><td>&quot;SBAC&quot;</td><td>99</td><td>99</td><td>96</td><td>98.0</td><td>7.26412</td><td>-29.635108</td></tr><tr><td>&quot;CCI&quot;</td><td>83</td><td>100</td><td>99</td><td>94.0</td><td>-1.225592</td><td>-36.639401</td></tr><tr><td>&quot;FRT&quot;</td><td>88</td><td>100</td><td>93</td><td>93.67</td><td>3.746036</td><td>-16.944197</td></tr><tr><td>&quot;CPT&quot;</td><td>87</td><td>98</td><td>95</td><td>93.33</td><td>2.91194</td><td>-22.840902</td></tr><tr><td>&quot;AVB&quot;</td><td>82</td><td>98</td><td>98</td><td>92.67</td><td>6.95732</td><td>-11.639978</td></tr><tr><td>&hellip;</td><td>&hellip;</td><td>&hellip;</td><td>&hellip;</td><td>&hellip;</td><td>&hellip;</td><td>&hellip;</td></tr><tr><td>&quot;PSX&quot;</td><td>21</td><td>3</td><td>3</td><td>9.0</td><td>10.992492</td><td>-5.37655</td></tr><tr><td>&quot;PXD&quot;</td><td>19</td><td>1</td><td>4</td><td>8.0</td><td>0.152197</td><td>-18.526358</td></tr><tr><td>&quot;OKE&quot;</td><td>11</td><td>6</td><td>5</td><td>7.33</td><td>9.486536</td><td>-5.258943</td></tr><tr><td>&quot;MPC&quot;</td><td>16</td><td>3</td><td>1</td><td>6.67</td><td>32.928546</td><td>7.295805</td></tr><tr><td>&quot;CNP&quot;</td><td>2</td><td>7</td><td>10</td><td>6.33</td><td>3.813103</td><td>-7.144722</td></tr></tbody></table></div>"
      ],
      "text/plain": [
       "shape: (468, 7)\n",
       "┌──────┬───────────────┬───────────────┬───────────────┬───────────┬───────────────┬───────────────┐\n",
       "│ tic  ┆ perc_aggressi ┆ perc_balanced ┆ perc_relaxed_ ┆ avg_score ┆ max_return_4Q ┆ fwd_return_4Q │\n",
       "│ ---  ┆ ve_hit        ┆ _hit          ┆ hit           ┆ ---       ┆ ---           ┆ ---           │\n",
       "│ str  ┆ ---           ┆ ---           ┆ ---           ┆ f64       ┆ f64           ┆ f64           │\n",
       "│      ┆ i64           ┆ i64           ┆ i64           ┆           ┆               ┆               │\n",
       "╞══════╪═══════════════╪═══════════════╪═══════════════╪═══════════╪═══════════════╪═══════════════╡\n",
       "│ SBAC ┆ 99            ┆ 99            ┆ 96            ┆ 98.0      ┆ 7.26412       ┆ -29.635108    │\n",
       "│ CCI  ┆ 83            ┆ 100           ┆ 99            ┆ 94.0      ┆ -1.225592     ┆ -36.639401    │\n",
       "│ FRT  ┆ 88            ┆ 100           ┆ 93            ┆ 93.67     ┆ 3.746036      ┆ -16.944197    │\n",
       "│ CPT  ┆ 87            ┆ 98            ┆ 95            ┆ 93.33     ┆ 2.91194       ┆ -22.840902    │\n",
       "│ AVB  ┆ 82            ┆ 98            ┆ 98            ┆ 92.67     ┆ 6.95732       ┆ -11.639978    │\n",
       "│ …    ┆ …             ┆ …             ┆ …             ┆ …         ┆ …             ┆ …             │\n",
       "│ PSX  ┆ 21            ┆ 3             ┆ 3             ┆ 9.0       ┆ 10.992492     ┆ -5.37655      │\n",
       "│ PXD  ┆ 19            ┆ 1             ┆ 4             ┆ 8.0       ┆ 0.152197      ┆ -18.526358    │\n",
       "│ OKE  ┆ 11            ┆ 6             ┆ 5             ┆ 7.33      ┆ 9.486536      ┆ -5.258943     │\n",
       "│ MPC  ┆ 16            ┆ 3             ┆ 1             ┆ 6.67      ┆ 32.928546     ┆ 7.295805      │\n",
       "│ CNP  ┆ 2             ┆ 7             ┆ 10            ┆ 6.33      ┆ 3.813103      ┆ -7.144722     │\n",
       "└──────┴───────────────┴───────────────┴───────────────┴───────────┴───────────────┴───────────────┘"
      ]
     },
     "execution_count": 12,
     "metadata": {},
     "output_type": "execute_result"
    }
   ],
   "source": [
    "ranks"
   ]
  },
  {
   "cell_type": "code",
   "execution_count": 13,
   "metadata": {},
   "outputs": [
    {
     "ename": "ColumnNotFoundError",
     "evalue": "risk_return_4Q\n\nResolved plan until failure:\n\n\t---> FAILED HERE RESOLVING 'select' <---\nDF [\"tic\", \"perc_aggressive_hit\", \"perc_balanced_hit\", \"perc_relaxed_hit\"]; PROJECT */7 COLUMNS; SELECTION: None",
     "output_type": "error",
     "traceback": [
      "\u001b[0;31m---------------------------------------------------------------------------\u001b[0m",
      "\u001b[0;31mColumnNotFoundError\u001b[0m                       Traceback (most recent call last)",
      "Cell \u001b[0;32mIn[13], line 4\u001b[0m\n\u001b[1;32m      1\u001b[0m top \u001b[38;5;241m=\u001b[39m ranks\u001b[38;5;241m.\u001b[39mhead(\u001b[38;5;241m100\u001b[39m)\n\u001b[1;32m      2\u001b[0m bottom \u001b[38;5;241m=\u001b[39m ranks\u001b[38;5;241m.\u001b[39mtail(\u001b[38;5;241m100\u001b[39m)\n\u001b[0;32m----> 4\u001b[0m top_freturn \u001b[38;5;241m=\u001b[39m \u001b[43mtop\u001b[49m\u001b[38;5;241;43m.\u001b[39;49m\u001b[43mselect\u001b[49m\u001b[43m(\u001b[49m\u001b[43mpl\u001b[49m\u001b[38;5;241;43m.\u001b[39;49m\u001b[43mcol\u001b[49m\u001b[43m(\u001b[49m\u001b[38;5;124;43m\"\u001b[39;49m\u001b[38;5;124;43mrisk_return_4Q\u001b[39;49m\u001b[38;5;124;43m\"\u001b[39;49m\u001b[43m)\u001b[49m\u001b[43m)\u001b[49m\u001b[38;5;241m.\u001b[39mmean()\u001b[38;5;241m.\u001b[39mitem()\n\u001b[1;32m      5\u001b[0m bottom_freturn \u001b[38;5;241m=\u001b[39m bottom\u001b[38;5;241m.\u001b[39mselect(pl\u001b[38;5;241m.\u001b[39mcol(\u001b[38;5;124m\"\u001b[39m\u001b[38;5;124mrisk_return_4Q\u001b[39m\u001b[38;5;124m\"\u001b[39m))\u001b[38;5;241m.\u001b[39mmean()\u001b[38;5;241m.\u001b[39mitem()\n\u001b[1;32m      7\u001b[0m \u001b[38;5;66;03m# Calculate hit rates (% of stocks with positive returns)\u001b[39;00m\n",
      "File \u001b[0;32m~/Desktop/Projects/stocksense/.venv/lib/python3.11/site-packages/polars/dataframe/frame.py:9021\u001b[0m, in \u001b[0;36mDataFrame.select\u001b[0;34m(self, *exprs, **named_exprs)\u001b[0m\n\u001b[1;32m   8921\u001b[0m \u001b[38;5;28;01mdef\u001b[39;00m \u001b[38;5;21mselect\u001b[39m(\n\u001b[1;32m   8922\u001b[0m     \u001b[38;5;28mself\u001b[39m, \u001b[38;5;241m*\u001b[39mexprs: IntoExpr \u001b[38;5;241m|\u001b[39m Iterable[IntoExpr], \u001b[38;5;241m*\u001b[39m\u001b[38;5;241m*\u001b[39mnamed_exprs: IntoExpr\n\u001b[1;32m   8923\u001b[0m ) \u001b[38;5;241m-\u001b[39m\u001b[38;5;241m>\u001b[39m DataFrame:\n\u001b[1;32m   8924\u001b[0m \u001b[38;5;250m    \u001b[39m\u001b[38;5;124;03m\"\"\"\u001b[39;00m\n\u001b[1;32m   8925\u001b[0m \u001b[38;5;124;03m    Select columns from this DataFrame.\u001b[39;00m\n\u001b[1;32m   8926\u001b[0m \n\u001b[0;32m   (...)\u001b[0m\n\u001b[1;32m   9019\u001b[0m \u001b[38;5;124;03m    └──────────────┘\u001b[39;00m\n\u001b[1;32m   9020\u001b[0m \u001b[38;5;124;03m    \"\"\"\u001b[39;00m\n\u001b[0;32m-> 9021\u001b[0m     \u001b[38;5;28;01mreturn\u001b[39;00m \u001b[38;5;28;43mself\u001b[39;49m\u001b[38;5;241;43m.\u001b[39;49m\u001b[43mlazy\u001b[49m\u001b[43m(\u001b[49m\u001b[43m)\u001b[49m\u001b[38;5;241;43m.\u001b[39;49m\u001b[43mselect\u001b[49m\u001b[43m(\u001b[49m\u001b[38;5;241;43m*\u001b[39;49m\u001b[43mexprs\u001b[49m\u001b[43m,\u001b[49m\u001b[43m \u001b[49m\u001b[38;5;241;43m*\u001b[39;49m\u001b[38;5;241;43m*\u001b[39;49m\u001b[43mnamed_exprs\u001b[49m\u001b[43m)\u001b[49m\u001b[38;5;241;43m.\u001b[39;49m\u001b[43mcollect\u001b[49m\u001b[43m(\u001b[49m\u001b[43m_eager\u001b[49m\u001b[38;5;241;43m=\u001b[39;49m\u001b[38;5;28;43;01mTrue\u001b[39;49;00m\u001b[43m)\u001b[49m\n",
      "File \u001b[0;32m~/Desktop/Projects/stocksense/.venv/lib/python3.11/site-packages/polars/lazyframe/frame.py:2055\u001b[0m, in \u001b[0;36mLazyFrame.collect\u001b[0;34m(self, type_coercion, predicate_pushdown, projection_pushdown, simplify_expression, slice_pushdown, comm_subplan_elim, comm_subexpr_elim, cluster_with_columns, collapse_joins, no_optimization, streaming, engine, background, _eager, **_kwargs)\u001b[0m\n\u001b[1;32m   2053\u001b[0m \u001b[38;5;66;03m# Only for testing purposes\u001b[39;00m\n\u001b[1;32m   2054\u001b[0m callback \u001b[38;5;241m=\u001b[39m _kwargs\u001b[38;5;241m.\u001b[39mget(\u001b[38;5;124m\"\u001b[39m\u001b[38;5;124mpost_opt_callback\u001b[39m\u001b[38;5;124m\"\u001b[39m, callback)\n\u001b[0;32m-> 2055\u001b[0m \u001b[38;5;28;01mreturn\u001b[39;00m wrap_df(\u001b[43mldf\u001b[49m\u001b[38;5;241;43m.\u001b[39;49m\u001b[43mcollect\u001b[49m\u001b[43m(\u001b[49m\u001b[43mcallback\u001b[49m\u001b[43m)\u001b[49m)\n",
      "\u001b[0;31mColumnNotFoundError\u001b[0m: risk_return_4Q\n\nResolved plan until failure:\n\n\t---> FAILED HERE RESOLVING 'select' <---\nDF [\"tic\", \"perc_aggressive_hit\", \"perc_balanced_hit\", \"perc_relaxed_hit\"]; PROJECT */7 COLUMNS; SELECTION: None"
     ]
    }
   ],
   "source": [
    "top = ranks.head(100)\n",
    "bottom = ranks.tail(100)\n",
    "\n",
    "top_freturn = top.select(pl.col(\"risk_return_4Q\")).mean().item()\n",
    "bottom_freturn = bottom.select(pl.col(\"risk_return_4Q\")).mean().item()\n",
    "\n",
    "# Calculate hit rates (% of stocks with positive returns)\n",
    "top_hits = top.select(pl.col(\"risk_return_4Q\") > 0).sum().item()\n",
    "bottom_hits = bottom.select(pl.col(\"risk_return_4Q\") > 0).sum().item()\n",
    "\n",
    "top_hitrate = (top_hits / len(top)) * 100\n",
    "bottom_hitrate = (bottom_hits / len(bottom)) * 100\n",
    "\n",
    "\n",
    "print(f\"\\nDATE {trade_date}\")\n",
    "print(f\"Average top return: {top_freturn:.2f}% ({top_hitrate:.1f})\")\n",
    "print(f\"Average bottom return: {bottom_freturn:.2f}% ({bottom_hitrate:.1f})\")"
   ]
  }
 ],
 "metadata": {
  "kernelspec": {
   "display_name": ".venv",
   "language": "python",
   "name": "python3"
  },
  "language_info": {
   "codemirror_mode": {
    "name": "ipython",
    "version": 3
   },
   "file_extension": ".py",
   "mimetype": "text/x-python",
   "name": "python",
   "nbconvert_exporter": "python",
   "pygments_lexer": "ipython3",
   "version": "3.11.0"
  }
 },
 "nbformat": 4,
 "nbformat_minor": 2
}
