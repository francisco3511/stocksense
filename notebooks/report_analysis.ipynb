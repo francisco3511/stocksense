{
 "cells": [
  {
   "cell_type": "code",
   "execution_count": 47,
   "metadata": {},
   "outputs": [],
   "source": [
    "from pathlib import Path\n",
    "\n",
    "import polars as pl\n",
    "\n",
    "from stocksense.database_handler import DatabaseHandler\n",
    "\n",
    "DATE = \"2023-06-01\"\n",
    "REPORT_DIR = Path(\"../reports/scores\")"
   ]
  },
  {
   "cell_type": "code",
   "execution_count": 48,
   "metadata": {},
   "outputs": [
    {
     "name": "stderr",
     "output_type": "stream",
     "text": [
      "\u001b[32m2024-12-05 17:05:11.385\u001b[0m | \u001b[32m\u001b[1mSUCCESS \u001b[0m | \u001b[36mstocksense.database_handler.schema\u001b[0m:\u001b[36mcreate_tables\u001b[0m:\u001b[36m121\u001b[0m - \u001b[32m\u001b[1mTables created successfully\u001b[0m\n"
     ]
    },
    {
     "data": {
      "text/html": [
       "<div><style>\n",
       ".dataframe > thead > tr,\n",
       ".dataframe > tbody > tr {\n",
       "  text-align: right;\n",
       "  white-space: pre-wrap;\n",
       "}\n",
       "</style>\n",
       "<small>shape: (489, 10)</small><table border=\"1\" class=\"dataframe\"><thead><tr><th>tic</th><th>adj_close</th><th>freturn</th><th>excess_return</th><th>fsharpe_ratio</th><th>pred</th><th>name</th><th>sector</th><th>date_added</th><th>date_removed</th></tr><tr><td>str</td><td>f64</td><td>f64</td><td>f64</td><td>f64</td><td>f64</td><td>str</td><td>str</td><td>date</td><td>date</td></tr></thead><tbody><tr><td>&quot;NCLH&quot;</td><td>15.51</td><td>7.027725</td><td>-18.001527</td><td>-5.545556</td><td>37.17069</td><td>&quot;Norwegian Cruise Line Holdings&quot;</td><td>&quot;Consumer Discretionary&quot;</td><td>2017-10-13</td><td>null</td></tr><tr><td>&quot;ZION&quot;</td><td>26.068811</td><td>63.006534</td><td>37.977282</td><td>13.678461</td><td>30.592213</td><td>&quot;Zions Bancorporation&quot;</td><td>&quot;Financials&quot;</td><td>null</td><td>2024-03-18</td></tr><tr><td>&quot;META&quot;</td><td>271.791656</td><td>71.426327</td><td>46.397075</td><td>20.953845</td><td>28.327505</td><td>&quot;Meta Platforms&quot;</td><td>&quot;Communication Services&quot;</td><td>2013-12-23</td><td>null</td></tr><tr><td>&quot;MSFT&quot;</td><td>328.746765</td><td>25.797535</td><td>0.768283</td><td>0.584343</td><td>21.75202</td><td>&quot;Microsoft&quot;</td><td>&quot;Information Technology&quot;</td><td>1994-06-01</td><td>null</td></tr><tr><td>&quot;NVDA&quot;</td><td>39.750584</td><td>175.756012</td><td>150.726759</td><td>54.877978</td><td>21.142149</td><td>&quot;Nvidia&quot;</td><td>&quot;Information Technology&quot;</td><td>2001-11-30</td><td>null</td></tr><tr><td>&hellip;</td><td>&hellip;</td><td>&hellip;</td><td>&hellip;</td><td>&hellip;</td><td>&hellip;</td><td>&hellip;</td><td>&hellip;</td><td>&hellip;</td><td>&hellip;</td></tr><tr><td>&quot;MMM&quot;</td><td>73.902962</td><td>34.062467</td><td>9.033215</td><td>4.93493</td><td>-17.176619</td><td>&quot;3M&quot;</td><td>&quot;Industrials&quot;</td><td>1957-03-04</td><td>null</td></tr><tr><td>&quot;HSY&quot;</td><td>249.372787</td><td>-21.853062</td><td>-46.882314</td><td>-37.035982</td><td>-18.022165</td><td>&quot;Hershey&#x27;s&quot;</td><td>&quot;Consumer Staples&quot;</td><td>1957-03-04</td><td>null</td></tr><tr><td>&quot;EBAY&quot;</td><td>41.939377</td><td>28.145908</td><td>3.116655</td><td>1.841128</td><td>-19.202547</td><td>&quot;eBay&quot;</td><td>&quot;Consumer Discretionary&quot;</td><td>2002-07-22</td><td>null</td></tr><tr><td>&quot;EQT&quot;</td><td>34.230064</td><td>18.922445</td><td>-6.106807</td><td>-3.048222</td><td>-21.289473</td><td>&quot;EQT Corporation&quot;</td><td>&quot;Energy&quot;</td><td>2022-10-03</td><td>null</td></tr><tr><td>&quot;NRG&quot;</td><td>31.063034</td><td>158.174272</td><td>133.14502</td><td>77.632397</td><td>-21.316208</td><td>&quot;NRG Energy&quot;</td><td>&quot;Utilities&quot;</td><td>2010-01-29</td><td>null</td></tr></tbody></table></div>"
      ],
      "text/plain": [
       "shape: (489, 10)\n",
       "┌──────┬────────────┬────────────┬────────────┬───┬────────────┬───────────┬───────────┬───────────┐\n",
       "│ tic  ┆ adj_close  ┆ freturn    ┆ excess_ret ┆ … ┆ name       ┆ sector    ┆ date_adde ┆ date_remo │\n",
       "│ ---  ┆ ---        ┆ ---        ┆ urn        ┆   ┆ ---        ┆ ---       ┆ d         ┆ ved       │\n",
       "│ str  ┆ f64        ┆ f64        ┆ ---        ┆   ┆ str        ┆ str       ┆ ---       ┆ ---       │\n",
       "│      ┆            ┆            ┆ f64        ┆   ┆            ┆           ┆ date      ┆ date      │\n",
       "╞══════╪════════════╪════════════╪════════════╪═══╪════════════╪═══════════╪═══════════╪═══════════╡\n",
       "│ NCLH ┆ 15.51      ┆ 7.027725   ┆ -18.001527 ┆ … ┆ Norwegian  ┆ Consumer  ┆ 2017-10-1 ┆ null      │\n",
       "│      ┆            ┆            ┆            ┆   ┆ Cruise     ┆ Discretio ┆ 3         ┆           │\n",
       "│      ┆            ┆            ┆            ┆   ┆ Line       ┆ nary      ┆           ┆           │\n",
       "│      ┆            ┆            ┆            ┆   ┆ Holdings   ┆           ┆           ┆           │\n",
       "│ ZION ┆ 26.068811  ┆ 63.006534  ┆ 37.977282  ┆ … ┆ Zions Banc ┆ Financial ┆ null      ┆ 2024-03-1 │\n",
       "│      ┆            ┆            ┆            ┆   ┆ orporation ┆ s         ┆           ┆ 8         │\n",
       "│ META ┆ 271.791656 ┆ 71.426327  ┆ 46.397075  ┆ … ┆ Meta       ┆ Communica ┆ 2013-12-2 ┆ null      │\n",
       "│      ┆            ┆            ┆            ┆   ┆ Platforms  ┆ tion      ┆ 3         ┆           │\n",
       "│      ┆            ┆            ┆            ┆   ┆            ┆ Services  ┆           ┆           │\n",
       "│ MSFT ┆ 328.746765 ┆ 25.797535  ┆ 0.768283   ┆ … ┆ Microsoft  ┆ Informati ┆ 1994-06-0 ┆ null      │\n",
       "│      ┆            ┆            ┆            ┆   ┆            ┆ on Techno ┆ 1         ┆           │\n",
       "│      ┆            ┆            ┆            ┆   ┆            ┆ logy      ┆           ┆           │\n",
       "│ NVDA ┆ 39.750584  ┆ 175.756012 ┆ 150.726759 ┆ … ┆ Nvidia     ┆ Informati ┆ 2001-11-3 ┆ null      │\n",
       "│      ┆            ┆            ┆            ┆   ┆            ┆ on Techno ┆ 0         ┆           │\n",
       "│      ┆            ┆            ┆            ┆   ┆            ┆ logy      ┆           ┆           │\n",
       "│ …    ┆ …          ┆ …          ┆ …          ┆ … ┆ …          ┆ …         ┆ …         ┆ …         │\n",
       "│ MMM  ┆ 73.902962  ┆ 34.062467  ┆ 9.033215   ┆ … ┆ 3M         ┆ Industria ┆ 1957-03-0 ┆ null      │\n",
       "│      ┆            ┆            ┆            ┆   ┆            ┆ ls        ┆ 4         ┆           │\n",
       "│ HSY  ┆ 249.372787 ┆ -21.853062 ┆ -46.882314 ┆ … ┆ Hershey's  ┆ Consumer  ┆ 1957-03-0 ┆ null      │\n",
       "│      ┆            ┆            ┆            ┆   ┆            ┆ Staples   ┆ 4         ┆           │\n",
       "│ EBAY ┆ 41.939377  ┆ 28.145908  ┆ 3.116655   ┆ … ┆ eBay       ┆ Consumer  ┆ 2002-07-2 ┆ null      │\n",
       "│      ┆            ┆            ┆            ┆   ┆            ┆ Discretio ┆ 2         ┆           │\n",
       "│      ┆            ┆            ┆            ┆   ┆            ┆ nary      ┆           ┆           │\n",
       "│ EQT  ┆ 34.230064  ┆ 18.922445  ┆ -6.106807  ┆ … ┆ EQT Corpor ┆ Energy    ┆ 2022-10-0 ┆ null      │\n",
       "│      ┆            ┆            ┆            ┆   ┆ ation      ┆           ┆ 3         ┆           │\n",
       "│ NRG  ┆ 31.063034  ┆ 158.174272 ┆ 133.14502  ┆ … ┆ NRG Energy ┆ Utilities ┆ 2010-01-2 ┆ null      │\n",
       "│      ┆            ┆            ┆            ┆   ┆            ┆           ┆ 9         ┆           │\n",
       "└──────┴────────────┴────────────┴────────────┴───┴────────────┴───────────┴───────────┴───────────┘"
      ]
     },
     "execution_count": 48,
     "metadata": {},
     "output_type": "execute_result"
    }
   ],
   "source": [
    "stock_info = DatabaseHandler().fetch_stock()\n",
    "df = pl.read_csv(REPORT_DIR / f\"scores_{DATE}.csv\")\n",
    "df = df.join(stock_info, on=\"tic\", how=\"left\")\n",
    "df"
   ]
  },
  {
   "cell_type": "code",
   "execution_count": 49,
   "metadata": {},
   "outputs": [
    {
     "name": "stdout",
     "output_type": "stream",
     "text": [
      "\n",
      "DATE 2023-06-01\n",
      "\n",
      "Top 20 stocks:\n",
      "Average freturn: 16.52%\n",
      "\n",
      "Bottom 20 stocks:\n",
      "Average freturn: -9.87%\n"
     ]
    }
   ],
   "source": [
    "n = 20\n",
    "top = df.head(n)\n",
    "bottom = df.tail(n)\n",
    "\n",
    "# Calculate average returns for top stocks\n",
    "top_freturn = top.select(pl.col(\"excess_return\")).mean().item()\n",
    "\n",
    "# Calculate average returns for bottom stocks\n",
    "bottom_freturn = bottom.select(pl.col(\"excess_return\")).mean().item()\n",
    "\n",
    "print(f\"\\nDATE {DATE}\")\n",
    "print(f\"\\nTop {n} stocks:\")\n",
    "print(f\"Average freturn: {top_freturn:.2f}%\")\n",
    "print(f\"\\nBottom {n} stocks:\")\n",
    "print(f\"Average freturn: {bottom_freturn:.2f}%\")"
   ]
  },
  {
   "cell_type": "code",
   "execution_count": 14,
   "metadata": {},
   "outputs": [
    {
     "data": {
      "text/html": [
       "<div><style>\n",
       ".dataframe > thead > tr,\n",
       ".dataframe > tbody > tr {\n",
       "  text-align: right;\n",
       "  white-space: pre-wrap;\n",
       "}\n",
       "</style>\n",
       "<small>shape: (20, 9)</small><table border=\"1\" class=\"dataframe\"><thead><tr><th>tic</th><th>close</th><th>freturn</th><th>excess_return</th><th>pred</th><th>name</th><th>sector</th><th>date_added</th><th>date_removed</th></tr><tr><td>str</td><td>f64</td><td>f64</td><td>f64</td><td>f64</td><td>str</td><td>str</td><td>date</td><td>date</td></tr></thead><tbody><tr><td>&quot;CAH&quot;</td><td>55.43</td><td>55.022265</td><td>52.101433</td><td>37.89168</td><td>&quot;Cardinal Health&quot;</td><td>&quot;Health Care&quot;</td><td>1997-05-27</td><td>null</td></tr><tr><td>&quot;LYV&quot;</td><td>94.510002</td><td>-14.157237</td><td>-17.078069</td><td>20.778915</td><td>&quot;Live Nation Entertainment&quot;</td><td>&quot;Communication Services&quot;</td><td>2019-12-23</td><td>null</td></tr><tr><td>&quot;MRNA&quot;</td><td>143.399994</td><td>-10.376562</td><td>-13.297394</td><td>20.692898</td><td>&quot;Moderna&quot;</td><td>&quot;Health Care&quot;</td><td>2021-07-21</td><td>null</td></tr><tr><td>&quot;PEP&quot;</td><td>166.490005</td><td>13.162956</td><td>10.242124</td><td>18.175556</td><td>&quot;PepsiCo&quot;</td><td>&quot;Consumer Staples&quot;</td><td>1957-03-04</td><td>null</td></tr><tr><td>&quot;PGR&quot;</td><td>118.470001</td><td>8.662078</td><td>5.741246</td><td>17.985939</td><td>&quot;Progressive Corporation&quot;</td><td>&quot;Financials&quot;</td><td>1997-08-04</td><td>null</td></tr><tr><td>&hellip;</td><td>&hellip;</td><td>&hellip;</td><td>&hellip;</td><td>&hellip;</td><td>&hellip;</td><td>&hellip;</td><td>&hellip;</td><td>&hellip;</td></tr><tr><td>&quot;BA&quot;</td><td>130.649994</td><td>59.173377</td><td>56.252544</td><td>13.225108</td><td>&quot;Boeing&quot;</td><td>&quot;Industrials&quot;</td><td>1957-03-04</td><td>null</td></tr><tr><td>&quot;GILD&quot;</td><td>64.769997</td><td>22.639925</td><td>19.719093</td><td>13.121877</td><td>&quot;Gilead Sciences&quot;</td><td>&quot;Health Care&quot;</td><td>2004-07-01</td><td>null</td></tr><tr><td>&quot;AAPL&quot;</td><td>148.710007</td><td>21.824561</td><td>18.903729</td><td>13.068698</td><td>&quot;Apple Inc.&quot;</td><td>&quot;Information Technology&quot;</td><td>1982-11-30</td><td>null</td></tr><tr><td>&quot;AME&quot;</td><td>120.43</td><td>22.86249</td><td>19.941658</td><td>12.815447</td><td>&quot;Ametek&quot;</td><td>&quot;Industrials&quot;</td><td>2013-09-23</td><td>null</td></tr><tr><td>&quot;LMT&quot;</td><td>439.299988</td><td>5.037989</td><td>2.117157</td><td>12.568122</td><td>&quot;Lockheed Martin&quot;</td><td>&quot;Industrials&quot;</td><td>1957-03-04</td><td>null</td></tr></tbody></table></div>"
      ],
      "text/plain": [
       "shape: (20, 9)\n",
       "┌──────┬────────────┬────────────┬────────────┬───┬────────────┬───────────┬───────────┬───────────┐\n",
       "│ tic  ┆ close      ┆ freturn    ┆ excess_ret ┆ … ┆ name       ┆ sector    ┆ date_adde ┆ date_remo │\n",
       "│ ---  ┆ ---        ┆ ---        ┆ urn        ┆   ┆ ---        ┆ ---       ┆ d         ┆ ved       │\n",
       "│ str  ┆ f64        ┆ f64        ┆ ---        ┆   ┆ str        ┆ str       ┆ ---       ┆ ---       │\n",
       "│      ┆            ┆            ┆ f64        ┆   ┆            ┆           ┆ date      ┆ date      │\n",
       "╞══════╪════════════╪════════════╪════════════╪═══╪════════════╪═══════════╪═══════════╪═══════════╡\n",
       "│ CAH  ┆ 55.43      ┆ 55.022265  ┆ 52.101433  ┆ … ┆ Cardinal   ┆ Health    ┆ 1997-05-2 ┆ null      │\n",
       "│      ┆            ┆            ┆            ┆   ┆ Health     ┆ Care      ┆ 7         ┆           │\n",
       "│ LYV  ┆ 94.510002  ┆ -14.157237 ┆ -17.078069 ┆ … ┆ Live       ┆ Communica ┆ 2019-12-2 ┆ null      │\n",
       "│      ┆            ┆            ┆            ┆   ┆ Nation Ent ┆ tion      ┆ 3         ┆           │\n",
       "│      ┆            ┆            ┆            ┆   ┆ ertainment ┆ Services  ┆           ┆           │\n",
       "│ MRNA ┆ 143.399994 ┆ -10.376562 ┆ -13.297394 ┆ … ┆ Moderna    ┆ Health    ┆ 2021-07-2 ┆ null      │\n",
       "│      ┆            ┆            ┆            ┆   ┆            ┆ Care      ┆ 1         ┆           │\n",
       "│ PEP  ┆ 166.490005 ┆ 13.162956  ┆ 10.242124  ┆ … ┆ PepsiCo    ┆ Consumer  ┆ 1957-03-0 ┆ null      │\n",
       "│      ┆            ┆            ┆            ┆   ┆            ┆ Staples   ┆ 4         ┆           │\n",
       "│ PGR  ┆ 118.470001 ┆ 8.662078   ┆ 5.741246   ┆ … ┆ Progressiv ┆ Financial ┆ 1997-08-0 ┆ null      │\n",
       "│      ┆            ┆            ┆            ┆   ┆ e Corporat ┆ s         ┆ 4         ┆           │\n",
       "│      ┆            ┆            ┆            ┆   ┆ ion        ┆           ┆           ┆           │\n",
       "│ …    ┆ …          ┆ …          ┆ …          ┆ … ┆ …          ┆ …         ┆ …         ┆ …         │\n",
       "│ BA   ┆ 130.649994 ┆ 59.173377  ┆ 56.252544  ┆ … ┆ Boeing     ┆ Industria ┆ 1957-03-0 ┆ null      │\n",
       "│      ┆            ┆            ┆            ┆   ┆            ┆ ls        ┆ 4         ┆           │\n",
       "│ GILD ┆ 64.769997  ┆ 22.639925  ┆ 19.719093  ┆ … ┆ Gilead     ┆ Health    ┆ 2004-07-0 ┆ null      │\n",
       "│      ┆            ┆            ┆            ┆   ┆ Sciences   ┆ Care      ┆ 1         ┆           │\n",
       "│ AAPL ┆ 148.710007 ┆ 21.824561  ┆ 18.903729  ┆ … ┆ Apple Inc. ┆ Informati ┆ 1982-11-3 ┆ null      │\n",
       "│      ┆            ┆            ┆            ┆   ┆            ┆ on Techno ┆ 0         ┆           │\n",
       "│      ┆            ┆            ┆            ┆   ┆            ┆ logy      ┆           ┆           │\n",
       "│ AME  ┆ 120.43     ┆ 22.86249   ┆ 19.941658  ┆ … ┆ Ametek     ┆ Industria ┆ 2013-09-2 ┆ null      │\n",
       "│      ┆            ┆            ┆            ┆   ┆            ┆ ls        ┆ 3         ┆           │\n",
       "│ LMT  ┆ 439.299988 ┆ 5.037989   ┆ 2.117157   ┆ … ┆ Lockheed   ┆ Industria ┆ 1957-03-0 ┆ null      │\n",
       "│      ┆            ┆            ┆            ┆   ┆ Martin     ┆ ls        ┆ 4         ┆           │\n",
       "└──────┴────────────┴────────────┴────────────┴───┴────────────┴───────────┴───────────┴───────────┘"
      ]
     },
     "execution_count": 14,
     "metadata": {},
     "output_type": "execute_result"
    }
   ],
   "source": [
    "top"
   ]
  }
 ],
 "metadata": {
  "kernelspec": {
   "display_name": ".venv",
   "language": "python",
   "name": "python3"
  },
  "language_info": {
   "codemirror_mode": {
    "name": "ipython",
    "version": 3
   },
   "file_extension": ".py",
   "mimetype": "text/x-python",
   "name": "python",
   "nbconvert_exporter": "python",
   "pygments_lexer": "ipython3",
   "version": "3.11.0"
  }
 },
 "nbformat": 4,
 "nbformat_minor": 2
}
