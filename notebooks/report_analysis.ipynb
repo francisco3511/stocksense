{
 "cells": [
  {
   "cell_type": "code",
   "execution_count": 6,
   "metadata": {},
   "outputs": [],
   "source": [
    "from pathlib import Path\n",
    "\n",
    "import polars as pl\n",
    "\n",
    "from stocksense.database import DatabaseHandler\n",
    "\n",
    "DATE = \"2023-12-01\"\n",
    "REPORT_DIR = Path(\"../reports/scores\")"
   ]
  },
  {
   "cell_type": "code",
   "execution_count": 7,
   "metadata": {},
   "outputs": [
    {
     "name": "stderr",
     "output_type": "stream",
     "text": [
      "\u001b[32m2024-12-14 16:38:06.574\u001b[0m | \u001b[32m\u001b[1mSUCCESS \u001b[0m | \u001b[36mstocksense.database.schema\u001b[0m:\u001b[36mcreate_tables\u001b[0m:\u001b[36m121\u001b[0m - \u001b[32m\u001b[1mTables created successfully\u001b[0m\n"
     ]
    },
    {
     "data": {
      "text/html": [
       "<div><style>\n",
       ".dataframe > thead > tr,\n",
       ".dataframe > tbody > tr {\n",
       "  text-align: right;\n",
       "  white-space: pre-wrap;\n",
       "}\n",
       "</style>\n",
       "<small>shape: (461, 16)</small><table border=\"1\" class=\"dataframe\"><thead><tr><th>tic</th><th>adj_close</th><th>pe</th><th>saleq_yoy</th><th>fwd_return</th><th>excess_return</th><th>risk_return</th><th>pred_risk_return_3Q</th><th>rank_risk_return_3Q</th><th>pred_risk_return_4Q</th><th>rank_risk_return_4Q</th><th>avg_score</th><th>name</th><th>sector</th><th>date_added</th><th>date_removed</th></tr><tr><td>str</td><td>f64</td><td>f64</td><td>f64</td><td>f64</td><td>f64</td><td>f64</td><td>f64</td><td>i64</td><td>f64</td><td>i64</td><td>f64</td><td>str</td><td>str</td><td>date</td><td>date</td></tr></thead><tbody><tr><td>&quot;SEE&quot;</td><td>33.487507</td><td>15.771561</td><td>-1.328192</td><td>6.042746</td><td>-13.100373</td><td>2.886573</td><td>5.6585712</td><td>9</td><td>9.603384</td><td>8</td><td>8.5</td><td>&quot;Sealed Air&quot;</td><td>&quot;Materials&quot;</td><td>null</td><td>2023-12-18</td></tr><tr><td>&quot;WBA&quot;</td><td>19.217991</td><td>-5.8298</td><td>9.16207</td><td>-38.549164</td><td>-57.692283</td><td>-14.640517</td><td>5.6297507</td><td>11</td><td>9.533597</td><td>18</td><td>14.5</td><td>&quot;Walgreens Boots Alliance&quot;</td><td>&quot;Consumer Staples&quot;</td><td>1979-12-31</td><td>null</td></tr><tr><td>&quot;FMC&quot;</td><td>53.697098</td><td>14.045465</td><td>-28.703166</td><td>8.275038</td><td>-10.868082</td><td>2.731069</td><td>5.662194</td><td>8</td><td>9.511567</td><td>23</td><td>15.5</td><td>&quot;FMC Corporation&quot;</td><td>&quot;Materials&quot;</td><td>2009-08-19</td><td>null</td></tr><tr><td>&quot;PSA&quot;</td><td>255.414917</td><td>23.092956</td><td>5.117858</td><td>16.228237</td><td>-2.914882</td><td>10.844826</td><td>5.594103</td><td>25</td><td>9.599665</td><td>9</td><td>17.0</td><td>&quot;Public Storage&quot;</td><td>&quot;Real Estate&quot;</td><td>2005-08-19</td><td>null</td></tr><tr><td>&quot;LUV&quot;</td><td>26.062613</td><td>31.94777</td><td>4.903537</td><td>3.950928</td><td>-15.192191</td><td>1.546787</td><td>5.621783</td><td>15</td><td>9.521734</td><td>21</td><td>18.0</td><td>&quot;Southwest Airlines&quot;</td><td>&quot;Industrials&quot;</td><td>1994-07-01</td><td>null</td></tr><tr><td>&hellip;</td><td>&hellip;</td><td>&hellip;</td><td>&hellip;</td><td>&hellip;</td><td>&hellip;</td><td>&hellip;</td><td>&hellip;</td><td>&hellip;</td><td>&hellip;</td><td>&hellip;</td><td>&hellip;</td><td>&hellip;</td><td>&hellip;</td><td>&hellip;</td><td>&hellip;</td></tr><tr><td>&quot;NOW&quot;</td><td>690.789978</td><td>89.312698</td><td>24.959039</td><td>11.744603</td><td>-7.398516</td><td>5.550115</td><td>4.9748783</td><td>432</td><td>8.223453</td><td>452</td><td>442.0</td><td>&quot;ServiceNow&quot;</td><td>&quot;Information Technology&quot;</td><td>2019-11-21</td><td>null</td></tr><tr><td>&quot;NVDA&quot;</td><td>46.750851</td><td>61.055955</td><td>200.0</td><td>158.87167</td><td>100.0</td><td>52.031133</td><td>4.9722304</td><td>433</td><td>8.100908</td><td>456</td><td>444.5</td><td>&quot;Nvidia&quot;</td><td>&quot;Information Technology&quot;</td><td>2001-11-30</td><td>null</td></tr><tr><td>&quot;ANET&quot;</td><td>216.639999</td><td>35.442916</td><td>28.267736</td><td>55.722429</td><td>36.57931</td><td>22.902473</td><td>4.84744</td><td>448</td><td>8.336229</td><td>443</td><td>445.5</td><td>&quot;Arista Networks&quot;</td><td>&quot;Information Technology&quot;</td><td>2018-08-28</td><td>null</td></tr><tr><td>&quot;LVS&quot;</td><td>45.990719</td><td>53.400266</td><td>178.109453</td><td>-10.031928</td><td>-29.175048</td><td>-5.366387</td><td>4.9277596</td><td>440</td><td>7.871676</td><td>460</td><td>450.0</td><td>&quot;Las Vegas Sands&quot;</td><td>&quot;Consumer Discretionary&quot;</td><td>2019-10-03</td><td>null</td></tr><tr><td>&quot;NTAP&quot;</td><td>89.583244</td><td>27.172948</td><td>-6.073361</td><td>40.742009</td><td>21.59889</td><td>21.461724</td><td>4.8407593</td><td>449</td><td>7.989794</td><td>459</td><td>454.0</td><td>&quot;NetApp&quot;</td><td>&quot;Information Technology&quot;</td><td>1999-06-25</td><td>null</td></tr></tbody></table></div>"
      ],
      "text/plain": [
       "shape: (461, 16)\n",
       "┌──────┬────────────┬───────────┬────────────┬───┬────────────┬────────────┬───────────┬───────────┐\n",
       "│ tic  ┆ adj_close  ┆ pe        ┆ saleq_yoy  ┆ … ┆ name       ┆ sector     ┆ date_adde ┆ date_remo │\n",
       "│ ---  ┆ ---        ┆ ---       ┆ ---        ┆   ┆ ---        ┆ ---        ┆ d         ┆ ved       │\n",
       "│ str  ┆ f64        ┆ f64       ┆ f64        ┆   ┆ str        ┆ str        ┆ ---       ┆ ---       │\n",
       "│      ┆            ┆           ┆            ┆   ┆            ┆            ┆ date      ┆ date      │\n",
       "╞══════╪════════════╪═══════════╪════════════╪═══╪════════════╪════════════╪═══════════╪═══════════╡\n",
       "│ SEE  ┆ 33.487507  ┆ 15.771561 ┆ -1.328192  ┆ … ┆ Sealed Air ┆ Materials  ┆ null      ┆ 2023-12-1 │\n",
       "│      ┆            ┆           ┆            ┆   ┆            ┆            ┆           ┆ 8         │\n",
       "│ WBA  ┆ 19.217991  ┆ -5.8298   ┆ 9.16207    ┆ … ┆ Walgreens  ┆ Consumer   ┆ 1979-12-3 ┆ null      │\n",
       "│      ┆            ┆           ┆            ┆   ┆ Boots      ┆ Staples    ┆ 1         ┆           │\n",
       "│      ┆            ┆           ┆            ┆   ┆ Alliance   ┆            ┆           ┆           │\n",
       "│ FMC  ┆ 53.697098  ┆ 14.045465 ┆ -28.703166 ┆ … ┆ FMC Corpor ┆ Materials  ┆ 2009-08-1 ┆ null      │\n",
       "│      ┆            ┆           ┆            ┆   ┆ ation      ┆            ┆ 9         ┆           │\n",
       "│ PSA  ┆ 255.414917 ┆ 23.092956 ┆ 5.117858   ┆ … ┆ Public     ┆ Real       ┆ 2005-08-1 ┆ null      │\n",
       "│      ┆            ┆           ┆            ┆   ┆ Storage    ┆ Estate     ┆ 9         ┆           │\n",
       "│ LUV  ┆ 26.062613  ┆ 31.94777  ┆ 4.903537   ┆ … ┆ Southwest  ┆ Industrial ┆ 1994-07-0 ┆ null      │\n",
       "│      ┆            ┆           ┆            ┆   ┆ Airlines   ┆ s          ┆ 1         ┆           │\n",
       "│ …    ┆ …          ┆ …         ┆ …          ┆ … ┆ …          ┆ …          ┆ …         ┆ …         │\n",
       "│ NOW  ┆ 690.789978 ┆ 89.312698 ┆ 24.959039  ┆ … ┆ ServiceNow ┆ Informatio ┆ 2019-11-2 ┆ null      │\n",
       "│      ┆            ┆           ┆            ┆   ┆            ┆ n          ┆ 1         ┆           │\n",
       "│      ┆            ┆           ┆            ┆   ┆            ┆ Technology ┆           ┆           │\n",
       "│ NVDA ┆ 46.750851  ┆ 61.055955 ┆ 200.0      ┆ … ┆ Nvidia     ┆ Informatio ┆ 2001-11-3 ┆ null      │\n",
       "│      ┆            ┆           ┆            ┆   ┆            ┆ n          ┆ 0         ┆           │\n",
       "│      ┆            ┆           ┆            ┆   ┆            ┆ Technology ┆           ┆           │\n",
       "│ ANET ┆ 216.639999 ┆ 35.442916 ┆ 28.267736  ┆ … ┆ Arista     ┆ Informatio ┆ 2018-08-2 ┆ null      │\n",
       "│      ┆            ┆           ┆            ┆   ┆ Networks   ┆ n          ┆ 8         ┆           │\n",
       "│      ┆            ┆           ┆            ┆   ┆            ┆ Technology ┆           ┆           │\n",
       "│ LVS  ┆ 45.990719  ┆ 53.400266 ┆ 178.109453 ┆ … ┆ Las Vegas  ┆ Consumer   ┆ 2019-10-0 ┆ null      │\n",
       "│      ┆            ┆           ┆            ┆   ┆ Sands      ┆ Discretion ┆ 3         ┆           │\n",
       "│      ┆            ┆           ┆            ┆   ┆            ┆ ary        ┆           ┆           │\n",
       "│ NTAP ┆ 89.583244  ┆ 27.172948 ┆ -6.073361  ┆ … ┆ NetApp     ┆ Informatio ┆ 1999-06-2 ┆ null      │\n",
       "│      ┆            ┆           ┆            ┆   ┆            ┆ n          ┆ 5         ┆           │\n",
       "│      ┆            ┆           ┆            ┆   ┆            ┆ Technology ┆           ┆           │\n",
       "└──────┴────────────┴───────────┴────────────┴───┴────────────┴────────────┴───────────┴───────────┘"
      ]
     },
     "execution_count": 7,
     "metadata": {},
     "output_type": "execute_result"
    }
   ],
   "source": [
    "stock_info = DatabaseHandler().fetch_stock()\n",
    "df = pl.read_csv(REPORT_DIR / f\"scores_{DATE}.csv\")\n",
    "df = df.join(stock_info, on=\"tic\", how=\"left\")\n",
    "df"
   ]
  },
  {
   "cell_type": "code",
   "execution_count": 10,
   "metadata": {},
   "outputs": [
    {
     "name": "stdout",
     "output_type": "stream",
     "text": [
      "\n",
      "DATE 2023-12-01\n",
      "Average top return: 4.36% (70.0)\n",
      "Average bottom return: 10.92% (82.5)\n"
     ]
    }
   ],
   "source": [
    "n = 40\n",
    "top = df.head(n)\n",
    "bottom = df.tail(n)\n",
    "\n",
    "top_freturn = top.select(pl.col(\"risk_return\")).mean().item()\n",
    "bottom_freturn = bottom.select(pl.col(\"risk_return\")).mean().item()\n",
    "\n",
    "# Calculate hit rates (% of stocks with positive returns)\n",
    "top_hits = top.select(pl.col(\"risk_return\") > 0).sum().item()\n",
    "bottom_hits = bottom.select(pl.col(\"risk_return\") > 0).sum().item()\n",
    "\n",
    "top_hitrate = (top_hits / n) * 100\n",
    "bottom_hitrate = (bottom_hits / n) * 100\n",
    "\n",
    "\n",
    "print(f\"\\nDATE {DATE}\")\n",
    "print(f\"Average top return: {top_freturn:.2f}% ({top_hitrate:.1f})\")\n",
    "print(f\"Average bottom return: {bottom_freturn:.2f}% ({bottom_hitrate:.1f})\")"
   ]
  },
  {
   "cell_type": "code",
   "execution_count": 4,
   "metadata": {},
   "outputs": [
    {
     "data": {
      "text/plain": [
       "0.345"
      ]
     },
     "execution_count": 4,
     "metadata": {},
     "output_type": "execute_result"
    }
   ],
   "source": [
    "round(0.34539, 3)"
   ]
  }
 ],
 "metadata": {
  "kernelspec": {
   "display_name": ".venv",
   "language": "python",
   "name": "python3"
  },
  "language_info": {
   "codemirror_mode": {
    "name": "ipython",
    "version": 3
   },
   "file_extension": ".py",
   "mimetype": "text/x-python",
   "name": "python",
   "nbconvert_exporter": "python",
   "pygments_lexer": "ipython3",
   "version": "3.11.0"
  }
 },
 "nbformat": 4,
 "nbformat_minor": 2
}
