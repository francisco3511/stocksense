{
 "cells": [
  {
   "cell_type": "code",
   "execution_count": 3,
   "metadata": {},
   "outputs": [],
   "source": [
    "from pathlib import Path\n",
    "\n",
    "import polars as pl\n",
    "\n",
    "DATE = \"2023-12-01\"\n",
    "REPORT_DIR = Path(\"../reports/scores\")\n",
    "PORTFOLIO_DIR = Path(\"../reports/portfolios\")"
   ]
  },
  {
   "cell_type": "code",
   "execution_count": 9,
   "metadata": {},
   "outputs": [
    {
     "name": "stdout",
     "output_type": "stream",
     "text": [
      "\n",
      "Portfolio: ../reports/portfolios/portfolio_2023-06-01.xlsx\n",
      "Average return: 32.73% (80.0)\n",
      "\n",
      "Portfolio: ../reports/portfolios/portfolio_2023-03-01.xlsx\n",
      "Average return: 59.51% (100.0)\n",
      "\n",
      "Portfolio: ../reports/portfolios/portfolio_2023-12-01.xlsx\n",
      "Average return: 21.08% (80.0)\n"
     ]
    }
   ],
   "source": [
    "for portfolio in PORTFOLIO_DIR.glob(\"portfolio_*.xlsx\"):\n",
    "    df = pl.read_excel(portfolio, sheet_name=\"Full Portfolio\")\n",
    "    top = df.head(5)\n",
    "\n",
    "    if \"fwd_return_4Q\" not in df.columns:\n",
    "        continue\n",
    "\n",
    "    top_freturn = top.select(pl.col(\"fwd_return_4Q\")).mean().item()\n",
    "    top_hits = top.select(pl.col(\"fwd_return_4Q\") > 0).sum().item()\n",
    "\n",
    "    top_hitrate = (top_hits / len(top)) * 100\n",
    "\n",
    "    print(f\"\\nPortfolio: {portfolio}\")\n",
    "    print(f\"Average return: {top_freturn:.2f}% ({top_hitrate:.1f})\")"
   ]
  }
 ],
 "metadata": {
  "kernelspec": {
   "display_name": ".venv",
   "language": "python",
   "name": "python3"
  },
  "language_info": {
   "codemirror_mode": {
    "name": "ipython",
    "version": 3
   },
   "file_extension": ".py",
   "mimetype": "text/x-python",
   "name": "python",
   "nbconvert_exporter": "python",
   "pygments_lexer": "ipython3",
   "version": "3.11.0"
  }
 },
 "nbformat": 4,
 "nbformat_minor": 2
}
