{
 "cells": [
  {
   "cell_type": "code",
   "execution_count": 1,
   "metadata": {},
   "outputs": [],
   "source": [
    "import datetime as dt\n",
    "\n",
    "import plotly.express as px\n",
    "import polars as pl\n",
    "\n",
    "from stocksense.config import config\n",
    "from stocksense.database import DatabaseHandler\n",
    "from stocksense.model import XGBoostClassifier\n",
    "from stocksense.pipeline import clean, engineer_features\n",
    "\n",
    "features = config.model.features\n",
    "date_col = config.model.date_col\n",
    "aux_cols = [\"tic\", \"datadate\", \"rdq\"]\n",
    "target = \"excess_return_4Q_pos\""
   ]
  },
  {
   "cell_type": "code",
   "execution_count": 2,
   "metadata": {},
   "outputs": [
    {
     "name": "stderr",
     "output_type": "stream",
     "text": [
      "\u001b[32m2024-12-12 20:35:46.853\u001b[0m | \u001b[32m\u001b[1mSUCCESS \u001b[0m | \u001b[36mstocksense.database.schema\u001b[0m:\u001b[36mcreate_tables\u001b[0m:\u001b[36m121\u001b[0m - \u001b[32m\u001b[1mTables created successfully\u001b[0m\n"
     ]
    }
   ],
   "source": [
    "constituents = DatabaseHandler().fetch_constituents(dt.datetime(2022, 6, 1))"
   ]
  },
  {
   "cell_type": "code",
   "execution_count": 3,
   "metadata": {},
   "outputs": [
    {
     "name": "stderr",
     "output_type": "stream",
     "text": [
      "\u001b[32m2024-12-12 20:35:46.862\u001b[0m | \u001b[1mINFO    \u001b[0m | \u001b[36mstocksense.pipeline.preprocess\u001b[0m:\u001b[36mengineer_features\u001b[0m:\u001b[36m20\u001b[0m - \u001b[1mSTART processing stock data\u001b[0m\n",
      "\u001b[32m2024-12-12 20:35:46.864\u001b[0m | \u001b[32m\u001b[1mSUCCESS \u001b[0m | \u001b[36mstocksense.database.schema\u001b[0m:\u001b[36mcreate_tables\u001b[0m:\u001b[36m121\u001b[0m - \u001b[32m\u001b[1mTables created successfully\u001b[0m\n",
      "\u001b[32m2024-12-12 20:35:50.783\u001b[0m | \u001b[1mINFO    \u001b[0m | \u001b[36mstocksense.pipeline.preprocess\u001b[0m:\u001b[36mengineer_features\u001b[0m:\u001b[36m33\u001b[0m - \u001b[1mSTART feature engineering\u001b[0m\n",
      "\u001b[32m2024-12-12 20:36:05.135\u001b[0m | \u001b[32m\u001b[1mSUCCESS \u001b[0m | \u001b[36mstocksense.pipeline.preprocess\u001b[0m:\u001b[36mengineer_features\u001b[0m:\u001b[36m46\u001b[0m - \u001b[32m\u001b[1mEND 58960 rows PROCESSED\u001b[0m\n",
      "\u001b[32m2024-12-12 20:36:05.138\u001b[0m | \u001b[1mINFO    \u001b[0m | \u001b[36mstocksense.pipeline.preprocess\u001b[0m:\u001b[36mclean\u001b[0m:\u001b[36m68\u001b[0m - \u001b[1mSTART cleaning data\u001b[0m\n",
      "\u001b[32m2024-12-12 20:36:05.280\u001b[0m | \u001b[32m\u001b[1mSUCCESS \u001b[0m | \u001b[36mstocksense.pipeline.preprocess\u001b[0m:\u001b[36mclean\u001b[0m:\u001b[36m106\u001b[0m - \u001b[32m\u001b[1m37372 rows retained after CLEANING\u001b[0m\n"
     ]
    },
    {
     "data": {
      "text/html": [
       "<div><style>\n",
       ".dataframe > thead > tr,\n",
       ".dataframe > tbody > tr {\n",
       "  text-align: right;\n",
       "  white-space: pre-wrap;\n",
       "}\n",
       "</style>\n",
       "<small>shape: (5, 202)</small><table border=\"1\" class=\"dataframe\"><thead><tr><th>tdq</th><th>tic</th><th>datadate</th><th>rdq</th><th>saleq</th><th>cogsq</th><th>xsgaq</th><th>niq</th><th>ebitdaq</th><th>cshoq</th><th>actq</th><th>atq</th><th>cheq</th><th>rectq</th><th>invtq</th><th>ppentq</th><th>lctq</th><th>dlttq</th><th>ltq</th><th>req</th><th>seqq</th><th>oancfq</th><th>ivncfq</th><th>fincfq</th><th>dvq</th><th>capxq</th><th>icaptq</th><th>surprise_pct</th><th>stock_split</th><th>n_purch</th><th>val_purch</th><th>n_sales</th><th>val_sales</th><th>insider_balance</th><th>roa</th><th>roi</th><th>roe</th><th>&hellip;</th><th>f_score</th><th>f_score_gr1</th><th>f_score_gr4</th><th>forward_vol_yoy</th><th>forward_vol_sos</th><th>forward_vol_qoq</th><th>excess_return_1Q</th><th>sharpe_ratio_1Q</th><th>risk_return_1Q</th><th>fwd_return_1Q_pos</th><th>excess_return_1Q_pos</th><th>excess_return_2Q</th><th>sharpe_ratio_2Q</th><th>risk_return_2Q</th><th>fwd_return_2Q_pos</th><th>excess_return_2Q_pos</th><th>excess_return_3Q</th><th>sharpe_ratio_3Q</th><th>risk_return_3Q</th><th>fwd_return_3Q_pos</th><th>excess_return_3Q_pos</th><th>excess_return_4Q</th><th>sharpe_ratio_4Q</th><th>risk_return_4Q</th><th>fwd_return_4Q_pos</th><th>excess_return_4Q_pos</th><th>sector_communication_services</th><th>sector_consumer_discretionary</th><th>sector_consumer_staples</th><th>sector_energy</th><th>sector_financials</th><th>sector_health_care</th><th>sector_industrials</th><th>sector_information_technology</th><th>sector_materials</th><th>sector_real_estate</th><th>sector_utilities</th></tr><tr><td>date</td><td>str</td><td>date</td><td>date</td><td>f64</td><td>f64</td><td>f64</td><td>f64</td><td>f64</td><td>f64</td><td>f64</td><td>f64</td><td>f64</td><td>f64</td><td>f64</td><td>f64</td><td>f64</td><td>f64</td><td>f64</td><td>f64</td><td>f64</td><td>f64</td><td>f64</td><td>f64</td><td>f64</td><td>f64</td><td>f64</td><td>f64</td><td>i8</td><td>u32</td><td>f64</td><td>u32</td><td>f64</td><td>f64</td><td>f64</td><td>f64</td><td>f64</td><td>&hellip;</td><td>i8</td><td>i8</td><td>i8</td><td>f64</td><td>f64</td><td>f64</td><td>f64</td><td>f64</td><td>f64</td><td>i8</td><td>i8</td><td>f64</td><td>f64</td><td>f64</td><td>i8</td><td>i8</td><td>f64</td><td>f64</td><td>f64</td><td>i8</td><td>i8</td><td>f64</td><td>f64</td><td>f64</td><td>i8</td><td>i8</td><td>i8</td><td>i8</td><td>i8</td><td>i8</td><td>i8</td><td>i8</td><td>i8</td><td>i8</td><td>i8</td><td>i8</td><td>i8</td></tr></thead><tbody><tr><td>2007-03-01</td><td>&quot;A&quot;</td><td>2007-01-31</td><td>2007-02-15</td><td>1280.0</td><td>540.0</td><td>564.0</td><td>150.0</td><td>176.0</td><td>405.0</td><td>3749.0</td><td>7193.0</td><td>2090.0</td><td>671.0</td><td>648.0</td><td>775.0</td><td>1372.0</td><td>1500.0</td><td>3536.0</td><td>1705.0</td><td>3657.0</td><td>93.0</td><td>-93.0</td><td>-169.0</td><td>0.0</td><td>37.0</td><td>5157.0</td><td>0.011</td><td>0</td><td>0</td><td>0.0</td><td>1</td><td>8.598</td><td>8.598</td><td>0.089114</td><td>0.029087</td><td>0.17528</td><td>&hellip;</td><td>7</td><td>1</td><td>null</td><td>1.780824</td><td>1.749898</td><td>1.355307</td><td>8.952132</td><td>6.605244</td><td>10.89898</td><td>1</td><td>1</td><td>13.694795</td><td>10.104573</td><td>15.070857</td><td>1</td><td>1</td><td>8.583285</td><td>4.905021</td><td>9.151445</td><td>1</td><td>1</td><td>10.709357</td><td>6.013709</td><td>6.242292</td><td>1</td><td>1</td><td>0</td><td>0</td><td>0</td><td>0</td><td>0</td><td>1</td><td>0</td><td>0</td><td>0</td><td>0</td><td>0</td></tr><tr><td>2007-06-01</td><td>&quot;A&quot;</td><td>2007-04-30</td><td>2007-05-14</td><td>1320.0</td><td>540.0</td><td>586.0</td><td>123.0</td><td>194.0</td><td>395.958</td><td>3791.0</td><td>7283.0</td><td>2050.0</td><td>718.0</td><td>650.0</td><td>777.0</td><td>1554.0</td><td>1500.0</td><td>3728.0</td><td>1881.0</td><td>3555.0</td><td>302.0</td><td>-36.0</td><td>-320.0</td><td>0.0</td><td>42.0</td><td>5055.0</td><td>-0.023</td><td>0</td><td>0</td><td>0.0</td><td>3</td><td>2.695</td><td>2.695</td><td>0.089112</td><td>0.024332</td><td>0.18256</td><td>&hellip;</td><td>7</td><td>0</td><td>null</td><td>1.927423</td><td>1.918095</td><td>2.106162</td><td>1.404396</td><td>0.666804</td><td>-0.836463</td><td>0</td><td>1</td><td>-2.215787</td><td>-1.05205</td><td>-2.205524</td><td>0</td><td>0</td><td>-0.292617</td><td>-0.152556</td><td>-4.454244</td><td>0</td><td>0</td><td>-5.91296</td><td>-3.067807</td><td>-8.865139</td><td>0</td><td>0</td><td>0</td><td>0</td><td>0</td><td>0</td><td>0</td><td>1</td><td>0</td><td>0</td><td>0</td><td>0</td><td>0</td></tr><tr><td>2007-09-01</td><td>&quot;A&quot;</td><td>2007-07-31</td><td>2007-08-14</td><td>1374.0</td><td>563.0</td><td>580.0</td><td>185.0</td><td>231.0</td><td>386.548</td><td>3281.0</td><td>7024.0</td><td>1486.0</td><td>738.0</td><td>674.0</td><td>787.0</td><td>1510.0</td><td>1500.0</td><td>3736.0</td><td>2069.0</td><td>3288.0</td><td>176.0</td><td>-258.0</td><td>-484.0</td><td>0.0</td><td>36.0</td><td>4788.0</td><td>-0.01</td><td>0</td><td>0</td><td>0.0</td><td>2</td><td>5.747</td><td>5.747</td><td>0.086418</td><td>0.038638</td><td>0.184611</td><td>&hellip;</td><td>6</td><td>-1</td><td>null</td><td>1.772393</td><td>1.803532</td><td>1.789715</td><td>-1.703536</td><td>-0.951848</td><td>0.168495</td><td>1</td><td>0</td><td>-0.089423</td><td>-0.049965</td><td>-2.674412</td><td>0</td><td>0</td><td>-6.394643</td><td>-3.545622</td><td>-7.722925</td><td>0</td><td>0</td><td>10.925009</td><td>6.163987</td><td>-0.514147</td><td>0</td><td>1</td><td>0</td><td>0</td><td>0</td><td>0</td><td>0</td><td>1</td><td>0</td><td>0</td><td>0</td><td>0</td><td>0</td></tr><tr><td>2007-12-01</td><td>&quot;A&quot;</td><td>2007-10-31</td><td>2007-11-15</td><td>1446.0</td><td>611.0</td><td>598.0</td><td>180.0</td><td>237.0</td><td>370.0</td><td>3671.0</td><td>7554.0</td><td>1826.0</td><td>735.0</td><td>643.0</td><td>801.0</td><td>1663.0</td><td>2087.0</td><td>4320.0</td><td>2580.0</td><td>3234.0</td><td>398.0</td><td>-69.0</td><td>-7.0</td><td>0.0</td><td>39.0</td><td>5321.0</td><td>0.022</td><td>0</td><td>0</td><td>0.0</td><td>2</td><td>2.75</td><td>2.75</td><td>0.084459</td><td>0.033828</td><td>0.197279</td><td>&hellip;</td><td>5</td><td>-1</td><td>-1</td><td>3.004222</td><td>1.948736</td><td>1.848409</td><td>-3.735506</td><td>-2.02093</td><td>-6.186043</td><td>0</td><td>0</td><td>-8.003799</td><td>-4.330101</td><td>-8.594016</td><td>0</td><td>0</td><td>8.239344</td><td>4.228045</td><td>-2.316993</td><td>0</td><td>1</td><td>-2.055557</td><td>-0.684223</td><td>-10.49239</td><td>0</td><td>0</td><td>0</td><td>0</td><td>0</td><td>0</td><td>0</td><td>1</td><td>0</td><td>0</td><td>0</td><td>0</td><td>0</td></tr><tr><td>2008-03-01</td><td>&quot;A&quot;</td><td>2008-01-31</td><td>2008-02-13</td><td>1393.0</td><td>580.0</td><td>617.0</td><td>120.0</td><td>196.0</td><td>368.0</td><td>5070.0</td><td>7459.0</td><td>3148.0</td><td>726.0</td><td>674.0</td><td>801.0</td><td>2674.0</td><td>626.0</td><td>4286.0</td><td>2657.0</td><td>3173.0</td><td>4.0</td><td>-295.0</td><td>-168.0</td><td>0.0</td><td>34.0</td><td>3799.0</td><td>0.021</td><td>0</td><td>0</td><td>0.0</td><td>2</td><td>3.418</td><td>3.418</td><td>0.081512</td><td>0.031587</td><td>0.191617</td><td>&hellip;</td><td>6</td><td>1</td><td>-1</td><td>3.238751</td><td>1.741436</td><td>2.050642</td><td>1.053516</td><td>0.513749</td><td>2.536928</td><td>1</td><td>1</td><td>20.442391</td><td>9.968778</td><td>8.760186</td><td>1</td><td>1</td><td>6.726355</td><td>3.862535</td><td>-7.914079</td><td>0</td><td>1</td><td>-6.951969</td><td>-2.146497</td><td>-13.35568</td><td>0</td><td>0</td><td>0</td><td>0</td><td>0</td><td>0</td><td>0</td><td>1</td><td>0</td><td>0</td><td>0</td><td>0</td><td>0</td></tr></tbody></table></div>"
      ],
      "text/plain": [
       "shape: (5, 202)\n",
       "┌────────────┬─────┬────────────┬────────────┬───┬────────────┬────────────┬───────────┬───────────┐\n",
       "│ tdq        ┆ tic ┆ datadate   ┆ rdq        ┆ … ┆ sector_inf ┆ sector_mat ┆ sector_re ┆ sector_ut │\n",
       "│ ---        ┆ --- ┆ ---        ┆ ---        ┆   ┆ ormation_t ┆ erials     ┆ al_estate ┆ ilities   │\n",
       "│ date       ┆ str ┆ date       ┆ date       ┆   ┆ echnology  ┆ ---        ┆ ---       ┆ ---       │\n",
       "│            ┆     ┆            ┆            ┆   ┆ ---        ┆ i8         ┆ i8        ┆ i8        │\n",
       "│            ┆     ┆            ┆            ┆   ┆ i8         ┆            ┆           ┆           │\n",
       "╞════════════╪═════╪════════════╪════════════╪═══╪════════════╪════════════╪═══════════╪═══════════╡\n",
       "│ 2007-03-01 ┆ A   ┆ 2007-01-31 ┆ 2007-02-15 ┆ … ┆ 0          ┆ 0          ┆ 0         ┆ 0         │\n",
       "│ 2007-06-01 ┆ A   ┆ 2007-04-30 ┆ 2007-05-14 ┆ … ┆ 0          ┆ 0          ┆ 0         ┆ 0         │\n",
       "│ 2007-09-01 ┆ A   ┆ 2007-07-31 ┆ 2007-08-14 ┆ … ┆ 0          ┆ 0          ┆ 0         ┆ 0         │\n",
       "│ 2007-12-01 ┆ A   ┆ 2007-10-31 ┆ 2007-11-15 ┆ … ┆ 0          ┆ 0          ┆ 0         ┆ 0         │\n",
       "│ 2008-03-01 ┆ A   ┆ 2008-01-31 ┆ 2008-02-13 ┆ … ┆ 0          ┆ 0          ┆ 0         ┆ 0         │\n",
       "└────────────┴─────┴────────────┴────────────┴───┴────────────┴────────────┴───────────┴───────────┘"
      ]
     },
     "execution_count": 3,
     "metadata": {},
     "output_type": "execute_result"
    }
   ],
   "source": [
    "data = engineer_features()\n",
    "data = clean(data)\n",
    "data.head()"
   ]
  },
  {
   "cell_type": "code",
   "execution_count": 4,
   "metadata": {},
   "outputs": [
    {
     "data": {
      "application/vnd.plotly.v1+json": {
       "config": {
        "plotlyServerURL": "https://plot.ly"
       },
       "data": [
        {
         "alignmentgroup": "True",
         "hovertemplate": "Correlation=%{x}<br>Feature=%{y}<extra></extra>",
         "legendgroup": "",
         "marker": {
          "color": "#636efa",
          "pattern": {
           "shape": ""
          }
         },
         "name": "",
         "offsetgroup": "",
         "orientation": "h",
         "showlegend": false,
         "textposition": "auto",
         "type": "bar",
         "x": [
          -0.08255830566332538,
          -0.05130821771414729,
          -0.04326333433322637,
          -0.03048428772662638,
          -0.029397983236540266,
          -0.02787414474547251,
          -0.02457230648005489,
          -0.02359312515386402,
          -0.02293653410275248,
          -0.022653829822517985,
          -0.02120463542055269,
          -0.02059712713183884,
          -0.020576493754778987,
          -0.015641542133697693,
          -0.015374031524908486,
          -0.0145249590314581,
          -0.013841797158762593,
          -0.013787504579578466,
          -0.012757872138329771,
          -0.012348340752039952,
          -0.011385973121133262,
          -0.007676809133732536,
          -0.007614602190880648,
          -0.006808443635247076,
          -0.005591042231585947,
          -0.0053536788491498595,
          -0.0029767074545547084,
          -0.0020266242672616888,
          -0.0018336027233357935,
          -0.0013732080600335342,
          -0.0007669127629389692,
          -0.0007160731591175291,
          -0.00048567458208745475,
          0.000960553826083223,
          0.0011018211845184131,
          0.002310871907105126,
          0.0026941244579446228,
          0.005019001025434095,
          0.005111885278353597,
          0.0054686467422264155,
          0.0054856348239675735,
          0.005576254315180259,
          0.006347222625963104,
          0.006356251847621435,
          0.006978785135295464,
          0.007192880819148645,
          0.007898388766246843,
          0.007926608694161194,
          0.007938890520523656,
          0.008586179553506029,
          0.008992213638514313,
          0.009402777972024552,
          0.009577044669570624,
          0.010448924740747913,
          0.011289825095921123,
          0.01226234567333096,
          0.012629197776718847,
          0.01290747322863255,
          0.014034103294005586,
          0.015087588141314464,
          0.016316200078375944,
          0.016607827305219803,
          0.017393713020712673,
          0.018012385704274807,
          0.01864865745992096,
          0.019262613866338586,
          0.0193810170316858,
          0.019697730405125912,
          0.020133049327264844,
          0.02208518361904285,
          0.023948340395948727,
          0.02425134732204189,
          0.02722808317384567,
          0.02736226333797519,
          0.027753124873606937,
          0.029888338226203095,
          0.03079095591327816,
          0.030982669905782897,
          0.0317834190172386,
          0.03205020452603465,
          0.03219492680606898,
          0.032522656035157936,
          0.034706296199776956,
          0.0362705546860899,
          0.03855439805075699,
          0.041440989398283105,
          0.07576506824162642
         ],
         "xaxis": "x",
         "y": [
          "size",
          "sector_energy",
          "low_fear",
          "roa_yoy",
          "gpm_yoy",
          "roa_2y",
          "roi_2y",
          "sector_consumer_discretionary",
          "sector_consumer_staples",
          "niq_2y",
          "roe_yoy",
          "gpm_2y",
          "saleq_2y",
          "atr_yoy",
          "roi_yoy",
          "price_2y",
          "niq_yoy",
          "pe_2y",
          "saleq_yoy",
          "sector_materials",
          "index_2y",
          "rel_vol_yoy",
          "sector_utilities",
          "insider_balance",
          "sector_financials",
          "volume_ma20",
          "pb",
          "sector_real_estate",
          "ev_ebitda",
          "n_purch",
          "ps",
          "index_mom",
          "rel_vol_mom",
          "vol_2y",
          "f_score",
          "rel_vol_qoq",
          "index_qoq",
          "pe",
          "pe_yoy",
          "ev_ebitda_yoy",
          "ebitdam",
          "sector_communication_services",
          "price_risk_2y",
          "gpm",
          "n_sales",
          "roe",
          "index_sos",
          "ltq_2y",
          "roa",
          "price_mom",
          "size_yoy",
          "volume_ma50",
          "vol_yoy",
          "pb_yoy",
          "price_qoq",
          "ltcr_yoy",
          "index_yoy",
          "price_yoy",
          "fcf_yoy",
          "ps_yoy",
          "high_fear",
          "vol_mom",
          "ltq_yoy",
          "earn_drift",
          "dlttq_yoy",
          "vol_sos",
          "der_yoy",
          "ltda_yoy",
          "dr_yoy",
          "vol_qoq",
          "momentum_qoq",
          "momentum_mom",
          "sector_health_care",
          "price_risk_qoq",
          "price_risk_sos",
          "momentum_2y",
          "rsi_14d",
          "sector_industrials",
          "rsi_30d",
          "rsi_60d",
          "dr_2y",
          "rsi_90d",
          "price_risk_yoy",
          "rsi_1y",
          "sector_information_technology",
          "fear_ma30",
          "momentum_yoy"
         ],
         "yaxis": "y"
        }
       ],
       "layout": {
        "barmode": "relative",
        "height": 1200,
        "legend": {
         "tracegroupgap": 0
        },
        "margin": {
         "l": 200
        },
        "shapes": [
         {
          "line": {
           "color": "gray",
           "dash": "dash"
          },
          "type": "line",
          "x0": 0,
          "x1": 0,
          "xref": "x",
          "y0": 0,
          "y1": 1,
          "yref": "y domain"
         }
        ],
        "showlegend": false,
        "template": {
         "data": {
          "bar": [
           {
            "error_x": {
             "color": "#2a3f5f"
            },
            "error_y": {
             "color": "#2a3f5f"
            },
            "marker": {
             "line": {
              "color": "#E5ECF6",
              "width": 0.5
             },
             "pattern": {
              "fillmode": "overlay",
              "size": 10,
              "solidity": 0.2
             }
            },
            "type": "bar"
           }
          ],
          "barpolar": [
           {
            "marker": {
             "line": {
              "color": "#E5ECF6",
              "width": 0.5
             },
             "pattern": {
              "fillmode": "overlay",
              "size": 10,
              "solidity": 0.2
             }
            },
            "type": "barpolar"
           }
          ],
          "carpet": [
           {
            "aaxis": {
             "endlinecolor": "#2a3f5f",
             "gridcolor": "white",
             "linecolor": "white",
             "minorgridcolor": "white",
             "startlinecolor": "#2a3f5f"
            },
            "baxis": {
             "endlinecolor": "#2a3f5f",
             "gridcolor": "white",
             "linecolor": "white",
             "minorgridcolor": "white",
             "startlinecolor": "#2a3f5f"
            },
            "type": "carpet"
           }
          ],
          "choropleth": [
           {
            "colorbar": {
             "outlinewidth": 0,
             "ticks": ""
            },
            "type": "choropleth"
           }
          ],
          "contour": [
           {
            "colorbar": {
             "outlinewidth": 0,
             "ticks": ""
            },
            "colorscale": [
             [
              0,
              "#0d0887"
             ],
             [
              0.1111111111111111,
              "#46039f"
             ],
             [
              0.2222222222222222,
              "#7201a8"
             ],
             [
              0.3333333333333333,
              "#9c179e"
             ],
             [
              0.4444444444444444,
              "#bd3786"
             ],
             [
              0.5555555555555556,
              "#d8576b"
             ],
             [
              0.6666666666666666,
              "#ed7953"
             ],
             [
              0.7777777777777778,
              "#fb9f3a"
             ],
             [
              0.8888888888888888,
              "#fdca26"
             ],
             [
              1,
              "#f0f921"
             ]
            ],
            "type": "contour"
           }
          ],
          "contourcarpet": [
           {
            "colorbar": {
             "outlinewidth": 0,
             "ticks": ""
            },
            "type": "contourcarpet"
           }
          ],
          "heatmap": [
           {
            "colorbar": {
             "outlinewidth": 0,
             "ticks": ""
            },
            "colorscale": [
             [
              0,
              "#0d0887"
             ],
             [
              0.1111111111111111,
              "#46039f"
             ],
             [
              0.2222222222222222,
              "#7201a8"
             ],
             [
              0.3333333333333333,
              "#9c179e"
             ],
             [
              0.4444444444444444,
              "#bd3786"
             ],
             [
              0.5555555555555556,
              "#d8576b"
             ],
             [
              0.6666666666666666,
              "#ed7953"
             ],
             [
              0.7777777777777778,
              "#fb9f3a"
             ],
             [
              0.8888888888888888,
              "#fdca26"
             ],
             [
              1,
              "#f0f921"
             ]
            ],
            "type": "heatmap"
           }
          ],
          "heatmapgl": [
           {
            "colorbar": {
             "outlinewidth": 0,
             "ticks": ""
            },
            "colorscale": [
             [
              0,
              "#0d0887"
             ],
             [
              0.1111111111111111,
              "#46039f"
             ],
             [
              0.2222222222222222,
              "#7201a8"
             ],
             [
              0.3333333333333333,
              "#9c179e"
             ],
             [
              0.4444444444444444,
              "#bd3786"
             ],
             [
              0.5555555555555556,
              "#d8576b"
             ],
             [
              0.6666666666666666,
              "#ed7953"
             ],
             [
              0.7777777777777778,
              "#fb9f3a"
             ],
             [
              0.8888888888888888,
              "#fdca26"
             ],
             [
              1,
              "#f0f921"
             ]
            ],
            "type": "heatmapgl"
           }
          ],
          "histogram": [
           {
            "marker": {
             "pattern": {
              "fillmode": "overlay",
              "size": 10,
              "solidity": 0.2
             }
            },
            "type": "histogram"
           }
          ],
          "histogram2d": [
           {
            "colorbar": {
             "outlinewidth": 0,
             "ticks": ""
            },
            "colorscale": [
             [
              0,
              "#0d0887"
             ],
             [
              0.1111111111111111,
              "#46039f"
             ],
             [
              0.2222222222222222,
              "#7201a8"
             ],
             [
              0.3333333333333333,
              "#9c179e"
             ],
             [
              0.4444444444444444,
              "#bd3786"
             ],
             [
              0.5555555555555556,
              "#d8576b"
             ],
             [
              0.6666666666666666,
              "#ed7953"
             ],
             [
              0.7777777777777778,
              "#fb9f3a"
             ],
             [
              0.8888888888888888,
              "#fdca26"
             ],
             [
              1,
              "#f0f921"
             ]
            ],
            "type": "histogram2d"
           }
          ],
          "histogram2dcontour": [
           {
            "colorbar": {
             "outlinewidth": 0,
             "ticks": ""
            },
            "colorscale": [
             [
              0,
              "#0d0887"
             ],
             [
              0.1111111111111111,
              "#46039f"
             ],
             [
              0.2222222222222222,
              "#7201a8"
             ],
             [
              0.3333333333333333,
              "#9c179e"
             ],
             [
              0.4444444444444444,
              "#bd3786"
             ],
             [
              0.5555555555555556,
              "#d8576b"
             ],
             [
              0.6666666666666666,
              "#ed7953"
             ],
             [
              0.7777777777777778,
              "#fb9f3a"
             ],
             [
              0.8888888888888888,
              "#fdca26"
             ],
             [
              1,
              "#f0f921"
             ]
            ],
            "type": "histogram2dcontour"
           }
          ],
          "mesh3d": [
           {
            "colorbar": {
             "outlinewidth": 0,
             "ticks": ""
            },
            "type": "mesh3d"
           }
          ],
          "parcoords": [
           {
            "line": {
             "colorbar": {
              "outlinewidth": 0,
              "ticks": ""
             }
            },
            "type": "parcoords"
           }
          ],
          "pie": [
           {
            "automargin": true,
            "type": "pie"
           }
          ],
          "scatter": [
           {
            "fillpattern": {
             "fillmode": "overlay",
             "size": 10,
             "solidity": 0.2
            },
            "type": "scatter"
           }
          ],
          "scatter3d": [
           {
            "line": {
             "colorbar": {
              "outlinewidth": 0,
              "ticks": ""
             }
            },
            "marker": {
             "colorbar": {
              "outlinewidth": 0,
              "ticks": ""
             }
            },
            "type": "scatter3d"
           }
          ],
          "scattercarpet": [
           {
            "marker": {
             "colorbar": {
              "outlinewidth": 0,
              "ticks": ""
             }
            },
            "type": "scattercarpet"
           }
          ],
          "scattergeo": [
           {
            "marker": {
             "colorbar": {
              "outlinewidth": 0,
              "ticks": ""
             }
            },
            "type": "scattergeo"
           }
          ],
          "scattergl": [
           {
            "marker": {
             "colorbar": {
              "outlinewidth": 0,
              "ticks": ""
             }
            },
            "type": "scattergl"
           }
          ],
          "scattermapbox": [
           {
            "marker": {
             "colorbar": {
              "outlinewidth": 0,
              "ticks": ""
             }
            },
            "type": "scattermapbox"
           }
          ],
          "scatterpolar": [
           {
            "marker": {
             "colorbar": {
              "outlinewidth": 0,
              "ticks": ""
             }
            },
            "type": "scatterpolar"
           }
          ],
          "scatterpolargl": [
           {
            "marker": {
             "colorbar": {
              "outlinewidth": 0,
              "ticks": ""
             }
            },
            "type": "scatterpolargl"
           }
          ],
          "scatterternary": [
           {
            "marker": {
             "colorbar": {
              "outlinewidth": 0,
              "ticks": ""
             }
            },
            "type": "scatterternary"
           }
          ],
          "surface": [
           {
            "colorbar": {
             "outlinewidth": 0,
             "ticks": ""
            },
            "colorscale": [
             [
              0,
              "#0d0887"
             ],
             [
              0.1111111111111111,
              "#46039f"
             ],
             [
              0.2222222222222222,
              "#7201a8"
             ],
             [
              0.3333333333333333,
              "#9c179e"
             ],
             [
              0.4444444444444444,
              "#bd3786"
             ],
             [
              0.5555555555555556,
              "#d8576b"
             ],
             [
              0.6666666666666666,
              "#ed7953"
             ],
             [
              0.7777777777777778,
              "#fb9f3a"
             ],
             [
              0.8888888888888888,
              "#fdca26"
             ],
             [
              1,
              "#f0f921"
             ]
            ],
            "type": "surface"
           }
          ],
          "table": [
           {
            "cells": {
             "fill": {
              "color": "#EBF0F8"
             },
             "line": {
              "color": "white"
             }
            },
            "header": {
             "fill": {
              "color": "#C8D4E3"
             },
             "line": {
              "color": "white"
             }
            },
            "type": "table"
           }
          ]
         },
         "layout": {
          "annotationdefaults": {
           "arrowcolor": "#2a3f5f",
           "arrowhead": 0,
           "arrowwidth": 1
          },
          "autotypenumbers": "strict",
          "coloraxis": {
           "colorbar": {
            "outlinewidth": 0,
            "ticks": ""
           }
          },
          "colorscale": {
           "diverging": [
            [
             0,
             "#8e0152"
            ],
            [
             0.1,
             "#c51b7d"
            ],
            [
             0.2,
             "#de77ae"
            ],
            [
             0.3,
             "#f1b6da"
            ],
            [
             0.4,
             "#fde0ef"
            ],
            [
             0.5,
             "#f7f7f7"
            ],
            [
             0.6,
             "#e6f5d0"
            ],
            [
             0.7,
             "#b8e186"
            ],
            [
             0.8,
             "#7fbc41"
            ],
            [
             0.9,
             "#4d9221"
            ],
            [
             1,
             "#276419"
            ]
           ],
           "sequential": [
            [
             0,
             "#0d0887"
            ],
            [
             0.1111111111111111,
             "#46039f"
            ],
            [
             0.2222222222222222,
             "#7201a8"
            ],
            [
             0.3333333333333333,
             "#9c179e"
            ],
            [
             0.4444444444444444,
             "#bd3786"
            ],
            [
             0.5555555555555556,
             "#d8576b"
            ],
            [
             0.6666666666666666,
             "#ed7953"
            ],
            [
             0.7777777777777778,
             "#fb9f3a"
            ],
            [
             0.8888888888888888,
             "#fdca26"
            ],
            [
             1,
             "#f0f921"
            ]
           ],
           "sequentialminus": [
            [
             0,
             "#0d0887"
            ],
            [
             0.1111111111111111,
             "#46039f"
            ],
            [
             0.2222222222222222,
             "#7201a8"
            ],
            [
             0.3333333333333333,
             "#9c179e"
            ],
            [
             0.4444444444444444,
             "#bd3786"
            ],
            [
             0.5555555555555556,
             "#d8576b"
            ],
            [
             0.6666666666666666,
             "#ed7953"
            ],
            [
             0.7777777777777778,
             "#fb9f3a"
            ],
            [
             0.8888888888888888,
             "#fdca26"
            ],
            [
             1,
             "#f0f921"
            ]
           ]
          },
          "colorway": [
           "#636efa",
           "#EF553B",
           "#00cc96",
           "#ab63fa",
           "#FFA15A",
           "#19d3f3",
           "#FF6692",
           "#B6E880",
           "#FF97FF",
           "#FECB52"
          ],
          "font": {
           "color": "#2a3f5f"
          },
          "geo": {
           "bgcolor": "white",
           "lakecolor": "white",
           "landcolor": "#E5ECF6",
           "showlakes": true,
           "showland": true,
           "subunitcolor": "white"
          },
          "hoverlabel": {
           "align": "left"
          },
          "hovermode": "closest",
          "mapbox": {
           "style": "light"
          },
          "paper_bgcolor": "white",
          "plot_bgcolor": "#E5ECF6",
          "polar": {
           "angularaxis": {
            "gridcolor": "white",
            "linecolor": "white",
            "ticks": ""
           },
           "bgcolor": "#E5ECF6",
           "radialaxis": {
            "gridcolor": "white",
            "linecolor": "white",
            "ticks": ""
           }
          },
          "scene": {
           "xaxis": {
            "backgroundcolor": "#E5ECF6",
            "gridcolor": "white",
            "gridwidth": 2,
            "linecolor": "white",
            "showbackground": true,
            "ticks": "",
            "zerolinecolor": "white"
           },
           "yaxis": {
            "backgroundcolor": "#E5ECF6",
            "gridcolor": "white",
            "gridwidth": 2,
            "linecolor": "white",
            "showbackground": true,
            "ticks": "",
            "zerolinecolor": "white"
           },
           "zaxis": {
            "backgroundcolor": "#E5ECF6",
            "gridcolor": "white",
            "gridwidth": 2,
            "linecolor": "white",
            "showbackground": true,
            "ticks": "",
            "zerolinecolor": "white"
           }
          },
          "shapedefaults": {
           "line": {
            "color": "#2a3f5f"
           }
          },
          "ternary": {
           "aaxis": {
            "gridcolor": "white",
            "linecolor": "white",
            "ticks": ""
           },
           "baxis": {
            "gridcolor": "white",
            "linecolor": "white",
            "ticks": ""
           },
           "bgcolor": "#E5ECF6",
           "caxis": {
            "gridcolor": "white",
            "linecolor": "white",
            "ticks": ""
           }
          },
          "title": {
           "x": 0.05
          },
          "xaxis": {
           "automargin": true,
           "gridcolor": "white",
           "linecolor": "white",
           "ticks": "",
           "title": {
            "standoff": 15
           },
           "zerolinecolor": "white",
           "zerolinewidth": 2
          },
          "yaxis": {
           "automargin": true,
           "gridcolor": "white",
           "linecolor": "white",
           "ticks": "",
           "title": {
            "standoff": 15
           },
           "zerolinecolor": "white",
           "zerolinewidth": 2
          }
         }
        },
        "title": {
         "text": "Feature Correlations with Target (excess_return_4Q_pos)"
        },
        "width": 1000,
        "xaxis": {
         "anchor": "y",
         "domain": [
          0,
          1
         ],
         "title": {
          "text": "Correlation"
         }
        },
        "yaxis": {
         "anchor": "x",
         "domain": [
          0,
          1
         ],
         "tickfont": {
          "size": 10
         },
         "title": {
          "text": "Feature"
         }
        }
       }
      }
     },
     "metadata": {},
     "output_type": "display_data"
    }
   ],
   "source": [
    "df = data.to_pandas()\n",
    "df_standardized = (df[features] - df[features].mean()) / df[features].std()\n",
    "corr = df_standardized.corrwith(df[target])\n",
    "corr_df = pl.DataFrame({\"Feature\": corr.index, \"Correlation\": corr.values}).sort(\n",
    "    \"Correlation\", descending=False\n",
    ")\n",
    "\n",
    "fig = px.bar(\n",
    "    corr_df,\n",
    "    x=\"Correlation\",\n",
    "    y=\"Feature\",\n",
    "    orientation=\"h\",\n",
    "    title=f\"Feature Correlations with Target ({target})\",\n",
    "    width=1000,\n",
    "    height=1200,\n",
    ")\n",
    "fig.update_layout(yaxis={\"tickfont\": {\"size\": 10}}, showlegend=False, margin={\"l\": 200})\n",
    "fig.add_vline(x=0, line_dash=\"dash\", line_color=\"gray\")\n",
    "fig.show()"
   ]
  },
  {
   "cell_type": "code",
   "execution_count": 5,
   "metadata": {},
   "outputs": [
    {
     "name": "stdout",
     "output_type": "stream",
     "text": [
      "PR AUC: 0.40451412813410054\n",
      "ROC AUC: 0.5182640890573731\n"
     ]
    }
   ],
   "source": [
    "data = data.select([\"tic\", date_col] + features + [\"fwd_return_4Q\", target])\n",
    "data = data.filter((~pl.all_horizontal(pl.col(target).is_null())))\n",
    "train = data.filter((pl.col(\"tdq\").dt.year() >= 2007) & (pl.col(\"tdq\").dt.year() < 2021))\n",
    "val = data.filter(\n",
    "    (pl.col(\"tdq\").dt.year() >= 2022)\n",
    "    & (pl.col(\"tdq\").dt.year() <= 2023)\n",
    "    & pl.col(\"tic\").is_in(constituents)\n",
    ")\n",
    "\n",
    "X_train = train.select(features).to_pandas()\n",
    "y_train = train.select(target).to_pandas().values.ravel()\n",
    "X_val = val.select(features).to_pandas()\n",
    "y_val = val.select(target).to_pandas().values.ravel()\n",
    "\n",
    "params = {\n",
    "    \"learning_rate\": 0.01,\n",
    "    \"n_estimators\": 100,\n",
    "    \"max_depth\": 7,\n",
    "    \"min_child_weight\": 3.21,\n",
    "    \"gamma\": 0.45,\n",
    "    \"subsample\": 0.50,\n",
    "    \"colsample_bytree\": 0.53,\n",
    "    \"reg_alpha\": 1.83,\n",
    "    \"reg_lambda\": 1.2,\n",
    "    \"nthread\": -1,\n",
    "    \"seed\": 100,\n",
    "}\n",
    "\n",
    "model = XGBoostClassifier(params)\n",
    "model.train(X_train, y_train)\n",
    "\n",
    "print(f\"PR AUC: {model.get_pr_auc(X_val, y_val)}\")\n",
    "print(f\"ROC AUC: {model.get_roc_auc(X_val, y_val)}\")"
   ]
  },
  {
   "cell_type": "code",
   "execution_count": 6,
   "metadata": {},
   "outputs": [
    {
     "data": {
      "text/html": [
       "<div><style>\n",
       ".dataframe > thead > tr,\n",
       ".dataframe > tbody > tr {\n",
       "  text-align: right;\n",
       "  white-space: pre-wrap;\n",
       "}\n",
       "</style>\n",
       "<small>shape: (3_655, 91)</small><table border=\"1\" class=\"dataframe\"><thead><tr><th>tic</th><th>tdq</th><th>n_purch</th><th>n_sales</th><th>insider_balance</th><th>volume_ma20</th><th>volume_ma50</th><th>price_mom</th><th>price_qoq</th><th>price_yoy</th><th>price_2y</th><th>price_risk_qoq</th><th>price_risk_sos</th><th>price_risk_yoy</th><th>price_risk_2y</th><th>rsi_14d</th><th>rsi_30d</th><th>rsi_60d</th><th>rsi_90d</th><th>rsi_1y</th><th>vol_mom</th><th>vol_qoq</th><th>vol_sos</th><th>vol_yoy</th><th>vol_2y</th><th>rel_vol_mom</th><th>rel_vol_qoq</th><th>rel_vol_yoy</th><th>momentum_mom</th><th>momentum_qoq</th><th>momentum_yoy</th><th>momentum_2y</th><th>index_mom</th><th>index_qoq</th><th>index_sos</th><th>index_yoy</th><th>index_2y</th><th>&hellip;</th><th>niq_2y</th><th>ltq_yoy</th><th>ltq_2y</th><th>dlttq_yoy</th><th>gpm_yoy</th><th>gpm_2y</th><th>roa_yoy</th><th>roa_2y</th><th>roi_yoy</th><th>roi_2y</th><th>roe_yoy</th><th>fcf_yoy</th><th>der_yoy</th><th>dr_yoy</th><th>dr_2y</th><th>ltda_yoy</th><th>ev_ebitda_yoy</th><th>ltcr_yoy</th><th>pe_yoy</th><th>pe_2y</th><th>pb_yoy</th><th>ps_yoy</th><th>atr_yoy</th><th>size_yoy</th><th>sector_utilities</th><th>sector_health_care</th><th>sector_financials</th><th>sector_consumer_discretionary</th><th>sector_consumer_staples</th><th>sector_energy</th><th>sector_industrials</th><th>sector_information_technology</th><th>sector_communication_services</th><th>sector_materials</th><th>sector_real_estate</th><th>fwd_return_4Q</th><th>excess_return_4Q_pos</th></tr><tr><td>str</td><td>date</td><td>u32</td><td>u32</td><td>f64</td><td>f64</td><td>f64</td><td>f64</td><td>f64</td><td>f64</td><td>f64</td><td>f64</td><td>f64</td><td>f64</td><td>f64</td><td>f64</td><td>f64</td><td>f64</td><td>f64</td><td>f64</td><td>f64</td><td>f64</td><td>f64</td><td>f64</td><td>f64</td><td>f64</td><td>f64</td><td>f64</td><td>f64</td><td>f64</td><td>f64</td><td>f64</td><td>f64</td><td>f64</td><td>f64</td><td>f64</td><td>f64</td><td>&hellip;</td><td>f64</td><td>f64</td><td>f64</td><td>f64</td><td>f64</td><td>f64</td><td>f64</td><td>f64</td><td>f64</td><td>f64</td><td>f64</td><td>f64</td><td>f64</td><td>f64</td><td>f64</td><td>f64</td><td>f64</td><td>f64</td><td>f64</td><td>f64</td><td>f64</td><td>f64</td><td>f64</td><td>f64</td><td>i8</td><td>i8</td><td>i8</td><td>i8</td><td>i8</td><td>i8</td><td>i8</td><td>i8</td><td>i8</td><td>i8</td><td>i8</td><td>f64</td><td>i8</td></tr></thead><tbody><tr><td>&quot;A&quot;</td><td>2022-03-01</td><td>0</td><td>5</td><td>19.293</td><td>133.226941</td><td>117.561988</td><td>-3.74289</td><td>-10.984423</td><td>6.704944</td><td>60.949116</td><td>-150.0</td><td>-150.0</td><td>200.0</td><td>300.0</td><td>43.158399</td><td>42.053527</td><td>43.715374</td><td>45.665021</td><td>51.522485</td><td>2.161613</td><td>1.857107</td><td>1.641768</td><td>1.424811</td><td>1.894748</td><td>50.0</td><td>150.0</td><td>160.441865</td><td>50.0</td><td>50.0</td><td>50.0</td><td>50.0</td><td>-2.833813</td><td>-4.58184</td><td>-4.913681</td><td>11.264523</td><td>39.350786</td><td>&hellip;</td><td>43.654822</td><td>6.221766</td><td>11.175586</td><td>24.942792</td><td>0.418303</td><td>2.029907</td><td>39.358651</td><td>45.107156</td><td>-12.893125</td><td>20.895223</td><td>38.663007</td><td>7.142857</td><td>-0.991586</td><td>-0.494881</td><td>2.283261</td><td>17.042371</td><td>-23.129185</td><td>-14.246468</td><td>-30.140404</td><td>5.066142</td><td>-3.130584</td><td>-10.827631</td><td>-0.76069</td><td>0.711764</td><td>0</td><td>1</td><td>0</td><td>0</td><td>0</td><td>0</td><td>0</td><td>0</td><td>0</td><td>0</td><td>0</td><td>15.553968</td><td>1</td></tr><tr><td>&quot;A&quot;</td><td>2022-06-01</td><td>0</td><td>1</td><td>0.165</td><td>116.531326</td><td>115.558614</td><td>2.943879</td><td>-8.066325</td><td>-9.870404</td><td>36.327384</td><td>-150.0</td><td>-150.0</td><td>-200.0</td><td>300.0</td><td>49.272664</td><td>47.577979</td><td>46.541324</td><td>46.77372</td><td>50.376317</td><td>3.014695</td><td>2.469218</td><td>2.175493</td><td>1.758636</td><td>1.591078</td><td>50.0</td><td>147.055598</td><td>153.737685</td><td>-50.0</td><td>50.0</td><td>50.0</td><td>50.0</td><td>-1.303128</td><td>-5.25865</td><td>-10.198599</td><td>-2.540092</td><td>33.121373</td><td>&hellip;</td><td>171.287129</td><td>-4.56335</td><td>13.782803</td><td>0.110011</td><td>0.008074</td><td>0.958421</td><td>35.79613</td><td>67.232292</td><td>21.762787</td><td>126.509135</td><td>28.22335</td><td>-40.042373</td><td>-10.37675</td><td>-5.083665</td><td>2.899704</td><td>-0.435782</td><td>-28.314049</td><td>-40.10826</td><td>-35.577858</td><td>-28.576028</td><td>-17.395771</td><td>-21.606108</td><td>1.776929</td><td>0.059105</td><td>0</td><td>1</td><td>0</td><td>0</td><td>0</td><td>0</td><td>0</td><td>0</td><td>0</td><td>0</td><td>0</td><td>9.318676</td><td>1</td></tr><tr><td>&quot;A&quot;</td><td>2022-09-01</td><td>0</td><td>2</td><td>0.868</td><td>79.928753</td><td>82.561189</td><td>-4.184011</td><td>1.018566</td><td>-26.514679</td><td>27.501967</td><td>46.302237</td><td>-150.0</td><td>-200.0</td><td>300.0</td><td>46.529941</td><td>50.295003</td><td>49.851588</td><td>49.37193</td><td>50.749185</td><td>2.316539</td><td>2.19982</td><td>2.343169</td><td>2.031332</td><td>1.71518</td><td>50.0</td><td>148.682818</td><td>153.04007</td><td>50.0</td><td>-27.157106</td><td>50.0</td><td>50.0</td><td>-4.532181</td><td>-3.750642</td><td>-9.089974</td><td>-12.317168</td><td>12.482106</td><td>&hellip;</td><td>65.326633</td><td>-2.741208</td><td>18.138007</td><td>0.146628</td><td>1.743347</td><td>3.022338</td><td>34.230978</td><td>74.990489</td><td>22.24579</td><td>53.513405</td><td>30.320847</td><td>-2.39521</td><td>-5.511298</td><td>-2.67627</td><td>7.568238</td><td>0.213494</td><td>-37.978017</td><td>-2.538116</td><td>-46.471204</td><td>-36.421035</td><td>-30.24082</td><td>-33.770549</td><td>8.064162</td><td>-0.007209</td><td>0</td><td>1</td><td>0</td><td>0</td><td>0</td><td>0</td><td>0</td><td>0</td><td>0</td><td>0</td><td>0</td><td>-5.57725</td><td>0</td></tr><tr><td>&quot;A&quot;</td><td>2022-12-01</td><td>0</td><td>14</td><td>29.504</td><td>84.294291</td><td>79.954035</td><td>10.809849</td><td>20.742453</td><td>5.337014</td><td>35.332866</td><td>150.0</td><td>150.0</td><td>200.0</td><td>300.0</td><td>64.82618</td><td>61.518024</td><td>57.445711</td><td>55.2601</td><td>52.630406</td><td>2.743982</td><td>2.300815</td><td>2.214761</td><td>2.21394</td><td>1.804737</td><td>50.0</td><td>134.867777</td><td>145.846538</td><td>50.0</td><td>50.0</td><td>-50.0</td><td>50.0</td><td>5.717434</td><td>4.308392</td><td>-2.400146</td><td>-9.671307</td><td>11.307188</td><td>&hellip;</td><td>65.765766</td><td>-1.674191</td><td>9.949516</td><td>0.146574</td><td>0.950664</td><td>3.005054</td><td>5.338708</td><td>59.422189</td><td>-15.912726</td><td>47.596638</td><td>5.277354</td><td>1.587302</td><td>-0.117289</td><td>-0.059079</td><td>0.501708</td><td>1.791594</td><td>-10.702488</td><td>1.438619</td><td>-0.676569</td><td>-25.389269</td><td>4.565081</td><td>-5.016431</td><td>12.339549</td><td>-0.175597</td><td>0</td><td>1</td><td>0</td><td>0</td><td>0</td><td>0</td><td>0</td><td>0</td><td>0</td><td>0</td><td>0</td><td>-26.851359</td><td>0</td></tr><tr><td>&quot;A&quot;</td><td>2023-03-01</td><td>0</td><td>5</td><td>9.322</td><td>85.991285</td><td>81.411412</td><td>-9.37789</td><td>-11.272423</td><td>5.484807</td><td>10.467538</td><td>-150.0</td><td>150.0</td><td>200.0</td><td>300.0</td><td>27.642313</td><td>39.893702</td><td>46.853905</td><td>48.655084</td><td>50.816258</td><td>1.430282</td><td>1.57085</td><td>1.948803</td><td>2.161252</td><td>1.828145</td><td>50.0</td><td>148.188834</td><td>145.011024</td><td>50.0</td><td>50.0</td><td>-50.0</td><td>50.0</td><td>-1.652163</td><td>-3.154822</td><td>-1.965465</td><td>-9.660628</td><td>1.270428</td><td>&hellip;</td><td>22.222222</td><td>2.648367</td><td>9.034908</td><td>0.10989</td><td>1.406293</td><td>1.830478</td><td>3.839863</td><td>44.709833</td><td>17.55397</td><td>2.397589</td><td>0.886202</td><td>16.078431</td><td>-5.678431</td><td>-2.916963</td><td>-3.397409</td><td>-5.31781</td><td>-10.779239</td><td>15.951013</td><td>-6.946706</td><td>-34.993345</td><td>-6.122066</td><td>-4.984549</td><td>2.849477</td><td>0.60311</td><td>0</td><td>1</td><td>0</td><td>0</td><td>0</td><td>0</td><td>0</td><td>0</td><td>0</td><td>0</td><td>0</td><td>-3.250208</td><td>0</td></tr><tr><td>&hellip;</td><td>&hellip;</td><td>&hellip;</td><td>&hellip;</td><td>&hellip;</td><td>&hellip;</td><td>&hellip;</td><td>&hellip;</td><td>&hellip;</td><td>&hellip;</td><td>&hellip;</td><td>&hellip;</td><td>&hellip;</td><td>&hellip;</td><td>&hellip;</td><td>&hellip;</td><td>&hellip;</td><td>&hellip;</td><td>&hellip;</td><td>&hellip;</td><td>&hellip;</td><td>&hellip;</td><td>&hellip;</td><td>&hellip;</td><td>&hellip;</td><td>&hellip;</td><td>&hellip;</td><td>&hellip;</td><td>&hellip;</td><td>&hellip;</td><td>&hellip;</td><td>&hellip;</td><td>&hellip;</td><td>&hellip;</td><td>&hellip;</td><td>&hellip;</td><td>&hellip;</td><td>&hellip;</td><td>&hellip;</td><td>&hellip;</td><td>&hellip;</td><td>&hellip;</td><td>&hellip;</td><td>&hellip;</td><td>&hellip;</td><td>&hellip;</td><td>&hellip;</td><td>&hellip;</td><td>&hellip;</td><td>&hellip;</td><td>&hellip;</td><td>&hellip;</td><td>&hellip;</td><td>&hellip;</td><td>&hellip;</td><td>&hellip;</td><td>&hellip;</td><td>&hellip;</td><td>&hellip;</td><td>&hellip;</td><td>&hellip;</td><td>&hellip;</td><td>&hellip;</td><td>&hellip;</td><td>&hellip;</td><td>&hellip;</td><td>&hellip;</td><td>&hellip;</td><td>&hellip;</td><td>&hellip;</td><td>&hellip;</td><td>&hellip;</td><td>&hellip;</td><td>&hellip;</td><td>&hellip;</td></tr><tr><td>&quot;ZTS&quot;</td><td>2022-12-01</td><td>0</td><td>0</td><td>0.0</td><td>139.909142</td><td>110.406077</td><td>2.566788</td><td>-0.127517</td><td>-28.689795</td><td>-2.925137</td><td>-4.954486</td><td>-150.0</td><td>-200.0</td><td>-174.274658</td><td>61.163976</td><td>53.440047</td><td>49.431148</td><td>48.308086</td><td>49.582144</td><td>3.726094</td><td>2.573759</td><td>2.202554</td><td>2.014371</td><td>1.678464</td><td>50.0</td><td>150.0</td><td>132.699596</td><td>44.894051</td><td>-2.959725</td><td>50.0</td><td>-25.869712</td><td>5.717434</td><td>4.308392</td><td>-2.400146</td><td>-9.671307</td><td>11.307188</td><td>&hellip;</td><td>10.438413</td><td>-0.132979</td><td>-10.931014</td><td>-20.964806</td><td>-1.236584</td><td>0.362138</td><td>4.525028</td><td>24.757024</td><td>9.226616</td><td>13.914201</td><td>4.713626</td><td>-19.448698</td><td>0.27403</td><td>0.093427</td><td>-10.598813</td><td>-20.785627</td><td>-31.462157</td><td>1.918269</td><td>-32.655876</td><td>-23.432926</td><td>-29.481525</td><td>-33.197357</td><td>1.812715</td><td>-0.023773</td><td>0</td><td>1</td><td>0</td><td>0</td><td>0</td><td>0</td><td>0</td><td>0</td><td>0</td><td>0</td><td>0</td><td>12.704655</td><td>1</td></tr><tr><td>&quot;ZTS&quot;</td><td>2023-03-01</td><td>0</td><td>1</td><td>2.277</td><td>101.933659</td><td>103.999792</td><td>1.742569</td><td>8.712864</td><td>-13.46759</td><td>6.265461</td><td>150.0</td><td>150.0</td><td>-200.0</td><td>300.0</td><td>53.3973</td><td>54.744564</td><td>52.724753</td><td>51.216697</td><td>50.329901</td><td>1.935118</td><td>1.719409</td><td>2.152536</td><td>2.038631</td><td>1.717367</td><td>50.0</td><td>150.0</td><td>136.783662</td><td>-50.0</td><td>-50.0</td><td>50.0</td><td>50.0</td><td>-1.652163</td><td>-3.154822</td><td>-1.965465</td><td>-9.660628</td><td>1.270428</td><td>&hellip;</td><td>28.412256</td><td>12.462591</td><td>6.97438</td><td>-0.606796</td><td>-2.167728</td><td>1.872541</td><td>-3.347206</td><td>17.680081</td><td>13.220269</td><td>21.607934</td><td>7.103482</td><td>9.131075</td><td>16.06405</td><td>4.739029</td><td>-2.458001</td><td>-7.432795</td><td>-16.962455</td><td>9.797321</td><td>-17.252629</td><td>-19.069925</td><td>-11.374684</td><td>-17.355672</td><td>0.1066</td><td>0.745823</td><td>0</td><td>1</td><td>0</td><td>0</td><td>0</td><td>0</td><td>0</td><td>0</td><td>0</td><td>0</td><td>0</td><td>14.673911</td><td>0</td></tr><tr><td>&quot;ZTS&quot;</td><td>2023-06-01</td><td>0</td><td>2</td><td>3.059</td><td>113.412167</td><td>93.601906</td><td>-6.16167</td><td>-2.163021</td><td>-2.884217</td><td>-4.701764</td><td>-150.0</td><td>150.0</td><td>-150.545009</td><td>-274.970853</td><td>36.872081</td><td>44.714764</td><td>49.034177</td><td>49.615524</td><td>50.134387</td><td>1.691554</td><td>1.411919</td><td>1.591245</td><td>1.915851</td><td>1.709914</td><td>50.0</td><td>150.0</td><td>145.437831</td><td>-50.0</td><td>-50.0</td><td>-50.0</td><td>-50.0</td><td>2.462385</td><td>4.263394</td><td>6.655249</td><td>2.150699</td><td>0.451685</td><td>&hellip;</td><td>-1.252236</td><td>0.662899</td><td>-4.544518</td><td>25.459067</td><td>-1.050388</td><td>-0.081241</td><td>0.673463</td><td>17.098316</td><td>-17.010903</td><td>-4.570163</td><td>3.618482</td><td>77.669903</td><td>4.406098</td><td>1.438693</td><td>-4.253029</td><td>26.425961</td><td>-4.914543</td><td>41.615834</td><td>-2.508209</td><td>-20.640202</td><td>1.019514</td><td>-5.045032</td><td>-2.52209</td><td>-0.080502</td><td>0</td><td>1</td><td>0</td><td>0</td><td>0</td><td>0</td><td>0</td><td>0</td><td>0</td><td>0</td><td>0</td><td>3.072419</td><td>0</td></tr><tr><td>&quot;ZTS&quot;</td><td>2023-09-01</td><td>0</td><td>2</td><td>2.564</td><td>82.354987</td><td>88.746835</td><td>6.435205</td><td>13.153876</td><td>22.992401</td><td>-5.8858</td><td>150.0</td><td>150.0</td><td>200.0</td><td>-300.0</td><td>62.382436</td><td>59.24916</td><td>56.672467</td><td>55.061073</td><td>51.742329</td><td>1.613205</td><td>1.651363</td><td>1.542894</td><td>1.870124</td><td>1.778463</td><td>50.0</td><td>150.0</td><td>164.216626</td><td>50.0</td><td>50.0</td><td>50.0</td><td>50.0</td><td>0.308312</td><td>5.41382</td><td>11.620662</td><td>14.178762</td><td>-0.152789</td><td>&hellip;</td><td>31.054688</td><td>-0.674646</td><td>-6.061542</td><td>25.550661</td><td>3.758961</td><td>1.85494</td><td>6.046895</td><td>18.622645</td><td>11.177887</td><td>28.516994</td><td>4.854933</td><td>-94.940476</td><td>-1.641055</td><td>-0.522938</td><td>-3.875178</td><td>25.742425</td><td>9.935686</td><td>-95.970134</td><td>11.457617</td><td>-22.294022</td><td>16.969973</td><td>14.758768</td><td>6.728389</td><td>-0.016014</td><td>0</td><td>1</td><td>0</td><td>0</td><td>0</td><td>0</td><td>0</td><td>0</td><td>0</td><td>0</td><td>0</td><td>-6.69165</td><td>0</td></tr><tr><td>&quot;ZTS&quot;</td><td>2023-12-01</td><td>0</td><td>6</td><td>4.751</td><td>95.221124</td><td>96.035172</td><td>18.28447</td><td>-4.136785</td><td>16.212538</td><td>-19.325342</td><td>-150.0</td><td>150.0</td><td>200.0</td><td>-300.0</td><td>61.591662</td><td>54.922165</td><td>52.210853</td><td>51.633403</td><td>50.788053</td><td>1.606235</td><td>1.536062</td><td>1.58278</td><td>1.577631</td><td>1.809127</td><td>50.0</td><td>150.0</td><td>181.30939</td><td>50.0</td><td>-50.0</td><td>50.0</td><td>-50.0</td><td>8.418637</td><td>2.892184</td><td>7.291751</td><td>12.610438</td><td>0.60499</td><td>&hellip;</td><td>7.971014</td><td>0.221926</td><td>0.088652</td><td>25.758157</td><td>0.94583</td><td>-0.30245</td><td>6.926676</td><td>11.765138</td><td>-4.20124</td><td>4.637744</td><td>1.268399</td><td>10.076046</td><td>-7.988456</td><td>-2.847397</td><td>-2.75663</td><td>21.90678</td><td>1.849746</td><td>-12.470055</td><td>1.558202</td><td>-31.606518</td><td>2.927443</td><td>7.15239</td><td>5.857245</td><td>0.326611</td><td>0</td><td>1</td><td>0</td><td>0</td><td>0</td><td>0</td><td>0</td><td>0</td><td>0</td><td>0</td><td>0</td><td>4.299999</td><td>0</td></tr></tbody></table></div>"
      ],
      "text/plain": [
       "shape: (3_655, 91)\n",
       "┌─────┬────────────┬─────────┬─────────┬───┬─────────────┬─────────────┬─────────────┬─────────────┐\n",
       "│ tic ┆ tdq        ┆ n_purch ┆ n_sales ┆ … ┆ sector_mate ┆ sector_real ┆ fwd_return_ ┆ excess_retu │\n",
       "│ --- ┆ ---        ┆ ---     ┆ ---     ┆   ┆ rials       ┆ _estate     ┆ 4Q          ┆ rn_4Q_pos   │\n",
       "│ str ┆ date       ┆ u32     ┆ u32     ┆   ┆ ---         ┆ ---         ┆ ---         ┆ ---         │\n",
       "│     ┆            ┆         ┆         ┆   ┆ i8          ┆ i8          ┆ f64         ┆ i8          │\n",
       "╞═════╪════════════╪═════════╪═════════╪═══╪═════════════╪═════════════╪═════════════╪═════════════╡\n",
       "│ A   ┆ 2022-03-01 ┆ 0       ┆ 5       ┆ … ┆ 0           ┆ 0           ┆ 15.553968   ┆ 1           │\n",
       "│ A   ┆ 2022-06-01 ┆ 0       ┆ 1       ┆ … ┆ 0           ┆ 0           ┆ 9.318676    ┆ 1           │\n",
       "│ A   ┆ 2022-09-01 ┆ 0       ┆ 2       ┆ … ┆ 0           ┆ 0           ┆ -5.57725    ┆ 0           │\n",
       "│ A   ┆ 2022-12-01 ┆ 0       ┆ 14      ┆ … ┆ 0           ┆ 0           ┆ -26.851359  ┆ 0           │\n",
       "│ A   ┆ 2023-03-01 ┆ 0       ┆ 5       ┆ … ┆ 0           ┆ 0           ┆ -3.250208   ┆ 0           │\n",
       "│ …   ┆ …          ┆ …       ┆ …       ┆ … ┆ …           ┆ …           ┆ …           ┆ …           │\n",
       "│ ZTS ┆ 2022-12-01 ┆ 0       ┆ 0       ┆ … ┆ 0           ┆ 0           ┆ 12.704655   ┆ 1           │\n",
       "│ ZTS ┆ 2023-03-01 ┆ 0       ┆ 1       ┆ … ┆ 0           ┆ 0           ┆ 14.673911   ┆ 0           │\n",
       "│ ZTS ┆ 2023-06-01 ┆ 0       ┆ 2       ┆ … ┆ 0           ┆ 0           ┆ 3.072419    ┆ 0           │\n",
       "│ ZTS ┆ 2023-09-01 ┆ 0       ┆ 2       ┆ … ┆ 0           ┆ 0           ┆ -6.69165    ┆ 0           │\n",
       "│ ZTS ┆ 2023-12-01 ┆ 0       ┆ 6       ┆ … ┆ 0           ┆ 0           ┆ 4.299999    ┆ 0           │\n",
       "└─────┴────────────┴─────────┴─────────┴───┴─────────────┴─────────────┴─────────────┴─────────────┘"
      ]
     },
     "execution_count": 6,
     "metadata": {},
     "output_type": "execute_result"
    }
   ],
   "source": [
    "val"
   ]
  },
  {
   "cell_type": "code",
   "execution_count": 7,
   "metadata": {},
   "outputs": [
    {
     "name": "stdout",
     "output_type": "stream",
     "text": [
      "Average freturn: 0.40%\n",
      "\n",
      "Top 100 stocks: 34.00%\n",
      "\n",
      "Bottom 100 stocks: 42.00%\n"
     ]
    }
   ],
   "source": [
    "y_pred = model.predict(X_val)\n",
    "val_subset = val.with_columns(pl.Series(\"pred\", y_pred)).sort(\"pred\", descending=True)\n",
    "n = 100\n",
    "top = val_subset.head(n)\n",
    "bottom = val_subset.tail(n)\n",
    "\n",
    "top_freturn = top.select(pl.col(target)).mean().item()\n",
    "bottom_freturn = bottom.select(pl.col(target)).mean().item()\n",
    "freturn = val_subset.select(pl.col(target)).mean().item()\n",
    "\n",
    "print(f\"Average freturn: {freturn:.2f}%\")\n",
    "\n",
    "print(f\"\\nTop {n} stocks: {top_freturn * 100:.2f}%\")\n",
    "print(f\"\\nBottom {n} stocks: {bottom_freturn * 100:.2f}%\")"
   ]
  },
  {
   "cell_type": "code",
   "execution_count": 8,
   "metadata": {},
   "outputs": [
    {
     "name": "stdout",
     "output_type": "stream",
     "text": [
      "0.36363636363636365\n"
     ]
    },
    {
     "data": {
      "text/html": [
       "<div><style>\n",
       ".dataframe > thead > tr,\n",
       ".dataframe > tbody > tr {\n",
       "  text-align: right;\n",
       "  white-space: pre-wrap;\n",
       "}\n",
       "</style>\n",
       "<small>shape: (77, 92)</small><table border=\"1\" class=\"dataframe\"><thead><tr><th>tic</th><th>tdq</th><th>n_purch</th><th>n_sales</th><th>insider_balance</th><th>volume_ma20</th><th>volume_ma50</th><th>price_mom</th><th>price_qoq</th><th>price_yoy</th><th>price_2y</th><th>price_risk_qoq</th><th>price_risk_sos</th><th>price_risk_yoy</th><th>price_risk_2y</th><th>rsi_14d</th><th>rsi_30d</th><th>rsi_60d</th><th>rsi_90d</th><th>rsi_1y</th><th>vol_mom</th><th>vol_qoq</th><th>vol_sos</th><th>vol_yoy</th><th>vol_2y</th><th>rel_vol_mom</th><th>rel_vol_qoq</th><th>rel_vol_yoy</th><th>momentum_mom</th><th>momentum_qoq</th><th>momentum_yoy</th><th>momentum_2y</th><th>index_mom</th><th>index_qoq</th><th>index_sos</th><th>index_yoy</th><th>index_2y</th><th>&hellip;</th><th>ltq_yoy</th><th>ltq_2y</th><th>dlttq_yoy</th><th>gpm_yoy</th><th>gpm_2y</th><th>roa_yoy</th><th>roa_2y</th><th>roi_yoy</th><th>roi_2y</th><th>roe_yoy</th><th>fcf_yoy</th><th>der_yoy</th><th>dr_yoy</th><th>dr_2y</th><th>ltda_yoy</th><th>ev_ebitda_yoy</th><th>ltcr_yoy</th><th>pe_yoy</th><th>pe_2y</th><th>pb_yoy</th><th>ps_yoy</th><th>atr_yoy</th><th>size_yoy</th><th>sector_utilities</th><th>sector_health_care</th><th>sector_financials</th><th>sector_consumer_discretionary</th><th>sector_consumer_staples</th><th>sector_energy</th><th>sector_industrials</th><th>sector_information_technology</th><th>sector_communication_services</th><th>sector_materials</th><th>sector_real_estate</th><th>fwd_return_4Q</th><th>excess_return_4Q_pos</th><th>pred</th></tr><tr><td>str</td><td>date</td><td>u32</td><td>u32</td><td>f64</td><td>f64</td><td>f64</td><td>f64</td><td>f64</td><td>f64</td><td>f64</td><td>f64</td><td>f64</td><td>f64</td><td>f64</td><td>f64</td><td>f64</td><td>f64</td><td>f64</td><td>f64</td><td>f64</td><td>f64</td><td>f64</td><td>f64</td><td>f64</td><td>f64</td><td>f64</td><td>f64</td><td>f64</td><td>f64</td><td>f64</td><td>f64</td><td>f64</td><td>f64</td><td>f64</td><td>f64</td><td>f64</td><td>&hellip;</td><td>f64</td><td>f64</td><td>f64</td><td>f64</td><td>f64</td><td>f64</td><td>f64</td><td>f64</td><td>f64</td><td>f64</td><td>f64</td><td>f64</td><td>f64</td><td>f64</td><td>f64</td><td>f64</td><td>f64</td><td>f64</td><td>f64</td><td>f64</td><td>f64</td><td>f64</td><td>f64</td><td>i8</td><td>i8</td><td>i8</td><td>i8</td><td>i8</td><td>i8</td><td>i8</td><td>i8</td><td>i8</td><td>i8</td><td>i8</td><td>f64</td><td>i8</td><td>i64</td></tr></thead><tbody><tr><td>&quot;A&quot;</td><td>2022-03-01</td><td>0</td><td>5</td><td>19.293</td><td>133.226941</td><td>117.561988</td><td>-3.74289</td><td>-10.984423</td><td>6.704944</td><td>60.949116</td><td>-150.0</td><td>-150.0</td><td>200.0</td><td>300.0</td><td>43.158399</td><td>42.053527</td><td>43.715374</td><td>45.665021</td><td>51.522485</td><td>2.161613</td><td>1.857107</td><td>1.641768</td><td>1.424811</td><td>1.894748</td><td>50.0</td><td>150.0</td><td>160.441865</td><td>50.0</td><td>50.0</td><td>50.0</td><td>50.0</td><td>-2.833813</td><td>-4.58184</td><td>-4.913681</td><td>11.264523</td><td>39.350786</td><td>&hellip;</td><td>6.221766</td><td>11.175586</td><td>24.942792</td><td>0.418303</td><td>2.029907</td><td>39.358651</td><td>45.107156</td><td>-12.893125</td><td>20.895223</td><td>38.663007</td><td>7.142857</td><td>-0.991586</td><td>-0.494881</td><td>2.283261</td><td>17.042371</td><td>-23.129185</td><td>-14.246468</td><td>-30.140404</td><td>5.066142</td><td>-3.130584</td><td>-10.827631</td><td>-0.76069</td><td>0.711764</td><td>0</td><td>1</td><td>0</td><td>0</td><td>0</td><td>0</td><td>0</td><td>0</td><td>0</td><td>0</td><td>0</td><td>15.553968</td><td>1</td><td>1</td></tr><tr><td>&quot;A&quot;</td><td>2022-06-01</td><td>0</td><td>1</td><td>0.165</td><td>116.531326</td><td>115.558614</td><td>2.943879</td><td>-8.066325</td><td>-9.870404</td><td>36.327384</td><td>-150.0</td><td>-150.0</td><td>-200.0</td><td>300.0</td><td>49.272664</td><td>47.577979</td><td>46.541324</td><td>46.77372</td><td>50.376317</td><td>3.014695</td><td>2.469218</td><td>2.175493</td><td>1.758636</td><td>1.591078</td><td>50.0</td><td>147.055598</td><td>153.737685</td><td>-50.0</td><td>50.0</td><td>50.0</td><td>50.0</td><td>-1.303128</td><td>-5.25865</td><td>-10.198599</td><td>-2.540092</td><td>33.121373</td><td>&hellip;</td><td>-4.56335</td><td>13.782803</td><td>0.110011</td><td>0.008074</td><td>0.958421</td><td>35.79613</td><td>67.232292</td><td>21.762787</td><td>126.509135</td><td>28.22335</td><td>-40.042373</td><td>-10.37675</td><td>-5.083665</td><td>2.899704</td><td>-0.435782</td><td>-28.314049</td><td>-40.10826</td><td>-35.577858</td><td>-28.576028</td><td>-17.395771</td><td>-21.606108</td><td>1.776929</td><td>0.059105</td><td>0</td><td>1</td><td>0</td><td>0</td><td>0</td><td>0</td><td>0</td><td>0</td><td>0</td><td>0</td><td>0</td><td>9.318676</td><td>1</td><td>1</td></tr><tr><td>&quot;A&quot;</td><td>2022-09-01</td><td>0</td><td>2</td><td>0.868</td><td>79.928753</td><td>82.561189</td><td>-4.184011</td><td>1.018566</td><td>-26.514679</td><td>27.501967</td><td>46.302237</td><td>-150.0</td><td>-200.0</td><td>300.0</td><td>46.529941</td><td>50.295003</td><td>49.851588</td><td>49.37193</td><td>50.749185</td><td>2.316539</td><td>2.19982</td><td>2.343169</td><td>2.031332</td><td>1.71518</td><td>50.0</td><td>148.682818</td><td>153.04007</td><td>50.0</td><td>-27.157106</td><td>50.0</td><td>50.0</td><td>-4.532181</td><td>-3.750642</td><td>-9.089974</td><td>-12.317168</td><td>12.482106</td><td>&hellip;</td><td>-2.741208</td><td>18.138007</td><td>0.146628</td><td>1.743347</td><td>3.022338</td><td>34.230978</td><td>74.990489</td><td>22.24579</td><td>53.513405</td><td>30.320847</td><td>-2.39521</td><td>-5.511298</td><td>-2.67627</td><td>7.568238</td><td>0.213494</td><td>-37.978017</td><td>-2.538116</td><td>-46.471204</td><td>-36.421035</td><td>-30.24082</td><td>-33.770549</td><td>8.064162</td><td>-0.007209</td><td>0</td><td>1</td><td>0</td><td>0</td><td>0</td><td>0</td><td>0</td><td>0</td><td>0</td><td>0</td><td>0</td><td>-5.57725</td><td>0</td><td>1</td></tr><tr><td>&quot;A&quot;</td><td>2022-12-01</td><td>0</td><td>14</td><td>29.504</td><td>84.294291</td><td>79.954035</td><td>10.809849</td><td>20.742453</td><td>5.337014</td><td>35.332866</td><td>150.0</td><td>150.0</td><td>200.0</td><td>300.0</td><td>64.82618</td><td>61.518024</td><td>57.445711</td><td>55.2601</td><td>52.630406</td><td>2.743982</td><td>2.300815</td><td>2.214761</td><td>2.21394</td><td>1.804737</td><td>50.0</td><td>134.867777</td><td>145.846538</td><td>50.0</td><td>50.0</td><td>-50.0</td><td>50.0</td><td>5.717434</td><td>4.308392</td><td>-2.400146</td><td>-9.671307</td><td>11.307188</td><td>&hellip;</td><td>-1.674191</td><td>9.949516</td><td>0.146574</td><td>0.950664</td><td>3.005054</td><td>5.338708</td><td>59.422189</td><td>-15.912726</td><td>47.596638</td><td>5.277354</td><td>1.587302</td><td>-0.117289</td><td>-0.059079</td><td>0.501708</td><td>1.791594</td><td>-10.702488</td><td>1.438619</td><td>-0.676569</td><td>-25.389269</td><td>4.565081</td><td>-5.016431</td><td>12.339549</td><td>-0.175597</td><td>0</td><td>1</td><td>0</td><td>0</td><td>0</td><td>0</td><td>0</td><td>0</td><td>0</td><td>0</td><td>0</td><td>-26.851359</td><td>0</td><td>1</td></tr><tr><td>&quot;A&quot;</td><td>2023-03-01</td><td>0</td><td>5</td><td>9.322</td><td>85.991285</td><td>81.411412</td><td>-9.37789</td><td>-11.272423</td><td>5.484807</td><td>10.467538</td><td>-150.0</td><td>150.0</td><td>200.0</td><td>300.0</td><td>27.642313</td><td>39.893702</td><td>46.853905</td><td>48.655084</td><td>50.816258</td><td>1.430282</td><td>1.57085</td><td>1.948803</td><td>2.161252</td><td>1.828145</td><td>50.0</td><td>148.188834</td><td>145.011024</td><td>50.0</td><td>50.0</td><td>-50.0</td><td>50.0</td><td>-1.652163</td><td>-3.154822</td><td>-1.965465</td><td>-9.660628</td><td>1.270428</td><td>&hellip;</td><td>2.648367</td><td>9.034908</td><td>0.10989</td><td>1.406293</td><td>1.830478</td><td>3.839863</td><td>44.709833</td><td>17.55397</td><td>2.397589</td><td>0.886202</td><td>16.078431</td><td>-5.678431</td><td>-2.916963</td><td>-3.397409</td><td>-5.31781</td><td>-10.779239</td><td>15.951013</td><td>-6.946706</td><td>-34.993345</td><td>-6.122066</td><td>-4.984549</td><td>2.849477</td><td>0.60311</td><td>0</td><td>1</td><td>0</td><td>0</td><td>0</td><td>0</td><td>0</td><td>0</td><td>0</td><td>0</td><td>0</td><td>-3.250208</td><td>0</td><td>1</td></tr><tr><td>&hellip;</td><td>&hellip;</td><td>&hellip;</td><td>&hellip;</td><td>&hellip;</td><td>&hellip;</td><td>&hellip;</td><td>&hellip;</td><td>&hellip;</td><td>&hellip;</td><td>&hellip;</td><td>&hellip;</td><td>&hellip;</td><td>&hellip;</td><td>&hellip;</td><td>&hellip;</td><td>&hellip;</td><td>&hellip;</td><td>&hellip;</td><td>&hellip;</td><td>&hellip;</td><td>&hellip;</td><td>&hellip;</td><td>&hellip;</td><td>&hellip;</td><td>&hellip;</td><td>&hellip;</td><td>&hellip;</td><td>&hellip;</td><td>&hellip;</td><td>&hellip;</td><td>&hellip;</td><td>&hellip;</td><td>&hellip;</td><td>&hellip;</td><td>&hellip;</td><td>&hellip;</td><td>&hellip;</td><td>&hellip;</td><td>&hellip;</td><td>&hellip;</td><td>&hellip;</td><td>&hellip;</td><td>&hellip;</td><td>&hellip;</td><td>&hellip;</td><td>&hellip;</td><td>&hellip;</td><td>&hellip;</td><td>&hellip;</td><td>&hellip;</td><td>&hellip;</td><td>&hellip;</td><td>&hellip;</td><td>&hellip;</td><td>&hellip;</td><td>&hellip;</td><td>&hellip;</td><td>&hellip;</td><td>&hellip;</td><td>&hellip;</td><td>&hellip;</td><td>&hellip;</td><td>&hellip;</td><td>&hellip;</td><td>&hellip;</td><td>&hellip;</td><td>&hellip;</td><td>&hellip;</td><td>&hellip;</td><td>&hellip;</td><td>&hellip;</td><td>&hellip;</td><td>&hellip;</td><td>&hellip;</td></tr><tr><td>&quot;AFL&quot;</td><td>2022-06-01</td><td>1</td><td>4</td><td>0.706</td><td>99.709075</td><td>88.81247</td><td>4.380458</td><td>-0.482524</td><td>4.654418</td><td>60.606871</td><td>-32.525135</td><td>150.0</td><td>200.0</td><td>300.0</td><td>54.610327</td><td>49.381937</td><td>49.720993</td><td>50.589655</td><td>51.892807</td><td>1.588698</td><td>1.483543</td><td>1.512047</td><td>1.393566</td><td>1.645896</td><td>50.0</td><td>88.35318</td><td>121.823718</td><td>-50.0</td><td>9.175821</td><td>-50.0</td><td>50.0</td><td>-1.303128</td><td>-5.25865</td><td>-10.198599</td><td>-2.540092</td><td>33.121373</td><td>&hellip;</td><td>-6.770908</td><td>-6.145479</td><td>-3.956479</td><td>-3.434403</td><td>26.386743</td><td>-20.304906</td><td>42.956154</td><td>-12.73818</td><td>64.467749</td><td>-19.439403</td><td>-7.759883</td><td>1.362602</td><td>0.273612</td><td>-3.228601</td><td>3.300703</td><td>-2.620483</td><td>-3.960084</td><td>33.117502</td><td>4.705925</td><td>7.240255</td><td>5.287569</td><td>-6.460572</td><td>-0.608476</td><td>0</td><td>0</td><td>1</td><td>0</td><td>0</td><td>0</td><td>0</td><td>0</td><td>0</td><td>0</td><td>0</td><td>12.116626</td><td>1</td><td>1</td></tr><tr><td>&quot;AFL&quot;</td><td>2022-09-01</td><td>0</td><td>4</td><td>2.339</td><td>72.651825</td><td>78.859641</td><td>0.864264</td><td>0.60852</td><td>5.644303</td><td>62.179834</td><td>41.50154</td><td>-150.0</td><td>200.0</td><td>300.0</td><td>44.451863</td><td>50.626418</td><td>50.664731</td><td>50.748047</td><td>51.576331</td><td>1.266545</td><td>1.46626</td><td>1.460371</td><td>1.439141</td><td>1.525142</td><td>50.0</td><td>99.102487</td><td>108.424517</td><td>-19.069493</td><td>-16.224432</td><td>-45.824681</td><td>50.0</td><td>-4.532181</td><td>-3.750642</td><td>-9.089974</td><td>-12.317168</td><td>12.482106</td><td>&hellip;</td><td>-14.492357</td><td>-14.432077</td><td>-8.681197</td><td>12.046824</td><td>29.782344</td><td>-10.529083</td><td>72.427181</td><td>55.534091</td><td>89.702007</td><td>-3.933021</td><td>-46.985447</td><td>9.318996</td><td>1.813037</td><td>-0.89429</td><td>8.732322</td><td>-10.822963</td><td>-41.945633</td><td>32.813317</td><td>-2.643767</td><td>27.589742</td><td>8.089467</td><td>9.746982</td><td>-1.455381</td><td>0</td><td>0</td><td>1</td><td>0</td><td>0</td><td>0</td><td>0</td><td>0</td><td>0</td><td>0</td><td>0</td><td>22.114378</td><td>1</td><td>1</td></tr><tr><td>&quot;AFL&quot;</td><td>2022-12-01</td><td>0</td><td>5</td><td>4.705</td><td>102.120517</td><td>94.914768</td><td>7.633597</td><td>20.796246</td><td>33.985478</td><td>60.872489</td><td>150.0</td><td>150.0</td><td>200.0</td><td>300.0</td><td>68.400056</td><td>65.801368</td><td>60.926112</td><td>58.377648</td><td>53.893066</td><td>1.332801</td><td>1.56518</td><td>1.501103</td><td>1.502817</td><td>1.391457</td><td>50.0</td><td>91.746767</td><td>99.000261</td><td>50.0</td><td>50.0</td><td>-50.0</td><td>50.0</td><td>5.717434</td><td>4.308392</td><td>-2.400146</td><td>-9.671307</td><td>11.307188</td><td>&hellip;</td><td>-18.180172</td><td>-19.091503</td><td>-6.79395</td><td>3.774564</td><td>10.444318</td><td>50.016073</td><td>38.215451</td><td>136.185965</td><td>-17.299836</td><td>66.232068</td><td>-41.932002</td><td>13.664245</td><td>2.57626</td><td>1.659852</td><td>16.850992</td><td>-7.800877</td><td>-37.699326</td><td>5.309464</td><td>29.475684</td><td>75.058101</td><td>36.624981</td><td>12.404182</td><td>-1.886155</td><td>0</td><td>0</td><td>1</td><td>0</td><td>0</td><td>0</td><td>0</td><td>0</td><td>0</td><td>0</td><td>0</td><td>11.275425</td><td>1</td><td>1</td></tr><tr><td>&quot;AFL&quot;</td><td>2023-03-01</td><td>0</td><td>4</td><td>3.293</td><td>89.37487</td><td>101.888445</td><td>-6.736032</td><td>-5.296813</td><td>11.507616</td><td>39.819378</td><td>-150.0</td><td>150.0</td><td>200.0</td><td>300.0</td><td>39.16616</td><td>45.705162</td><td>50.513318</td><td>51.8188</td><td>52.48003</td><td>1.628044</td><td>1.347271</td><td>1.453388</td><td>1.491305</td><td>1.384386</td><td>50.0</td><td>127.097152</td><td>100.060404</td><td>50.0</td><td>50.0</td><td>-50.0</td><td>50.0</td><td>-1.652163</td><td>-3.154822</td><td>-1.965465</td><td>-9.660628</td><td>1.270428</td><td>&hellip;</td><td>-10.210879</td><td>-15.152022</td><td>-6.460533</td><td>-6.414139</td><td>-0.615698</td><td>16.158731</td><td>10.180748</td><td>-75.556261</td><td>-73.133092</td><td>60.375468</td><td>18.735632</td><td>48.25013</td><td>7.376441</td><td>6.326294</td><td>11.861382</td><td>7.034539</td><td>26.9364</td><td>12.998248</td><td>41.584964</td><td>81.221468</td><td>24.414011</td><td>-7.451168</td><td>-1.494696</td><td>0</td><td>0</td><td>1</td><td>0</td><td>0</td><td>0</td><td>0</td><td>0</td><td>0</td><td>0</td><td>0</td><td>21.965642</td><td>1</td><td>1</td></tr><tr><td>&quot;AFL&quot;</td><td>2023-06-01</td><td>0</td><td>6</td><td>7.647</td><td>88.305899</td><td>89.490315</td><td>-5.754658</td><td>-5.174434</td><td>6.802052</td><td>13.074643</td><td>-150.0</td><td>-150.0</td><td>200.0</td><td>300.0</td><td>42.372501</td><td>45.613209</td><td>47.780038</td><td>49.050053</td><td>51.380387</td><td>1.045422</td><td>1.50681</td><td>1.41434</td><td>1.459171</td><td>1.42419</td><td>50.0</td><td>150.0</td><td>110.769921</td><td>-50.0</td><td>-50.0</td><td>50.0</td><td>50.0</td><td>2.462385</td><td>4.263394</td><td>6.655249</td><td>2.150699</td><td>0.451685</td><td>&hellip;</td><td>-1.988615</td><td>-8.624875</td><td>-4.479918</td><td>6.868985</td><td>3.198673</td><td>15.975152</td><td>-7.573494</td><td>55.558723</td><td>35.743373</td><td>58.869795</td><td>-43.809524</td><td>46.278921</td><td>6.783799</td><td>7.075972</td><td>4.069514</td><td>4.007717</td><td>-41.174175</td><td>-4.443081</td><td>27.202983</td><td>51.811081</td><td>13.847278</td><td>5.969777</td><td>-0.720448</td><td>0</td><td>0</td><td>1</td><td>0</td><td>0</td><td>0</td><td>0</td><td>0</td><td>0</td><td>0</td><td>0</td><td>32.445487</td><td>1</td><td>1</td></tr></tbody></table></div>"
      ],
      "text/plain": [
       "shape: (77, 92)\n",
       "┌─────┬────────────┬─────────┬─────────┬───┬────────────────┬───────────────┬───────────────┬──────┐\n",
       "│ tic ┆ tdq        ┆ n_purch ┆ n_sales ┆ … ┆ sector_real_es ┆ fwd_return_4Q ┆ excess_return ┆ pred │\n",
       "│ --- ┆ ---        ┆ ---     ┆ ---     ┆   ┆ tate           ┆ ---           ┆ _4Q_pos       ┆ ---  │\n",
       "│ str ┆ date       ┆ u32     ┆ u32     ┆   ┆ ---            ┆ f64           ┆ ---           ┆ i64  │\n",
       "│     ┆            ┆         ┆         ┆   ┆ i8             ┆               ┆ i8            ┆      │\n",
       "╞═════╪════════════╪═════════╪═════════╪═══╪════════════════╪═══════════════╪═══════════════╪══════╡\n",
       "│ A   ┆ 2022-03-01 ┆ 0       ┆ 5       ┆ … ┆ 0              ┆ 15.553968     ┆ 1             ┆ 1    │\n",
       "│ A   ┆ 2022-06-01 ┆ 0       ┆ 1       ┆ … ┆ 0              ┆ 9.318676      ┆ 1             ┆ 1    │\n",
       "│ A   ┆ 2022-09-01 ┆ 0       ┆ 2       ┆ … ┆ 0              ┆ -5.57725      ┆ 0             ┆ 1    │\n",
       "│ A   ┆ 2022-12-01 ┆ 0       ┆ 14      ┆ … ┆ 0              ┆ -26.851359    ┆ 0             ┆ 1    │\n",
       "│ A   ┆ 2023-03-01 ┆ 0       ┆ 5       ┆ … ┆ 0              ┆ -3.250208     ┆ 0             ┆ 1    │\n",
       "│ …   ┆ …          ┆ …       ┆ …       ┆ … ┆ …              ┆ …             ┆ …             ┆ …    │\n",
       "│ AFL ┆ 2022-06-01 ┆ 1       ┆ 4       ┆ … ┆ 0              ┆ 12.116626     ┆ 1             ┆ 1    │\n",
       "│ AFL ┆ 2022-09-01 ┆ 0       ┆ 4       ┆ … ┆ 0              ┆ 22.114378     ┆ 1             ┆ 1    │\n",
       "│ AFL ┆ 2022-12-01 ┆ 0       ┆ 5       ┆ … ┆ 0              ┆ 11.275425     ┆ 1             ┆ 1    │\n",
       "│ AFL ┆ 2023-03-01 ┆ 0       ┆ 4       ┆ … ┆ 0              ┆ 21.965642     ┆ 1             ┆ 1    │\n",
       "│ AFL ┆ 2023-06-01 ┆ 0       ┆ 6       ┆ … ┆ 0              ┆ 32.445487     ┆ 1             ┆ 1    │\n",
       "└─────┴────────────┴─────────┴─────────┴───┴────────────────┴───────────────┴───────────────┴──────┘"
      ]
     },
     "execution_count": 8,
     "metadata": {},
     "output_type": "execute_result"
    }
   ],
   "source": [
    "top = val_subset.head(100).filter((pl.col(\"pe\") < 50) & (pl.col(\"f_score\") >= 5))\n",
    "print(top.select(pl.col(target)).mean().item())\n",
    "top"
   ]
  },
  {
   "cell_type": "code",
   "execution_count": 9,
   "metadata": {},
   "outputs": [
    {
     "name": "stdout",
     "output_type": "stream",
     "text": [
      "\n",
      "DATE 2022-03-01\n",
      "\n",
      "Top 50 stocks:\n",
      "Average freturn: 34.90%\n",
      "\n",
      "Bottom 50 stocks:\n",
      "Average freturn: -403.35%\n",
      "\n",
      "DATE 2022-06-01\n",
      "\n",
      "Top 50 stocks:\n",
      "Average freturn: -103.18%\n",
      "\n",
      "Bottom 50 stocks:\n",
      "Average freturn: -202.87%\n",
      "\n",
      "DATE 2022-09-01\n",
      "\n",
      "Top 50 stocks:\n",
      "Average freturn: 984.15%\n",
      "\n",
      "Bottom 50 stocks:\n",
      "Average freturn: 1141.68%\n",
      "\n",
      "DATE 2022-12-01\n",
      "\n",
      "Top 50 stocks:\n",
      "Average freturn: 17.13%\n",
      "\n",
      "Bottom 50 stocks:\n",
      "Average freturn: -434.97%\n",
      "\n",
      "DATE 2023-03-01\n",
      "\n",
      "Top 50 stocks:\n",
      "Average freturn: 1340.95%\n",
      "\n",
      "Bottom 50 stocks:\n",
      "Average freturn: -139.93%\n",
      "\n",
      "DATE 2023-06-01\n",
      "\n",
      "Top 50 stocks:\n",
      "Average freturn: 2060.39%\n",
      "\n",
      "Bottom 50 stocks:\n",
      "Average freturn: 2086.70%\n",
      "\n",
      "DATE 2023-09-01\n",
      "\n",
      "Top 50 stocks:\n",
      "Average freturn: 877.32%\n",
      "\n",
      "Bottom 50 stocks:\n",
      "Average freturn: 1577.30%\n",
      "\n",
      "DATE 2023-12-01\n",
      "\n",
      "Top 50 stocks:\n",
      "Average freturn: 2006.79%\n",
      "\n",
      "Bottom 50 stocks:\n",
      "Average freturn: 2286.45%\n"
     ]
    }
   ],
   "source": [
    "eval_dates = [\n",
    "    \"2022-03-01\",\n",
    "    \"2022-06-01\",\n",
    "    \"2022-09-01\",\n",
    "    \"2022-12-01\",\n",
    "    \"2023-03-01\",\n",
    "    \"2023-06-01\",\n",
    "    \"2023-09-01\",\n",
    "    \"2023-12-01\",\n",
    "]\n",
    "\n",
    "for date in eval_dates:\n",
    "    y_pred = model.predict(X_val)\n",
    "    val_subset = (\n",
    "        val.with_columns(pl.Series(\"pred\", y_pred))\n",
    "        .filter(pl.col(\"tdq\") == pl.lit(date).str.to_date())\n",
    "        .sort(\"pred\", descending=True)\n",
    "    )\n",
    "    n = 50\n",
    "    top = val_subset.head(n)\n",
    "    bottom = val_subset.tail(n)\n",
    "\n",
    "    # Calculate average returns for top stocks\n",
    "    top_freturn = top.select(pl.col(\"fwd_return_4Q\")).mean().item()\n",
    "\n",
    "    # Calculate average returns for bottom stocks\n",
    "    bottom_freturn = bottom.select(pl.col(\"fwd_return_4Q\")).mean().item()\n",
    "\n",
    "    print(f\"\\nDATE {date}\")\n",
    "    print(f\"\\nTop {n} stocks:\")\n",
    "    print(f\"Average freturn: {top_freturn * 100:.2f}%\")\n",
    "    print(f\"\\nBottom {n} stocks:\")\n",
    "    print(f\"Average freturn: {bottom_freturn * 100:.2f}%\")"
   ]
  },
  {
   "cell_type": "code",
   "execution_count": 10,
   "metadata": {},
   "outputs": [
    {
     "data": {
      "text/plain": [
       "[('sector_energy', 40.191165924072266),\n",
       " ('momentum_yoy', 27.2480411529541),\n",
       " ('size', 25.87224769592285),\n",
       " ('vol_sos', 23.586788177490234),\n",
       " ('fear_ma30', 20.31974220275879),\n",
       " ('index_2y', 16.7189998626709),\n",
       " ('high_fear', 16.481006622314453),\n",
       " ('sector_real_estate', 15.660086631774902),\n",
       " ('sector_health_care', 15.417682647705078),\n",
       " ('vol_2y', 14.626969337463379),\n",
       " ('gpm_2y', 14.605377197265625),\n",
       " ('vol_yoy', 14.286331176757812),\n",
       " ('rsi_1y', 14.145264625549316),\n",
       " ('sector_information_technology', 13.999712944030762),\n",
       " ('sector_utilities', 13.80540943145752),\n",
       " ('index_sos', 13.57997989654541),\n",
       " ('index_yoy', 13.11374282836914),\n",
       " ('rel_vol_yoy', 12.731752395629883),\n",
       " ('index_mom', 12.614106178283691),\n",
       " ('rel_vol_qoq', 12.564565658569336),\n",
       " ('low_fear', 12.17973804473877),\n",
       " ('sector_communication_services', 11.731181144714355),\n",
       " ('vol_qoq', 11.615520477294922),\n",
       " ('price_qoq', 11.137831687927246),\n",
       " ('gpm_yoy', 11.062193870544434),\n",
       " ('sector_industrials', 10.805398941040039),\n",
       " ('ps_yoy', 10.727892875671387),\n",
       " ('sector_consumer_discretionary', 10.655860900878906),\n",
       " ('index_qoq', 10.591582298278809),\n",
       " ('sector_consumer_staples', 10.435930252075195),\n",
       " ('price_yoy', 10.267444610595703),\n",
       " ('ev_ebitda', 10.220476150512695),\n",
       " ('roa_yoy', 9.932145118713379),\n",
       " ('rsi_30d', 9.705886840820312),\n",
       " ('roa', 9.501445770263672),\n",
       " ('price_risk_2y', 9.3060884475708),\n",
       " ('rsi_14d', 9.27425479888916),\n",
       " ('roa_2y', 9.200528144836426),\n",
       " ('ebitdam', 9.015608787536621),\n",
       " ('rsi_90d', 8.802074432373047),\n",
       " ('saleq_2y', 8.772933959960938),\n",
       " ('pe_2y', 8.764995574951172),\n",
       " ('momentum_2y', 8.54587173461914),\n",
       " ('pb', 8.486556053161621),\n",
       " ('ev_ebitda_yoy', 8.481590270996094),\n",
       " ('dr_2y', 8.154480934143066),\n",
       " ('rsi_60d', 8.108072280883789),\n",
       " ('price_risk_sos', 8.001082420349121),\n",
       " ('ltda_yoy', 7.980452060699463),\n",
       " ('vol_mom', 7.976050853729248),\n",
       " ('dr_yoy', 7.819016456604004),\n",
       " ('price_mom', 7.79142951965332),\n",
       " ('ps', 7.751694202423096),\n",
       " ('gpm', 7.725594997406006),\n",
       " ('f_score', 7.710827827453613),\n",
       " ('price_2y', 7.5825581550598145),\n",
       " ('ltq_2y', 7.467060565948486),\n",
       " ('dlttq_yoy', 7.456555366516113),\n",
       " ('saleq_yoy', 7.415136814117432),\n",
       " ('sector_materials', 7.256232261657715),\n",
       " ('ltcr_yoy', 7.2060346603393555),\n",
       " ('price_risk_yoy', 7.108036041259766),\n",
       " ('roe', 7.033833980560303),\n",
       " ('roi_2y', 6.946475028991699),\n",
       " ('earn_drift', 6.893874645233154),\n",
       " ('size_yoy', 6.844686985015869),\n",
       " ('pe', 6.815245151519775),\n",
       " ('volume_ma20', 6.670749664306641),\n",
       " ('niq_2y', 6.4354023933410645),\n",
       " ('niq_yoy', 6.4303998947143555),\n",
       " ('roe_yoy', 6.3927741050720215),\n",
       " ('der_yoy', 6.38761043548584),\n",
       " ('insider_balance', 6.332291126251221),\n",
       " ('sector_financials', 6.288899898529053),\n",
       " ('price_risk_qoq', 6.2268829345703125),\n",
       " ('ltq_yoy', 6.033779621124268),\n",
       " ('pb_yoy', 5.937747955322266),\n",
       " ('fcf_yoy', 5.932516574859619),\n",
       " ('atr_yoy', 5.818764686584473),\n",
       " ('volume_ma50', 5.534381866455078),\n",
       " ('n_purch', 5.444931983947754),\n",
       " ('roi_yoy', 5.397580146789551),\n",
       " ('n_sales', 5.303983211517334),\n",
       " ('pe_yoy', 5.299224376678467),\n",
       " ('momentum_mom', 4.928510665893555),\n",
       " ('momentum_qoq', 4.616486072540283)]"
      ]
     },
     "execution_count": 10,
     "metadata": {},
     "output_type": "execute_result"
    }
   ],
   "source": [
    "model.get_importance(\"gain\")"
   ]
  },
  {
   "cell_type": "code",
   "execution_count": 11,
   "metadata": {},
   "outputs": [
    {
     "data": {
      "text/plain": [
       "[('size', 249.0),\n",
       " ('vol_2y', 247.0),\n",
       " ('index_2y', 240.0),\n",
       " ('fear_ma30', 212.0),\n",
       " ('gpm_2y', 197.0),\n",
       " ('ev_ebitda', 189.0),\n",
       " ('ps', 188.0),\n",
       " ('ebitdam', 176.0),\n",
       " ('roa_2y', 174.0),\n",
       " ('roa', 164.0),\n",
       " ('dr_2y', 154.0),\n",
       " ('vol_qoq', 153.0),\n",
       " ('vol_sos', 153.0),\n",
       " ('saleq_2y', 150.0),\n",
       " ('pe_2y', 150.0),\n",
       " ('ltda_yoy', 148.0),\n",
       " ('index_mom', 147.0),\n",
       " ('index_sos', 141.0),\n",
       " ('vol_yoy', 140.0),\n",
       " ('ltcr_yoy', 138.0),\n",
       " ('pb', 136.0),\n",
       " ('dlttq_yoy', 132.0),\n",
       " ('roa_yoy', 124.0),\n",
       " ('rsi_1y', 123.0),\n",
       " ('ev_ebitda_yoy', 122.0),\n",
       " ('gpm_yoy', 121.0),\n",
       " ('price_2y', 120.0),\n",
       " ('atr_yoy', 118.0),\n",
       " ('ps_yoy', 114.0),\n",
       " ('volume_ma20', 113.0),\n",
       " ('rel_vol_yoy', 113.0),\n",
       " ('pe', 113.0),\n",
       " ('index_qoq', 112.0),\n",
       " ('gpm', 112.0),\n",
       " ('ltq_2y', 110.0),\n",
       " ('roe', 106.0),\n",
       " ('index_yoy', 101.0),\n",
       " ('price_qoq', 100.0),\n",
       " ('saleq_yoy', 98.0),\n",
       " ('vol_mom', 97.0),\n",
       " ('der_yoy', 97.0),\n",
       " ('size_yoy', 97.0),\n",
       " ('niq_2y', 96.0),\n",
       " ('price_mom', 88.0),\n",
       " ('insider_balance', 81.0),\n",
       " ('volume_ma50', 81.0),\n",
       " ('price_yoy', 81.0),\n",
       " ('dr_yoy', 81.0),\n",
       " ('roe_yoy', 80.0),\n",
       " ('roi_yoy', 79.0),\n",
       " ('roi_2y', 79.0),\n",
       " ('rsi_90d', 77.0),\n",
       " ('pe_yoy', 75.0),\n",
       " ('earn_drift', 72.0),\n",
       " ('rsi_60d', 71.0),\n",
       " ('rsi_14d', 70.0),\n",
       " ('pb_yoy', 67.0),\n",
       " ('momentum_yoy', 65.0),\n",
       " ('fcf_yoy', 63.0),\n",
       " ('rel_vol_qoq', 62.0),\n",
       " ('ltq_yoy', 59.0),\n",
       " ('rsi_30d', 46.0),\n",
       " ('niq_yoy', 46.0),\n",
       " ('sector_energy', 46.0),\n",
       " ('n_sales', 38.0),\n",
       " ('sector_information_technology', 29.0),\n",
       " ('momentum_qoq', 27.0),\n",
       " ('price_risk_sos', 26.0),\n",
       " ('low_fear', 26.0),\n",
       " ('momentum_2y', 25.0),\n",
       " ('f_score', 25.0),\n",
       " ('momentum_mom', 23.0),\n",
       " ('sector_health_care', 19.0),\n",
       " ('price_risk_2y', 17.0),\n",
       " ('sector_consumer_discretionary', 17.0),\n",
       " ('sector_financials', 16.0),\n",
       " ('sector_industrials', 14.0),\n",
       " ('sector_utilities', 12.0),\n",
       " ('price_risk_yoy', 10.0),\n",
       " ('sector_communication_services', 9.0),\n",
       " ('sector_consumer_staples', 8.0),\n",
       " ('sector_real_estate', 8.0),\n",
       " ('sector_materials', 5.0),\n",
       " ('n_purch', 4.0),\n",
       " ('price_risk_qoq', 3.0),\n",
       " ('high_fear', 3.0)]"
      ]
     },
     "execution_count": 11,
     "metadata": {},
     "output_type": "execute_result"
    }
   ],
   "source": [
    "model.get_importance(\"weight\")"
   ]
  },
  {
   "cell_type": "code",
   "execution_count": 12,
   "metadata": {},
   "outputs": [],
   "source": [
    "import numpy as np\n",
    "import shap\n",
    "\n",
    "\n",
    "def plot_shap(model, X_train):\n",
    "    explainer = shap.TreeExplainer(model.model)\n",
    "    shap_values = explainer(X_train)\n",
    "\n",
    "    feature_names = [\n",
    "        a + \": \" + str(b)\n",
    "        for a, b in zip(X_train.columns, np.abs(shap_values.values).mean(0).round(2), strict=False)\n",
    "    ]\n",
    "\n",
    "    shap.summary_plot(\n",
    "        shap_values,\n",
    "        X_train,\n",
    "        max_display=X_train.shape[1],\n",
    "        feature_names=feature_names,\n",
    "        plot_size=(8, 13.5),\n",
    "    )\n",
    "\n",
    "\n",
    "#  plot_shap(model, X_train)"
   ]
  }
 ],
 "metadata": {
  "kernelspec": {
   "display_name": "stocksense",
   "language": "python",
   "name": "python3"
  },
  "language_info": {
   "codemirror_mode": {
    "name": "ipython",
    "version": 3
   },
   "file_extension": ".py",
   "mimetype": "text/x-python",
   "name": "python",
   "nbconvert_exporter": "python",
   "pygments_lexer": "ipython3",
   "version": "3.11.0"
  }
 },
 "nbformat": 4,
 "nbformat_minor": 2
}
