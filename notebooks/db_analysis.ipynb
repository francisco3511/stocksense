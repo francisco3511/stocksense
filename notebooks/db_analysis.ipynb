{
 "cells": [
  {
   "cell_type": "markdown",
   "metadata": {},
   "source": [
    "### DB Analysis"
   ]
  },
  {
   "cell_type": "code",
   "execution_count": 1,
   "metadata": {},
   "outputs": [],
   "source": [
    "import pandas as pd\n",
    "import plotly.express as px\n",
    "import plotly.graph_objects as go\n",
    "import plotly.figure_factory as ff\n",
    "\n",
    "from database_handler import DatabaseHandler"
   ]
  },
  {
   "cell_type": "code",
   "execution_count": 2,
   "metadata": {},
   "outputs": [],
   "source": [
    "db = DatabaseHandler('../data/database/stock_db.db')"
   ]
  },
  {
   "cell_type": "code",
   "execution_count": 3,
   "metadata": {},
   "outputs": [
    {
     "data": {
      "text/html": [
       "<div><style>\n",
       ".dataframe > thead > tr,\n",
       ".dataframe > tbody > tr {\n",
       "  text-align: right;\n",
       "  white-space: pre-wrap;\n",
       "}\n",
       "</style>\n",
       "<small>shape: (940, 6)</small><table border=\"1\" class=\"dataframe\"><thead><tr><th>tic</th><th>name</th><th>sector</th><th>last_update</th><th>spx_status</th><th>active</th></tr><tr><td>str</td><td>str</td><td>str</td><td>date</td><td>i64</td><td>i64</td></tr></thead><tbody><tr><td>&quot;ABI&quot;</td><td>null</td><td>&quot;Industrials&quot;</td><td>2005-01-01</td><td>0</td><td>0</td></tr><tr><td>&quot;ABKFQ&quot;</td><td>null</td><td>&quot;Financials&quot;</td><td>2005-01-01</td><td>0</td><td>0</td></tr><tr><td>&quot;ABS&quot;</td><td>null</td><td>&quot;Consumer Staples&quot;</td><td>2005-01-01</td><td>0</td><td>0</td></tr><tr><td>&quot;ACV&quot;</td><td>null</td><td>&quot;Consumer Staples&quot;</td><td>2005-01-01</td><td>0</td><td>0</td></tr><tr><td>&quot;ANRZQ&quot;</td><td>null</td><td>&quot;Materials&quot;</td><td>2005-01-01</td><td>0</td><td>0</td></tr><tr><td>&hellip;</td><td>&hellip;</td><td>&hellip;</td><td>&hellip;</td><td>&hellip;</td><td>&hellip;</td></tr><tr><td>&quot;ZBH&quot;</td><td>&quot;Zimmer Biomet&quot;</td><td>&quot;Health Care&quot;</td><td>2024-10-13</td><td>1</td><td>1</td></tr><tr><td>&quot;ZTS&quot;</td><td>&quot;Zoetis&quot;</td><td>&quot;Health Care&quot;</td><td>2024-10-13</td><td>1</td><td>1</td></tr><tr><td>&quot;ERIE&quot;</td><td>&quot;Erie Indemnity&quot;</td><td>&quot;Financials&quot;</td><td>2024-10-13</td><td>1</td><td>1</td></tr><tr><td>&quot;PLTR&quot;</td><td>&quot;Palantir Technologies&quot;</td><td>&quot;Information Technology&quot;</td><td>2024-10-13</td><td>1</td><td>1</td></tr><tr><td>&quot;SW&quot;</td><td>&quot;Smurfit WestRock&quot;</td><td>&quot;Materials&quot;</td><td>2024-10-13</td><td>1</td><td>1</td></tr></tbody></table></div>"
      ],
      "text/plain": [
       "shape: (940, 6)\n",
       "┌───────┬───────────────────────┬────────────────────────┬─────────────┬────────────┬────────┐\n",
       "│ tic   ┆ name                  ┆ sector                 ┆ last_update ┆ spx_status ┆ active │\n",
       "│ ---   ┆ ---                   ┆ ---                    ┆ ---         ┆ ---        ┆ ---    │\n",
       "│ str   ┆ str                   ┆ str                    ┆ date        ┆ i64        ┆ i64    │\n",
       "╞═══════╪═══════════════════════╪════════════════════════╪═════════════╪════════════╪════════╡\n",
       "│ ABI   ┆ null                  ┆ Industrials            ┆ 2005-01-01  ┆ 0          ┆ 0      │\n",
       "│ ABKFQ ┆ null                  ┆ Financials             ┆ 2005-01-01  ┆ 0          ┆ 0      │\n",
       "│ ABS   ┆ null                  ┆ Consumer Staples       ┆ 2005-01-01  ┆ 0          ┆ 0      │\n",
       "│ ACV   ┆ null                  ┆ Consumer Staples       ┆ 2005-01-01  ┆ 0          ┆ 0      │\n",
       "│ ANRZQ ┆ null                  ┆ Materials              ┆ 2005-01-01  ┆ 0          ┆ 0      │\n",
       "│ …     ┆ …                     ┆ …                      ┆ …           ┆ …          ┆ …      │\n",
       "│ ZBH   ┆ Zimmer Biomet         ┆ Health Care            ┆ 2024-10-13  ┆ 1          ┆ 1      │\n",
       "│ ZTS   ┆ Zoetis                ┆ Health Care            ┆ 2024-10-13  ┆ 1          ┆ 1      │\n",
       "│ ERIE  ┆ Erie Indemnity        ┆ Financials             ┆ 2024-10-13  ┆ 1          ┆ 1      │\n",
       "│ PLTR  ┆ Palantir Technologies ┆ Information Technology ┆ 2024-10-13  ┆ 1          ┆ 1      │\n",
       "│ SW    ┆ Smurfit WestRock      ┆ Materials              ┆ 2024-10-13  ┆ 1          ┆ 1      │\n",
       "└───────┴───────────────────────┴────────────────────────┴─────────────┴────────────┴────────┘"
      ]
     },
     "execution_count": 3,
     "metadata": {},
     "output_type": "execute_result"
    }
   ],
   "source": [
    "db.fetch_stock().sort(by=['last_update'])"
   ]
  },
  {
   "cell_type": "code",
   "execution_count": null,
   "metadata": {},
   "outputs": [],
   "source": [
    "# db.delete_financials(\"VST\")"
   ]
  },
  {
   "cell_type": "code",
   "execution_count": 5,
   "metadata": {},
   "outputs": [
    {
     "data": {
      "text/html": [
       "<div><style>\n",
       ".dataframe > thead > tr,\n",
       ".dataframe > tbody > tr {\n",
       "  text-align: right;\n",
       "  white-space: pre-wrap;\n",
       "}\n",
       "</style>\n",
       "<small>shape: (78, 27)</small><table border=\"1\" class=\"dataframe\"><thead><tr><th>tic</th><th>datadate</th><th>rdq</th><th>saleq</th><th>cogsq</th><th>xsgaq</th><th>niq</th><th>ebitdaq</th><th>cshoq</th><th>actq</th><th>atq</th><th>cheq</th><th>rectq</th><th>invtq</th><th>ppentq</th><th>lctq</th><th>dlttq</th><th>ltq</th><th>req</th><th>seqq</th><th>oancfq</th><th>ivncfq</th><th>fincfq</th><th>dvq</th><th>capxq</th><th>icaptq</th><th>surprise_pct</th></tr><tr><td>str</td><td>date</td><td>date</td><td>f64</td><td>f64</td><td>f64</td><td>f64</td><td>f64</td><td>f64</td><td>f64</td><td>f64</td><td>f64</td><td>f64</td><td>f64</td><td>f64</td><td>f64</td><td>f64</td><td>f64</td><td>f64</td><td>f64</td><td>f64</td><td>f64</td><td>f64</td><td>f64</td><td>f64</td><td>f64</td><td>f64</td></tr></thead><tbody><tr><td>&quot;AAPL&quot;</td><td>2005-03-31</td><td>2005-04-13</td><td>3243.0</td><td>2235.0</td><td>570.0</td><td>286.0</td><td>438.0</td><td>823.137</td><td>9007.0</td><td>10111.0</td><td>7057.0</td><td>1242.0</td><td>164.0</td><td>742.0</td><td>3352.0</td><td>0.0</td><td>3725.0</td><td>3261.0</td><td>6386.0</td><td>1311.0</td><td>-2432.0</td><td>406.0</td><td>0.0</td><td>101.0</td><td>6386.0</td><td>0.397</td></tr><tr><td>&quot;AAPL&quot;</td><td>2005-06-30</td><td>2005-07-13</td><td>3520.0</td><td>2430.0</td><td>618.0</td><td>319.0</td><td>472.0</td><td>827.981</td><td>9376.0</td><td>10488.0</td><td>7526.0</td><td>1101.0</td><td>193.0</td><td>764.0</td><td>3123.0</td><td>0.0</td><td>3667.0</td><td>3584.0</td><td>6821.0</td><td>472.0</td><td>305.0</td><td>63.0</td><td>0.0</td><td>63.0</td><td>6821.0</td><td>0.18</td></tr><tr><td>&quot;AAPL&quot;</td><td>2005-09-30</td><td>2005-10-11</td><td>3678.0</td><td>2592.0</td><td>618.0</td><td>428.0</td><td>468.0</td><td>835.019</td><td>10300.0</td><td>11551.0</td><td>8261.0</td><td>1312.0</td><td>165.0</td><td>817.0</td><td>3484.0</td><td>0.0</td><td>4085.0</td><td>4005.0</td><td>7466.0</td><td>752.0</td><td>-429.0</td><td>74.0</td><td>0.0</td><td>96.0</td><td>7466.0</td><td>0.021</td></tr><tr><td>&quot;AAPL&quot;</td><td>2005-12-31</td><td>2006-01-18</td><td>5749.0</td><td>4133.0</td><td>814.0</td><td>565.0</td><td>802.0</td><td>845.617</td><td>12162.0</td><td>14181.0</td><td>8707.0</td><td>2413.0</td><td>244.0</td><td>855.0</td><td>5060.0</td><td>0.0</td><td>5801.0</td><td>4565.0</td><td>8380.0</td><td>283.0</td><td>93.0</td><td>283.0</td><td>0.0</td><td>82.0</td><td>8380.0</td><td>0.071</td></tr><tr><td>&quot;AAPL&quot;</td><td>2006-03-31</td><td>2006-04-19</td><td>4359.0</td><td>3012.0</td><td>768.0</td><td>410.0</td><td>579.0</td><td>849.188</td><td>11286.0</td><td>13911.0</td><td>8226.0</td><td>1984.0</td><td>204.0</td><td>1005.0</td><td>4456.0</td><td>0.0</td><td>5229.0</td><td>4668.0</td><td>8682.0</td><td>-125.0</td><td>2462.0</td><td>-141.0</td><td>0.0</td><td>193.0</td><td>8682.0</td><td>0.082</td></tr><tr><td>&hellip;</td><td>&hellip;</td><td>&hellip;</td><td>&hellip;</td><td>&hellip;</td><td>&hellip;</td><td>&hellip;</td><td>&hellip;</td><td>&hellip;</td><td>&hellip;</td><td>&hellip;</td><td>&hellip;</td><td>&hellip;</td><td>&hellip;</td><td>&hellip;</td><td>&hellip;</td><td>&hellip;</td><td>&hellip;</td><td>&hellip;</td><td>&hellip;</td><td>&hellip;</td><td>&hellip;</td><td>&hellip;</td><td>&hellip;</td><td>&hellip;</td><td>&hellip;</td><td>&hellip;</td></tr><tr><td>&quot;AAPL&quot;</td><td>2023-06-30</td><td>2023-08-03</td><td>81797.0</td><td>45384.0</td><td>5973.0</td><td>19881.0</td><td>26050.0</td><td>15647.868</td><td>122659.0</td><td>335038.0</td><td>62482.0</td><td>39186.0</td><td>7351.0</td><td>43550.0</td><td>124963.0</td><td>98071.0</td><td>274764.0</td><td>1408.0</td><td>60274.0</td><td>26380.0</td><td>437.0</td><td>-24048.0</td><td>3849.0</td><td>2093.0</td><td>169554.0</td><td>0.055</td></tr><tr><td>&quot;AAPL&quot;</td><td>2023-09-30</td><td>2023-11-02</td><td>89498.0</td><td>49071.0</td><td>6151.0</td><td>22956.0</td><td>30653.0</td><td>15550.061</td><td>143566.0</td><td>352583.0</td><td>61555.0</td><td>60985.0</td><td>6331.0</td><td>43715.0</td><td>145308.0</td><td>95281.0</td><td>290437.0</td><td>-214.0</td><td>62146.0</td><td>21598.0</td><td>2394.0</td><td>-23153.0</td><td>3758.0</td><td>2163.0</td><td>173234.0</td><td>0.049</td></tr><tr><td>&quot;AAPL&quot;</td><td>2023-12-31</td><td>2024-02-01</td><td>119575.0</td><td>64720.0</td><td>6786.0</td><td>33916.0</td><td>43221.0</td><td>15460.223</td><td>143692.0</td><td>353514.0</td><td>73100.0</td><td>50102.0</td><td>6511.0</td><td>43666.0</td><td>133973.0</td><td>95088.0</td><td>279414.0</td><td>8242.0</td><td>74100.0</td><td>39895.0</td><td>1927.0</td><td>-30585.0</td><td>3825.0</td><td>2392.0</td><td>182140.0</td><td>0.039</td></tr><tr><td>&quot;AAPL&quot;</td><td>2024-03-31</td><td>2024-05-02</td><td>90753.0</td><td>48482.0</td><td>6468.0</td><td>23636.0</td><td>30736.0</td><td>15337.686</td><td>128416.0</td><td>337411.0</td><td>67150.0</td><td>41150.0</td><td>6232.0</td><td>43546.0</td><td>123822.0</td><td>91831.0</td><td>263217.0</td><td>4339.0</td><td>74194.0</td><td>22690.0</td><td>-310.0</td><td>-30433.0</td><td>3710.0</td><td>1996.0</td><td>178784.0</td><td>0.02</td></tr><tr><td>&quot;AAPL&quot;</td><td>2024-06-30</td><td>2024-08-01</td><td>85777.0</td><td>46099.0</td><td>6320.0</td><td>21448.0</td><td>28202.0</td><td>15222.259</td><td>125435.0</td><td>331612.0</td><td>61801.0</td><td>43172.0</td><td>6165.0</td><td>44502.0</td><td>131624.0</td><td>86196.0</td><td>264904.0</td><td>-4726.0</td><td>66708.0</td><td>28858.0</td><td>-127.0</td><td>-36017.0</td><td>3895.0</td><td>2151.0</td><td>168012.0</td><td>0.0399</td></tr></tbody></table></div>"
      ],
      "text/plain": [
       "shape: (78, 27)\n",
       "┌──────┬────────────┬────────────┬──────────┬───┬────────┬────────┬──────────┬──────────────┐\n",
       "│ tic  ┆ datadate   ┆ rdq        ┆ saleq    ┆ … ┆ dvq    ┆ capxq  ┆ icaptq   ┆ surprise_pct │\n",
       "│ ---  ┆ ---        ┆ ---        ┆ ---      ┆   ┆ ---    ┆ ---    ┆ ---      ┆ ---          │\n",
       "│ str  ┆ date       ┆ date       ┆ f64      ┆   ┆ f64    ┆ f64    ┆ f64      ┆ f64          │\n",
       "╞══════╪════════════╪════════════╪══════════╪═══╪════════╪════════╪══════════╪══════════════╡\n",
       "│ AAPL ┆ 2005-03-31 ┆ 2005-04-13 ┆ 3243.0   ┆ … ┆ 0.0    ┆ 101.0  ┆ 6386.0   ┆ 0.397        │\n",
       "│ AAPL ┆ 2005-06-30 ┆ 2005-07-13 ┆ 3520.0   ┆ … ┆ 0.0    ┆ 63.0   ┆ 6821.0   ┆ 0.18         │\n",
       "│ AAPL ┆ 2005-09-30 ┆ 2005-10-11 ┆ 3678.0   ┆ … ┆ 0.0    ┆ 96.0   ┆ 7466.0   ┆ 0.021        │\n",
       "│ AAPL ┆ 2005-12-31 ┆ 2006-01-18 ┆ 5749.0   ┆ … ┆ 0.0    ┆ 82.0   ┆ 8380.0   ┆ 0.071        │\n",
       "│ AAPL ┆ 2006-03-31 ┆ 2006-04-19 ┆ 4359.0   ┆ … ┆ 0.0    ┆ 193.0  ┆ 8682.0   ┆ 0.082        │\n",
       "│ …    ┆ …          ┆ …          ┆ …        ┆ … ┆ …      ┆ …      ┆ …        ┆ …            │\n",
       "│ AAPL ┆ 2023-06-30 ┆ 2023-08-03 ┆ 81797.0  ┆ … ┆ 3849.0 ┆ 2093.0 ┆ 169554.0 ┆ 0.055        │\n",
       "│ AAPL ┆ 2023-09-30 ┆ 2023-11-02 ┆ 89498.0  ┆ … ┆ 3758.0 ┆ 2163.0 ┆ 173234.0 ┆ 0.049        │\n",
       "│ AAPL ┆ 2023-12-31 ┆ 2024-02-01 ┆ 119575.0 ┆ … ┆ 3825.0 ┆ 2392.0 ┆ 182140.0 ┆ 0.039        │\n",
       "│ AAPL ┆ 2024-03-31 ┆ 2024-05-02 ┆ 90753.0  ┆ … ┆ 3710.0 ┆ 1996.0 ┆ 178784.0 ┆ 0.02         │\n",
       "│ AAPL ┆ 2024-06-30 ┆ 2024-08-01 ┆ 85777.0  ┆ … ┆ 3895.0 ┆ 2151.0 ┆ 168012.0 ┆ 0.0399       │\n",
       "└──────┴────────────┴────────────┴──────────┴───┴────────┴────────┴──────────┴──────────────┘"
      ]
     },
     "execution_count": 5,
     "metadata": {},
     "output_type": "execute_result"
    }
   ],
   "source": [
    "fdf = db.fetch_financial_data(\"AAPL\")\n",
    "fdf"
   ]
  },
  {
   "cell_type": "code",
   "execution_count": 6,
   "metadata": {},
   "outputs": [
    {
     "data": {
      "text/html": [
       "<div><style>\n",
       ".dataframe > thead > tr,\n",
       ".dataframe > tbody > tr {\n",
       "  text-align: right;\n",
       "  white-space: pre-wrap;\n",
       "}\n",
       "</style>\n",
       "<small>shape: (1_015, 5)</small><table border=\"1\" class=\"dataframe\"><thead><tr><th>tic</th><th>date</th><th>close</th><th>adj_close</th><th>volume</th></tr><tr><td>str</td><td>date</td><td>f64</td><td>f64</td><td>i64</td></tr></thead><tbody><tr><td>&quot;PLTR&quot;</td><td>2020-09-30</td><td>9.5</td><td>9.5</td><td>338584400</td></tr><tr><td>&quot;PLTR&quot;</td><td>2020-10-01</td><td>9.46</td><td>9.46</td><td>124297600</td></tr><tr><td>&quot;PLTR&quot;</td><td>2020-10-02</td><td>9.2</td><td>9.2</td><td>55018300</td></tr><tr><td>&quot;PLTR&quot;</td><td>2020-10-05</td><td>9.03</td><td>9.03</td><td>36316900</td></tr><tr><td>&quot;PLTR&quot;</td><td>2020-10-06</td><td>9.9</td><td>9.9</td><td>90864000</td></tr><tr><td>&hellip;</td><td>&hellip;</td><td>&hellip;</td><td>&hellip;</td><td>&hellip;</td></tr><tr><td>&quot;PLTR&quot;</td><td>2024-10-07</td><td>38.889999</td><td>38.889999</td><td>44124800</td></tr><tr><td>&quot;PLTR&quot;</td><td>2024-10-08</td><td>41.450001</td><td>41.450001</td><td>62542900</td></tr><tr><td>&quot;PLTR&quot;</td><td>2024-10-09</td><td>43.130001</td><td>43.130001</td><td>86404700</td></tr><tr><td>&quot;PLTR&quot;</td><td>2024-10-10</td><td>43.52</td><td>43.52</td><td>62516300</td></tr><tr><td>&quot;PLTR&quot;</td><td>2024-10-11</td><td>43.509998</td><td>43.509998</td><td>66056900</td></tr></tbody></table></div>"
      ],
      "text/plain": [
       "shape: (1_015, 5)\n",
       "┌──────┬────────────┬───────────┬───────────┬───────────┐\n",
       "│ tic  ┆ date       ┆ close     ┆ adj_close ┆ volume    │\n",
       "│ ---  ┆ ---        ┆ ---       ┆ ---       ┆ ---       │\n",
       "│ str  ┆ date       ┆ f64       ┆ f64       ┆ i64       │\n",
       "╞══════╪════════════╪═══════════╪═══════════╪═══════════╡\n",
       "│ PLTR ┆ 2020-09-30 ┆ 9.5       ┆ 9.5       ┆ 338584400 │\n",
       "│ PLTR ┆ 2020-10-01 ┆ 9.46      ┆ 9.46      ┆ 124297600 │\n",
       "│ PLTR ┆ 2020-10-02 ┆ 9.2       ┆ 9.2       ┆ 55018300  │\n",
       "│ PLTR ┆ 2020-10-05 ┆ 9.03      ┆ 9.03      ┆ 36316900  │\n",
       "│ PLTR ┆ 2020-10-06 ┆ 9.9       ┆ 9.9       ┆ 90864000  │\n",
       "│ …    ┆ …          ┆ …         ┆ …         ┆ …         │\n",
       "│ PLTR ┆ 2024-10-07 ┆ 38.889999 ┆ 38.889999 ┆ 44124800  │\n",
       "│ PLTR ┆ 2024-10-08 ┆ 41.450001 ┆ 41.450001 ┆ 62542900  │\n",
       "│ PLTR ┆ 2024-10-09 ┆ 43.130001 ┆ 43.130001 ┆ 86404700  │\n",
       "│ PLTR ┆ 2024-10-10 ┆ 43.52     ┆ 43.52     ┆ 62516300  │\n",
       "│ PLTR ┆ 2024-10-11 ┆ 43.509998 ┆ 43.509998 ┆ 66056900  │\n",
       "└──────┴────────────┴───────────┴───────────┴───────────┘"
      ]
     },
     "execution_count": 6,
     "metadata": {},
     "output_type": "execute_result"
    }
   ],
   "source": [
    "mdf = db.fetch_market_data(\"PLTR\")\n",
    "mdf"
   ]
  }
 ],
 "metadata": {
  "kernelspec": {
   "display_name": "stocksense",
   "language": "python",
   "name": "python3"
  },
  "language_info": {
   "codemirror_mode": {
    "name": "ipython",
    "version": 3
   },
   "file_extension": ".py",
   "mimetype": "text/x-python",
   "name": "python",
   "nbconvert_exporter": "python",
   "pygments_lexer": "ipython3",
   "version": "3.10.13"
  },
  "orig_nbformat": 4
 },
 "nbformat": 4,
 "nbformat_minor": 2
}
