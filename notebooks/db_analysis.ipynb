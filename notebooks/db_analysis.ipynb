{
 "cells": [
  {
   "cell_type": "markdown",
   "metadata": {},
   "source": [
    "### DB Analysis"
   ]
  },
  {
   "cell_type": "code",
   "execution_count": 11,
   "metadata": {},
   "outputs": [],
   "source": [
    "import pandas as pd\n",
    "import plotly.express as px\n",
    "import plotly.graph_objects as go\n",
    "import plotly.figure_factory as ff\n",
    "\n",
    "from database_handler import DatabaseHandler"
   ]
  },
  {
   "cell_type": "code",
   "execution_count": 13,
   "metadata": {},
   "outputs": [],
   "source": [
    "db = DatabaseHandler('../data/database/stock_db.db')"
   ]
  },
  {
   "cell_type": "code",
   "execution_count": 23,
   "metadata": {},
   "outputs": [
    {
     "data": {
      "text/html": [
       "<div><style>\n",
       ".dataframe > thead > tr,\n",
       ".dataframe > tbody > tr {\n",
       "  text-align: right;\n",
       "  white-space: pre-wrap;\n",
       "}\n",
       "</style>\n",
       "<small>shape: (940, 6)</small><table border=\"1\" class=\"dataframe\"><thead><tr><th>tic</th><th>name</th><th>sector</th><th>last_update</th><th>spx_status</th><th>active</th></tr><tr><td>str</td><td>str</td><td>str</td><td>date</td><td>i64</td><td>i64</td></tr></thead><tbody><tr><td>&quot;DELL&quot;</td><td>null</td><td>&quot;Information Technology&quot;</td><td>2024-10-11</td><td>1</td><td>1</td></tr><tr><td>&quot;ADBE&quot;</td><td>&quot;Adobe Inc.&quot;</td><td>&quot;Information Technology&quot;</td><td>2024-10-11</td><td>1</td><td>1</td></tr><tr><td>&quot;A&quot;</td><td>&quot;Agilent Technologies&quot;</td><td>&quot;Health Care&quot;</td><td>2024-10-11</td><td>1</td><td>1</td></tr><tr><td>&quot;ADSK&quot;</td><td>&quot;Autodesk&quot;</td><td>&quot;Information Technology&quot;</td><td>2024-10-11</td><td>1</td><td>1</td></tr><tr><td>&quot;BBWI&quot;</td><td>&quot;Bath &amp; Body Works, Inc.&quot;</td><td>&quot;Consumer Discretionary&quot;</td><td>2024-10-11</td><td>0</td><td>1</td></tr><tr><td>&hellip;</td><td>&hellip;</td><td>&hellip;</td><td>&hellip;</td><td>&hellip;</td><td>&hellip;</td></tr><tr><td>&quot;NWS&quot;</td><td>&quot;News Corp (Class B)&quot;</td><td>&quot;Communication Services&quot;</td><td>2005-01-01</td><td>1</td><td>0</td></tr><tr><td>&quot;AMTM&quot;</td><td>&quot;Amentum&quot;</td><td>&quot;Industrials&quot;</td><td>2005-01-01</td><td>1</td><td>1</td></tr><tr><td>&quot;ERIE&quot;</td><td>&quot;Erie Indemnity&quot;</td><td>&quot;Financials&quot;</td><td>2005-01-01</td><td>1</td><td>1</td></tr><tr><td>&quot;PLTR&quot;</td><td>&quot;Palantir Technologies&quot;</td><td>&quot;Information Technology&quot;</td><td>2005-01-01</td><td>1</td><td>1</td></tr><tr><td>&quot;SW&quot;</td><td>&quot;Smurfit WestRock&quot;</td><td>&quot;Materials&quot;</td><td>2005-01-01</td><td>1</td><td>1</td></tr></tbody></table></div>"
      ],
      "text/plain": [
       "shape: (940, 6)\n",
       "┌──────┬─────────────────────────┬────────────────────────┬─────────────┬────────────┬────────┐\n",
       "│ tic  ┆ name                    ┆ sector                 ┆ last_update ┆ spx_status ┆ active │\n",
       "│ ---  ┆ ---                     ┆ ---                    ┆ ---         ┆ ---        ┆ ---    │\n",
       "│ str  ┆ str                     ┆ str                    ┆ date        ┆ i64        ┆ i64    │\n",
       "╞══════╪═════════════════════════╪════════════════════════╪═════════════╪════════════╪════════╡\n",
       "│ DELL ┆ null                    ┆ Information Technology ┆ 2024-10-11  ┆ 1          ┆ 1      │\n",
       "│ ADBE ┆ Adobe Inc.              ┆ Information Technology ┆ 2024-10-11  ┆ 1          ┆ 1      │\n",
       "│ A    ┆ Agilent Technologies    ┆ Health Care            ┆ 2024-10-11  ┆ 1          ┆ 1      │\n",
       "│ ADSK ┆ Autodesk                ┆ Information Technology ┆ 2024-10-11  ┆ 1          ┆ 1      │\n",
       "│ BBWI ┆ Bath & Body Works, Inc. ┆ Consumer Discretionary ┆ 2024-10-11  ┆ 0          ┆ 1      │\n",
       "│ …    ┆ …                       ┆ …                      ┆ …           ┆ …          ┆ …      │\n",
       "│ NWS  ┆ News Corp (Class B)     ┆ Communication Services ┆ 2005-01-01  ┆ 1          ┆ 0      │\n",
       "│ AMTM ┆ Amentum                 ┆ Industrials            ┆ 2005-01-01  ┆ 1          ┆ 1      │\n",
       "│ ERIE ┆ Erie Indemnity          ┆ Financials             ┆ 2005-01-01  ┆ 1          ┆ 1      │\n",
       "│ PLTR ┆ Palantir Technologies   ┆ Information Technology ┆ 2005-01-01  ┆ 1          ┆ 1      │\n",
       "│ SW   ┆ Smurfit WestRock        ┆ Materials              ┆ 2005-01-01  ┆ 1          ┆ 1      │\n",
       "└──────┴─────────────────────────┴────────────────────────┴─────────────┴────────────┴────────┘"
      ]
     },
     "execution_count": 23,
     "metadata": {},
     "output_type": "execute_result"
    }
   ],
   "source": [
    "db.fetch_stock().sort('last_update', descending=True)"
   ]
  },
  {
   "cell_type": "code",
   "execution_count": 25,
   "metadata": {},
   "outputs": [
    {
     "data": {
      "text/html": [
       "<div><style>\n",
       ".dataframe > thead > tr,\n",
       ".dataframe > tbody > tr {\n",
       "  text-align: right;\n",
       "  white-space: pre-wrap;\n",
       "}\n",
       "</style>\n",
       "<small>shape: (6, 27)</small><table border=\"1\" class=\"dataframe\"><thead><tr><th>tic</th><th>datadate</th><th>rdq</th><th>saleq</th><th>cogsq</th><th>xsgaq</th><th>niq</th><th>ebitdaq</th><th>cshoq</th><th>actq</th><th>atq</th><th>cheq</th><th>rectq</th><th>invtq</th><th>ppentq</th><th>lctq</th><th>dlttq</th><th>ltq</th><th>req</th><th>seqq</th><th>oancfq</th><th>ivncfq</th><th>fincfq</th><th>dvq</th><th>capxq</th><th>icaptq</th><th>surprise_pct</th></tr><tr><td>str</td><td>date</td><td>date</td><td>f64</td><td>f64</td><td>f64</td><td>f64</td><td>f64</td><td>f64</td><td>f64</td><td>f64</td><td>f64</td><td>f64</td><td>null</td><td>f64</td><td>f64</td><td>null</td><td>f64</td><td>f64</td><td>f64</td><td>f64</td><td>f64</td><td>f64</td><td>null</td><td>f64</td><td>f64</td><td>f64</td></tr></thead><tbody><tr><td>&quot;PLTR&quot;</td><td>2023-03-31</td><td>2023-05-08</td><td>null</td><td>null</td><td>null</td><td>null</td><td>null</td><td>null</td><td>null</td><td>null</td><td>null</td><td>null</td><td>null</td><td>null</td><td>null</td><td>null</td><td>null</td><td>null</td><td>null</td><td>null</td><td>null</td><td>null</td><td>null</td><td>null</td><td>null</td><td>0.2544</td></tr><tr><td>&quot;PLTR&quot;</td><td>2023-06-30</td><td>2023-08-07</td><td>533.317</td><td>106.899</td><td>316.811</td><td>28.127</td><td>18.473</td><td>2149.98</td><td>3576.914</td><td>3980.264</td><td>3103.252</td><td>375.756</td><td>null</td><td>253.758</td><td>685.384</td><td>null</td><td>945.126</td><td>-5814.509</td><td>2955.474</td><td>90.192</td><td>-391.099</td><td>90.684</td><td>null</td><td>3.934</td><td>2955.474</td><td>-0.0156</td></tr><tr><td>&quot;PLTR&quot;</td><td>2023-09-30</td><td>2023-11-02</td><td>558.159</td><td>107.922</td><td>304.546</td><td>71.505</td><td>89.374</td><td>2175.241</td><td>3809.397</td><td>4193.417</td><td>3283.574</td><td>430.269</td><td>null</td><td>240.324</td><td>688.925</td><td>null</td><td>921.52</td><td>-5743.004</td><td>3190.015</td><td>133.443</td><td>-196.264</td><td>50.94</td><td>null</td><td>1.565</td><td>3190.015</td><td>0.2453</td></tr><tr><td>&quot;PLTR&quot;</td><td>2023-12-31</td><td>2024-02-05</td><td>608.35</td><td>108.639</td><td>324.634</td><td>93.391</td><td>114.355</td><td>2200.128</td><td>4138.618</td><td>4522.425</td><td>3674.179</td><td>364.784</td><td>null</td><td>230.621</td><td>746.018</td><td>null</td><td>961.46</td><td>-5649.613</td><td>3475.561</td><td>301.172</td><td>-569.226</td><td>51.232</td><td>null</td><td>4.86</td><td>3475.561</td><td>0.0616</td></tr><tr><td>&quot;PLTR&quot;</td><td>2024-03-31</td><td>2024-05-06</td><td>634.338</td><td>116.256</td><td>327.161</td><td>105.53</td><td>89.319</td><td>2226.963</td><td>4436.064</td><td>4807.079</td><td>3867.9</td><td>486.986</td><td>null</td><td>220.613</td><td>750.553</td><td>null</td><td>945.907</td><td>-5544.083</td><td>3775.227</td><td>129.579</td><td>-511.245</td><td>75.248</td><td>null</td><td>2.664</td><td>3775.227</td><td>0.02</td></tr><tr><td>&quot;PLTR&quot;</td><td>2024-06-30</td><td>2024-08-05</td><td>678.134</td><td>128.562</td><td>335.452</td><td>134.126</td><td>113.395</td><td>2237.939</td><td>4773.51</td><td>5191.88</td><td>3998.459</td><td>659.339</td><td>null</td><td>256.936</td><td>806.919</td><td>null</td><td>1054.074</td><td>-5409.957</td><td>4050.524</td><td>144.187</td><td>-148.878</td><td>-1.975</td><td>null</td><td>2.879</td><td>4050.524</td><td>0.108</td></tr></tbody></table></div>"
      ],
      "text/plain": [
       "shape: (6, 27)\n",
       "┌──────┬────────────┬────────────┬─────────┬───┬──────┬───────┬──────────┬──────────────┐\n",
       "│ tic  ┆ datadate   ┆ rdq        ┆ saleq   ┆ … ┆ dvq  ┆ capxq ┆ icaptq   ┆ surprise_pct │\n",
       "│ ---  ┆ ---        ┆ ---        ┆ ---     ┆   ┆ ---  ┆ ---   ┆ ---      ┆ ---          │\n",
       "│ str  ┆ date       ┆ date       ┆ f64     ┆   ┆ null ┆ f64   ┆ f64      ┆ f64          │\n",
       "╞══════╪════════════╪════════════╪═════════╪═══╪══════╪═══════╪══════════╪══════════════╡\n",
       "│ PLTR ┆ 2023-03-31 ┆ 2023-05-08 ┆ null    ┆ … ┆ null ┆ null  ┆ null     ┆ 0.2544       │\n",
       "│ PLTR ┆ 2023-06-30 ┆ 2023-08-07 ┆ 533.317 ┆ … ┆ null ┆ 3.934 ┆ 2955.474 ┆ -0.0156      │\n",
       "│ PLTR ┆ 2023-09-30 ┆ 2023-11-02 ┆ 558.159 ┆ … ┆ null ┆ 1.565 ┆ 3190.015 ┆ 0.2453       │\n",
       "│ PLTR ┆ 2023-12-31 ┆ 2024-02-05 ┆ 608.35  ┆ … ┆ null ┆ 4.86  ┆ 3475.561 ┆ 0.0616       │\n",
       "│ PLTR ┆ 2024-03-31 ┆ 2024-05-06 ┆ 634.338 ┆ … ┆ null ┆ 2.664 ┆ 3775.227 ┆ 0.02         │\n",
       "│ PLTR ┆ 2024-06-30 ┆ 2024-08-05 ┆ 678.134 ┆ … ┆ null ┆ 2.879 ┆ 4050.524 ┆ 0.108        │\n",
       "└──────┴────────────┴────────────┴─────────┴───┴──────┴───────┴──────────┴──────────────┘"
      ]
     },
     "execution_count": 25,
     "metadata": {},
     "output_type": "execute_result"
    }
   ],
   "source": [
    "fdf = db.fetch_financial_data(\"PLTR\")\n",
    "fdf"
   ]
  },
  {
   "cell_type": "code",
   "execution_count": 27,
   "metadata": {},
   "outputs": [
    {
     "data": {
      "text/html": [
       "<div><style>\n",
       ".dataframe > thead > tr,\n",
       ".dataframe > tbody > tr {\n",
       "  text-align: right;\n",
       "  white-space: pre-wrap;\n",
       "}\n",
       "</style>\n",
       "<small>shape: (1_014, 5)</small><table border=\"1\" class=\"dataframe\"><thead><tr><th>tic</th><th>date</th><th>close</th><th>adj_close</th><th>volume</th></tr><tr><td>str</td><td>date</td><td>f64</td><td>f64</td><td>i64</td></tr></thead><tbody><tr><td>&quot;PLTR&quot;</td><td>2020-09-30</td><td>9.5</td><td>9.5</td><td>338584400</td></tr><tr><td>&quot;PLTR&quot;</td><td>2020-10-01</td><td>9.46</td><td>9.46</td><td>124297600</td></tr><tr><td>&quot;PLTR&quot;</td><td>2020-10-02</td><td>9.2</td><td>9.2</td><td>55018300</td></tr><tr><td>&quot;PLTR&quot;</td><td>2020-10-05</td><td>9.03</td><td>9.03</td><td>36316900</td></tr><tr><td>&quot;PLTR&quot;</td><td>2020-10-06</td><td>9.9</td><td>9.9</td><td>90864000</td></tr><tr><td>&hellip;</td><td>&hellip;</td><td>&hellip;</td><td>&hellip;</td><td>&hellip;</td></tr><tr><td>&quot;PLTR&quot;</td><td>2024-10-04</td><td>40.009998</td><td>40.009998</td><td>62532500</td></tr><tr><td>&quot;PLTR&quot;</td><td>2024-10-07</td><td>38.889999</td><td>38.889999</td><td>44124800</td></tr><tr><td>&quot;PLTR&quot;</td><td>2024-10-08</td><td>41.450001</td><td>41.450001</td><td>62542900</td></tr><tr><td>&quot;PLTR&quot;</td><td>2024-10-09</td><td>43.130001</td><td>43.130001</td><td>86404700</td></tr><tr><td>&quot;PLTR&quot;</td><td>2024-10-10</td><td>43.52</td><td>43.52</td><td>62347500</td></tr></tbody></table></div>"
      ],
      "text/plain": [
       "shape: (1_014, 5)\n",
       "┌──────┬────────────┬───────────┬───────────┬───────────┐\n",
       "│ tic  ┆ date       ┆ close     ┆ adj_close ┆ volume    │\n",
       "│ ---  ┆ ---        ┆ ---       ┆ ---       ┆ ---       │\n",
       "│ str  ┆ date       ┆ f64       ┆ f64       ┆ i64       │\n",
       "╞══════╪════════════╪═══════════╪═══════════╪═══════════╡\n",
       "│ PLTR ┆ 2020-09-30 ┆ 9.5       ┆ 9.5       ┆ 338584400 │\n",
       "│ PLTR ┆ 2020-10-01 ┆ 9.46      ┆ 9.46      ┆ 124297600 │\n",
       "│ PLTR ┆ 2020-10-02 ┆ 9.2       ┆ 9.2       ┆ 55018300  │\n",
       "│ PLTR ┆ 2020-10-05 ┆ 9.03      ┆ 9.03      ┆ 36316900  │\n",
       "│ PLTR ┆ 2020-10-06 ┆ 9.9       ┆ 9.9       ┆ 90864000  │\n",
       "│ …    ┆ …          ┆ …         ┆ …         ┆ …         │\n",
       "│ PLTR ┆ 2024-10-04 ┆ 40.009998 ┆ 40.009998 ┆ 62532500  │\n",
       "│ PLTR ┆ 2024-10-07 ┆ 38.889999 ┆ 38.889999 ┆ 44124800  │\n",
       "│ PLTR ┆ 2024-10-08 ┆ 41.450001 ┆ 41.450001 ┆ 62542900  │\n",
       "│ PLTR ┆ 2024-10-09 ┆ 43.130001 ┆ 43.130001 ┆ 86404700  │\n",
       "│ PLTR ┆ 2024-10-10 ┆ 43.52     ┆ 43.52     ┆ 62347500  │\n",
       "└──────┴────────────┴───────────┴───────────┴───────────┘"
      ]
     },
     "execution_count": 27,
     "metadata": {},
     "output_type": "execute_result"
    }
   ],
   "source": [
    "mdf = db.fetch_market_data(\"PLTR\")\n",
    "mdf"
   ]
  }
 ],
 "metadata": {
  "kernelspec": {
   "display_name": "stocksense",
   "language": "python",
   "name": "python3"
  },
  "language_info": {
   "codemirror_mode": {
    "name": "ipython",
    "version": 3
   },
   "file_extension": ".py",
   "mimetype": "text/x-python",
   "name": "python",
   "nbconvert_exporter": "python",
   "pygments_lexer": "ipython3",
   "version": "3.10.13"
  },
  "orig_nbformat": 4
 },
 "nbformat": 4,
 "nbformat_minor": 2
}
