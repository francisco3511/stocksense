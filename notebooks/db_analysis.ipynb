{
 "cells": [
  {
   "cell_type": "markdown",
   "metadata": {},
   "source": [
    "### DB Analysis"
   ]
  },
  {
   "cell_type": "code",
   "execution_count": 5,
   "metadata": {},
   "outputs": [],
   "source": [
    "import pandas as pd\n",
    "import plotly.express as px\n",
    "import plotly.graph_objects as go\n",
    "import plotly.figure_factory as ff\n",
    "\n",
    "from database_handler import DatabaseHandler"
   ]
  },
  {
   "cell_type": "code",
   "execution_count": 6,
   "metadata": {},
   "outputs": [],
   "source": [
    "db = DatabaseHandler('../data/database/stock_db.db')"
   ]
  },
  {
   "cell_type": "code",
   "execution_count": 7,
   "metadata": {},
   "outputs": [
    {
     "data": {
      "text/html": [
       "<div><style>\n",
       ".dataframe > thead > tr,\n",
       ".dataframe > tbody > tr {\n",
       "  text-align: right;\n",
       "  white-space: pre-wrap;\n",
       "}\n",
       "</style>\n",
       "<small>shape: (940, 6)</small><table border=\"1\" class=\"dataframe\"><thead><tr><th>tic</th><th>name</th><th>sector</th><th>last_update</th><th>spx_status</th><th>active</th></tr><tr><td>str</td><td>str</td><td>str</td><td>date</td><td>i64</td><td>i64</td></tr></thead><tbody><tr><td>&quot;ABI&quot;</td><td>null</td><td>&quot;Industrials&quot;</td><td>2005-01-01</td><td>0</td><td>0</td></tr><tr><td>&quot;ABKFQ&quot;</td><td>null</td><td>&quot;Financials&quot;</td><td>2005-01-01</td><td>0</td><td>0</td></tr><tr><td>&quot;ABS&quot;</td><td>null</td><td>&quot;Consumer Staples&quot;</td><td>2005-01-01</td><td>0</td><td>0</td></tr><tr><td>&quot;ACV&quot;</td><td>null</td><td>&quot;Consumer Staples&quot;</td><td>2005-01-01</td><td>0</td><td>0</td></tr><tr><td>&quot;ANRZQ&quot;</td><td>null</td><td>&quot;Materials&quot;</td><td>2005-01-01</td><td>0</td><td>0</td></tr><tr><td>&hellip;</td><td>&hellip;</td><td>&hellip;</td><td>&hellip;</td><td>&hellip;</td><td>&hellip;</td></tr><tr><td>&quot;ORCL&quot;</td><td>&quot;Oracle Corporation&quot;</td><td>&quot;Information Technology&quot;</td><td>2024-06-11</td><td>1</td><td>1</td></tr><tr><td>&quot;AVGO&quot;</td><td>&quot;Broadcom Inc.&quot;</td><td>&quot;Information Technology&quot;</td><td>2024-06-12</td><td>1</td><td>1</td></tr><tr><td>&quot;SIG&quot;</td><td>null</td><td>&quot;Consumer Discretionary&quot;</td><td>2024-06-13</td><td>0</td><td>1</td></tr><tr><td>&quot;PDCO&quot;</td><td>null</td><td>&quot;Health Care&quot;</td><td>2024-06-18</td><td>0</td><td>1</td></tr><tr><td>&quot;ACN&quot;</td><td>&quot;Accenture&quot;</td><td>&quot;Information Technology&quot;</td><td>2024-06-20</td><td>1</td><td>1</td></tr></tbody></table></div>"
      ],
      "text/plain": [
       "shape: (940, 6)\n",
       "┌───────┬────────────────────┬────────────────────────┬─────────────┬────────────┬────────┐\n",
       "│ tic   ┆ name               ┆ sector                 ┆ last_update ┆ spx_status ┆ active │\n",
       "│ ---   ┆ ---                ┆ ---                    ┆ ---         ┆ ---        ┆ ---    │\n",
       "│ str   ┆ str                ┆ str                    ┆ date        ┆ i64        ┆ i64    │\n",
       "╞═══════╪════════════════════╪════════════════════════╪═════════════╪════════════╪════════╡\n",
       "│ ABI   ┆ null               ┆ Industrials            ┆ 2005-01-01  ┆ 0          ┆ 0      │\n",
       "│ ABKFQ ┆ null               ┆ Financials             ┆ 2005-01-01  ┆ 0          ┆ 0      │\n",
       "│ ABS   ┆ null               ┆ Consumer Staples       ┆ 2005-01-01  ┆ 0          ┆ 0      │\n",
       "│ ACV   ┆ null               ┆ Consumer Staples       ┆ 2005-01-01  ┆ 0          ┆ 0      │\n",
       "│ ANRZQ ┆ null               ┆ Materials              ┆ 2005-01-01  ┆ 0          ┆ 0      │\n",
       "│ …     ┆ …                  ┆ …                      ┆ …           ┆ …          ┆ …      │\n",
       "│ ORCL  ┆ Oracle Corporation ┆ Information Technology ┆ 2024-06-11  ┆ 1          ┆ 1      │\n",
       "│ AVGO  ┆ Broadcom Inc.      ┆ Information Technology ┆ 2024-06-12  ┆ 1          ┆ 1      │\n",
       "│ SIG   ┆ null               ┆ Consumer Discretionary ┆ 2024-06-13  ┆ 0          ┆ 1      │\n",
       "│ PDCO  ┆ null               ┆ Health Care            ┆ 2024-06-18  ┆ 0          ┆ 1      │\n",
       "│ ACN   ┆ Accenture          ┆ Information Technology ┆ 2024-06-20  ┆ 1          ┆ 1      │\n",
       "└───────┴────────────────────┴────────────────────────┴─────────────┴────────────┴────────┘"
      ]
     },
     "execution_count": 7,
     "metadata": {},
     "output_type": "execute_result"
    }
   ],
   "source": [
    "db.fetch_stock().sort(by=['last_update'])"
   ]
  },
  {
   "cell_type": "code",
   "execution_count": 4,
   "metadata": {},
   "outputs": [
    {
     "name": "stderr",
     "output_type": "stream",
     "text": [
      "\u001b[32m2024-10-11 17:25:25.605\u001b[0m | \u001b[1mINFO    \u001b[0m | \u001b[36mdatabase_handler.queries\u001b[0m:\u001b[36mdelete_data\u001b[0m:\u001b[36m57\u001b[0m - \u001b[1mData has been deleted from table financial.\u001b[0m\n"
     ]
    }
   ],
   "source": [
    "# db.delete_financials(\"VST\")"
   ]
  },
  {
   "cell_type": "code",
   "execution_count": 11,
   "metadata": {},
   "outputs": [
    {
     "data": {
      "text/html": [
       "<div><style>\n",
       ".dataframe > thead > tr,\n",
       ".dataframe > tbody > tr {\n",
       "  text-align: right;\n",
       "  white-space: pre-wrap;\n",
       "}\n",
       "</style>\n",
       "<small>shape: (6, 27)</small><table border=\"1\" class=\"dataframe\"><thead><tr><th>tic</th><th>datadate</th><th>rdq</th><th>saleq</th><th>cogsq</th><th>xsgaq</th><th>niq</th><th>ebitdaq</th><th>cshoq</th><th>actq</th><th>atq</th><th>cheq</th><th>rectq</th><th>invtq</th><th>ppentq</th><th>lctq</th><th>dlttq</th><th>ltq</th><th>req</th><th>seqq</th><th>oancfq</th><th>ivncfq</th><th>fincfq</th><th>dvq</th><th>capxq</th><th>icaptq</th><th>surprise_pct</th></tr><tr><td>str</td><td>date</td><td>date</td><td>f64</td><td>f64</td><td>f64</td><td>f64</td><td>f64</td><td>f64</td><td>f64</td><td>f64</td><td>f64</td><td>f64</td><td>f64</td><td>f64</td><td>f64</td><td>f64</td><td>f64</td><td>f64</td><td>f64</td><td>f64</td><td>f64</td><td>f64</td><td>f64</td><td>f64</td><td>f64</td><td>f64</td></tr></thead><tbody><tr><td>&quot;VST&quot;</td><td>2023-03-31</td><td>2023-06-19</td><td>null</td><td>null</td><td>null</td><td>null</td><td>null</td><td>null</td><td>null</td><td>null</td><td>null</td><td>null</td><td>null</td><td>null</td><td>null</td><td>null</td><td>null</td><td>null</td><td>null</td><td>3012.0</td><td>-967.0</td><td>-1872.0</td><td>153.0</td><td>926.0</td><td>null</td><td>null</td></tr><tr><td>&quot;VST&quot;</td><td>2023-06-30</td><td>2023-08-09</td><td>3189.0</td><td>1920.0</td><td>309.0</td><td>476.0</td><td>950.0</td><td>369.626</td><td>8911.0</td><td>30472.0</td><td>643.0</td><td>1707.0</td><td>676.0</td><td>12591.0</td><td>7626.0</td><td>11530.0</td><td>25098.0</td><td>-2696.0</td><td>5359.0</td><td>0.0</td><td>0.0</td><td>0.0</td><td>0.0</td><td>442.0</td><td>15326.0</td><td>0.4268</td></tr><tr><td>&quot;VST&quot;</td><td>2023-09-30</td><td>2023-12-19</td><td>4086.0</td><td>2520.0</td><td>357.0</td><td>502.0</td><td>1270.0</td><td>362.114</td><td>10699.0</td><td>31945.0</td><td>3170.0</td><td>2029.0</td><td>685.0</td><td>12399.0</td><td>8748.0</td><td>11758.0</td><td>26424.0</td><td>-2306.0</td><td>5506.0</td><td>1560.0</td><td>-415.0</td><td>1382.0</td><td>75.0</td><td>336.0</td><td>17199.0</td><td>null</td></tr><tr><td>&quot;VST&quot;</td><td>2023-12-31</td><td>2024-02-28</td><td>3078.0</td><td>2228.0</td><td>355.0</td><td>-184.0</td><td>634.0</td><td>351.457</td><td>11637.0</td><td>32966.0</td><td>3485.0</td><td>1680.0</td><td>740.0</td><td>12482.0</td><td>9823.0</td><td>12116.0</td><td>27644.0</td><td>-2613.0</td><td>5307.0</td><td>881.0</td><td>-763.0</td><td>196.0</td><td>85.0</td><td>414.0</td><td>17233.0</td><td>-14.7143</td></tr><tr><td>&quot;VST&quot;</td><td>2024-03-31</td><td>2024-05-08</td><td>3054.0</td><td>2214.0</td><td>351.0</td><td>-35.0</td><td>694.0</td><td>348.734</td><td>9433.0</td><td>38178.0</td><td>1070.0</td><td>1730.0</td><td>976.0</td><td>18076.0</td><td>8775.0</td><td>14693.0</td><td>30894.0</td><td>-2762.0</td><td>5656.0</td><td>1508.0</td><td>-4197.0</td><td>811.0</td><td>150.0</td><td>963.0</td><td>19302.0</td><td>-1.3416</td></tr><tr><td>&quot;VST&quot;</td><td>2024-06-30</td><td>2024-08-08</td><td>3845.0</td><td>2225.0</td><td>375.0</td><td>365.0</td><td>1282.0</td><td>345.293</td><td>9826.0</td><td>39125.0</td><td>1624.0</td><td>2110.0</td><td>964.0</td><td>18279.0</td><td>10057.0</td><td>13947.0</td><td>31818.0</td><td>-2533.0</td><td>5593.0</td><td>null</td><td>null</td><td>null</td><td>null</td><td>null</td><td>19753.0</td><td>-0.3478</td></tr></tbody></table></div>"
      ],
      "text/plain": [
       "shape: (6, 27)\n",
       "┌─────┬────────────┬────────────┬────────┬───┬───────┬───────┬─────────┬──────────────┐\n",
       "│ tic ┆ datadate   ┆ rdq        ┆ saleq  ┆ … ┆ dvq   ┆ capxq ┆ icaptq  ┆ surprise_pct │\n",
       "│ --- ┆ ---        ┆ ---        ┆ ---    ┆   ┆ ---   ┆ ---   ┆ ---     ┆ ---          │\n",
       "│ str ┆ date       ┆ date       ┆ f64    ┆   ┆ f64   ┆ f64   ┆ f64     ┆ f64          │\n",
       "╞═════╪════════════╪════════════╪════════╪═══╪═══════╪═══════╪═════════╪══════════════╡\n",
       "│ VST ┆ 2023-03-31 ┆ 2023-06-19 ┆ null   ┆ … ┆ 153.0 ┆ 926.0 ┆ null    ┆ null         │\n",
       "│ VST ┆ 2023-06-30 ┆ 2023-08-09 ┆ 3189.0 ┆ … ┆ 0.0   ┆ 442.0 ┆ 15326.0 ┆ 0.4268       │\n",
       "│ VST ┆ 2023-09-30 ┆ 2023-12-19 ┆ 4086.0 ┆ … ┆ 75.0  ┆ 336.0 ┆ 17199.0 ┆ null         │\n",
       "│ VST ┆ 2023-12-31 ┆ 2024-02-28 ┆ 3078.0 ┆ … ┆ 85.0  ┆ 414.0 ┆ 17233.0 ┆ -14.7143     │\n",
       "│ VST ┆ 2024-03-31 ┆ 2024-05-08 ┆ 3054.0 ┆ … ┆ 150.0 ┆ 963.0 ┆ 19302.0 ┆ -1.3416      │\n",
       "│ VST ┆ 2024-06-30 ┆ 2024-08-08 ┆ 3845.0 ┆ … ┆ null  ┆ null  ┆ 19753.0 ┆ -0.3478      │\n",
       "└─────┴────────────┴────────────┴────────┴───┴───────┴───────┴─────────┴──────────────┘"
      ]
     },
     "execution_count": 11,
     "metadata": {},
     "output_type": "execute_result"
    }
   ],
   "source": [
    "fdf = db.fetch_financial_data(\"VST\")\n",
    "fdf"
   ]
  },
  {
   "cell_type": "code",
   "execution_count": 5,
   "metadata": {},
   "outputs": [
    {
     "data": {
      "text/html": [
       "<div><style>\n",
       ".dataframe > thead > tr,\n",
       ".dataframe > tbody > tr {\n",
       "  text-align: right;\n",
       "  white-space: pre-wrap;\n",
       "}\n",
       "</style>\n",
       "<small>shape: (1_014, 5)</small><table border=\"1\" class=\"dataframe\"><thead><tr><th>tic</th><th>date</th><th>close</th><th>adj_close</th><th>volume</th></tr><tr><td>str</td><td>date</td><td>f64</td><td>f64</td><td>i64</td></tr></thead><tbody><tr><td>&quot;PLTR&quot;</td><td>2020-09-30</td><td>9.5</td><td>9.5</td><td>338584400</td></tr><tr><td>&quot;PLTR&quot;</td><td>2020-10-01</td><td>9.46</td><td>9.46</td><td>124297600</td></tr><tr><td>&quot;PLTR&quot;</td><td>2020-10-02</td><td>9.2</td><td>9.2</td><td>55018300</td></tr><tr><td>&quot;PLTR&quot;</td><td>2020-10-05</td><td>9.03</td><td>9.03</td><td>36316900</td></tr><tr><td>&quot;PLTR&quot;</td><td>2020-10-06</td><td>9.9</td><td>9.9</td><td>90864000</td></tr><tr><td>&hellip;</td><td>&hellip;</td><td>&hellip;</td><td>&hellip;</td><td>&hellip;</td></tr><tr><td>&quot;PLTR&quot;</td><td>2024-10-04</td><td>40.009998</td><td>40.009998</td><td>62532500</td></tr><tr><td>&quot;PLTR&quot;</td><td>2024-10-07</td><td>38.889999</td><td>38.889999</td><td>44124800</td></tr><tr><td>&quot;PLTR&quot;</td><td>2024-10-08</td><td>41.450001</td><td>41.450001</td><td>62542900</td></tr><tr><td>&quot;PLTR&quot;</td><td>2024-10-09</td><td>43.130001</td><td>43.130001</td><td>86404700</td></tr><tr><td>&quot;PLTR&quot;</td><td>2024-10-10</td><td>43.52</td><td>43.52</td><td>62347500</td></tr></tbody></table></div>"
      ],
      "text/plain": [
       "shape: (1_014, 5)\n",
       "┌──────┬────────────┬───────────┬───────────┬───────────┐\n",
       "│ tic  ┆ date       ┆ close     ┆ adj_close ┆ volume    │\n",
       "│ ---  ┆ ---        ┆ ---       ┆ ---       ┆ ---       │\n",
       "│ str  ┆ date       ┆ f64       ┆ f64       ┆ i64       │\n",
       "╞══════╪════════════╪═══════════╪═══════════╪═══════════╡\n",
       "│ PLTR ┆ 2020-09-30 ┆ 9.5       ┆ 9.5       ┆ 338584400 │\n",
       "│ PLTR ┆ 2020-10-01 ┆ 9.46      ┆ 9.46      ┆ 124297600 │\n",
       "│ PLTR ┆ 2020-10-02 ┆ 9.2       ┆ 9.2       ┆ 55018300  │\n",
       "│ PLTR ┆ 2020-10-05 ┆ 9.03      ┆ 9.03      ┆ 36316900  │\n",
       "│ PLTR ┆ 2020-10-06 ┆ 9.9       ┆ 9.9       ┆ 90864000  │\n",
       "│ …    ┆ …          ┆ …         ┆ …         ┆ …         │\n",
       "│ PLTR ┆ 2024-10-04 ┆ 40.009998 ┆ 40.009998 ┆ 62532500  │\n",
       "│ PLTR ┆ 2024-10-07 ┆ 38.889999 ┆ 38.889999 ┆ 44124800  │\n",
       "│ PLTR ┆ 2024-10-08 ┆ 41.450001 ┆ 41.450001 ┆ 62542900  │\n",
       "│ PLTR ┆ 2024-10-09 ┆ 43.130001 ┆ 43.130001 ┆ 86404700  │\n",
       "│ PLTR ┆ 2024-10-10 ┆ 43.52     ┆ 43.52     ┆ 62347500  │\n",
       "└──────┴────────────┴───────────┴───────────┴───────────┘"
      ]
     },
     "execution_count": 5,
     "metadata": {},
     "output_type": "execute_result"
    }
   ],
   "source": [
    "mdf = db.fetch_market_data(\"PLTR\")\n",
    "mdf"
   ]
  }
 ],
 "metadata": {
  "kernelspec": {
   "display_name": "stocksense",
   "language": "python",
   "name": "python3"
  },
  "language_info": {
   "codemirror_mode": {
    "name": "ipython",
    "version": 3
   },
   "file_extension": ".py",
   "mimetype": "text/x-python",
   "name": "python",
   "nbconvert_exporter": "python",
   "pygments_lexer": "ipython3",
   "version": "3.10.13"
  },
  "orig_nbformat": 4
 },
 "nbformat": 4,
 "nbformat_minor": 2
}
