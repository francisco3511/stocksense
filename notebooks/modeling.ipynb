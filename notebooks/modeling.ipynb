{
 "cells": [
  {
   "cell_type": "code",
   "execution_count": 1,
   "metadata": {},
   "outputs": [],
   "source": [
    "import datetime as dt\n",
    "import polars as pl\n",
    "import plotly.express as px\n",
    "\n",
    "from model import XGBoostModel\n",
    "from config import get_config"
   ]
  },
  {
   "cell_type": "code",
   "execution_count": 2,
   "metadata": {},
   "outputs": [],
   "source": [
    "target_col = 'fperf'\n",
    "date_col = 'tdq'"
   ]
  },
  {
   "cell_type": "code",
   "execution_count": 3,
   "metadata": {},
   "outputs": [
    {
     "data": {
      "text/plain": [
       "datetime.datetime(2024, 9, 1, 0, 0)"
      ]
     },
     "execution_count": 3,
     "metadata": {},
     "output_type": "execute_result"
    }
   ],
   "source": [
    "def find_last_trading_date():\n",
    "    today = dt.datetime.today()\n",
    "    trade_dates = [\n",
    "        dt.datetime(today.year - 1, 12, 1),\n",
    "        dt.datetime(today.year, 3, 1),\n",
    "        dt.datetime(today.year, 6, 1),\n",
    "        dt.datetime(today.year, 9, 1),\n",
    "        dt.datetime(today.year, 12, 1),\n",
    "    ]\n",
    "    past_dates = [date for date in trade_dates if date <= today]\n",
    "    return max(past_dates)\n",
    "\n",
    "last_trade_date = find_last_trading_date()\n",
    "last_trade_date"
   ]
  },
  {
   "cell_type": "code",
   "execution_count": 4,
   "metadata": {},
   "outputs": [
    {
     "data": {
      "text/html": [
       "<div><style>\n",
       ".dataframe > thead > tr,\n",
       ".dataframe > tbody > tr {\n",
       "  text-align: right;\n",
       "  white-space: pre-wrap;\n",
       "}\n",
       "</style>\n",
       "<small>shape: (5, 84)</small><table border=\"1\" class=\"dataframe\"><thead><tr><th>datadate</th><th>rdq</th><th>tdq</th><th>tic</th><th>sector_Communication Services</th><th>sector_Consumer Discretionary</th><th>sector_Consumer Staples</th><th>sector_Energy</th><th>sector_Financials</th><th>sector_Health Care</th><th>sector_Industrials</th><th>sector_Information Technology</th><th>sector_Materials</th><th>sector_Real Estate</th><th>sector_Utilities</th><th>n_purch</th><th>n_sales</th><th>insider_balance</th><th>price_mom</th><th>price_qoq</th><th>price_yoy</th><th>price_2y</th><th>rsi_14d</th><th>rsi_30d</th><th>rsi_60d</th><th>rsi_90d</th><th>rsi_1y</th><th>vol_mom</th><th>vol_qoq</th><th>vol_yoy</th><th>rel_vol_mom</th><th>rel_vol_qoq</th><th>rel_vol_yoy</th><th>momentum_mom</th><th>momentum_qoq</th><th>momentum_yoy</th><th>momentum_2y</th><th>&hellip;</th><th>ltda</th><th>ltcr</th><th>itr</th><th>rtr</th><th>atr</th><th>cfm</th><th>size</th><th>earn_drift</th><th>pe</th><th>pb</th><th>ps</th><th>ev_ebitda</th><th>saleq_yoy</th><th>saleq_2y</th><th>ni_yoy</th><th>ni_2y</th><th>ltq_yoy</th><th>ltq_2y</th><th>dlttq_yoy</th><th>gpm_yoy</th><th>roa_yoy</th><th>roe_yoy</th><th>fcf_yoy</th><th>cr_yoy</th><th>qr_yoy</th><th>der_yoy</th><th>dr_yoy</th><th>ltda_yoy</th><th>ev_eb_yoy</th><th>ltcr_yoy</th><th>pe_yoy</th><th>pb_yoy</th><th>ps_yoy</th><th>freturn</th><th>adj_freturn</th><th>fperf</th><th>adj_fperf</th></tr><tr><td>date</td><td>date</td><td>date</td><td>str</td><td>i64</td><td>i64</td><td>i64</td><td>i64</td><td>i64</td><td>i64</td><td>i64</td><td>i64</td><td>i64</td><td>i64</td><td>i64</td><td>i64</td><td>i64</td><td>f64</td><td>f64</td><td>f64</td><td>f64</td><td>f64</td><td>f64</td><td>f64</td><td>f64</td><td>f64</td><td>f64</td><td>f64</td><td>f64</td><td>f64</td><td>f64</td><td>f64</td><td>f64</td><td>f64</td><td>f64</td><td>f64</td><td>f64</td><td>&hellip;</td><td>f64</td><td>f64</td><td>f64</td><td>f64</td><td>f64</td><td>f64</td><td>f64</td><td>f64</td><td>f64</td><td>f64</td><td>f64</td><td>f64</td><td>f64</td><td>f64</td><td>f64</td><td>f64</td><td>f64</td><td>f64</td><td>f64</td><td>f64</td><td>f64</td><td>f64</td><td>f64</td><td>f64</td><td>f64</td><td>f64</td><td>f64</td><td>f64</td><td>f64</td><td>f64</td><td>f64</td><td>f64</td><td>f64</td><td>f64</td><td>f64</td><td>i64</td><td>i64</td></tr></thead><tbody><tr><td>2007-01-31</td><td>2007-02-15</td><td>2007-03-01</td><td>&quot;A&quot;</td><td>0</td><td>0</td><td>0</td><td>0</td><td>0</td><td>1</td><td>0</td><td>0</td><td>0</td><td>0</td><td>0</td><td>0</td><td>1</td><td>8.598</td><td>-0.0175</td><td>-0.018727</td><td>-0.126667</td><td>0.31</td><td>37.080402</td><td>42.592688</td><td>46.374228</td><td>46.439982</td><td>50.571208</td><td>0.014809</td><td>0.012043</td><td>0.01791</td><td>1.68021</td><td>1.931065</td><td>2.790708</td><td>0.974836</td><td>-7.1022</td><td>-1.324112</td><td>1.869599</td><td>&hellip;</td><td>0.208536</td><td>0.037333</td><td>2.007843</td><td>1.87821</td><td>0.1758</td><td>0.072656</td><td>8.880864</td><td>-7.064743</td><td>14.209289</td><td>2.490608</td><td>1.790829</td><td>14.053467</td><td>0.096829</td><td>0.056106</td><td>-0.946733</td><td>0.456311</td><td>-0.080125</td><td>0.045535</td><td>0.0</td><td>0.034773</td><td>-0.786032</td><td>-0.758874</td><td>1.314607</td><td>-0.033049</td><td>-0.06119</td><td>0.051933</td><td>0.026403</td><td>0.115807</td><td>-0.424184</td><td>1.314607</td><td>2.825606</td><td>-0.077548</td><td>-0.192082</td><td>-2.639948</td><td>2.529778</td><td>0</td><td>0</td></tr><tr><td>2007-04-30</td><td>2007-05-14</td><td>2007-06-01</td><td>&quot;A&quot;</td><td>0</td><td>0</td><td>0</td><td>0</td><td>0</td><td>1</td><td>0</td><td>0</td><td>0</td><td>0</td><td>0</td><td>0</td><td>3</td><td>2.695</td><td>0.052226</td><td>0.241648</td><td>0.097162</td><td>0.594336</td><td>62.343397</td><td>62.077772</td><td>58.732066</td><td>58.636249</td><td>53.754651</td><td>0.016561</td><td>0.013553</td><td>0.017389</td><td>2.953679</td><td>2.207784</td><td>2.674983</td><td>1.932873</td><td>2.392662</td><td>0.463493</td><td>2.053564</td><td>&hellip;</td><td>0.205959</td><td>0.173333</td><td>2.033898</td><td>1.900648</td><td>0.182371</td><td>0.228788</td><td>8.893298</td><td>6.59983</td><td>16.705873</td><td>3.04982</td><td>2.098338</td><td>15.689363</td><td>0.065375</td><td>0.032864</td><td>0.069565</td><td>0.294737</td><td>-0.064022</td><td>0.096793</td><td>0.0</td><td>0.058001</td><td>-0.764364</td><td>-0.756945</td><td>0.078838</td><td>-0.048932</td><td>-0.09261</td><td>0.072623</td><td>0.035449</td><td>0.106275</td><td>-0.275697</td><td>0.078838</td><td>3.789035</td><td>0.163999</td><td>-0.006303</td><td>-2.325005</td><td>6.524596</td><td>0</td><td>0</td></tr><tr><td>2007-07-31</td><td>2007-08-14</td><td>2007-09-01</td><td>&quot;A&quot;</td><td>0</td><td>0</td><td>0</td><td>0</td><td>0</td><td>1</td><td>0</td><td>0</td><td>0</td><td>0</td><td>0</td><td>0</td><td>2</td><td>5.747</td><td>-0.057483</td><td>-0.051342</td><td>0.1375</td><td>0.13679</td><td>52.575103</td><td>48.65697</td><td>49.886609</td><td>49.92594</td><td>51.861727</td><td>0.032772</td><td>0.021062</td><td>0.01607</td><td>2.055281</td><td>1.725055</td><td>2.02726</td><td>-47.276502</td><td>1.795475</td><td>1.064454</td><td>0.622403</td><td>&hellip;</td><td>0.213554</td><td>0.093333</td><td>2.075529</td><td>1.887363</td><td>0.192074</td><td>0.128093</td><td>8.857088</td><td>0.192679</td><td>16.580932</td><td>3.061018</td><td>1.89827</td><td>14.783464</td><td>0.108959</td><td>0.10628</td><td>-0.185022</td><td>0.778846</td><td>-0.051054</td><td>0.097532</td><td>0.0</td><td>-0.005011</td><td>-0.789586</td><td>-0.780068</td><td>27.0</td><td>-0.13529</td><td>-0.202801</td><td>0.094405</td><td>0.044192</td><td>0.10037</td><td>-0.142223</td><td>27.0</td><td>4.723257</td><td>0.258728</td><td>0.039965</td><td>-4.505501</td><td>8.463382</td><td>0</td><td>0</td></tr><tr><td>2007-10-31</td><td>2007-11-15</td><td>2007-12-01</td><td>&quot;A&quot;</td><td>0</td><td>0</td><td>0</td><td>0</td><td>0</td><td>1</td><td>0</td><td>0</td><td>0</td><td>0</td><td>0</td><td>0</td><td>2</td><td>2.75</td><td>0.026594</td><td>0.046184</td><td>0.180712</td><td>0.065934</td><td>59.704889</td><td>54.609299</td><td>52.512775</td><td>52.488568</td><td>52.118787</td><td>0.026217</td><td>0.017897</td><td>0.016334</td><td>1.572782</td><td>1.465377</td><td>1.689781</td><td>-0.603821</td><td>7.683146</td><td>3.097014</td><td>0.3707</td><td>&hellip;</td><td>0.276277</td><td>0.172017</td><td>2.1959</td><td>1.96334</td><td>0.198381</td><td>0.275242</td><td>8.929833</td><td>12.255191</td><td>15.693153</td><td>3.095928</td><td>1.847275</td><td>14.923904</td><td>0.088855</td><td>0.027719</td><td>0.208054</td><td>6.2</td><td>0.16442</td><td>0.638847</td><td>0.391333</td><td>-0.01305</td><td>-0.800194</td><td>-0.782379</td><td>-0.057743</td><td>-0.142226</td><td>-0.198205</td><td>0.313484</td><td>0.135903</td><td>0.357259</td><td>-0.051532</td><td>-0.322767</td><td>4.562228</td><td>0.214109</td><td>-0.015412</td><td>-54.374817</td><td>-9.481695</td><td>0</td><td>0</td></tr><tr><td>2008-01-31</td><td>2008-02-13</td><td>2008-03-01</td><td>&quot;A&quot;</td><td>0</td><td>0</td><td>0</td><td>0</td><td>0</td><td>1</td><td>0</td><td>0</td><td>0</td><td>0</td><td>0</td><td>0</td><td>2</td><td>3.418</td><td>-0.104447</td><td>-0.190854</td><td>-0.026399</td><td>-0.149722</td><td>34.6395</td><td>38.84194</td><td>42.496746</td><td>42.578853</td><td>48.452257</td><td>0.018267</td><td>0.018484</td><td>0.017808</td><td>1.373549</td><td>1.408677</td><td>1.586141</td><td>5.62391</td><td>1.878156</td><td>0.510655</td><td>-3.837171</td><td>&hellip;</td><td>0.083925</td><td>-0.047923</td><td>2.115414</td><td>1.906913</td><td>0.185573</td><td>0.002872</td><td>8.917177</td><td>-6.334147</td><td>13.252579</td><td>2.539416</td><td>1.456275</td><td>10.717445</td><td>0.088281</td><td>0.193659</td><td>-0.2</td><td>-0.957386</td><td>0.212104</td><td>0.114984</td><td>-0.582667</td><td>0.009526</td><td>-0.079976</td><td>0.093202</td><td>-1.535714</td><td>-0.306119</td><td>-0.280077</td><td>0.396995</td><td>0.168878</td><td>-0.597549</td><td>-0.237381</td><td>-2.28366</td><td>-0.06733</td><td>0.019597</td><td>-0.186815</td><td>-54.68801</td><td>-9.931769</td><td>0</td><td>0</td></tr></tbody></table></div>"
      ],
      "text/plain": [
       "shape: (5, 84)\n",
       "┌────────────┬────────────┬────────────┬─────┬───┬────────────┬─────────────┬───────┬───────────┐\n",
       "│ datadate   ┆ rdq        ┆ tdq        ┆ tic ┆ … ┆ freturn    ┆ adj_freturn ┆ fperf ┆ adj_fperf │\n",
       "│ ---        ┆ ---        ┆ ---        ┆ --- ┆   ┆ ---        ┆ ---         ┆ ---   ┆ ---       │\n",
       "│ date       ┆ date       ┆ date       ┆ str ┆   ┆ f64        ┆ f64         ┆ i64   ┆ i64       │\n",
       "╞════════════╪════════════╪════════════╪═════╪═══╪════════════╪═════════════╪═══════╪═══════════╡\n",
       "│ 2007-01-31 ┆ 2007-02-15 ┆ 2007-03-01 ┆ A   ┆ … ┆ -2.639948  ┆ 2.529778    ┆ 0     ┆ 0         │\n",
       "│ 2007-04-30 ┆ 2007-05-14 ┆ 2007-06-01 ┆ A   ┆ … ┆ -2.325005  ┆ 6.524596    ┆ 0     ┆ 0         │\n",
       "│ 2007-07-31 ┆ 2007-08-14 ┆ 2007-09-01 ┆ A   ┆ … ┆ -4.505501  ┆ 8.463382    ┆ 0     ┆ 0         │\n",
       "│ 2007-10-31 ┆ 2007-11-15 ┆ 2007-12-01 ┆ A   ┆ … ┆ -54.374817 ┆ -9.481695   ┆ 0     ┆ 0         │\n",
       "│ 2008-01-31 ┆ 2008-02-13 ┆ 2008-03-01 ┆ A   ┆ … ┆ -54.68801  ┆ -9.931769   ┆ 0     ┆ 0         │\n",
       "└────────────┴────────────┴────────────┴─────┴───┴────────────┴─────────────┴───────┴───────────┘"
      ]
     },
     "execution_count": 4,
     "metadata": {},
     "output_type": "execute_result"
    }
   ],
   "source": [
    "data = pl.read_csv(\"../data/1_work_data/processed/proc_2024-11-02.csv\", try_parse_dates=True)\n",
    "data.head()"
   ]
  },
  {
   "cell_type": "code",
   "execution_count": null,
   "metadata": {},
   "outputs": [],
   "source": [
    "features = get_config('model')['features']\n",
    "df = data.select(\n",
    "    [pl.col(\"fperf\")] + [pl.col(ratio) for ratio in features]\n",
    ").to_pandas()"
   ]
  },
  {
   "cell_type": "code",
   "execution_count": 5,
   "metadata": {},
   "outputs": [
    {
     "data": {
      "application/vnd.plotly.v1+json": {
       "config": {
        "plotlyServerURL": "https://plot.ly"
       },
       "data": [
        {
         "alignmentgroup": "True",
         "hovertemplate": "Correlation=%{x}<br>Feature=%{y}<extra></extra>",
         "legendgroup": "",
         "marker": {
          "color": "#636efa",
          "pattern": {
           "shape": ""
          }
         },
         "name": "",
         "offsetgroup": "",
         "orientation": "h",
         "showlegend": false,
         "textposition": "auto",
         "type": "bar",
         "x": [
          -0.13142595715190403,
          -0.12287023556143158,
          -0.07194891311267332,
          -0.07139507399014794,
          -0.06205035497363201,
          -0.06200099651830223,
          -0.05267780156068198,
          -0.05231652598459212,
          -0.04007842410275485,
          -0.03704173354760098,
          -0.03528887022408031,
          -0.0280585323186137,
          -0.02598736211743547,
          -0.022076768607988496,
          -0.020139323418033993,
          -0.016270014785637513,
          -0.015371961489375106,
          -0.012421425751107443,
          -0.012017143543652934,
          -0.011901365050106218,
          -0.01008715600830045,
          -0.009577218055262116,
          -0.008612388145256483,
          -0.008460803685656758,
          -0.007740767540364217,
          -0.0074486958930414,
          -0.006278507821153472,
          -0.00593962492904952,
          -0.00567640359035075,
          -0.0053532350523182275,
          -0.004636469027584822,
          -0.004419688546471742,
          -0.004251495721897392,
          -0.0033639893688383674,
          -0.002027275342432726,
          0.0013218327935986358,
          0.0039010184942248377,
          0.004574576224628417,
          0.00482174336035541,
          0.006605689747103005,
          0.00949636245468083,
          0.0106197963680884,
          0.01133580676365485,
          0.012244728239785762,
          0.014887586126615912,
          0.015498695458929004,
          0.019774211652872124,
          0.02121445163615718,
          0.02285305395249967,
          0.025313638122415126,
          0.02765093294833632,
          0.02801059657060006,
          0.029580745951979594,
          0.03113971151681191,
          0.032378642246564934,
          0.03591234341781077,
          0.03825526316181482,
          0.0598404365019875,
          0.06016328408863319,
          0.06655591242567581,
          0.11520112113039899,
          0.11904877709284678,
          0.12988297986552882,
          0.14064294859597487,
          0.14327555012285403
         ],
         "xaxis": "x",
         "y": [
          "rsi_1y",
          "size",
          "rsi_90d",
          "rsi_60d",
          "price_2y",
          "roa_yoy",
          "rsi_30d",
          "roe_yoy",
          "ni_2y",
          "rsi_14d",
          "ni_yoy",
          "price_yoy",
          "price_mom",
          "n_sales",
          "cfm",
          "price_qoq",
          "ebitdam",
          "gpm",
          "earn_drift",
          "ps_yoy",
          "gpm_yoy",
          "momentum_2y",
          "rtr",
          "ev_ebitda",
          "insider_balance",
          "der",
          "ps",
          "pe_yoy",
          "atr",
          "pb_yoy",
          "pb",
          "roa",
          "debitda",
          "ltcr",
          "pe",
          "itr",
          "momentum_mom",
          "saleq_yoy",
          "dr",
          "ltda",
          "roe",
          "ltcr_yoy",
          "cr_yoy",
          "fcf_yoy",
          "ev_eb_yoy",
          "der_yoy",
          "saleq_2y",
          "ltq_yoy",
          "momentum_qoq",
          "cr",
          "qr_yoy",
          "n_purch",
          "momentum_yoy",
          "dr_yoy",
          "ltda_yoy",
          "dlttq_yoy",
          "ltq_2y",
          "qr",
          "csr",
          "rel_vol_mom",
          "rel_vol_yoy",
          "vol_mom",
          "rel_vol_qoq",
          "vol_yoy",
          "vol_qoq"
         ],
         "yaxis": "y"
        }
       ],
       "layout": {
        "barmode": "relative",
        "height": 1200,
        "legend": {
         "tracegroupgap": 0
        },
        "margin": {
         "l": 200
        },
        "shapes": [
         {
          "line": {
           "color": "gray",
           "dash": "dash"
          },
          "type": "line",
          "x0": 0,
          "x1": 0,
          "xref": "x",
          "y0": 0,
          "y1": 1,
          "yref": "y domain"
         }
        ],
        "showlegend": false,
        "template": {
         "data": {
          "bar": [
           {
            "error_x": {
             "color": "#2a3f5f"
            },
            "error_y": {
             "color": "#2a3f5f"
            },
            "marker": {
             "line": {
              "color": "#E5ECF6",
              "width": 0.5
             },
             "pattern": {
              "fillmode": "overlay",
              "size": 10,
              "solidity": 0.2
             }
            },
            "type": "bar"
           }
          ],
          "barpolar": [
           {
            "marker": {
             "line": {
              "color": "#E5ECF6",
              "width": 0.5
             },
             "pattern": {
              "fillmode": "overlay",
              "size": 10,
              "solidity": 0.2
             }
            },
            "type": "barpolar"
           }
          ],
          "carpet": [
           {
            "aaxis": {
             "endlinecolor": "#2a3f5f",
             "gridcolor": "white",
             "linecolor": "white",
             "minorgridcolor": "white",
             "startlinecolor": "#2a3f5f"
            },
            "baxis": {
             "endlinecolor": "#2a3f5f",
             "gridcolor": "white",
             "linecolor": "white",
             "minorgridcolor": "white",
             "startlinecolor": "#2a3f5f"
            },
            "type": "carpet"
           }
          ],
          "choropleth": [
           {
            "colorbar": {
             "outlinewidth": 0,
             "ticks": ""
            },
            "type": "choropleth"
           }
          ],
          "contour": [
           {
            "colorbar": {
             "outlinewidth": 0,
             "ticks": ""
            },
            "colorscale": [
             [
              0,
              "#0d0887"
             ],
             [
              0.1111111111111111,
              "#46039f"
             ],
             [
              0.2222222222222222,
              "#7201a8"
             ],
             [
              0.3333333333333333,
              "#9c179e"
             ],
             [
              0.4444444444444444,
              "#bd3786"
             ],
             [
              0.5555555555555556,
              "#d8576b"
             ],
             [
              0.6666666666666666,
              "#ed7953"
             ],
             [
              0.7777777777777778,
              "#fb9f3a"
             ],
             [
              0.8888888888888888,
              "#fdca26"
             ],
             [
              1,
              "#f0f921"
             ]
            ],
            "type": "contour"
           }
          ],
          "contourcarpet": [
           {
            "colorbar": {
             "outlinewidth": 0,
             "ticks": ""
            },
            "type": "contourcarpet"
           }
          ],
          "heatmap": [
           {
            "colorbar": {
             "outlinewidth": 0,
             "ticks": ""
            },
            "colorscale": [
             [
              0,
              "#0d0887"
             ],
             [
              0.1111111111111111,
              "#46039f"
             ],
             [
              0.2222222222222222,
              "#7201a8"
             ],
             [
              0.3333333333333333,
              "#9c179e"
             ],
             [
              0.4444444444444444,
              "#bd3786"
             ],
             [
              0.5555555555555556,
              "#d8576b"
             ],
             [
              0.6666666666666666,
              "#ed7953"
             ],
             [
              0.7777777777777778,
              "#fb9f3a"
             ],
             [
              0.8888888888888888,
              "#fdca26"
             ],
             [
              1,
              "#f0f921"
             ]
            ],
            "type": "heatmap"
           }
          ],
          "heatmapgl": [
           {
            "colorbar": {
             "outlinewidth": 0,
             "ticks": ""
            },
            "colorscale": [
             [
              0,
              "#0d0887"
             ],
             [
              0.1111111111111111,
              "#46039f"
             ],
             [
              0.2222222222222222,
              "#7201a8"
             ],
             [
              0.3333333333333333,
              "#9c179e"
             ],
             [
              0.4444444444444444,
              "#bd3786"
             ],
             [
              0.5555555555555556,
              "#d8576b"
             ],
             [
              0.6666666666666666,
              "#ed7953"
             ],
             [
              0.7777777777777778,
              "#fb9f3a"
             ],
             [
              0.8888888888888888,
              "#fdca26"
             ],
             [
              1,
              "#f0f921"
             ]
            ],
            "type": "heatmapgl"
           }
          ],
          "histogram": [
           {
            "marker": {
             "pattern": {
              "fillmode": "overlay",
              "size": 10,
              "solidity": 0.2
             }
            },
            "type": "histogram"
           }
          ],
          "histogram2d": [
           {
            "colorbar": {
             "outlinewidth": 0,
             "ticks": ""
            },
            "colorscale": [
             [
              0,
              "#0d0887"
             ],
             [
              0.1111111111111111,
              "#46039f"
             ],
             [
              0.2222222222222222,
              "#7201a8"
             ],
             [
              0.3333333333333333,
              "#9c179e"
             ],
             [
              0.4444444444444444,
              "#bd3786"
             ],
             [
              0.5555555555555556,
              "#d8576b"
             ],
             [
              0.6666666666666666,
              "#ed7953"
             ],
             [
              0.7777777777777778,
              "#fb9f3a"
             ],
             [
              0.8888888888888888,
              "#fdca26"
             ],
             [
              1,
              "#f0f921"
             ]
            ],
            "type": "histogram2d"
           }
          ],
          "histogram2dcontour": [
           {
            "colorbar": {
             "outlinewidth": 0,
             "ticks": ""
            },
            "colorscale": [
             [
              0,
              "#0d0887"
             ],
             [
              0.1111111111111111,
              "#46039f"
             ],
             [
              0.2222222222222222,
              "#7201a8"
             ],
             [
              0.3333333333333333,
              "#9c179e"
             ],
             [
              0.4444444444444444,
              "#bd3786"
             ],
             [
              0.5555555555555556,
              "#d8576b"
             ],
             [
              0.6666666666666666,
              "#ed7953"
             ],
             [
              0.7777777777777778,
              "#fb9f3a"
             ],
             [
              0.8888888888888888,
              "#fdca26"
             ],
             [
              1,
              "#f0f921"
             ]
            ],
            "type": "histogram2dcontour"
           }
          ],
          "mesh3d": [
           {
            "colorbar": {
             "outlinewidth": 0,
             "ticks": ""
            },
            "type": "mesh3d"
           }
          ],
          "parcoords": [
           {
            "line": {
             "colorbar": {
              "outlinewidth": 0,
              "ticks": ""
             }
            },
            "type": "parcoords"
           }
          ],
          "pie": [
           {
            "automargin": true,
            "type": "pie"
           }
          ],
          "scatter": [
           {
            "fillpattern": {
             "fillmode": "overlay",
             "size": 10,
             "solidity": 0.2
            },
            "type": "scatter"
           }
          ],
          "scatter3d": [
           {
            "line": {
             "colorbar": {
              "outlinewidth": 0,
              "ticks": ""
             }
            },
            "marker": {
             "colorbar": {
              "outlinewidth": 0,
              "ticks": ""
             }
            },
            "type": "scatter3d"
           }
          ],
          "scattercarpet": [
           {
            "marker": {
             "colorbar": {
              "outlinewidth": 0,
              "ticks": ""
             }
            },
            "type": "scattercarpet"
           }
          ],
          "scattergeo": [
           {
            "marker": {
             "colorbar": {
              "outlinewidth": 0,
              "ticks": ""
             }
            },
            "type": "scattergeo"
           }
          ],
          "scattergl": [
           {
            "marker": {
             "colorbar": {
              "outlinewidth": 0,
              "ticks": ""
             }
            },
            "type": "scattergl"
           }
          ],
          "scattermapbox": [
           {
            "marker": {
             "colorbar": {
              "outlinewidth": 0,
              "ticks": ""
             }
            },
            "type": "scattermapbox"
           }
          ],
          "scatterpolar": [
           {
            "marker": {
             "colorbar": {
              "outlinewidth": 0,
              "ticks": ""
             }
            },
            "type": "scatterpolar"
           }
          ],
          "scatterpolargl": [
           {
            "marker": {
             "colorbar": {
              "outlinewidth": 0,
              "ticks": ""
             }
            },
            "type": "scatterpolargl"
           }
          ],
          "scatterternary": [
           {
            "marker": {
             "colorbar": {
              "outlinewidth": 0,
              "ticks": ""
             }
            },
            "type": "scatterternary"
           }
          ],
          "surface": [
           {
            "colorbar": {
             "outlinewidth": 0,
             "ticks": ""
            },
            "colorscale": [
             [
              0,
              "#0d0887"
             ],
             [
              0.1111111111111111,
              "#46039f"
             ],
             [
              0.2222222222222222,
              "#7201a8"
             ],
             [
              0.3333333333333333,
              "#9c179e"
             ],
             [
              0.4444444444444444,
              "#bd3786"
             ],
             [
              0.5555555555555556,
              "#d8576b"
             ],
             [
              0.6666666666666666,
              "#ed7953"
             ],
             [
              0.7777777777777778,
              "#fb9f3a"
             ],
             [
              0.8888888888888888,
              "#fdca26"
             ],
             [
              1,
              "#f0f921"
             ]
            ],
            "type": "surface"
           }
          ],
          "table": [
           {
            "cells": {
             "fill": {
              "color": "#EBF0F8"
             },
             "line": {
              "color": "white"
             }
            },
            "header": {
             "fill": {
              "color": "#C8D4E3"
             },
             "line": {
              "color": "white"
             }
            },
            "type": "table"
           }
          ]
         },
         "layout": {
          "annotationdefaults": {
           "arrowcolor": "#2a3f5f",
           "arrowhead": 0,
           "arrowwidth": 1
          },
          "autotypenumbers": "strict",
          "coloraxis": {
           "colorbar": {
            "outlinewidth": 0,
            "ticks": ""
           }
          },
          "colorscale": {
           "diverging": [
            [
             0,
             "#8e0152"
            ],
            [
             0.1,
             "#c51b7d"
            ],
            [
             0.2,
             "#de77ae"
            ],
            [
             0.3,
             "#f1b6da"
            ],
            [
             0.4,
             "#fde0ef"
            ],
            [
             0.5,
             "#f7f7f7"
            ],
            [
             0.6,
             "#e6f5d0"
            ],
            [
             0.7,
             "#b8e186"
            ],
            [
             0.8,
             "#7fbc41"
            ],
            [
             0.9,
             "#4d9221"
            ],
            [
             1,
             "#276419"
            ]
           ],
           "sequential": [
            [
             0,
             "#0d0887"
            ],
            [
             0.1111111111111111,
             "#46039f"
            ],
            [
             0.2222222222222222,
             "#7201a8"
            ],
            [
             0.3333333333333333,
             "#9c179e"
            ],
            [
             0.4444444444444444,
             "#bd3786"
            ],
            [
             0.5555555555555556,
             "#d8576b"
            ],
            [
             0.6666666666666666,
             "#ed7953"
            ],
            [
             0.7777777777777778,
             "#fb9f3a"
            ],
            [
             0.8888888888888888,
             "#fdca26"
            ],
            [
             1,
             "#f0f921"
            ]
           ],
           "sequentialminus": [
            [
             0,
             "#0d0887"
            ],
            [
             0.1111111111111111,
             "#46039f"
            ],
            [
             0.2222222222222222,
             "#7201a8"
            ],
            [
             0.3333333333333333,
             "#9c179e"
            ],
            [
             0.4444444444444444,
             "#bd3786"
            ],
            [
             0.5555555555555556,
             "#d8576b"
            ],
            [
             0.6666666666666666,
             "#ed7953"
            ],
            [
             0.7777777777777778,
             "#fb9f3a"
            ],
            [
             0.8888888888888888,
             "#fdca26"
            ],
            [
             1,
             "#f0f921"
            ]
           ]
          },
          "colorway": [
           "#636efa",
           "#EF553B",
           "#00cc96",
           "#ab63fa",
           "#FFA15A",
           "#19d3f3",
           "#FF6692",
           "#B6E880",
           "#FF97FF",
           "#FECB52"
          ],
          "font": {
           "color": "#2a3f5f"
          },
          "geo": {
           "bgcolor": "white",
           "lakecolor": "white",
           "landcolor": "#E5ECF6",
           "showlakes": true,
           "showland": true,
           "subunitcolor": "white"
          },
          "hoverlabel": {
           "align": "left"
          },
          "hovermode": "closest",
          "mapbox": {
           "style": "light"
          },
          "paper_bgcolor": "white",
          "plot_bgcolor": "#E5ECF6",
          "polar": {
           "angularaxis": {
            "gridcolor": "white",
            "linecolor": "white",
            "ticks": ""
           },
           "bgcolor": "#E5ECF6",
           "radialaxis": {
            "gridcolor": "white",
            "linecolor": "white",
            "ticks": ""
           }
          },
          "scene": {
           "xaxis": {
            "backgroundcolor": "#E5ECF6",
            "gridcolor": "white",
            "gridwidth": 2,
            "linecolor": "white",
            "showbackground": true,
            "ticks": "",
            "zerolinecolor": "white"
           },
           "yaxis": {
            "backgroundcolor": "#E5ECF6",
            "gridcolor": "white",
            "gridwidth": 2,
            "linecolor": "white",
            "showbackground": true,
            "ticks": "",
            "zerolinecolor": "white"
           },
           "zaxis": {
            "backgroundcolor": "#E5ECF6",
            "gridcolor": "white",
            "gridwidth": 2,
            "linecolor": "white",
            "showbackground": true,
            "ticks": "",
            "zerolinecolor": "white"
           }
          },
          "shapedefaults": {
           "line": {
            "color": "#2a3f5f"
           }
          },
          "ternary": {
           "aaxis": {
            "gridcolor": "white",
            "linecolor": "white",
            "ticks": ""
           },
           "baxis": {
            "gridcolor": "white",
            "linecolor": "white",
            "ticks": ""
           },
           "bgcolor": "#E5ECF6",
           "caxis": {
            "gridcolor": "white",
            "linecolor": "white",
            "ticks": ""
           }
          },
          "title": {
           "x": 0.05
          },
          "xaxis": {
           "automargin": true,
           "gridcolor": "white",
           "linecolor": "white",
           "ticks": "",
           "title": {
            "standoff": 15
           },
           "zerolinecolor": "white",
           "zerolinewidth": 2
          },
          "yaxis": {
           "automargin": true,
           "gridcolor": "white",
           "linecolor": "white",
           "ticks": "",
           "title": {
            "standoff": 15
           },
           "zerolinecolor": "white",
           "zerolinewidth": 2
          }
         }
        },
        "title": {
         "text": "Feature Correlations with Target (fperf)"
        },
        "width": 1000,
        "xaxis": {
         "anchor": "y",
         "domain": [
          0,
          1
         ],
         "title": {
          "text": "Correlation"
         }
        },
        "yaxis": {
         "anchor": "x",
         "domain": [
          0,
          1
         ],
         "tickfont": {
          "size": 10
         },
         "title": {
          "text": "Feature"
         }
        }
       }
      }
     },
     "metadata": {},
     "output_type": "display_data"
    }
   ],
   "source": [
    "df_standardized = ((df[features] - df[features].mean()) / df[features].std())\n",
    "corr = df_standardized.corrwith(df['fperf'])\n",
    "corr_df = pl.DataFrame({\n",
    "    'Feature': corr.index,\n",
    "    'Correlation': corr.values\n",
    "}).sort('Correlation', descending=False)\n",
    "\n",
    "fig = px.bar(\n",
    "    corr_df,\n",
    "    x='Correlation',\n",
    "    y='Feature',\n",
    "    orientation='h',\n",
    "    title='Feature Correlations with Target (fperf)',\n",
    "    width=1000,\n",
    "    height=1200\n",
    ")\n",
    "fig.update_layout(\n",
    "    yaxis={'tickfont': {'size': 10}},\n",
    "    showlegend=False,\n",
    "    margin=dict(l=200)\n",
    ")\n",
    "fig.add_vline(x=0, line_dash=\"dash\", line_color=\"gray\")\n",
    "fig.show()"
   ]
  },
  {
   "cell_type": "code",
   "execution_count": 6,
   "metadata": {},
   "outputs": [
    {
     "data": {
      "text/html": [
       "<div><style>\n",
       ".dataframe > thead > tr,\n",
       ".dataframe > tbody > tr {\n",
       "  text-align: right;\n",
       "  white-space: pre-wrap;\n",
       "}\n",
       "</style>\n",
       "<small>shape: (5, 79)</small><table border=\"1\" class=\"dataframe\"><thead><tr><th>tdq</th><th>tic</th><th>sector_Communication Services</th><th>sector_Consumer Discretionary</th><th>sector_Consumer Staples</th><th>sector_Energy</th><th>sector_Financials</th><th>sector_Health Care</th><th>sector_Industrials</th><th>sector_Information Technology</th><th>sector_Materials</th><th>sector_Real Estate</th><th>sector_Utilities</th><th>n_purch</th><th>n_sales</th><th>insider_balance</th><th>price_mom</th><th>price_qoq</th><th>price_yoy</th><th>price_2y</th><th>rsi_14d</th><th>rsi_30d</th><th>rsi_60d</th><th>rsi_90d</th><th>rsi_1y</th><th>vol_mom</th><th>vol_qoq</th><th>vol_yoy</th><th>rel_vol_mom</th><th>rel_vol_qoq</th><th>rel_vol_yoy</th><th>momentum_mom</th><th>momentum_qoq</th><th>momentum_yoy</th><th>momentum_2y</th><th>gpm</th><th>roa</th><th>&hellip;</th><th>dr</th><th>der</th><th>debitda</th><th>ltda</th><th>ltcr</th><th>itr</th><th>rtr</th><th>atr</th><th>cfm</th><th>size</th><th>earn_drift</th><th>pe</th><th>pb</th><th>ps</th><th>ev_ebitda</th><th>saleq_yoy</th><th>saleq_2y</th><th>ni_yoy</th><th>ni_2y</th><th>ltq_yoy</th><th>ltq_2y</th><th>dlttq_yoy</th><th>gpm_yoy</th><th>roa_yoy</th><th>roe_yoy</th><th>fcf_yoy</th><th>cr_yoy</th><th>qr_yoy</th><th>der_yoy</th><th>dr_yoy</th><th>ltda_yoy</th><th>ev_eb_yoy</th><th>ltcr_yoy</th><th>pe_yoy</th><th>pb_yoy</th><th>ps_yoy</th><th>fperf</th></tr><tr><td>date</td><td>str</td><td>i64</td><td>i64</td><td>i64</td><td>i64</td><td>i64</td><td>i64</td><td>i64</td><td>i64</td><td>i64</td><td>i64</td><td>i64</td><td>i64</td><td>i64</td><td>f64</td><td>f64</td><td>f64</td><td>f64</td><td>f64</td><td>f64</td><td>f64</td><td>f64</td><td>f64</td><td>f64</td><td>f64</td><td>f64</td><td>f64</td><td>f64</td><td>f64</td><td>f64</td><td>f64</td><td>f64</td><td>f64</td><td>f64</td><td>f64</td><td>f64</td><td>&hellip;</td><td>f64</td><td>f64</td><td>f64</td><td>f64</td><td>f64</td><td>f64</td><td>f64</td><td>f64</td><td>f64</td><td>f64</td><td>f64</td><td>f64</td><td>f64</td><td>f64</td><td>f64</td><td>f64</td><td>f64</td><td>f64</td><td>f64</td><td>f64</td><td>f64</td><td>f64</td><td>f64</td><td>f64</td><td>f64</td><td>f64</td><td>f64</td><td>f64</td><td>f64</td><td>f64</td><td>f64</td><td>f64</td><td>f64</td><td>f64</td><td>f64</td><td>f64</td><td>i64</td></tr></thead><tbody><tr><td>2007-03-01</td><td>&quot;A&quot;</td><td>0</td><td>0</td><td>0</td><td>0</td><td>0</td><td>1</td><td>0</td><td>0</td><td>0</td><td>0</td><td>0</td><td>0</td><td>1</td><td>8.598</td><td>-0.0175</td><td>-0.018727</td><td>-0.126667</td><td>0.31</td><td>37.080402</td><td>42.592688</td><td>46.374228</td><td>46.439982</td><td>50.571208</td><td>0.014809</td><td>0.012043</td><td>0.01791</td><td>1.68021</td><td>1.931065</td><td>2.790708</td><td>0.974836</td><td>-7.1022</td><td>-1.324112</td><td>1.869599</td><td>0.578125</td><td>0.088037</td><td>&hellip;</td><td>0.491589</td><td>0.966913</td><td>20.090909</td><td>0.208536</td><td>0.037333</td><td>2.007843</td><td>1.87821</td><td>0.1758</td><td>0.072656</td><td>8.880864</td><td>-7.064743</td><td>14.209289</td><td>2.490608</td><td>1.790829</td><td>14.053467</td><td>0.096829</td><td>0.056106</td><td>-0.946733</td><td>0.456311</td><td>-0.080125</td><td>0.045535</td><td>0.0</td><td>0.034773</td><td>-0.786032</td><td>-0.758874</td><td>1.314607</td><td>-0.033049</td><td>-0.06119</td><td>0.051933</td><td>0.026403</td><td>0.115807</td><td>-0.424184</td><td>1.314607</td><td>2.825606</td><td>-0.077548</td><td>-0.192082</td><td>0</td></tr><tr><td>2007-06-01</td><td>&quot;A&quot;</td><td>0</td><td>0</td><td>0</td><td>0</td><td>0</td><td>1</td><td>0</td><td>0</td><td>0</td><td>0</td><td>0</td><td>0</td><td>3</td><td>2.695</td><td>0.052226</td><td>0.241648</td><td>0.097162</td><td>0.594336</td><td>62.343397</td><td>62.077772</td><td>58.732066</td><td>58.636249</td><td>53.754651</td><td>0.016561</td><td>0.013553</td><td>0.017389</td><td>2.953679</td><td>2.207784</td><td>2.674983</td><td>1.932873</td><td>2.392662</td><td>0.463493</td><td>2.053564</td><td>0.590909</td><td>0.089666</td><td>&hellip;</td><td>0.511877</td><td>1.048664</td><td>19.216495</td><td>0.205959</td><td>0.173333</td><td>2.033898</td><td>1.900648</td><td>0.182371</td><td>0.228788</td><td>8.893298</td><td>6.59983</td><td>16.705873</td><td>3.04982</td><td>2.098338</td><td>15.689363</td><td>0.065375</td><td>0.032864</td><td>0.069565</td><td>0.294737</td><td>-0.064022</td><td>0.096793</td><td>0.0</td><td>0.058001</td><td>-0.764364</td><td>-0.756945</td><td>0.078838</td><td>-0.048932</td><td>-0.09261</td><td>0.072623</td><td>0.035449</td><td>0.106275</td><td>-0.275697</td><td>0.078838</td><td>3.789035</td><td>0.163999</td><td>-0.006303</td><td>0</td></tr><tr><td>2007-09-01</td><td>&quot;A&quot;</td><td>0</td><td>0</td><td>0</td><td>0</td><td>0</td><td>1</td><td>0</td><td>0</td><td>0</td><td>0</td><td>0</td><td>0</td><td>2</td><td>5.747</td><td>-0.057483</td><td>-0.051342</td><td>0.1375</td><td>0.13679</td><td>52.575103</td><td>48.65697</td><td>49.886609</td><td>49.92594</td><td>51.861727</td><td>0.032772</td><td>0.021062</td><td>0.01607</td><td>2.055281</td><td>1.725055</td><td>2.02726</td><td>-47.276502</td><td>1.795475</td><td>1.064454</td><td>0.622403</td><td>0.590247</td><td>0.084854</td><td>&hellip;</td><td>0.531891</td><td>1.136253</td><td>16.17316</td><td>0.213554</td><td>0.093333</td><td>2.075529</td><td>1.887363</td><td>0.192074</td><td>0.128093</td><td>8.857088</td><td>0.192679</td><td>16.580932</td><td>3.061018</td><td>1.89827</td><td>14.783464</td><td>0.108959</td><td>0.10628</td><td>-0.185022</td><td>0.778846</td><td>-0.051054</td><td>0.097532</td><td>0.0</td><td>-0.005011</td><td>-0.789586</td><td>-0.780068</td><td>27.0</td><td>-0.13529</td><td>-0.202801</td><td>0.094405</td><td>0.044192</td><td>0.10037</td><td>-0.142223</td><td>27.0</td><td>4.723257</td><td>0.258728</td><td>0.039965</td><td>0</td></tr><tr><td>2007-12-01</td><td>&quot;A&quot;</td><td>0</td><td>0</td><td>0</td><td>0</td><td>0</td><td>1</td><td>0</td><td>0</td><td>0</td><td>0</td><td>0</td><td>0</td><td>2</td><td>2.75</td><td>0.026594</td><td>0.046184</td><td>0.180712</td><td>0.065934</td><td>59.704889</td><td>54.609299</td><td>52.512775</td><td>52.488568</td><td>52.118787</td><td>0.026217</td><td>0.017897</td><td>0.016334</td><td>1.572782</td><td>1.465377</td><td>1.689781</td><td>-0.603821</td><td>7.683146</td><td>3.097014</td><td>0.3707</td><td>0.577455</td><td>0.087529</td><td>&hellip;</td><td>0.571882</td><td>1.335807</td><td>18.227848</td><td>0.276277</td><td>0.172017</td><td>2.1959</td><td>1.96334</td><td>0.198381</td><td>0.275242</td><td>8.929833</td><td>12.255191</td><td>15.693153</td><td>3.095928</td><td>1.847275</td><td>14.923904</td><td>0.088855</td><td>0.027719</td><td>0.208054</td><td>6.2</td><td>0.16442</td><td>0.638847</td><td>0.391333</td><td>-0.01305</td><td>-0.800194</td><td>-0.782379</td><td>-0.057743</td><td>-0.142226</td><td>-0.198205</td><td>0.313484</td><td>0.135903</td><td>0.357259</td><td>-0.051532</td><td>-0.322767</td><td>4.562228</td><td>0.214109</td><td>-0.015412</td><td>0</td></tr><tr><td>2008-03-01</td><td>&quot;A&quot;</td><td>0</td><td>0</td><td>0</td><td>0</td><td>0</td><td>1</td><td>0</td><td>0</td><td>0</td><td>0</td><td>0</td><td>0</td><td>2</td><td>3.418</td><td>-0.104447</td><td>-0.190854</td><td>-0.026399</td><td>-0.149722</td><td>34.6395</td><td>38.84194</td><td>42.496746</td><td>42.578853</td><td>48.452257</td><td>0.018267</td><td>0.018484</td><td>0.017808</td><td>1.373549</td><td>1.408677</td><td>1.586141</td><td>5.62391</td><td>1.878156</td><td>0.510655</td><td>-3.837171</td><td>0.583632</td><td>0.080996</td><td>&hellip;</td><td>0.574608</td><td>1.350772</td><td>21.867347</td><td>0.083925</td><td>-0.047923</td><td>2.115414</td><td>1.906913</td><td>0.185573</td><td>0.002872</td><td>8.917177</td><td>-6.334147</td><td>13.252579</td><td>2.539416</td><td>1.456275</td><td>10.717445</td><td>0.088281</td><td>0.193659</td><td>-0.2</td><td>-0.957386</td><td>0.212104</td><td>0.114984</td><td>-0.582667</td><td>0.009526</td><td>-0.079976</td><td>0.093202</td><td>-1.535714</td><td>-0.306119</td><td>-0.280077</td><td>0.396995</td><td>0.168878</td><td>-0.597549</td><td>-0.237381</td><td>-2.28366</td><td>-0.06733</td><td>0.019597</td><td>-0.186815</td><td>0</td></tr></tbody></table></div>"
      ],
      "text/plain": [
       "shape: (5, 79)\n",
       "┌────────────┬─────┬────────────────┬───────────────┬───┬──────────┬───────────┬───────────┬───────┐\n",
       "│ tdq        ┆ tic ┆ sector_Communi ┆ sector_Consum ┆ … ┆ pe_yoy   ┆ pb_yoy    ┆ ps_yoy    ┆ fperf │\n",
       "│ ---        ┆ --- ┆ cation         ┆ er            ┆   ┆ ---      ┆ ---       ┆ ---       ┆ ---   │\n",
       "│ date       ┆ str ┆ Services       ┆ Discretionary ┆   ┆ f64      ┆ f64       ┆ f64       ┆ i64   │\n",
       "│            ┆     ┆ ---            ┆ ---           ┆   ┆          ┆           ┆           ┆       │\n",
       "│            ┆     ┆ i64            ┆ i64           ┆   ┆          ┆           ┆           ┆       │\n",
       "╞════════════╪═════╪════════════════╪═══════════════╪═══╪══════════╪═══════════╪═══════════╪═══════╡\n",
       "│ 2007-03-01 ┆ A   ┆ 0              ┆ 0             ┆ … ┆ 2.825606 ┆ -0.077548 ┆ -0.192082 ┆ 0     │\n",
       "│ 2007-06-01 ┆ A   ┆ 0              ┆ 0             ┆ … ┆ 3.789035 ┆ 0.163999  ┆ -0.006303 ┆ 0     │\n",
       "│ 2007-09-01 ┆ A   ┆ 0              ┆ 0             ┆ … ┆ 4.723257 ┆ 0.258728  ┆ 0.039965  ┆ 0     │\n",
       "│ 2007-12-01 ┆ A   ┆ 0              ┆ 0             ┆ … ┆ 4.562228 ┆ 0.214109  ┆ -0.015412 ┆ 0     │\n",
       "│ 2008-03-01 ┆ A   ┆ 0              ┆ 0             ┆ … ┆ -0.06733 ┆ 0.019597  ┆ -0.186815 ┆ 0     │\n",
       "└────────────┴─────┴────────────────┴───────────────┴───┴──────────┴───────────┴───────────┴───────┘"
      ]
     },
     "execution_count": 6,
     "metadata": {},
     "output_type": "execute_result"
    }
   ],
   "source": [
    "data = data.filter(\n",
    "    (pl.col('tdq') < last_trade_date) &\n",
    "    (~pl.all_horizontal(pl.col(target_col).is_null()))\n",
    ")\n",
    "\n",
    "# filter cols\n",
    "aux_cols = ['datadate', 'rdq', 'sector'] + [t for t in get_config('model')['targets'] if t != target_col]\n",
    "data = data.select([c for c in data.columns if c not in aux_cols])\n",
    "data.head()"
   ]
  },
  {
   "cell_type": "code",
   "execution_count": 7,
   "metadata": {},
   "outputs": [
    {
     "name": "stdout",
     "output_type": "stream",
     "text": [
      "Scale of training data (pos/neg): 3\n"
     ]
    },
    {
     "data": {
      "text/html": [
       "<div>\n",
       "<style scoped>\n",
       "    .dataframe tbody tr th:only-of-type {\n",
       "        vertical-align: middle;\n",
       "    }\n",
       "\n",
       "    .dataframe tbody tr th {\n",
       "        vertical-align: top;\n",
       "    }\n",
       "\n",
       "    .dataframe thead th {\n",
       "        text-align: right;\n",
       "    }\n",
       "</style>\n",
       "<table border=\"1\" class=\"dataframe\">\n",
       "  <thead>\n",
       "    <tr style=\"text-align: right;\">\n",
       "      <th></th>\n",
       "      <th>sector_Communication Services</th>\n",
       "      <th>sector_Consumer Discretionary</th>\n",
       "      <th>sector_Consumer Staples</th>\n",
       "      <th>sector_Energy</th>\n",
       "      <th>sector_Financials</th>\n",
       "      <th>sector_Health Care</th>\n",
       "      <th>sector_Industrials</th>\n",
       "      <th>sector_Information Technology</th>\n",
       "      <th>sector_Materials</th>\n",
       "      <th>sector_Real Estate</th>\n",
       "      <th>...</th>\n",
       "      <th>cr_yoy</th>\n",
       "      <th>qr_yoy</th>\n",
       "      <th>der_yoy</th>\n",
       "      <th>dr_yoy</th>\n",
       "      <th>ltda_yoy</th>\n",
       "      <th>ev_eb_yoy</th>\n",
       "      <th>ltcr_yoy</th>\n",
       "      <th>pe_yoy</th>\n",
       "      <th>pb_yoy</th>\n",
       "      <th>ps_yoy</th>\n",
       "    </tr>\n",
       "  </thead>\n",
       "  <tbody>\n",
       "    <tr>\n",
       "      <th>0</th>\n",
       "      <td>0</td>\n",
       "      <td>0</td>\n",
       "      <td>0</td>\n",
       "      <td>0</td>\n",
       "      <td>0</td>\n",
       "      <td>1</td>\n",
       "      <td>0</td>\n",
       "      <td>0</td>\n",
       "      <td>0</td>\n",
       "      <td>0</td>\n",
       "      <td>...</td>\n",
       "      <td>-0.306119</td>\n",
       "      <td>-0.280077</td>\n",
       "      <td>0.396995</td>\n",
       "      <td>0.168878</td>\n",
       "      <td>-0.597549</td>\n",
       "      <td>-0.237381</td>\n",
       "      <td>-2.283660</td>\n",
       "      <td>-0.067330</td>\n",
       "      <td>0.019597</td>\n",
       "      <td>-0.186815</td>\n",
       "    </tr>\n",
       "    <tr>\n",
       "      <th>1</th>\n",
       "      <td>0</td>\n",
       "      <td>0</td>\n",
       "      <td>0</td>\n",
       "      <td>0</td>\n",
       "      <td>0</td>\n",
       "      <td>1</td>\n",
       "      <td>0</td>\n",
       "      <td>0</td>\n",
       "      <td>0</td>\n",
       "      <td>0</td>\n",
       "      <td>...</td>\n",
       "      <td>-0.301765</td>\n",
       "      <td>-0.243269</td>\n",
       "      <td>0.365127</td>\n",
       "      <td>0.150162</td>\n",
       "      <td>-0.606461</td>\n",
       "      <td>-0.243443</td>\n",
       "      <td>1.671284</td>\n",
       "      <td>-0.123835</td>\n",
       "      <td>0.000622</td>\n",
       "      <td>-0.190346</td>\n",
       "    </tr>\n",
       "    <tr>\n",
       "      <th>2</th>\n",
       "      <td>0</td>\n",
       "      <td>0</td>\n",
       "      <td>0</td>\n",
       "      <td>0</td>\n",
       "      <td>0</td>\n",
       "      <td>1</td>\n",
       "      <td>0</td>\n",
       "      <td>0</td>\n",
       "      <td>0</td>\n",
       "      <td>0</td>\n",
       "      <td>...</td>\n",
       "      <td>-0.193095</td>\n",
       "      <td>-0.061566</td>\n",
       "      <td>0.203659</td>\n",
       "      <td>0.086017</td>\n",
       "      <td>-0.624940</td>\n",
       "      <td>-0.296361</td>\n",
       "      <td>1.306055</td>\n",
       "      <td>-0.164869</td>\n",
       "      <td>-0.088150</td>\n",
       "      <td>-0.183973</td>\n",
       "    </tr>\n",
       "    <tr>\n",
       "      <th>3</th>\n",
       "      <td>0</td>\n",
       "      <td>0</td>\n",
       "      <td>0</td>\n",
       "      <td>0</td>\n",
       "      <td>0</td>\n",
       "      <td>1</td>\n",
       "      <td>0</td>\n",
       "      <td>0</td>\n",
       "      <td>0</td>\n",
       "      <td>0</td>\n",
       "      <td>...</td>\n",
       "      <td>0.096797</td>\n",
       "      <td>0.077685</td>\n",
       "      <td>0.427013</td>\n",
       "      <td>0.146931</td>\n",
       "      <td>0.034227</td>\n",
       "      <td>-0.492541</td>\n",
       "      <td>-0.414559</td>\n",
       "      <td>-0.602664</td>\n",
       "      <td>-0.454568</td>\n",
       "      <td>-0.594871</td>\n",
       "    </tr>\n",
       "    <tr>\n",
       "      <th>4</th>\n",
       "      <td>0</td>\n",
       "      <td>0</td>\n",
       "      <td>0</td>\n",
       "      <td>0</td>\n",
       "      <td>0</td>\n",
       "      <td>1</td>\n",
       "      <td>0</td>\n",
       "      <td>0</td>\n",
       "      <td>0</td>\n",
       "      <td>0</td>\n",
       "      <td>...</td>\n",
       "      <td>0.403954</td>\n",
       "      <td>0.227777</td>\n",
       "      <td>0.321975</td>\n",
       "      <td>0.115582</td>\n",
       "      <td>2.583585</td>\n",
       "      <td>-0.339152</td>\n",
       "      <td>0.835314</td>\n",
       "      <td>-0.594239</td>\n",
       "      <td>-0.475344</td>\n",
       "      <td>-0.575958</td>\n",
       "    </tr>\n",
       "    <tr>\n",
       "      <th>...</th>\n",
       "      <td>...</td>\n",
       "      <td>...</td>\n",
       "      <td>...</td>\n",
       "      <td>...</td>\n",
       "      <td>...</td>\n",
       "      <td>...</td>\n",
       "      <td>...</td>\n",
       "      <td>...</td>\n",
       "      <td>...</td>\n",
       "      <td>...</td>\n",
       "      <td>...</td>\n",
       "      <td>...</td>\n",
       "      <td>...</td>\n",
       "      <td>...</td>\n",
       "      <td>...</td>\n",
       "      <td>...</td>\n",
       "      <td>...</td>\n",
       "      <td>...</td>\n",
       "      <td>...</td>\n",
       "      <td>...</td>\n",
       "      <td>...</td>\n",
       "    </tr>\n",
       "    <tr>\n",
       "      <th>33273</th>\n",
       "      <td>0</td>\n",
       "      <td>0</td>\n",
       "      <td>0</td>\n",
       "      <td>0</td>\n",
       "      <td>0</td>\n",
       "      <td>1</td>\n",
       "      <td>0</td>\n",
       "      <td>0</td>\n",
       "      <td>0</td>\n",
       "      <td>0</td>\n",
       "      <td>...</td>\n",
       "      <td>-0.358636</td>\n",
       "      <td>-0.284122</td>\n",
       "      <td>-0.125895</td>\n",
       "      <td>-0.033086</td>\n",
       "      <td>-0.159871</td>\n",
       "      <td>0.160897</td>\n",
       "      <td>0.085747</td>\n",
       "      <td>0.168908</td>\n",
       "      <td>-0.012159</td>\n",
       "      <td>0.250797</td>\n",
       "    </tr>\n",
       "    <tr>\n",
       "      <th>33274</th>\n",
       "      <td>0</td>\n",
       "      <td>0</td>\n",
       "      <td>0</td>\n",
       "      <td>0</td>\n",
       "      <td>0</td>\n",
       "      <td>1</td>\n",
       "      <td>0</td>\n",
       "      <td>0</td>\n",
       "      <td>0</td>\n",
       "      <td>0</td>\n",
       "      <td>...</td>\n",
       "      <td>0.158816</td>\n",
       "      <td>0.272363</td>\n",
       "      <td>-0.201131</td>\n",
       "      <td>-0.055762</td>\n",
       "      <td>-0.059228</td>\n",
       "      <td>0.049260</td>\n",
       "      <td>0.112460</td>\n",
       "      <td>0.076636</td>\n",
       "      <td>-0.156173</td>\n",
       "      <td>0.102592</td>\n",
       "    </tr>\n",
       "    <tr>\n",
       "      <th>33275</th>\n",
       "      <td>0</td>\n",
       "      <td>0</td>\n",
       "      <td>0</td>\n",
       "      <td>0</td>\n",
       "      <td>0</td>\n",
       "      <td>1</td>\n",
       "      <td>0</td>\n",
       "      <td>0</td>\n",
       "      <td>0</td>\n",
       "      <td>0</td>\n",
       "      <td>...</td>\n",
       "      <td>0.185975</td>\n",
       "      <td>0.350357</td>\n",
       "      <td>-0.255998</td>\n",
       "      <td>-0.075931</td>\n",
       "      <td>-0.076953</td>\n",
       "      <td>0.094265</td>\n",
       "      <td>-0.112482</td>\n",
       "      <td>0.140825</td>\n",
       "      <td>-0.154823</td>\n",
       "      <td>0.135680</td>\n",
       "    </tr>\n",
       "    <tr>\n",
       "      <th>33276</th>\n",
       "      <td>0</td>\n",
       "      <td>0</td>\n",
       "      <td>0</td>\n",
       "      <td>0</td>\n",
       "      <td>0</td>\n",
       "      <td>1</td>\n",
       "      <td>0</td>\n",
       "      <td>0</td>\n",
       "      <td>0</td>\n",
       "      <td>0</td>\n",
       "      <td>...</td>\n",
       "      <td>-0.028763</td>\n",
       "      <td>-0.035855</td>\n",
       "      <td>-0.338497</td>\n",
       "      <td>-0.104708</td>\n",
       "      <td>-0.148811</td>\n",
       "      <td>0.072161</td>\n",
       "      <td>0.198462</td>\n",
       "      <td>0.076586</td>\n",
       "      <td>-0.127650</td>\n",
       "      <td>0.087172</td>\n",
       "    </tr>\n",
       "    <tr>\n",
       "      <th>33277</th>\n",
       "      <td>0</td>\n",
       "      <td>0</td>\n",
       "      <td>0</td>\n",
       "      <td>0</td>\n",
       "      <td>0</td>\n",
       "      <td>1</td>\n",
       "      <td>0</td>\n",
       "      <td>0</td>\n",
       "      <td>0</td>\n",
       "      <td>0</td>\n",
       "      <td>...</td>\n",
       "      <td>0.613434</td>\n",
       "      <td>0.547623</td>\n",
       "      <td>-0.312754</td>\n",
       "      <td>-0.106823</td>\n",
       "      <td>0.001004</td>\n",
       "      <td>0.152802</td>\n",
       "      <td>0.162450</td>\n",
       "      <td>0.136953</td>\n",
       "      <td>0.044146</td>\n",
       "      <td>0.163958</td>\n",
       "    </tr>\n",
       "  </tbody>\n",
       "</table>\n",
       "<p>33278 rows × 76 columns</p>\n",
       "</div>"
      ],
      "text/plain": [
       "       sector_Communication Services  sector_Consumer Discretionary  \\\n",
       "0                                  0                              0   \n",
       "1                                  0                              0   \n",
       "2                                  0                              0   \n",
       "3                                  0                              0   \n",
       "4                                  0                              0   \n",
       "...                              ...                            ...   \n",
       "33273                              0                              0   \n",
       "33274                              0                              0   \n",
       "33275                              0                              0   \n",
       "33276                              0                              0   \n",
       "33277                              0                              0   \n",
       "\n",
       "       sector_Consumer Staples  sector_Energy  sector_Financials  \\\n",
       "0                            0              0                  0   \n",
       "1                            0              0                  0   \n",
       "2                            0              0                  0   \n",
       "3                            0              0                  0   \n",
       "4                            0              0                  0   \n",
       "...                        ...            ...                ...   \n",
       "33273                        0              0                  0   \n",
       "33274                        0              0                  0   \n",
       "33275                        0              0                  0   \n",
       "33276                        0              0                  0   \n",
       "33277                        0              0                  0   \n",
       "\n",
       "       sector_Health Care  sector_Industrials  sector_Information Technology  \\\n",
       "0                       1                   0                              0   \n",
       "1                       1                   0                              0   \n",
       "2                       1                   0                              0   \n",
       "3                       1                   0                              0   \n",
       "4                       1                   0                              0   \n",
       "...                   ...                 ...                            ...   \n",
       "33273                   1                   0                              0   \n",
       "33274                   1                   0                              0   \n",
       "33275                   1                   0                              0   \n",
       "33276                   1                   0                              0   \n",
       "33277                   1                   0                              0   \n",
       "\n",
       "       sector_Materials  sector_Real Estate  ...    cr_yoy    qr_yoy  \\\n",
       "0                     0                   0  ... -0.306119 -0.280077   \n",
       "1                     0                   0  ... -0.301765 -0.243269   \n",
       "2                     0                   0  ... -0.193095 -0.061566   \n",
       "3                     0                   0  ...  0.096797  0.077685   \n",
       "4                     0                   0  ...  0.403954  0.227777   \n",
       "...                 ...                 ...  ...       ...       ...   \n",
       "33273                 0                   0  ... -0.358636 -0.284122   \n",
       "33274                 0                   0  ...  0.158816  0.272363   \n",
       "33275                 0                   0  ...  0.185975  0.350357   \n",
       "33276                 0                   0  ... -0.028763 -0.035855   \n",
       "33277                 0                   0  ...  0.613434  0.547623   \n",
       "\n",
       "        der_yoy    dr_yoy  ltda_yoy  ev_eb_yoy  ltcr_yoy    pe_yoy    pb_yoy  \\\n",
       "0      0.396995  0.168878 -0.597549  -0.237381 -2.283660 -0.067330  0.019597   \n",
       "1      0.365127  0.150162 -0.606461  -0.243443  1.671284 -0.123835  0.000622   \n",
       "2      0.203659  0.086017 -0.624940  -0.296361  1.306055 -0.164869 -0.088150   \n",
       "3      0.427013  0.146931  0.034227  -0.492541 -0.414559 -0.602664 -0.454568   \n",
       "4      0.321975  0.115582  2.583585  -0.339152  0.835314 -0.594239 -0.475344   \n",
       "...         ...       ...       ...        ...       ...       ...       ...   \n",
       "33273 -0.125895 -0.033086 -0.159871   0.160897  0.085747  0.168908 -0.012159   \n",
       "33274 -0.201131 -0.055762 -0.059228   0.049260  0.112460  0.076636 -0.156173   \n",
       "33275 -0.255998 -0.075931 -0.076953   0.094265 -0.112482  0.140825 -0.154823   \n",
       "33276 -0.338497 -0.104708 -0.148811   0.072161  0.198462  0.076586 -0.127650   \n",
       "33277 -0.312754 -0.106823  0.001004   0.152802  0.162450  0.136953  0.044146   \n",
       "\n",
       "         ps_yoy  \n",
       "0     -0.186815  \n",
       "1     -0.190346  \n",
       "2     -0.183973  \n",
       "3     -0.594871  \n",
       "4     -0.575958  \n",
       "...         ...  \n",
       "33273  0.250797  \n",
       "33274  0.102592  \n",
       "33275  0.135680  \n",
       "33276  0.087172  \n",
       "33277  0.163958  \n",
       "\n",
       "[33278 rows x 76 columns]"
      ]
     },
     "execution_count": 7,
     "metadata": {},
     "output_type": "execute_result"
    }
   ],
   "source": [
    "train = data.filter(\n",
    "    (pl.col('tdq').dt.year() > 2007) &\n",
    "    (pl.col('tdq').dt.year() < 2022)\n",
    ")\n",
    "val = data.filter(\n",
    "    (pl.col('tdq').dt.year() >= 2022) &\n",
    "    (pl.col('tdq').dt.year() < 2023)\n",
    ")\n",
    "\n",
    "def get_scale():\n",
    "    scale = round(\n",
    "        len(train.filter(pl.col(target_col) == 0)) /\n",
    "        len(train.filter(pl.col(target_col) == 1))\n",
    "    )\n",
    "\n",
    "    print(f\"Scale of training data (pos/neg): {scale}\")\n",
    "    return scale\n",
    "\n",
    "scale = get_scale()\n",
    "\n",
    "X_train = train.select(pl.exclude(['tic', target_col, date_col])).to_pandas()\n",
    "y_train = train.select(target_col).to_pandas().values.ravel()\n",
    "X_val = val.select(pl.exclude(['tic', target_col, date_col])).to_pandas()\n",
    "y_val = val.select(target_col).to_pandas().values.ravel()\n",
    "\n",
    "X_train"
   ]
  },
  {
   "cell_type": "code",
   "execution_count": 8,
   "metadata": {},
   "outputs": [
    {
     "data": {
      "text/plain": [
       "3.4988508854941194"
      ]
     },
     "execution_count": 8,
     "metadata": {},
     "output_type": "execute_result"
    }
   ],
   "source": [
    "len(train.filter(pl.col(target_col) == 0)) / len(train.filter(pl.col(target_col) == 1))"
   ]
  },
  {
   "cell_type": "code",
   "execution_count": 9,
   "metadata": {},
   "outputs": [
    {
     "name": "stdout",
     "output_type": "stream",
     "text": [
      "Model roc-auc with initial features: 0.7446194670280036\n",
      "Model pr-auc with initial features: 0.21628897004757794\n",
      "Selected Features: Index(['sector_Information Technology', 'sector_Utilities', 'price_mom',\n",
      "       'price_2y', 'rsi_1y', 'vol_mom', 'vol_qoq', 'vol_yoy', 'rel_vol_qoq',\n",
      "       'rel_vol_yoy', 'momentum_mom', 'momentum_qoq', 'momentum_2y', 'cr',\n",
      "       'csr', 'atr', 'size', 'pb', 'ps', 'ev_eb_yoy'],\n",
      "      dtype='object')\n",
      "Model roc-auc with selected features: 0.7552186841312858\n",
      "Model pr-auc with selected features: 0.21755519109719068\n"
     ]
    }
   ],
   "source": [
    "from sklearn.feature_selection import RFE\n",
    "from xgboost import XGBClassifier\n",
    "import sklearn.metrics as skm\n",
    "\n",
    "params = {\n",
    "    'objective': 'binary:logistic',\n",
    "    'learning_rate': 0.1,\n",
    "    'n_estimators': 100,\n",
    "    'max_depth': 3,\n",
    "    'min_child_weight': 1,\n",
    "    'gamma': 0,\n",
    "    'subsample': 1,\n",
    "    'colsample_bytree': 1,\n",
    "    'reg_alpha': 0,\n",
    "    'reg_lambda': 1,\n",
    "    'scale_pos_weight': scale,\n",
    "    'eval_metric': 'logloss',\n",
    "    'nthread': -1,\n",
    "    'seed': get_config('model')['seed']\n",
    "}\n",
    "\n",
    "rbf_model = XGBClassifier(**params)\n",
    "\n",
    "# Use RFE to rank feature importance and eliminate unuseful features\n",
    "selector = RFE(rbf_model, n_features_to_select=20)\n",
    "selector = selector.fit(X_train, y_train)\n",
    "\n",
    "support = selector.support_\n",
    "ranking = selector.ranking_\n",
    "\n",
    "rbf_model.fit(X_train, y_train)\n",
    "init_probs = rbf_model.predict_proba(X_val)[:, 1]\n",
    "print(\"Model roc-auc with initial features:\", skm.roc_auc_score(y_val, init_probs))\n",
    "print(\"Model pr-auc with initial features:\", skm.average_precision_score(y_val, init_probs))\n",
    "\n",
    "selected_features = X_train.columns[support]\n",
    "print(\"Selected Features:\", selected_features)\n",
    "\n",
    "X_train_selected = X_train[selected_features]\n",
    "X_val_selected = X_val[selected_features]\n",
    "rbf_model.fit(X_train_selected, y_train)\n",
    "\n",
    "sel_probs = rbf_model.predict_proba(X_val_selected)[:, 1]\n",
    "print(\"Model roc-auc with selected features:\", skm.roc_auc_score(y_val, sel_probs))\n",
    "print(\"Model pr-auc with selected features:\", skm.average_precision_score(y_val, sel_probs))"
   ]
  },
  {
   "cell_type": "code",
   "execution_count": 10,
   "metadata": {},
   "outputs": [
    {
     "data": {
      "text/plain": [
       "np.float64(0.7446194670280036)"
      ]
     },
     "execution_count": 10,
     "metadata": {},
     "output_type": "execute_result"
    }
   ],
   "source": [
    "model = XGBoostModel(scale=scale)\n",
    "model.train(X_train, y_train)\n",
    "model.evaluate(X_val, y_val)['roc_auc']"
   ]
  },
  {
   "cell_type": "code",
   "execution_count": 11,
   "metadata": {},
   "outputs": [
    {
     "data": {
      "text/plain": [
       "np.float64(0.2653061224489796)"
      ]
     },
     "execution_count": 11,
     "metadata": {},
     "output_type": "execute_result"
    }
   ],
   "source": [
    "model.evaluate(X_val, y_val)['prec']"
   ]
  },
  {
   "cell_type": "code",
   "execution_count": 12,
   "metadata": {},
   "outputs": [
    {
     "name": "stdout",
     "output_type": "stream",
     "text": [
      "Baseline 0.10224438902743142, PR-AUC = 0.21628897004757794\n"
     ]
    }
   ],
   "source": [
    "baseline = float(\n",
    "    len(val.filter(pl.col(target_col) == 1)) /\n",
    "    len(val)\n",
    ")\n",
    "\n",
    "pr_auc = model.evaluate(X_val, y_val)['pr_auc']\n",
    "pr_auc\n",
    "\n",
    "print(f\"Baseline {baseline}, PR-AUC = {pr_auc}\")"
   ]
  },
  {
   "cell_type": "code",
   "execution_count": 13,
   "metadata": {},
   "outputs": [
    {
     "data": {
      "text/plain": [
       "[('momentum_2y', 52.0),\n",
       " ('vol_yoy', 46.0),\n",
       " ('size', 45.0),\n",
       " ('price_2y', 28.0),\n",
       " ('ps', 26.0),\n",
       " ('vol_qoq', 25.0),\n",
       " ('rel_vol_yoy', 25.0),\n",
       " ('atr', 24.0),\n",
       " ('momentum_mom', 21.0),\n",
       " ('csr', 20.0),\n",
       " ('momentum_yoy', 19.0),\n",
       " ('rel_vol_qoq', 18.0),\n",
       " ('ltcr', 18.0),\n",
       " ('rtr', 18.0),\n",
       " ('gpm', 16.0),\n",
       " ('sector_Utilities', 14.0),\n",
       " ('momentum_qoq', 14.0),\n",
       " ('dr', 14.0),\n",
       " ('pb', 14.0),\n",
       " ('price_mom', 13.0),\n",
       " ('roa', 13.0),\n",
       " ('ev_eb_yoy', 12.0),\n",
       " ('price_qoq', 11.0),\n",
       " ('roe', 10.0),\n",
       " ('pe', 10.0),\n",
       " ('vol_mom', 9.0),\n",
       " ('ps_yoy', 9.0),\n",
       " ('itr', 8.0),\n",
       " ('rsi_14d', 7.0),\n",
       " ('rsi_1y', 7.0),\n",
       " ('dr_yoy', 7.0),\n",
       " ('ltda_yoy', 7.0),\n",
       " ('cr', 6.0),\n",
       " ('sector_Communication Services', 5.0),\n",
       " ('price_yoy', 5.0),\n",
       " ('rsi_60d', 5.0),\n",
       " ('rel_vol_mom', 5.0),\n",
       " ('qr', 5.0),\n",
       " ('earn_drift', 5.0),\n",
       " ('ev_ebitda', 5.0),\n",
       " ('saleq_2y', 5.0),\n",
       " ('ltq_2y', 5.0),\n",
       " ('dlttq_yoy', 5.0),\n",
       " ('der_yoy', 5.0),\n",
       " ('sector_Information Technology', 4.0),\n",
       " ('ltda', 4.0),\n",
       " ('gpm_yoy', 4.0),\n",
       " ('qr_yoy', 4.0),\n",
       " ('sector_Consumer Staples', 3.0),\n",
       " ('sector_Materials', 3.0),\n",
       " ('ebitdam', 3.0),\n",
       " ('debitda', 3.0),\n",
       " ('saleq_yoy', 3.0),\n",
       " ('roa_yoy', 3.0),\n",
       " ('cr_yoy', 3.0),\n",
       " ('rsi_30d', 2.0),\n",
       " ('rsi_90d', 2.0),\n",
       " ('ltq_yoy', 2.0),\n",
       " ('pb_yoy', 2.0),\n",
       " ('sector_Health Care', 1.0),\n",
       " ('sector_Real Estate', 1.0),\n",
       " ('cfm', 1.0),\n",
       " ('ni_yoy', 1.0),\n",
       " ('ni_2y', 1.0),\n",
       " ('roe_yoy', 1.0),\n",
       " ('ltcr_yoy', 1.0),\n",
       " ('pe_yoy', 1.0)]"
      ]
     },
     "execution_count": 13,
     "metadata": {},
     "output_type": "execute_result"
    }
   ],
   "source": [
    "model.get_importance(\"weight\")"
   ]
  },
  {
   "cell_type": "code",
   "execution_count": 14,
   "metadata": {},
   "outputs": [
    {
     "data": {
      "text/plain": [
       "[('vol_yoy', 668.2801513671875),\n",
       " ('vol_mom', 238.8883514404297),\n",
       " ('vol_qoq', 232.72837829589844),\n",
       " ('price_mom', 111.4688720703125),\n",
       " ('sector_Utilities', 111.16339111328125),\n",
       " ('size', 108.20530700683594),\n",
       " ('atr', 103.23871612548828),\n",
       " ('sector_Information Technology', 94.90618896484375),\n",
       " ('csr', 91.00992584228516),\n",
       " ('price_2y', 90.44414520263672),\n",
       " ('rel_vol_yoy', 78.79985046386719),\n",
       " ('momentum_2y', 77.00160217285156),\n",
       " ('cr', 76.1431655883789),\n",
       " ('rsi_90d', 71.05437469482422),\n",
       " ('ps', 68.59455108642578),\n",
       " ('dr_yoy', 64.55858612060547),\n",
       " ('rsi_1y', 62.936004638671875),\n",
       " ('rel_vol_qoq', 62.02825164794922),\n",
       " ('pb', 61.78389358520508),\n",
       " ('ltq_2y', 59.83052444458008),\n",
       " ('qr_yoy', 59.41650390625),\n",
       " ('momentum_mom', 55.42319869995117),\n",
       " ('ev_eb_yoy', 53.45625686645508),\n",
       " ('momentum_yoy', 50.16633605957031),\n",
       " ('rtr', 49.969215393066406),\n",
       " ('gpm', 49.494422912597656),\n",
       " ('price_qoq', 47.407596588134766),\n",
       " ('momentum_qoq', 47.208797454833984),\n",
       " ('price_yoy', 46.89986038208008),\n",
       " ('roa_yoy', 46.50083541870117),\n",
       " ('sector_Real Estate', 46.22271728515625),\n",
       " ('dr', 45.96933364868164),\n",
       " ('ltq_yoy', 44.31504821777344),\n",
       " ('saleq_yoy', 43.607147216796875),\n",
       " ('rel_vol_mom', 43.57617950439453),\n",
       " ('itr', 43.264366149902344),\n",
       " ('earn_drift', 42.67401885986328),\n",
       " ('ps_yoy', 41.293495178222656),\n",
       " ('pe', 39.75657653808594),\n",
       " ('sector_Communication Services', 39.03723907470703),\n",
       " ('sector_Consumer Staples', 38.33656692504883),\n",
       " ('ebitdam', 36.81253433227539),\n",
       " ('pb_yoy', 35.59941101074219),\n",
       " ('qr', 34.62220001220703),\n",
       " ('rsi_14d', 34.564151763916016),\n",
       " ('der_yoy', 33.77363967895508),\n",
       " ('saleq_2y', 33.33225631713867),\n",
       " ('cr_yoy', 32.79072952270508),\n",
       " ('pe_yoy', 32.23588562011719),\n",
       " ('rsi_30d', 31.838714599609375),\n",
       " ('dlttq_yoy', 31.742206573486328),\n",
       " ('gpm_yoy', 31.454830169677734),\n",
       " ('rsi_60d', 31.083721160888672),\n",
       " ('roe', 30.953847885131836),\n",
       " ('ni_2y', 29.10150718688965),\n",
       " ('roa', 27.755708694458008),\n",
       " ('ltda', 27.399341583251953),\n",
       " ('ni_yoy', 25.68220329284668),\n",
       " ('ltda_yoy', 23.802433013916016),\n",
       " ('roe_yoy', 23.781457901000977),\n",
       " ('sector_Materials', 22.98186683654785),\n",
       " ('ev_ebitda', 21.933568954467773),\n",
       " ('ltcr', 21.73378562927246),\n",
       " ('sector_Health Care', 19.250717163085938),\n",
       " ('debitda', 18.02340316772461),\n",
       " ('cfm', 11.09417724609375),\n",
       " ('ltcr_yoy', 6.402091979980469)]"
      ]
     },
     "execution_count": 14,
     "metadata": {},
     "output_type": "execute_result"
    }
   ],
   "source": [
    "model.get_importance(\"gain\")"
   ]
  },
  {
   "cell_type": "code",
   "execution_count": 15,
   "metadata": {},
   "outputs": [
    {
     "data": {
      "text/plain": [
       "[('momentum_2y', 52.0),\n",
       " ('vol_yoy', 46.0),\n",
       " ('size', 45.0),\n",
       " ('price_2y', 28.0),\n",
       " ('ps', 26.0),\n",
       " ('vol_qoq', 25.0),\n",
       " ('rel_vol_yoy', 25.0),\n",
       " ('atr', 24.0),\n",
       " ('momentum_mom', 21.0),\n",
       " ('csr', 20.0),\n",
       " ('momentum_yoy', 19.0),\n",
       " ('rel_vol_qoq', 18.0),\n",
       " ('ltcr', 18.0),\n",
       " ('rtr', 18.0),\n",
       " ('gpm', 16.0),\n",
       " ('sector_Utilities', 14.0),\n",
       " ('momentum_qoq', 14.0),\n",
       " ('dr', 14.0),\n",
       " ('pb', 14.0),\n",
       " ('price_mom', 13.0),\n",
       " ('roa', 13.0),\n",
       " ('ev_eb_yoy', 12.0),\n",
       " ('price_qoq', 11.0),\n",
       " ('roe', 10.0),\n",
       " ('pe', 10.0),\n",
       " ('vol_mom', 9.0),\n",
       " ('ps_yoy', 9.0),\n",
       " ('itr', 8.0),\n",
       " ('rsi_14d', 7.0),\n",
       " ('rsi_1y', 7.0),\n",
       " ('dr_yoy', 7.0),\n",
       " ('ltda_yoy', 7.0),\n",
       " ('cr', 6.0),\n",
       " ('sector_Communication Services', 5.0),\n",
       " ('price_yoy', 5.0),\n",
       " ('rsi_60d', 5.0),\n",
       " ('rel_vol_mom', 5.0),\n",
       " ('qr', 5.0),\n",
       " ('earn_drift', 5.0),\n",
       " ('ev_ebitda', 5.0),\n",
       " ('saleq_2y', 5.0),\n",
       " ('ltq_2y', 5.0),\n",
       " ('dlttq_yoy', 5.0),\n",
       " ('der_yoy', 5.0),\n",
       " ('sector_Information Technology', 4.0),\n",
       " ('ltda', 4.0),\n",
       " ('gpm_yoy', 4.0),\n",
       " ('qr_yoy', 4.0),\n",
       " ('sector_Consumer Staples', 3.0),\n",
       " ('sector_Materials', 3.0),\n",
       " ('ebitdam', 3.0),\n",
       " ('debitda', 3.0),\n",
       " ('saleq_yoy', 3.0),\n",
       " ('roa_yoy', 3.0),\n",
       " ('cr_yoy', 3.0),\n",
       " ('rsi_30d', 2.0),\n",
       " ('rsi_90d', 2.0),\n",
       " ('ltq_yoy', 2.0),\n",
       " ('pb_yoy', 2.0),\n",
       " ('sector_Health Care', 1.0),\n",
       " ('sector_Real Estate', 1.0),\n",
       " ('cfm', 1.0),\n",
       " ('ni_yoy', 1.0),\n",
       " ('ni_2y', 1.0),\n",
       " ('roe_yoy', 1.0),\n",
       " ('ltcr_yoy', 1.0),\n",
       " ('pe_yoy', 1.0)]"
      ]
     },
     "execution_count": 15,
     "metadata": {},
     "output_type": "execute_result"
    }
   ],
   "source": [
    "model.get_importance(\"weight\")"
   ]
  },
  {
   "cell_type": "code",
   "execution_count": 16,
   "metadata": {},
   "outputs": [
    {
     "data": {
      "image/png": "[encoded data removed]",
      "text/plain": [
       "<Figure size 800x1350 with 2 Axes>"
      ]
     },
     "metadata": {},
     "output_type": "display_data"
    }
   ],
   "source": [
    "import shap\n",
    "import numpy as np\n",
    "\n",
    "explainer = shap.TreeExplainer(model.model)\n",
    "shap_values = explainer(X_train)\n",
    "\n",
    "feature_names = [\n",
    "    a + \": \" + str(b) for a,b in zip(X_train.columns, np.abs(shap_values.values).mean(0).round(2))\n",
    "]\n",
    "\n",
    "shap.summary_plot(\n",
    "    shap_values,\n",
    "    X_train,\n",
    "    max_display=X_train.shape[1],\n",
    "    feature_names=feature_names,\n",
    "    plot_size=(8, 13.5)\n",
    ")"
   ]
  }
 ],
 "metadata": {
  "kernelspec": {
   "display_name": "stocksense",
   "language": "python",
   "name": "python3"
  },
  "language_info": {
   "codemirror_mode": {
    "name": "ipython",
    "version": 3
   },
   "file_extension": ".py",
   "mimetype": "text/x-python",
   "name": "python",
   "nbconvert_exporter": "python",
   "pygments_lexer": "ipython3",
   "version": "3.11.0"
  }
 },
 "nbformat": 4,
 "nbformat_minor": 2
}
