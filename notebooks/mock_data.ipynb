{
 "cells": [
  {
   "cell_type": "code",
   "execution_count": 1,
   "metadata": {},
   "outputs": [
    {
     "name": "stderr",
     "output_type": "stream",
     "text": [
      "\u001b[32m2025-01-13 10:28:14.696\u001b[0m | \u001b[32m\u001b[1mSUCCESS \u001b[0m | \u001b[36mstocksense.database.schema\u001b[0m:\u001b[36mcreate_tables\u001b[0m:\u001b[36m121\u001b[0m - \u001b[32m\u001b[1mTables created successfully\u001b[0m\n"
     ]
    }
   ],
   "source": [
    "from pathlib import Path\n",
    "\n",
    "import polars as pl\n",
    "\n",
    "from stocksense.database import DatabaseHandler\n",
    "\n",
    "FIXTURE_PATH = Path(\"../tests/fixtures\")\n",
    "\n",
    "db = DatabaseHandler()"
   ]
  },
  {
   "cell_type": "code",
   "execution_count": 2,
   "metadata": {},
   "outputs": [
    {
     "data": {
      "text/html": [
       "<div><style>\n",
       ".dataframe > thead > tr,\n",
       ".dataframe > tbody > tr {\n",
       "  text-align: right;\n",
       "  white-space: pre-wrap;\n",
       "}\n",
       "</style>\n",
       "<small>shape: (793, 5)</small><table border=\"1\" class=\"dataframe\"><thead><tr><th>tic</th><th>name</th><th>sector</th><th>date_added</th><th>date_removed</th></tr><tr><td>str</td><td>str</td><td>str</td><td>date</td><td>date</td></tr></thead><tbody><tr><td>&quot;AAP&quot;</td><td>&quot;Advance Auto Parts&quot;</td><td>&quot;Consumer Discretionary&quot;</td><td>2015-07-08</td><td>2023-08-25</td></tr><tr><td>&quot;ABMD&quot;</td><td>&quot;Abiomed&quot;</td><td>&quot;Health Care&quot;</td><td>2018-05-31</td><td>2022-12-22</td></tr><tr><td>&quot;ABS&quot;</td><td>&quot;Albertsons&quot;</td><td>&quot;Consumer Staples&quot;</td><td>null</td><td>2006-06-02</td></tr><tr><td>&quot;ACAS&quot;</td><td>&quot;American Capital&quot;</td><td>&quot;Financials&quot;</td><td>null</td><td>2009-03-03</td></tr><tr><td>&quot;ADCT&quot;</td><td>&quot;ADC Telecommunications&quot;</td><td>&quot;Communication Services&quot;</td><td>null</td><td>2007-07-02</td></tr><tr><td>&hellip;</td><td>&hellip;</td><td>&hellip;</td><td>&hellip;</td><td>&hellip;</td></tr><tr><td>&quot;PCG&quot;</td><td>&quot;PG&amp;E Corporation&quot;</td><td>&quot;Utilities&quot;</td><td>2022-10-03</td><td>null</td></tr><tr><td>&quot;SW&quot;</td><td>&quot;Smurfit WestRock&quot;</td><td>&quot;Materials&quot;</td><td>2024-07-08</td><td>null</td></tr><tr><td>&quot;TEL&quot;</td><td>&quot;TE Connectivity&quot;</td><td>&quot;Information Technology&quot;</td><td>2011-10-17</td><td>null</td></tr><tr><td>&quot;TER&quot;</td><td>&quot;Teradyne&quot;</td><td>&quot;Information Technology&quot;</td><td>2020-09-21</td><td>null</td></tr><tr><td>&quot;TPL&quot;</td><td>&quot;Texas Pacific Land Corporation&quot;</td><td>&quot;Energy&quot;</td><td>2024-11-26</td><td>null</td></tr></tbody></table></div>"
      ],
      "text/plain": [
       "shape: (793, 5)\n",
       "┌──────┬────────────────────────────────┬────────────────────────┬────────────┬──────────────┐\n",
       "│ tic  ┆ name                           ┆ sector                 ┆ date_added ┆ date_removed │\n",
       "│ ---  ┆ ---                            ┆ ---                    ┆ ---        ┆ ---          │\n",
       "│ str  ┆ str                            ┆ str                    ┆ date       ┆ date         │\n",
       "╞══════╪════════════════════════════════╪════════════════════════╪════════════╪══════════════╡\n",
       "│ AAP  ┆ Advance Auto Parts             ┆ Consumer Discretionary ┆ 2015-07-08 ┆ 2023-08-25   │\n",
       "│ ABMD ┆ Abiomed                        ┆ Health Care            ┆ 2018-05-31 ┆ 2022-12-22   │\n",
       "│ ABS  ┆ Albertsons                     ┆ Consumer Staples       ┆ null       ┆ 2006-06-02   │\n",
       "│ ACAS ┆ American Capital               ┆ Financials             ┆ null       ┆ 2009-03-03   │\n",
       "│ ADCT ┆ ADC Telecommunications         ┆ Communication Services ┆ null       ┆ 2007-07-02   │\n",
       "│ …    ┆ …                              ┆ …                      ┆ …          ┆ …            │\n",
       "│ PCG  ┆ PG&E Corporation               ┆ Utilities              ┆ 2022-10-03 ┆ null         │\n",
       "│ SW   ┆ Smurfit WestRock               ┆ Materials              ┆ 2024-07-08 ┆ null         │\n",
       "│ TEL  ┆ TE Connectivity                ┆ Information Technology ┆ 2011-10-17 ┆ null         │\n",
       "│ TER  ┆ Teradyne                       ┆ Information Technology ┆ 2020-09-21 ┆ null         │\n",
       "│ TPL  ┆ Texas Pacific Land Corporation ┆ Energy                 ┆ 2024-11-26 ┆ null         │\n",
       "└──────┴────────────────────────────────┴────────────────────────┴────────────┴──────────────┘"
      ]
     },
     "execution_count": 2,
     "metadata": {},
     "output_type": "execute_result"
    }
   ],
   "source": [
    "info = db.fetch_stock()\n",
    "info"
   ]
  },
  {
   "cell_type": "code",
   "execution_count": 2,
   "metadata": {},
   "outputs": [
    {
     "data": {
      "text/html": [
       "<div><style>\n",
       ".dataframe > thead > tr,\n",
       ".dataframe > tbody > tr {\n",
       "  text-align: right;\n",
       "  white-space: pre-wrap;\n",
       "}\n",
       "</style>\n",
       "<small>shape: (79, 27)</small><table border=\"1\" class=\"dataframe\"><thead><tr><th>tic</th><th>datadate</th><th>rdq</th><th>saleq</th><th>cogsq</th><th>xsgaq</th><th>niq</th><th>ebitdaq</th><th>cshoq</th><th>actq</th><th>atq</th><th>cheq</th><th>rectq</th><th>invtq</th><th>ppentq</th><th>lctq</th><th>dlttq</th><th>ltq</th><th>req</th><th>seqq</th><th>oancfq</th><th>ivncfq</th><th>fincfq</th><th>dvq</th><th>capxq</th><th>icaptq</th><th>surprise_pct</th></tr><tr><td>str</td><td>date</td><td>date</td><td>f64</td><td>f64</td><td>f64</td><td>f64</td><td>f64</td><td>f64</td><td>f64</td><td>f64</td><td>f64</td><td>f64</td><td>f64</td><td>f64</td><td>f64</td><td>f64</td><td>f64</td><td>f64</td><td>f64</td><td>f64</td><td>f64</td><td>f64</td><td>f64</td><td>f64</td><td>f64</td><td>f64</td></tr></thead><tbody><tr><td>&quot;AAPL&quot;</td><td>2005-03-31</td><td>2005-04-13</td><td>3243.0</td><td>2235.0</td><td>570.0</td><td>286.0</td><td>438.0</td><td>823.137</td><td>9007.0</td><td>10111.0</td><td>7057.0</td><td>1242.0</td><td>164.0</td><td>742.0</td><td>3352.0</td><td>0.0</td><td>3725.0</td><td>3261.0</td><td>6386.0</td><td>1311.0</td><td>-2432.0</td><td>406.0</td><td>0.0</td><td>101.0</td><td>6386.0</td><td>0.397</td></tr><tr><td>&quot;AAPL&quot;</td><td>2005-06-30</td><td>2005-07-13</td><td>3520.0</td><td>2430.0</td><td>618.0</td><td>319.0</td><td>472.0</td><td>827.981</td><td>9376.0</td><td>10488.0</td><td>7526.0</td><td>1101.0</td><td>193.0</td><td>764.0</td><td>3123.0</td><td>0.0</td><td>3667.0</td><td>3584.0</td><td>6821.0</td><td>472.0</td><td>305.0</td><td>63.0</td><td>0.0</td><td>63.0</td><td>6821.0</td><td>0.18</td></tr><tr><td>&quot;AAPL&quot;</td><td>2005-09-30</td><td>2005-10-11</td><td>3678.0</td><td>2592.0</td><td>618.0</td><td>428.0</td><td>468.0</td><td>835.019</td><td>10300.0</td><td>11551.0</td><td>8261.0</td><td>1312.0</td><td>165.0</td><td>817.0</td><td>3484.0</td><td>0.0</td><td>4085.0</td><td>4005.0</td><td>7466.0</td><td>752.0</td><td>-429.0</td><td>74.0</td><td>0.0</td><td>96.0</td><td>7466.0</td><td>0.021</td></tr><tr><td>&quot;AAPL&quot;</td><td>2005-12-31</td><td>2006-01-18</td><td>5749.0</td><td>4133.0</td><td>814.0</td><td>565.0</td><td>802.0</td><td>845.617</td><td>12162.0</td><td>14181.0</td><td>8707.0</td><td>2413.0</td><td>244.0</td><td>855.0</td><td>5060.0</td><td>0.0</td><td>5801.0</td><td>4565.0</td><td>8380.0</td><td>283.0</td><td>93.0</td><td>283.0</td><td>0.0</td><td>82.0</td><td>8380.0</td><td>0.071</td></tr><tr><td>&quot;AAPL&quot;</td><td>2006-03-31</td><td>2006-04-19</td><td>4359.0</td><td>3012.0</td><td>768.0</td><td>410.0</td><td>579.0</td><td>849.188</td><td>11286.0</td><td>13911.0</td><td>8226.0</td><td>1984.0</td><td>204.0</td><td>1005.0</td><td>4456.0</td><td>0.0</td><td>5229.0</td><td>4668.0</td><td>8682.0</td><td>-125.0</td><td>2462.0</td><td>-141.0</td><td>0.0</td><td>193.0</td><td>8682.0</td><td>0.082</td></tr><tr><td>&hellip;</td><td>&hellip;</td><td>&hellip;</td><td>&hellip;</td><td>&hellip;</td><td>&hellip;</td><td>&hellip;</td><td>&hellip;</td><td>&hellip;</td><td>&hellip;</td><td>&hellip;</td><td>&hellip;</td><td>&hellip;</td><td>&hellip;</td><td>&hellip;</td><td>&hellip;</td><td>&hellip;</td><td>&hellip;</td><td>&hellip;</td><td>&hellip;</td><td>&hellip;</td><td>&hellip;</td><td>&hellip;</td><td>&hellip;</td><td>&hellip;</td><td>&hellip;</td><td>&hellip;</td></tr><tr><td>&quot;AAPL&quot;</td><td>2023-09-30</td><td>2023-11-02</td><td>89498.0</td><td>49071.0</td><td>6151.0</td><td>22956.0</td><td>30653.0</td><td>15550.061</td><td>143566.0</td><td>352583.0</td><td>61555.0</td><td>60985.0</td><td>6331.0</td><td>43715.0</td><td>145308.0</td><td>95281.0</td><td>290437.0</td><td>-214.0</td><td>62146.0</td><td>21598.0</td><td>2394.0</td><td>-23153.0</td><td>3758.0</td><td>2163.0</td><td>173234.0</td><td>0.049</td></tr><tr><td>&quot;AAPL&quot;</td><td>2023-12-31</td><td>2024-02-01</td><td>119575.0</td><td>64720.0</td><td>6786.0</td><td>33916.0</td><td>43221.0</td><td>15460.223</td><td>143692.0</td><td>353514.0</td><td>73100.0</td><td>50102.0</td><td>6511.0</td><td>43666.0</td><td>133973.0</td><td>95088.0</td><td>279414.0</td><td>8242.0</td><td>74100.0</td><td>39895.0</td><td>1927.0</td><td>-30585.0</td><td>3825.0</td><td>2392.0</td><td>182140.0</td><td>0.039</td></tr><tr><td>&quot;AAPL&quot;</td><td>2024-03-31</td><td>2024-05-02</td><td>90753.0</td><td>48482.0</td><td>6468.0</td><td>23636.0</td><td>30736.0</td><td>15337.686</td><td>128416.0</td><td>337411.0</td><td>67150.0</td><td>41150.0</td><td>6232.0</td><td>43546.0</td><td>123822.0</td><td>91831.0</td><td>263217.0</td><td>4339.0</td><td>74194.0</td><td>22690.0</td><td>-310.0</td><td>-30433.0</td><td>3710.0</td><td>1996.0</td><td>178784.0</td><td>0.02</td></tr><tr><td>&quot;AAPL&quot;</td><td>2024-06-30</td><td>2024-08-01</td><td>85777.0</td><td>46099.0</td><td>6320.0</td><td>21448.0</td><td>28202.0</td><td>15222.259</td><td>125435.0</td><td>331612.0</td><td>61801.0</td><td>43172.0</td><td>6165.0</td><td>44502.0</td><td>131624.0</td><td>86196.0</td><td>264904.0</td><td>-4726.0</td><td>66708.0</td><td>28858.0</td><td>-127.0</td><td>-36017.0</td><td>3895.0</td><td>2151.0</td><td>168012.0</td><td>0.0399</td></tr><tr><td>&quot;AAPL&quot;</td><td>2024-09-30</td><td>2024-10-31</td><td>94930.0</td><td>51051.0</td><td>6523.0</td><td>14736.0</td><td>32502.0</td><td>15116.786</td><td>152987.0</td><td>364980.0</td><td>65171.0</td><td>66243.0</td><td>7286.0</td><td>45680.0</td><td>176392.0</td><td>85750.0</td><td>308030.0</td><td>-19154.0</td><td>56950.0</td><td>26811.0</td><td>1445.0</td><td>-24948.0</td><td>3804.0</td><td>2908.0</td><td>163579.0</td><td>0.0237</td></tr></tbody></table></div>"
      ],
      "text/plain": [
       "shape: (79, 27)\n",
       "┌──────┬────────────┬────────────┬──────────┬───┬────────┬────────┬──────────┬──────────────┐\n",
       "│ tic  ┆ datadate   ┆ rdq        ┆ saleq    ┆ … ┆ dvq    ┆ capxq  ┆ icaptq   ┆ surprise_pct │\n",
       "│ ---  ┆ ---        ┆ ---        ┆ ---      ┆   ┆ ---    ┆ ---    ┆ ---      ┆ ---          │\n",
       "│ str  ┆ date       ┆ date       ┆ f64      ┆   ┆ f64    ┆ f64    ┆ f64      ┆ f64          │\n",
       "╞══════╪════════════╪════════════╪══════════╪═══╪════════╪════════╪══════════╪══════════════╡\n",
       "│ AAPL ┆ 2005-03-31 ┆ 2005-04-13 ┆ 3243.0   ┆ … ┆ 0.0    ┆ 101.0  ┆ 6386.0   ┆ 0.397        │\n",
       "│ AAPL ┆ 2005-06-30 ┆ 2005-07-13 ┆ 3520.0   ┆ … ┆ 0.0    ┆ 63.0   ┆ 6821.0   ┆ 0.18         │\n",
       "│ AAPL ┆ 2005-09-30 ┆ 2005-10-11 ┆ 3678.0   ┆ … ┆ 0.0    ┆ 96.0   ┆ 7466.0   ┆ 0.021        │\n",
       "│ AAPL ┆ 2005-12-31 ┆ 2006-01-18 ┆ 5749.0   ┆ … ┆ 0.0    ┆ 82.0   ┆ 8380.0   ┆ 0.071        │\n",
       "│ AAPL ┆ 2006-03-31 ┆ 2006-04-19 ┆ 4359.0   ┆ … ┆ 0.0    ┆ 193.0  ┆ 8682.0   ┆ 0.082        │\n",
       "│ …    ┆ …          ┆ …          ┆ …        ┆ … ┆ …      ┆ …      ┆ …        ┆ …            │\n",
       "│ AAPL ┆ 2023-09-30 ┆ 2023-11-02 ┆ 89498.0  ┆ … ┆ 3758.0 ┆ 2163.0 ┆ 173234.0 ┆ 0.049        │\n",
       "│ AAPL ┆ 2023-12-31 ┆ 2024-02-01 ┆ 119575.0 ┆ … ┆ 3825.0 ┆ 2392.0 ┆ 182140.0 ┆ 0.039        │\n",
       "│ AAPL ┆ 2024-03-31 ┆ 2024-05-02 ┆ 90753.0  ┆ … ┆ 3710.0 ┆ 1996.0 ┆ 178784.0 ┆ 0.02         │\n",
       "│ AAPL ┆ 2024-06-30 ┆ 2024-08-01 ┆ 85777.0  ┆ … ┆ 3895.0 ┆ 2151.0 ┆ 168012.0 ┆ 0.0399       │\n",
       "│ AAPL ┆ 2024-09-30 ┆ 2024-10-31 ┆ 94930.0  ┆ … ┆ 3804.0 ┆ 2908.0 ┆ 163579.0 ┆ 0.0237       │\n",
       "└──────┴────────────┴────────────┴──────────┴───┴────────┴────────┴──────────┴──────────────┘"
      ]
     },
     "execution_count": 2,
     "metadata": {},
     "output_type": "execute_result"
    }
   ],
   "source": [
    "db.fetch_financial_data(\"AAPL\")\n",
    "# fetch all required data"
   ]
  },
  {
   "cell_type": "code",
   "execution_count": 3,
   "metadata": {},
   "outputs": [],
   "source": [
    "# fetch all required data\n",
    "df = db.fetch_financial_data()\n",
    "info = db.fetch_stock()\n",
    "market_df = db.fetch_market_data().sort([\"tic\", \"date\"])\n",
    "insider_df = db.fetch_insider_data()\n",
    "index_data = db.fetch_index_data()\n",
    "vix_data = db.fetch_vix_data()\n",
    "\n",
    "firms = [\"AAPL\", \"COST\", \"ADCT\"]\n",
    "date_interval = (pl.lit(\"2014-01-01\").str.to_date(), pl.lit(\"2024-03-01\").str.to_date())\n",
    "\n",
    "# filter data\n",
    "info = info.filter((pl.col(\"tic\").is_in(firms)))\n",
    "index_data = index_data.filter(\n",
    "    (pl.col(\"date\") >= date_interval[0]) & (pl.col(\"date\") <= date_interval[1])\n",
    ")\n",
    "vix_data = vix_data.filter(\n",
    "    (pl.col(\"date\") >= date_interval[0]) & (pl.col(\"date\") <= date_interval[1])\n",
    ")\n",
    "df = df.filter(\n",
    "    (pl.col(\"rdq\") >= date_interval[0])\n",
    "    & (pl.col(\"rdq\") <= date_interval[1])\n",
    "    & (pl.col(\"tic\").is_in(firms))\n",
    ")\n",
    "market_df = market_df.filter(\n",
    "    (pl.col(\"date\") >= date_interval[0])\n",
    "    & (pl.col(\"date\") <= date_interval[1])\n",
    "    & (pl.col(\"tic\").is_in(firms))\n",
    ")\n",
    "insider_df = insider_df.filter(\n",
    "    (pl.col(\"filling_date\") >= date_interval[0])\n",
    "    & (pl.col(\"filling_date\") <= date_interval[1])\n",
    "    & (pl.col(\"tic\").is_in(firms))\n",
    ")\n",
    "\n",
    "info.write_parquet(FIXTURE_PATH / \"stock_data.parquet\")\n",
    "df.write_parquet(FIXTURE_PATH / \"financial_data.parquet\")\n",
    "market_df.write_parquet(FIXTURE_PATH / \"market_data.parquet\")\n",
    "insider_df.write_parquet(FIXTURE_PATH / \"insider_data.parquet\")\n",
    "index_data.write_parquet(FIXTURE_PATH / \"index_data.parquet\")\n",
    "vix_data.write_parquet(FIXTURE_PATH / \"vix_data.parquet\")"
   ]
  },
  {
   "cell_type": "code",
   "execution_count": 5,
   "metadata": {},
   "outputs": [
    {
     "data": {
      "text/html": [
       "<div><style>\n",
       ".dataframe > thead > tr,\n",
       ".dataframe > tbody > tr {\n",
       "  text-align: right;\n",
       "  white-space: pre-wrap;\n",
       "}\n",
       "</style>\n",
       "<small>shape: (122, 160)</small><table border=\"1\" class=\"dataframe\"><thead><tr><th>tic</th><th>datadate</th><th>rdq</th><th>saleq</th><th>cogsq</th><th>xsgaq</th><th>niq</th><th>ebitdaq</th><th>cshoq</th><th>actq</th><th>atq</th><th>cheq</th><th>rectq</th><th>invtq</th><th>ppentq</th><th>lctq</th><th>dlttq</th><th>ltq</th><th>req</th><th>seqq</th><th>oancfq</th><th>ivncfq</th><th>fincfq</th><th>dvq</th><th>capxq</th><th>icaptq</th><th>surprise_pct</th><th>tdq</th><th>stock_split</th><th>n_purch</th><th>val_purch</th><th>n_sales</th><th>val_sales</th><th>insider_balance</th><th>roa</th><th>roi</th><th>roe</th><th>&hellip;</th><th>fcf_yoy</th><th>fcf_2y</th><th>cr_yoy</th><th>cr_2y</th><th>qr_yoy</th><th>qr_2y</th><th>der_yoy</th><th>der_2y</th><th>dr_yoy</th><th>dr_2y</th><th>ltda_yoy</th><th>ltda_2y</th><th>pe_yoy</th><th>pe_2y</th><th>pb_yoy</th><th>pb_2y</th><th>ps_yoy</th><th>ps_2y</th><th>eps_yoy</th><th>eps_2y</th><th>ev_ebitda_yoy</th><th>ev_ebitda_2y</th><th>ltcr_yoy</th><th>itr_yoy</th><th>rtr_yoy</th><th>atr_yoy</th><th>f_score</th><th>f_score_gr1</th><th>f_score_gr4</th><th>index_freturn</th><th>freturn</th><th>adj_freturn</th><th>adj_fperf</th><th>fperf</th><th>sector_consumer_staples</th><th>sector_health_care</th><th>sector_information_technology</th></tr><tr><td>str</td><td>date</td><td>date</td><td>f64</td><td>f64</td><td>f64</td><td>f64</td><td>f64</td><td>f64</td><td>f64</td><td>f64</td><td>f64</td><td>f64</td><td>f64</td><td>f64</td><td>f64</td><td>f64</td><td>f64</td><td>f64</td><td>f64</td><td>f64</td><td>f64</td><td>f64</td><td>f64</td><td>f64</td><td>f64</td><td>f64</td><td>date</td><td>i8</td><td>u32</td><td>f64</td><td>u32</td><td>f64</td><td>f64</td><td>f64</td><td>f64</td><td>f64</td><td>&hellip;</td><td>f64</td><td>f64</td><td>f64</td><td>f64</td><td>f64</td><td>f64</td><td>f64</td><td>f64</td><td>f64</td><td>f64</td><td>f64</td><td>f64</td><td>f64</td><td>f64</td><td>f64</td><td>f64</td><td>f64</td><td>f64</td><td>f64</td><td>f64</td><td>f64</td><td>f64</td><td>f64</td><td>f64</td><td>f64</td><td>f64</td><td>i8</td><td>i8</td><td>i8</td><td>f64</td><td>f64</td><td>f64</td><td>i8</td><td>i8</td><td>i8</td><td>i8</td><td>i8</td></tr></thead><tbody><tr><td>&quot;AAPL&quot;</td><td>2013-12-31</td><td>2014-01-27</td><td>57594.0</td><td>33604.0</td><td>4383.0</td><td>13072.0</td><td>19607.0</td><td>24988.516</td><td>80347.0</td><td>225184.0</td><td>40711.0</td><td>25198.0</td><td>2122.0</td><td>15488.0</td><td>53769.0</td><td>16961.0</td><td>95500.0</td><td>109125.0</td><td>129684.0</td><td>22670.0</td><td>-15103.0</td><td>-7749.0</td><td>2769.0</td><td>1985.0</td><td>146645.0</td><td>0.031</td><td>2014-03-01</td><td>0</td><td>0</td><td>0.0</td><td>3</td><td>4.994</td><td>4.994</td><td>null</td><td>0.08914</td><td>null</td><td>&hellip;</td><td>null</td><td>null</td><td>null</td><td>null</td><td>null</td><td>null</td><td>null</td><td>null</td><td>null</td><td>null</td><td>null</td><td>null</td><td>null</td><td>null</td><td>null</td><td>null</td><td>null</td><td>null</td><td>null</td><td>null</td><td>null</td><td>null</td><td>null</td><td>null</td><td>null</td><td>null</td><td>null</td><td>null</td><td>null</td><td>0.131786</td><td>0.741189</td><td>0.609402</td><td>1</td><td>1</td><td>0</td><td>0</td><td>1</td></tr><tr><td>&quot;AAPL&quot;</td><td>2014-03-31</td><td>2014-04-23</td><td>45646.0</td><td>25812.0</td><td>4354.0</td><td>10223.0</td><td>15480.0</td><td>24128.86</td><td>70541.0</td><td>205989.0</td><td>41350.0</td><td>15820.0</td><td>1829.0</td><td>15120.0</td><td>43208.0</td><td>16962.0</td><td>85810.0</td><td>98683.0</td><td>120179.0</td><td>13538.0</td><td>11741.0</td><td>-20407.0</td><td>2661.0</td><td>1382.0</td><td>137141.0</td><td>0.14</td><td>2014-06-01</td><td>0</td><td>0</td><td>0.0</td><td>5</td><td>4.223</td><td>4.223</td><td>null</td><td>0.074544</td><td>null</td><td>&hellip;</td><td>null</td><td>null</td><td>null</td><td>null</td><td>null</td><td>null</td><td>null</td><td>null</td><td>null</td><td>null</td><td>null</td><td>null</td><td>null</td><td>null</td><td>null</td><td>null</td><td>null</td><td>null</td><td>null</td><td>null</td><td>null</td><td>null</td><td>null</td><td>null</td><td>null</td><td>null</td><td>null</td><td>null</td><td>null</td><td>0.097818</td><td>0.468902</td><td>0.371083</td><td>1</td><td>1</td><td>0</td><td>0</td><td>1</td></tr><tr><td>&quot;AAPL&quot;</td><td>2014-06-30</td><td>2014-07-22</td><td>37432.0</td><td>20751.0</td><td>4453.0</td><td>7748.0</td><td>12228.0</td><td>23956.684</td><td>67949.0</td><td>222520.0</td><td>37805.0</td><td>16841.0</td><td>1594.0</td><td>17585.0</td><td>46205.0</td><td>29030.0</td><td>101580.0</td><td>98801.0</td><td>120940.0</td><td>10255.0</td><td>-22214.0</td><td>5987.0</td><td>2867.0</td><td>2378.0</td><td>149970.0</td><td>0.04</td><td>2014-09-01</td><td>1</td><td>0</td><td>0.0</td><td>4</td><td>13.854</td><td>13.854</td><td>null</td><td>0.051664</td><td>null</td><td>&hellip;</td><td>null</td><td>null</td><td>null</td><td>null</td><td>null</td><td>null</td><td>null</td><td>null</td><td>null</td><td>null</td><td>null</td><td>null</td><td>null</td><td>null</td><td>null</td><td>null</td><td>null</td><td>null</td><td>null</td><td>null</td><td>null</td><td>null</td><td>null</td><td>null</td><td>null</td><td>null</td><td>null</td><td>null</td><td>null</td><td>-0.044685</td><td>0.068892</td><td>0.113577</td><td>1</td><td>0</td><td>0</td><td>0</td><td>1</td></tr><tr><td>&quot;AAPL&quot;</td><td>2014-09-30</td><td>2014-10-20</td><td>42123.0</td><td>24145.0</td><td>4844.0</td><td>8467.0</td><td>13134.0</td><td>23464.644</td><td>68531.0</td><td>231839.0</td><td>25077.0</td><td>27219.0</td><td>2111.0</td><td>20624.0</td><td>63448.0</td><td>28987.0</td><td>120292.0</td><td>88234.0</td><td>111547.0</td><td>13250.0</td><td>2997.0</td><td>-15380.0</td><td>2829.0</td><td>3826.0</td><td>140534.0</td><td>0.088</td><td>2014-12-01</td><td>0</td><td>0</td><td>0.0</td><td>11</td><td>181.742</td><td>181.742</td><td>0.17042</td><td>0.060249</td><td>0.3542</td><td>&hellip;</td><td>null</td><td>null</td><td>null</td><td>null</td><td>null</td><td>null</td><td>null</td><td>null</td><td>null</td><td>null</td><td>null</td><td>null</td><td>null</td><td>null</td><td>null</td><td>null</td><td>null</td><td>null</td><td>null</td><td>null</td><td>null</td><td>null</td><td>null</td><td>null</td><td>null</td><td>null</td><td>null</td><td>null</td><td>null</td><td>0.023955</td><td>0.037102</td><td>0.013147</td><td>0</td><td>0</td><td>0</td><td>0</td><td>1</td></tr><tr><td>&quot;AAPL&quot;</td><td>2014-12-31</td><td>2015-01-27</td><td>74599.0</td><td>42283.0</td><td>5495.0</td><td>18024.0</td><td>26821.0</td><td>23305.676</td><td>83403.0</td><td>261894.0</td><td>32463.0</td><td>29976.0</td><td>2283.0</td><td>20392.0</td><td>73611.0</td><td>32504.0</td><td>138566.0</td><td>99141.0</td><td>123328.0</td><td>33722.0</td><td>-21165.0</td><td>-6923.0</td><td>2801.0</td><td>3217.0</td><td>155832.0</td><td>0.175</td><td>2015-03-01</td><td>0</td><td>0</td><td>0.0</td><td>3</td><td>5.983</td><td>5.983</td><td>0.169771</td><td>0.115663</td><td>0.360518</td><td>&hellip;</td><td>0.47474</td><td>null</td><td>-0.24177</td><td>null</td><td>-0.308009</td><td>null</td><td>0.525731</td><td>null</td><td>0.247571</td><td>null</td><td>0.647773</td><td>null</td><td>null</td><td>null</td><td>0.675823</td><td>null</td><td>null</td><td>null</td><td>null</td><td>null</td><td>null</td><td>null</td><td>-0.230462</td><td>null</td><td>null</td><td>null</td><td>null</td><td>null</td><td>null</td><td>-0.059943</td><td>-0.202915</td><td>-0.142972</td><td>0</td><td>0</td><td>0</td><td>0</td><td>1</td></tr><tr><td>&hellip;</td><td>&hellip;</td><td>&hellip;</td><td>&hellip;</td><td>&hellip;</td><td>&hellip;</td><td>&hellip;</td><td>&hellip;</td><td>&hellip;</td><td>&hellip;</td><td>&hellip;</td><td>&hellip;</td><td>&hellip;</td><td>&hellip;</td><td>&hellip;</td><td>&hellip;</td><td>&hellip;</td><td>&hellip;</td><td>&hellip;</td><td>&hellip;</td><td>&hellip;</td><td>&hellip;</td><td>&hellip;</td><td>&hellip;</td><td>&hellip;</td><td>&hellip;</td><td>&hellip;</td><td>&hellip;</td><td>&hellip;</td><td>&hellip;</td><td>&hellip;</td><td>&hellip;</td><td>&hellip;</td><td>&hellip;</td><td>&hellip;</td><td>&hellip;</td><td>&hellip;</td><td>&hellip;</td><td>&hellip;</td><td>&hellip;</td><td>&hellip;</td><td>&hellip;</td><td>&hellip;</td><td>&hellip;</td><td>&hellip;</td><td>&hellip;</td><td>&hellip;</td><td>&hellip;</td><td>&hellip;</td><td>&hellip;</td><td>&hellip;</td><td>&hellip;</td><td>&hellip;</td><td>&hellip;</td><td>&hellip;</td><td>&hellip;</td><td>&hellip;</td><td>&hellip;</td><td>&hellip;</td><td>&hellip;</td><td>&hellip;</td><td>&hellip;</td><td>&hellip;</td><td>&hellip;</td><td>&hellip;</td><td>&hellip;</td><td>&hellip;</td><td>&hellip;</td><td>&hellip;</td><td>&hellip;</td><td>&hellip;</td><td>&hellip;</td><td>&hellip;</td><td>&hellip;</td><td>&hellip;</td></tr><tr><td>&quot;PFE&quot;</td><td>2022-12-31</td><td>2023-01-31</td><td>24289.0</td><td>9649.0</td><td>4645.0</td><td>4994.0</td><td>5900.0</td><td>5733.0</td><td>51259.0</td><td>197205.0</td><td>22732.0</td><td>10952.0</td><td>8981.0</td><td>16274.0</td><td>42138.0</td><td>32884.0</td><td>101288.0</td><td>125656.0</td><td>95916.0</td><td>8582.0</td><td>-4410.0</td><td>-5015.0</td><td>2245.0</td><td>0.0</td><td>128645.028</td><td>0.088</td><td>2023-03-01</td><td>0</td><td>0</td><td>0.0</td><td>0</td><td>0.0</td><td>0.0</td><td>0.159083</td><td>0.03882</td><td>0.327078</td><td>&hellip;</td><td>0.451133</td><td>0.525689</td><td>-0.130428</td><td>-0.100849</td><td>-0.198316</td><td>0.028991</td><td>-0.213556</td><td>-0.261449</td><td>-0.103869</td><td>-0.127168</td><td>-0.16394</td><td>-0.307416</td><td>-0.382008</td><td>-0.645567</td><td>-0.287614</td><td>-0.196619</td><td>-0.285319</td><td>-0.496009</td><td>0.421138</td><td>2.364921</td><td>-0.430906</td><td>-0.627836</td><td>0.597244</td><td>-0.024881</td><td>-0.118756</td><td>-0.063857</td><td>5</td><td>-2</td><td>-1</td><td>0.300069</td><td>-0.304179</td><td>-0.604248</td><td>0</td><td>0</td><td>0</td><td>1</td><td>0</td></tr><tr><td>&quot;PFE&quot;</td><td>2023-03-31</td><td>2023-05-02</td><td>18282.0</td><td>4886.0</td><td>3418.0</td><td>5543.0</td><td>7827.0</td><td>5727.0</td><td>50078.0</td><td>195617.0</td><td>19972.0</td><td>12305.0</td><td>9541.0</td><td>17052.0</td><td>36562.0</td><td>31704.0</td><td>94381.0</td><td>131102.0</td><td>101236.0</td><td>1212.0</td><td>3315.0</td><td>-2771.0</td><td>2303.0</td><td>0.0</td><td>132652.084</td><td>0.258</td><td>2023-06-01</td><td>0</td><td>1</td><td>0.077</td><td>1</td><td>0.397</td><td>0.32</td><td>0.14851</td><td>0.041786</td><td>0.286963</td><td>&hellip;</td><td>-0.814707</td><td>-0.732922</td><td>-0.011681</td><td>-0.076606</td><td>-0.066164</td><td>-0.000109</td><td>-0.23794</td><td>-0.286272</td><td>-0.123134</td><td>-0.148152</td><td>-0.164364</td><td>-0.271793</td><td>-0.379455</td><td>-0.632752</td><td>-0.410231</td><td>-0.320527</td><td>-0.281944</td><td>-0.504772</td><td>0.169921</td><td>1.689007</td><td>-0.392979</td><td>-0.609944</td><td>-0.79161</td><td>-0.267709</td><td>-0.24323</td><td>-0.337442</td><td>6</td><td>1</td><td>1</td><td>null</td><td>null</td><td>null</td><td>null</td><td>null</td><td>0</td><td>1</td><td>0</td></tr><tr><td>&quot;PFE&quot;</td><td>2023-06-30</td><td>2023-08-01</td><td>12734.0</td><td>3237.0</td><td>3497.0</td><td>2327.0</td><td>4599.0</td><td>5645.0</td><td>73347.0</td><td>220168.0</td><td>44785.0</td><td>13425.0</td><td>10310.0</td><td>17488.0</td><td>34647.0</td><td>61356.0</td><td>120875.0</td><td>128796.0</td><td>99019.0</td><td>-1208.0</td><td>-25485.0</td><td>27174.0</td><td>0.0</td><td>914.0</td><td>164360.0</td><td>0.18</td><td>2023-09-01</td><td>0</td><td>0</td><td>0.0</td><td>0</td><td>0.0</td><td>0.0</td><td>0.097526</td><td>0.014158</td><td>0.216847</td><td>&hellip;</td><td>-1.259731</td><td>-1.187804</td><td>0.487653</td><td>0.546687</td><td>0.643719</td><td>0.855813</td><td>-0.009695</td><td>-0.138243</td><td>-0.005605</td><td>-0.063418</td><td>0.586955</td><td>0.339395</td><td>0.035092</td><td>-0.541033</td><td>-0.331985</td><td>-0.452854</td><td>-0.014674</td><td>-0.453616</td><td>-0.258697</td><td>0.693259</td><td>0.02633</td><td>-0.473578</td><td>-1.145173</td><td>-0.527527</td><td>-0.49371</td><td>-0.58145</td><td>4</td><td>-2</td><td>-3</td><td>null</td><td>null</td><td>null</td><td>null</td><td>null</td><td>0</td><td>1</td><td>0</td></tr><tr><td>&quot;PFE&quot;</td><td>2023-09-30</td><td>2023-10-31</td><td>13232.0</td><td>9269.0</td><td>3281.0</td><td>-2382.0</td><td>-422.0</td><td>5646.0</td><td>74012.0</td><td>215021.0</td><td>44181.0</td><td>15003.0</td><td>10204.0</td><td>17862.0</td><td>31136.0</td><td>61048.0</td><td>117817.0</td><td>126411.0</td><td>96934.0</td><td>3456.0</td><td>888.0</td><td>-3779.0</td><td>2314.0</td><td>810.0</td><td>160530.0</td><td>0.494</td><td>2023-12-01</td><td>0</td><td>0</td><td>0.0</td><td>0</td><td>0.0</td><td>0.0</td><td>0.048749</td><td>-0.014838</td><td>0.108135</td><td>&hellip;</td><td>-0.557081</td><td>-0.755656</td><td>0.496198</td><td>0.716201</td><td>0.613691</td><td>0.910419</td><td>0.101933</td><td>-0.105483</td><td>0.044697</td><td>-0.048809</td><td>0.699809</td><td>0.403432</td><td>0.587242</td><td>-0.033374</td><td>-0.465948</td><td>-0.592502</td><td>-0.18559</td><td>-0.475997</td><td>-0.643422</td><td>-0.453033</td><td>0.418661</td><td>-0.243362</td><td>-0.763268</td><td>-0.431082</td><td>-0.357864</td><td>-0.47533</td><td>5</td><td>1</td><td>-2</td><td>null</td><td>null</td><td>null</td><td>null</td><td>null</td><td>0</td><td>1</td><td>0</td></tr><tr><td>&quot;PFE&quot;</td><td>2023-12-31</td><td>2024-01-30</td><td>14249.0</td><td>7563.0</td><td>4575.0</td><td>-3369.0</td><td>1487.0</td><td>5646.0</td><td>43333.0</td><td>226501.0</td><td>12690.0</td><td>15155.0</td><td>10189.0</td><td>18940.0</td><td>47794.0</td><td>60499.0</td><td>137213.0</td><td>118353.0</td><td>89014.0</td><td>5240.0</td><td>-10996.0</td><td>5442.0</td><td>0.0</td><td>1044.0</td><td>159859.0</td><td>1.458</td><td>2024-03-01</td><td>0</td><td>1</td><td>0.079</td><td>0</td><td>0.0</td><td>-0.079</td><td>0.009355</td><td>-0.021075</td><td>0.023805</td><td>&hellip;</td><td>-0.51107</td><td>-0.290497</td><td>-0.254669</td><td>-0.351881</td><td>-0.271174</td><td>-0.415711</td><td>0.459722</td><td>0.14799</td><td>0.179465</td><td>0.056956</td><td>0.601811</td><td>0.33921</td><td>8.648917</td><td>4.962949</td><td>-0.299884</td><td>-0.501247</td><td>0.117801</td><td>-0.201128</td><td>-0.931415</td><td>-0.902531</td><td>1.636656</td><td>0.500505</td><td>-0.734244</td><td>-0.467984</td><td>-0.474242</td><td>-0.478418</td><td>4</td><td>-1</td><td>-1</td><td>null</td><td>null</td><td>null</td><td>null</td><td>null</td><td>0</td><td>1</td><td>0</td></tr></tbody></table></div>"
      ],
      "text/plain": [
       "shape: (122, 160)\n",
       "┌──────┬────────────┬────────────┬─────────┬───┬───────┬──────────────┬──────────────┬─────────────┐\n",
       "│ tic  ┆ datadate   ┆ rdq        ┆ saleq   ┆ … ┆ fperf ┆ sector_consu ┆ sector_healt ┆ sector_info │\n",
       "│ ---  ┆ ---        ┆ ---        ┆ ---     ┆   ┆ ---   ┆ mer_staples  ┆ h_care       ┆ rmation_tec │\n",
       "│ str  ┆ date       ┆ date       ┆ f64     ┆   ┆ i8    ┆ ---          ┆ ---          ┆ hnology     │\n",
       "│      ┆            ┆            ┆         ┆   ┆       ┆ i8           ┆ i8           ┆ ---         │\n",
       "│      ┆            ┆            ┆         ┆   ┆       ┆              ┆              ┆ i8          │\n",
       "╞══════╪════════════╪════════════╪═════════╪═══╪═══════╪══════════════╪══════════════╪═════════════╡\n",
       "│ AAPL ┆ 2013-12-31 ┆ 2014-01-27 ┆ 57594.0 ┆ … ┆ 1     ┆ 0            ┆ 0            ┆ 1           │\n",
       "│ AAPL ┆ 2014-03-31 ┆ 2014-04-23 ┆ 45646.0 ┆ … ┆ 1     ┆ 0            ┆ 0            ┆ 1           │\n",
       "│ AAPL ┆ 2014-06-30 ┆ 2014-07-22 ┆ 37432.0 ┆ … ┆ 0     ┆ 0            ┆ 0            ┆ 1           │\n",
       "│ AAPL ┆ 2014-09-30 ┆ 2014-10-20 ┆ 42123.0 ┆ … ┆ 0     ┆ 0            ┆ 0            ┆ 1           │\n",
       "│ AAPL ┆ 2014-12-31 ┆ 2015-01-27 ┆ 74599.0 ┆ … ┆ 0     ┆ 0            ┆ 0            ┆ 1           │\n",
       "│ …    ┆ …          ┆ …          ┆ …       ┆ … ┆ …     ┆ …            ┆ …            ┆ …           │\n",
       "│ PFE  ┆ 2022-12-31 ┆ 2023-01-31 ┆ 24289.0 ┆ … ┆ 0     ┆ 0            ┆ 1            ┆ 0           │\n",
       "│ PFE  ┆ 2023-03-31 ┆ 2023-05-02 ┆ 18282.0 ┆ … ┆ null  ┆ 0            ┆ 1            ┆ 0           │\n",
       "│ PFE  ┆ 2023-06-30 ┆ 2023-08-01 ┆ 12734.0 ┆ … ┆ null  ┆ 0            ┆ 1            ┆ 0           │\n",
       "│ PFE  ┆ 2023-09-30 ┆ 2023-10-31 ┆ 13232.0 ┆ … ┆ null  ┆ 0            ┆ 1            ┆ 0           │\n",
       "│ PFE  ┆ 2023-12-31 ┆ 2024-01-30 ┆ 14249.0 ┆ … ┆ null  ┆ 0            ┆ 1            ┆ 0           │\n",
       "└──────┴────────────┴────────────┴─────────┴───┴───────┴──────────────┴──────────────┴─────────────┘"
      ]
     },
     "execution_count": 5,
     "metadata": {},
     "output_type": "execute_result"
    }
   ],
   "source": [
    "df = pl.read_parquet(FIXTURE_PATH / \"processed_data.parquet\")\n",
    "df"
   ]
  },
  {
   "cell_type": "code",
   "execution_count": 6,
   "metadata": {},
   "outputs": [
    {
     "data": {
      "text/html": [
       "<div><style>\n",
       ".dataframe > thead > tr,\n",
       ".dataframe > tbody > tr {\n",
       "  text-align: right;\n",
       "  white-space: pre-wrap;\n",
       "}\n",
       "</style>\n",
       "<small>shape: (122, 152)</small><table border=\"1\" class=\"dataframe\"><thead><tr><th>tic</th><th>datadate</th><th>rdq</th><th>saleq</th><th>cogsq</th><th>xsgaq</th><th>niq</th><th>ebitdaq</th><th>cshoq</th><th>actq</th><th>atq</th><th>cheq</th><th>rectq</th><th>invtq</th><th>ppentq</th><th>lctq</th><th>dlttq</th><th>ltq</th><th>req</th><th>seqq</th><th>oancfq</th><th>ivncfq</th><th>fincfq</th><th>dvq</th><th>capxq</th><th>icaptq</th><th>surprise_pct</th><th>tdq</th><th>stock_split</th><th>n_purch</th><th>val_purch</th><th>n_sales</th><th>val_sales</th><th>insider_balance</th><th>roa</th><th>roe</th><th>gpm</th><th>&hellip;</th><th>roa_yoy</th><th>roe_qoq</th><th>roe_yoy</th><th>fcf_qoq</th><th>fcf_yoy</th><th>cr_qoq</th><th>cr_yoy</th><th>qr_qoq</th><th>qr_yoy</th><th>der_qoq</th><th>der_yoy</th><th>dr_qoq</th><th>dr_yoy</th><th>ltda_yoy</th><th>pe_qoq</th><th>pe_yoy</th><th>pb_qoq</th><th>pb_yoy</th><th>ps_qoq</th><th>ps_yoy</th><th>eps_qoq</th><th>eps_yoy</th><th>ev_ebitda_qoq</th><th>ev_ebitda_yoy</th><th>ltcr_yoy</th><th>itr_yoy</th><th>rtr_yoy</th><th>atr_yoy</th><th>f_score</th><th>index_freturn</th><th>freturn</th><th>adj_freturn</th><th>adj_fperf</th><th>fperf</th><th>sector_Consumer Staples</th><th>sector_Health Care</th><th>sector_Information Technology</th></tr><tr><td>str</td><td>date</td><td>date</td><td>f64</td><td>f64</td><td>f64</td><td>f64</td><td>f64</td><td>f64</td><td>f64</td><td>f64</td><td>f64</td><td>f64</td><td>f64</td><td>f64</td><td>f64</td><td>f64</td><td>f64</td><td>f64</td><td>f64</td><td>f64</td><td>f64</td><td>f64</td><td>f64</td><td>f64</td><td>f64</td><td>f64</td><td>date</td><td>bool</td><td>i8</td><td>f64</td><td>i8</td><td>f64</td><td>f64</td><td>f64</td><td>f64</td><td>f64</td><td>&hellip;</td><td>f64</td><td>f64</td><td>f64</td><td>f64</td><td>f64</td><td>f64</td><td>f64</td><td>f64</td><td>f64</td><td>f64</td><td>f64</td><td>f64</td><td>f64</td><td>f64</td><td>f64</td><td>f64</td><td>f64</td><td>f64</td><td>f64</td><td>f64</td><td>f64</td><td>f64</td><td>f64</td><td>f64</td><td>f64</td><td>f64</td><td>f64</td><td>f64</td><td>i8</td><td>f64</td><td>f64</td><td>f64</td><td>i8</td><td>i8</td><td>i8</td><td>i8</td><td>i8</td></tr></thead><tbody><tr><td>&quot;AAPL&quot;</td><td>2013-12-31</td><td>2014-01-27</td><td>57594.0</td><td>33604.0</td><td>4383.0</td><td>13072.0</td><td>19607.0</td><td>24988.516</td><td>80347.0</td><td>225184.0</td><td>40711.0</td><td>25198.0</td><td>2122.0</td><td>15488.0</td><td>53769.0</td><td>16961.0</td><td>95500.0</td><td>109125.0</td><td>129684.0</td><td>22670.0</td><td>-15103.0</td><td>-7749.0</td><td>2769.0</td><td>1985.0</td><td>146645.0</td><td>0.031</td><td>2014-03-01</td><td>false</td><td>0</td><td>0.0</td><td>3</td><td>4.994</td><td>4.994</td><td>null</td><td>null</td><td>0.416536</td><td>&hellip;</td><td>null</td><td>null</td><td>null</td><td>null</td><td>null</td><td>null</td><td>null</td><td>null</td><td>null</td><td>null</td><td>null</td><td>null</td><td>null</td><td>null</td><td>null</td><td>null</td><td>null</td><td>null</td><td>null</td><td>null</td><td>null</td><td>null</td><td>null</td><td>null</td><td>null</td><td>null</td><td>null</td><td>null</td><td>null</td><td>0.131786</td><td>0.741187</td><td>0.609401</td><td>1</td><td>1</td><td>0</td><td>0</td><td>1</td></tr><tr><td>&quot;AAPL&quot;</td><td>2014-03-31</td><td>2014-04-23</td><td>45646.0</td><td>25812.0</td><td>4354.0</td><td>10223.0</td><td>15480.0</td><td>24128.86</td><td>70541.0</td><td>205989.0</td><td>41350.0</td><td>15820.0</td><td>1829.0</td><td>15120.0</td><td>43208.0</td><td>16962.0</td><td>85810.0</td><td>98683.0</td><td>120179.0</td><td>13538.0</td><td>11741.0</td><td>-20407.0</td><td>2661.0</td><td>1382.0</td><td>137141.0</td><td>0.14</td><td>2014-06-01</td><td>false</td><td>0</td><td>0.0</td><td>5</td><td>4.223</td><td>4.223</td><td>null</td><td>null</td><td>0.434518</td><td>&hellip;</td><td>null</td><td>null</td><td>null</td><td>-0.412328</td><td>null</td><td>0.092546</td><td>null</td><td>0.079422</td><td>null</td><td>-0.030401</td><td>null</td><td>-0.017736</td><td>null</td><td>null</td><td>null</td><td>null</td><td>0.253355</td><td>null</td><td>null</td><td>null</td><td>null</td><td>null</td><td>null</td><td>null</td><td>null</td><td>null</td><td>null</td><td>null</td><td>null</td><td>0.097818</td><td>0.468902</td><td>0.371084</td><td>1</td><td>1</td><td>0</td><td>0</td><td>1</td></tr><tr><td>&quot;AAPL&quot;</td><td>2014-06-30</td><td>2014-07-22</td><td>37432.0</td><td>20751.0</td><td>4453.0</td><td>7748.0</td><td>12228.0</td><td>23956.684</td><td>67949.0</td><td>222520.0</td><td>37805.0</td><td>16841.0</td><td>1594.0</td><td>17585.0</td><td>46205.0</td><td>29030.0</td><td>101580.0</td><td>98801.0</td><td>120940.0</td><td>10255.0</td><td>-22214.0</td><td>5987.0</td><td>2867.0</td><td>2378.0</td><td>149970.0</td><td>0.04</td><td>2014-09-01</td><td>true</td><td>0</td><td>0.0</td><td>4</td><td>13.854</td><td>13.854</td><td>null</td><td>null</td><td>0.445635</td><td>&hellip;</td><td>null</td><td>null</td><td>null</td><td>-0.352007</td><td>null</td><td>-0.099224</td><td>null</td><td>-0.106148</td><td>null</td><td>0.176329</td><td>null</td><td>0.095835</td><td>null</td><td>null</td><td>null</td><td>null</td><td>0.118322</td><td>null</td><td>null</td><td>null</td><td>null</td><td>null</td><td>null</td><td>null</td><td>null</td><td>null</td><td>null</td><td>null</td><td>null</td><td>-0.044685</td><td>0.068892</td><td>0.113577</td><td>1</td><td>0</td><td>0</td><td>0</td><td>1</td></tr><tr><td>&quot;AAPL&quot;</td><td>2014-09-30</td><td>2014-10-20</td><td>42123.0</td><td>24145.0</td><td>4844.0</td><td>8467.0</td><td>13134.0</td><td>23464.644</td><td>68531.0</td><td>231839.0</td><td>25077.0</td><td>27219.0</td><td>2111.0</td><td>20624.0</td><td>63448.0</td><td>28987.0</td><td>120292.0</td><td>88234.0</td><td>111547.0</td><td>13250.0</td><td>2997.0</td><td>-15380.0</td><td>2829.0</td><td>3826.0</td><td>140534.0</td><td>0.088</td><td>2014-12-01</td><td>false</td><td>0</td><td>0.0</td><td>11</td><td>181.742</td><td>181.742</td><td>0.17042</td><td>0.3542</td><td>0.426798</td><td>&hellip;</td><td>null</td><td>null</td><td>null</td><td>0.196395</td><td>null</td><td>-0.265528</td><td>null</td><td>-0.303083</td><td>null</td><td>0.283928</td><td>null</td><td>0.136609</td><td>null</td><td>null</td><td>null</td><td>null</td><td>0.192168</td><td>null</td><td>null</td><td>null</td><td>null</td><td>null</td><td>null</td><td>null</td><td>null</td><td>null</td><td>null</td><td>null</td><td>null</td><td>0.023955</td><td>0.037102</td><td>0.013147</td><td>0</td><td>0</td><td>0</td><td>0</td><td>1</td></tr><tr><td>&quot;AAPL&quot;</td><td>2014-12-31</td><td>2015-01-27</td><td>74599.0</td><td>42283.0</td><td>5495.0</td><td>18024.0</td><td>26821.0</td><td>23305.676</td><td>83403.0</td><td>261894.0</td><td>32463.0</td><td>29976.0</td><td>2283.0</td><td>20392.0</td><td>73611.0</td><td>32504.0</td><td>138566.0</td><td>99141.0</td><td>123328.0</td><td>33722.0</td><td>-21165.0</td><td>-6923.0</td><td>2801.0</td><td>3217.0</td><td>155832.0</td><td>0.175</td><td>2015-03-01</td><td>false</td><td>0</td><td>0.0</td><td>3</td><td>5.983</td><td>5.983</td><td>0.169771</td><td>0.360518</td><td>0.433196</td><td>&hellip;</td><td>null</td><td>0.017837</td><td>null</td><td>2.236948</td><td>0.47474</td><td>0.048986</td><td>-0.24177</td><td>0.029112</td><td>-0.308009</td><td>0.041876</td><td>0.525731</td><td>0.01972</td><td>0.247571</td><td>0.647773</td><td>-0.014693</td><td>null</td><td>0.002882</td><td>0.675823</td><td>0.014431</td><td>null</td><td>0.133011</td><td>null</td><td>-0.008803</td><td>null</td><td>-0.230462</td><td>null</td><td>null</td><td>null</td><td>null</td><td>-0.059943</td><td>-0.202915</td><td>-0.142972</td><td>0</td><td>0</td><td>0</td><td>0</td><td>1</td></tr><tr><td>&hellip;</td><td>&hellip;</td><td>&hellip;</td><td>&hellip;</td><td>&hellip;</td><td>&hellip;</td><td>&hellip;</td><td>&hellip;</td><td>&hellip;</td><td>&hellip;</td><td>&hellip;</td><td>&hellip;</td><td>&hellip;</td><td>&hellip;</td><td>&hellip;</td><td>&hellip;</td><td>&hellip;</td><td>&hellip;</td><td>&hellip;</td><td>&hellip;</td><td>&hellip;</td><td>&hellip;</td><td>&hellip;</td><td>&hellip;</td><td>&hellip;</td><td>&hellip;</td><td>&hellip;</td><td>&hellip;</td><td>&hellip;</td><td>&hellip;</td><td>&hellip;</td><td>&hellip;</td><td>&hellip;</td><td>&hellip;</td><td>&hellip;</td><td>&hellip;</td><td>&hellip;</td><td>&hellip;</td><td>&hellip;</td><td>&hellip;</td><td>&hellip;</td><td>&hellip;</td><td>&hellip;</td><td>&hellip;</td><td>&hellip;</td><td>&hellip;</td><td>&hellip;</td><td>&hellip;</td><td>&hellip;</td><td>&hellip;</td><td>&hellip;</td><td>&hellip;</td><td>&hellip;</td><td>&hellip;</td><td>&hellip;</td><td>&hellip;</td><td>&hellip;</td><td>&hellip;</td><td>&hellip;</td><td>&hellip;</td><td>&hellip;</td><td>&hellip;</td><td>&hellip;</td><td>&hellip;</td><td>&hellip;</td><td>&hellip;</td><td>&hellip;</td><td>&hellip;</td><td>&hellip;</td><td>&hellip;</td><td>&hellip;</td><td>&hellip;</td><td>&hellip;</td><td>&hellip;</td><td>&hellip;</td></tr><tr><td>&quot;PFE&quot;</td><td>2022-12-31</td><td>2023-01-31</td><td>24289.0</td><td>9649.0</td><td>4645.0</td><td>4994.0</td><td>5900.0</td><td>5733.0</td><td>51259.0</td><td>197205.0</td><td>22732.0</td><td>10952.0</td><td>8981.0</td><td>16274.0</td><td>42138.0</td><td>32884.0</td><td>101288.0</td><td>125656.0</td><td>95916.0</td><td>8582.0</td><td>-4410.0</td><td>-5015.0</td><td>2245.0</td><td>0.0</td><td>128645.028</td><td>0.088</td><td>2023-03-01</td><td>false</td><td>0</td><td>0.0</td><td>0</td><td>0.0</td><td>0.0</td><td>0.159083</td><td>0.327078</td><td>0.602742</td><td>&hellip;</td><td>0.313517</td><td>0.020543</td><td>0.152741</td><td>0.436558</td><td>0.451133</td><td>-0.234322</td><td>-0.130428</td><td>-0.321377</td><td>-0.198316</td><td>-0.042607</td><td>-0.213556</td><td>-0.020728</td><td>-0.103869</td><td>-0.16394</td><td>-0.251575</td><td>-0.382008</td><td>-0.236208</td><td>-0.287614</td><td>-0.214872</td><td>-0.285319</td><td>0.05102</td><td>0.421138</td><td>-0.172027</td><td>-0.430906</td><td>0.597244</td><td>-0.024881</td><td>-0.118756</td><td>-0.063857</td><td>5</td><td>0.300069</td><td>-0.304179</td><td>-0.604248</td><td>0</td><td>0</td><td>0</td><td>1</td><td>0</td></tr><tr><td>&quot;PFE&quot;</td><td>2023-03-31</td><td>2023-05-02</td><td>18282.0</td><td>4886.0</td><td>3418.0</td><td>5543.0</td><td>7827.0</td><td>5727.0</td><td>50078.0</td><td>195617.0</td><td>19972.0</td><td>12305.0</td><td>9541.0</td><td>17052.0</td><td>36562.0</td><td>31704.0</td><td>94381.0</td><td>131102.0</td><td>101236.0</td><td>1212.0</td><td>3315.0</td><td>-2771.0</td><td>2303.0</td><td>0.0</td><td>132652.084</td><td>0.258</td><td>2023-06-01</td><td>false</td><td>1</td><td>0.077</td><td>1</td><td>0.397</td><td>0.32</td><td>0.14851</td><td>0.286963</td><td>0.732743</td><td>&hellip;</td><td>0.093573</td><td>-0.122646</td><td>-0.049606</td><td>-0.858774</td><td>-0.814707</td><td>0.125954</td><td>-0.011681</td><td>0.104367</td><td>-0.066164</td><td>-0.117159</td><td>-0.23794</td><td>-0.060627</td><td>-0.123134</td><td>-0.164364</td><td>0.020772</td><td>-0.379455</td><td>-0.104412</td><td>-0.410231</td><td>0.020291</td><td>-0.281944</td><td>-0.073013</td><td>0.169921</td><td>0.015855</td><td>-0.392979</td><td>-0.79161</td><td>-0.267709</td><td>-0.24323</td><td>-0.337442</td><td>6</td><td>null</td><td>null</td><td>null</td><td>null</td><td>null</td><td>0</td><td>1</td><td>0</td></tr><tr><td>&quot;PFE&quot;</td><td>2023-06-30</td><td>2023-08-01</td><td>12734.0</td><td>3237.0</td><td>3497.0</td><td>2327.0</td><td>4599.0</td><td>5645.0</td><td>73347.0</td><td>220168.0</td><td>44785.0</td><td>13425.0</td><td>10310.0</td><td>17488.0</td><td>34647.0</td><td>61356.0</td><td>120875.0</td><td>128796.0</td><td>99019.0</td><td>-1208.0</td><td>-25485.0</td><td>27174.0</td><td>0.0</td><td>914.0</td><td>164360.0</td><td>0.18</td><td>2023-09-01</td><td>false</td><td>0</td><td>0.0</td><td>0</td><td>0.0</td><td>0.0</td><td>0.097526</td><td>0.216847</td><td>0.745799</td><td>&hellip;</td><td>-0.350174</td><td>-0.244338</td><td>-0.352847</td><td>-2.750825</td><td>-1.259731</td><td>0.545609</td><td>0.487653</td><td>0.903131</td><td>0.643719</td><td>0.309388</td><td>-0.009695</td><td>0.137901</td><td>-0.005605</td><td>0.586955</td><td>0.255028</td><td>0.035092</td><td>-0.054239</td><td>-0.331985</td><td>0.106221</td><td>-0.014674</td><td>-0.25015</td><td>-0.258697</td><td>0.246018</td><td>0.02633</td><td>-1.145173</td><td>-0.527527</td><td>-0.49371</td><td>-0.58145</td><td>4</td><td>null</td><td>null</td><td>null</td><td>null</td><td>null</td><td>0</td><td>1</td><td>0</td></tr><tr><td>&quot;PFE&quot;</td><td>2023-09-30</td><td>2023-10-31</td><td>13232.0</td><td>9269.0</td><td>3281.0</td><td>-2382.0</td><td>-422.0</td><td>5646.0</td><td>74012.0</td><td>215021.0</td><td>44181.0</td><td>15003.0</td><td>10204.0</td><td>17862.0</td><td>31136.0</td><td>61048.0</td><td>117817.0</td><td>126411.0</td><td>96934.0</td><td>3456.0</td><td>888.0</td><td>-3779.0</td><td>2314.0</td><td>810.0</td><td>160530.0</td><td>0.494</td><td>2023-12-01</td><td>false</td><td>0</td><td>0.0</td><td>0</td><td>0.0</td><td>0.0</td><td>0.048749</td><td>0.108135</td><td>0.299501</td><td>&hellip;</td><td>-0.680123</td><td>-0.501329</td><td>-0.662598</td><td>2.246937</td><td>-0.557081</td><td>0.122852</td><td>0.496198</td><td>0.131383</td><td>0.613691</td><td>-0.004334</td><td>0.101933</td><td>-0.001967</td><td>0.044697</td><td>0.699809</td><td>0.655438</td><td>0.587242</td><td>-0.174496</td><td>-0.465948</td><td>-0.080955</td><td>-0.18559</td><td>-0.511916</td><td>-0.643422</td><td>0.353651</td><td>0.418661</td><td>-0.763268</td><td>-0.431082</td><td>-0.357864</td><td>-0.47533</td><td>5</td><td>null</td><td>null</td><td>null</td><td>null</td><td>null</td><td>0</td><td>1</td><td>0</td></tr><tr><td>&quot;PFE&quot;</td><td>2023-12-31</td><td>2024-01-30</td><td>14249.0</td><td>7563.0</td><td>4575.0</td><td>-3369.0</td><td>1487.0</td><td>5646.0</td><td>43333.0</td><td>226501.0</td><td>12690.0</td><td>15155.0</td><td>10189.0</td><td>18940.0</td><td>47794.0</td><td>60499.0</td><td>137213.0</td><td>118353.0</td><td>89014.0</td><td>5240.0</td><td>-10996.0</td><td>5442.0</td><td>0.0</td><td>1044.0</td><td>159859.0</td><td>1.458</td><td>2024-03-01</td><td>false</td><td>1</td><td>0.079</td><td>0</td><td>0.0</td><td>-0.079</td><td>0.009355</td><td>0.023805</td><td>0.469226</td><td>&hellip;</td><td>-0.941192</td><td>-0.779857</td><td>-0.927218</td><td>0.58579</td><td>-0.51107</td><td>-0.618578</td><td>-0.254669</td><td>-0.693499</td><td>-0.271174</td><td>0.268251</td><td>0.459722</td><td>0.1056</td><td>0.179465</td><td>0.601811</td><td>3.549707</td><td>8.648917</td><td>0.001293</td><td>-0.299884</td><td>0.07761</td><td>0.117801</td><td>-0.797844</td><td>-0.931415</td><td>0.53883</td><td>1.636656</td><td>-0.734244</td><td>-0.467984</td><td>-0.474242</td><td>-0.478418</td><td>4</td><td>null</td><td>null</td><td>null</td><td>null</td><td>null</td><td>0</td><td>1</td><td>0</td></tr></tbody></table></div>"
      ],
      "text/plain": [
       "shape: (122, 152)\n",
       "┌──────┬────────────┬────────────┬─────────┬───┬───────┬──────────────┬──────────────┬─────────────┐\n",
       "│ tic  ┆ datadate   ┆ rdq        ┆ saleq   ┆ … ┆ fperf ┆ sector_Consu ┆ sector_Healt ┆ sector_Info │\n",
       "│ ---  ┆ ---        ┆ ---        ┆ ---     ┆   ┆ ---   ┆ mer Staples  ┆ h Care       ┆ rmation     │\n",
       "│ str  ┆ date       ┆ date       ┆ f64     ┆   ┆ i8    ┆ ---          ┆ ---          ┆ Technology  │\n",
       "│      ┆            ┆            ┆         ┆   ┆       ┆ i8           ┆ i8           ┆ ---         │\n",
       "│      ┆            ┆            ┆         ┆   ┆       ┆              ┆              ┆ i8          │\n",
       "╞══════╪════════════╪════════════╪═════════╪═══╪═══════╪══════════════╪══════════════╪═════════════╡\n",
       "│ AAPL ┆ 2013-12-31 ┆ 2014-01-27 ┆ 57594.0 ┆ … ┆ 1     ┆ 0            ┆ 0            ┆ 1           │\n",
       "│ AAPL ┆ 2014-03-31 ┆ 2014-04-23 ┆ 45646.0 ┆ … ┆ 1     ┆ 0            ┆ 0            ┆ 1           │\n",
       "│ AAPL ┆ 2014-06-30 ┆ 2014-07-22 ┆ 37432.0 ┆ … ┆ 0     ┆ 0            ┆ 0            ┆ 1           │\n",
       "│ AAPL ┆ 2014-09-30 ┆ 2014-10-20 ┆ 42123.0 ┆ … ┆ 0     ┆ 0            ┆ 0            ┆ 1           │\n",
       "│ AAPL ┆ 2014-12-31 ┆ 2015-01-27 ┆ 74599.0 ┆ … ┆ 0     ┆ 0            ┆ 0            ┆ 1           │\n",
       "│ …    ┆ …          ┆ …          ┆ …       ┆ … ┆ …     ┆ …            ┆ …            ┆ …           │\n",
       "│ PFE  ┆ 2022-12-31 ┆ 2023-01-31 ┆ 24289.0 ┆ … ┆ 0     ┆ 0            ┆ 1            ┆ 0           │\n",
       "│ PFE  ┆ 2023-03-31 ┆ 2023-05-02 ┆ 18282.0 ┆ … ┆ null  ┆ 0            ┆ 1            ┆ 0           │\n",
       "│ PFE  ┆ 2023-06-30 ┆ 2023-08-01 ┆ 12734.0 ┆ … ┆ null  ┆ 0            ┆ 1            ┆ 0           │\n",
       "│ PFE  ┆ 2023-09-30 ┆ 2023-10-31 ┆ 13232.0 ┆ … ┆ null  ┆ 0            ┆ 1            ┆ 0           │\n",
       "│ PFE  ┆ 2023-12-31 ┆ 2024-01-30 ┆ 14249.0 ┆ … ┆ null  ┆ 0            ┆ 1            ┆ 0           │\n",
       "└──────┴────────────┴────────────┴─────────┴───┴───────┴──────────────┴──────────────┴─────────────┘"
      ]
     },
     "execution_count": 6,
     "metadata": {},
     "output_type": "execute_result"
    }
   ],
   "source": [
    "# Convert only integer columns to Int8, leave other types unchanged\n",
    "df = df.select(\n",
    "    [pl.col(col).cast(pl.Int8) if df[col].dtype.is_integer() else pl.col(col) for col in df.columns]\n",
    ")\n",
    "df"
   ]
  }
 ],
 "metadata": {
  "kernelspec": {
   "display_name": ".venv",
   "language": "python",
   "name": "python3"
  },
  "language_info": {
   "codemirror_mode": {
    "name": "ipython",
    "version": 3
   },
   "file_extension": ".py",
   "mimetype": "text/x-python",
   "name": "python",
   "nbconvert_exporter": "python",
   "pygments_lexer": "ipython3",
   "version": "3.11.0"
  }
 },
 "nbformat": 4,
 "nbformat_minor": 2
}
