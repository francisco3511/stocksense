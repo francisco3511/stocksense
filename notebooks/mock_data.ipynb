{
 "cells": [
  {
   "cell_type": "code",
   "execution_count": 2,
   "metadata": {},
   "outputs": [
    {
     "name": "stderr",
     "output_type": "stream",
     "text": [
      "\u001b[32m2025-02-23 18:05:08.405\u001b[0m | \u001b[32m\u001b[1mSUCCESS \u001b[0m | \u001b[36mstocksense.database.schema\u001b[0m:\u001b[36mcreate_tables\u001b[0m:\u001b[36m121\u001b[0m - \u001b[32m\u001b[1mTables created successfully\u001b[0m\n"
     ]
    }
   ],
   "source": [
    "from pathlib import Path\n",
    "\n",
    "import polars as pl\n",
    "\n",
    "from stocksense.database import DatabaseHandler\n",
    "\n",
    "FIXTURE_PATH = Path(\"../tests/fixtures\")\n",
    "\n",
    "db = DatabaseHandler()"
   ]
  },
  {
   "cell_type": "code",
   "execution_count": 4,
   "metadata": {},
   "outputs": [
    {
     "data": {
      "text/html": [
       "<div><style>\n",
       ".dataframe > thead > tr,\n",
       ".dataframe > tbody > tr {\n",
       "  text-align: right;\n",
       "  white-space: pre-wrap;\n",
       "}\n",
       "</style>\n",
       "<small>shape: (2_439, 5)</small><table border=\"1\" class=\"dataframe\"><thead><tr><th>tic</th><th>date</th><th>close</th><th>adj_close</th><th>volume</th></tr><tr><td>str</td><td>date</td><td>f64</td><td>f64</td><td>i64</td></tr></thead><tbody><tr><td>&quot;BMC&quot;</td><td>2012-06-18</td><td>2575.0</td><td>2575.0</td><td>0</td></tr><tr><td>&quot;BMC&quot;</td><td>2012-06-19</td><td>2575.0</td><td>2575.0</td><td>8800</td></tr><tr><td>&quot;BMC&quot;</td><td>2012-06-20</td><td>2575.0</td><td>2575.0</td><td>2290</td></tr><tr><td>&quot;BMC&quot;</td><td>2012-06-21</td><td>2575.0</td><td>2575.0</td><td>800</td></tr><tr><td>&quot;BMC&quot;</td><td>2012-06-22</td><td>2575.0</td><td>2575.0</td><td>800</td></tr><tr><td>&hellip;</td><td>&hellip;</td><td>&hellip;</td><td>&hellip;</td><td>&hellip;</td></tr><tr><td>&quot;BMC&quot;</td><td>2022-02-24</td><td>1610.0</td><td>1610.0</td><td>0</td></tr><tr><td>&quot;BMC&quot;</td><td>2022-02-25</td><td>1610.0</td><td>1610.0</td><td>0</td></tr><tr><td>&quot;BMC&quot;</td><td>2022-02-28</td><td>1610.0</td><td>1610.0</td><td>0</td></tr><tr><td>&quot;BMC&quot;</td><td>2022-03-01</td><td>1610.0</td><td>1610.0</td><td>0</td></tr><tr><td>&quot;BMC&quot;</td><td>2022-03-02</td><td>26500.0</td><td>26500.0</td><td>240600</td></tr></tbody></table></div>"
      ],
      "text/plain": [
       "shape: (2_439, 5)\n",
       "┌─────┬────────────┬─────────┬───────────┬────────┐\n",
       "│ tic ┆ date       ┆ close   ┆ adj_close ┆ volume │\n",
       "│ --- ┆ ---        ┆ ---     ┆ ---       ┆ ---    │\n",
       "│ str ┆ date       ┆ f64     ┆ f64       ┆ i64    │\n",
       "╞═════╪════════════╪═════════╪═══════════╪════════╡\n",
       "│ BMC ┆ 2012-06-18 ┆ 2575.0  ┆ 2575.0    ┆ 0      │\n",
       "│ BMC ┆ 2012-06-19 ┆ 2575.0  ┆ 2575.0    ┆ 8800   │\n",
       "│ BMC ┆ 2012-06-20 ┆ 2575.0  ┆ 2575.0    ┆ 2290   │\n",
       "│ BMC ┆ 2012-06-21 ┆ 2575.0  ┆ 2575.0    ┆ 800    │\n",
       "│ BMC ┆ 2012-06-22 ┆ 2575.0  ┆ 2575.0    ┆ 800    │\n",
       "│ …   ┆ …          ┆ …       ┆ …         ┆ …      │\n",
       "│ BMC ┆ 2022-02-24 ┆ 1610.0  ┆ 1610.0    ┆ 0      │\n",
       "│ BMC ┆ 2022-02-25 ┆ 1610.0  ┆ 1610.0    ┆ 0      │\n",
       "│ BMC ┆ 2022-02-28 ┆ 1610.0  ┆ 1610.0    ┆ 0      │\n",
       "│ BMC ┆ 2022-03-01 ┆ 1610.0  ┆ 1610.0    ┆ 0      │\n",
       "│ BMC ┆ 2022-03-02 ┆ 26500.0 ┆ 26500.0   ┆ 240600 │\n",
       "└─────┴────────────┴─────────┴───────────┴────────┘"
      ]
     },
     "execution_count": 4,
     "metadata": {},
     "output_type": "execute_result"
    }
   ],
   "source": [
    "a = db.fetch_market_data(\"BMC\")\n",
    "a"
   ]
  },
  {
   "cell_type": "code",
   "execution_count": 41,
   "metadata": {},
   "outputs": [],
   "source": [
    "# fetch all required data\n",
    "df = db.fetch_financial_data()\n",
    "info = db.fetch_stock()\n",
    "market_df = db.fetch_market_data().sort([\"tic\", \"date\"])\n",
    "insider_df = db.fetch_insider_data()\n",
    "index_data = db.fetch_index_data()\n",
    "vix_data = db.fetch_vix_data()\n",
    "\n",
    "firms = [\"AAPL\", \"COST\", \"DISH\"]\n",
    "date_interval = (pl.lit(\"2014-01-01\").str.to_date(), pl.lit(\"2024-12-01\").str.to_date())\n",
    "\n",
    "# filter data\n",
    "info = info.filter((pl.col(\"tic\").is_in(firms)))\n",
    "index_data = index_data.filter(\n",
    "    (pl.col(\"date\") >= date_interval[0]) & (pl.col(\"date\") <= date_interval[1])\n",
    ")\n",
    "vix_data = vix_data.filter(\n",
    "    (pl.col(\"date\") >= date_interval[0]) & (pl.col(\"date\") <= date_interval[1])\n",
    ")\n",
    "df = df.filter(\n",
    "    (pl.col(\"rdq\") >= date_interval[0])\n",
    "    & (pl.col(\"rdq\") <= date_interval[1])\n",
    "    & (pl.col(\"tic\").is_in(firms))\n",
    ")\n",
    "market_df = market_df.filter(\n",
    "    (pl.col(\"date\") >= date_interval[0])\n",
    "    & (pl.col(\"date\") <= date_interval[1])\n",
    "    & (pl.col(\"tic\").is_in(firms))\n",
    ")\n",
    "insider_df = insider_df.filter(\n",
    "    (pl.col(\"filling_date\") >= date_interval[0])\n",
    "    & (pl.col(\"filling_date\") <= date_interval[1])\n",
    "    & (pl.col(\"tic\").is_in(firms))\n",
    ")\n",
    "\n",
    "info.write_parquet(FIXTURE_PATH / \"stock_data.parquet\")\n",
    "df.write_parquet(FIXTURE_PATH / \"financial_data.parquet\")\n",
    "market_df.write_parquet(FIXTURE_PATH / \"market_data.parquet\")\n",
    "insider_df.write_parquet(FIXTURE_PATH / \"insider_data.parquet\")\n",
    "index_data.write_parquet(FIXTURE_PATH / \"index_data.parquet\")\n",
    "vix_data.write_parquet(FIXTURE_PATH / \"vix_data.parquet\")"
   ]
  },
  {
   "cell_type": "code",
   "execution_count": 40,
   "metadata": {},
   "outputs": [
    {
     "data": {
      "text/html": [
       "<div><style>\n",
       ".dataframe > thead > tr,\n",
       ".dataframe > tbody > tr {\n",
       "  text-align: right;\n",
       "  white-space: pre-wrap;\n",
       "}\n",
       "</style>\n",
       "<small>shape: (88, 223)</small><table border=\"1\" class=\"dataframe\"><thead><tr><th>tdq</th><th>tic</th><th>datadate</th><th>rdq</th><th>saleq</th><th>cogsq</th><th>xsgaq</th><th>niq</th><th>ebitdaq</th><th>cshoq</th><th>actq</th><th>atq</th><th>cheq</th><th>rectq</th><th>invtq</th><th>ppentq</th><th>lctq</th><th>dlttq</th><th>ltq</th><th>req</th><th>seqq</th><th>oancfq</th><th>ivncfq</th><th>fincfq</th><th>dvq</th><th>capxq</th><th>icaptq</th><th>surprise_pct</th><th>stock_split</th><th>n_purch</th><th>val_purch</th><th>n_sales</th><th>val_sales</th><th>insider_balance</th><th>roa</th><th>ni_ttm</th><th>roi</th><th>&hellip;</th><th>size_yoy</th><th>f_score</th><th>fwd_vol_yoy</th><th>fwd_downside_vol_yoy</th><th>risk_return_4Q</th><th>sortino_4Q</th><th>excess_return_4Q</th><th>sharpe_ratio_4Q</th><th>aggressive_hit</th><th>moderate_hit</th><th>relaxed_hit</th><th>mkt_cap_rank</th><th>sector_consumer_staples</th><th>sector_information_technology</th><th>pe_sec</th><th>momentum_sec_yoy</th><th>momentum_sec_qoq</th><th>size_sec</th><th>size_factor</th><th>mkt_rel_sec</th><th>roa_sec</th><th>pe_mkt_rank</th><th>pe_sec_rank</th><th>ev_ebitda_mkt_rank</th><th>ev_ebitda_sec_rank</th><th>saleq_yoy_mkt_rank</th><th>saleq_yoy_sec_rank</th><th>roa_mkt_rank</th><th>roa_sec_rank</th><th>fcf_ttm_mkt_rank</th><th>fcf_ttm_sec_rank</th><th>der_mkt_rank</th><th>der_sec_rank</th><th>price_mom_mkt_rank</th><th>price_mom_sec_rank</th><th>price_yoy_mkt_rank</th><th>price_yoy_sec_rank</th></tr><tr><td>date</td><td>str</td><td>date</td><td>date</td><td>f64</td><td>f64</td><td>f64</td><td>f64</td><td>f64</td><td>f64</td><td>f64</td><td>f64</td><td>f64</td><td>f64</td><td>f64</td><td>f64</td><td>f64</td><td>f64</td><td>f64</td><td>f64</td><td>f64</td><td>f64</td><td>f64</td><td>f64</td><td>f64</td><td>f64</td><td>f64</td><td>f64</td><td>i8</td><td>u32</td><td>f64</td><td>u32</td><td>f64</td><td>f64</td><td>f64</td><td>f64</td><td>f64</td><td>&hellip;</td><td>f64</td><td>i8</td><td>f64</td><td>f64</td><td>f64</td><td>f64</td><td>f64</td><td>f64</td><td>i8</td><td>i8</td><td>i8</td><td>u32</td><td>i8</td><td>i8</td><td>f64</td><td>f64</td><td>f64</td><td>f64</td><td>i8</td><td>f64</td><td>f64</td><td>f64</td><td>f64</td><td>f64</td><td>f64</td><td>f64</td><td>f64</td><td>f64</td><td>f64</td><td>f64</td><td>f64</td><td>f64</td><td>f64</td><td>f64</td><td>f64</td><td>f64</td><td>f64</td></tr></thead><tbody><tr><td>2014-03-01</td><td>&quot;AAPL&quot;</td><td>2013-12-31</td><td>2014-01-27</td><td>57594.0</td><td>33604.0</td><td>4383.0</td><td>13072.0</td><td>19607.0</td><td>24988.516</td><td>80347.0</td><td>225184.0</td><td>40711.0</td><td>25198.0</td><td>2122.0</td><td>15488.0</td><td>53769.0</td><td>16961.0</td><td>95500.0</td><td>109125.0</td><td>129684.0</td><td>22670.0</td><td>-15103.0</td><td>-7749.0</td><td>2769.0</td><td>1985.0</td><td>146645.0</td><td>0.031</td><td>0</td><td>0</td><td>0.0</td><td>3</td><td>4.994</td><td>4.994</td><td>null</td><td>null</td><td>8.914044</td><td>&hellip;</td><td>null</td><td>null</td><td>0.013801</td><td>0.01227</td><td>3.66396</td><td>4.121218</td><td>57.750674</td><td>2.635973</td><td>1</td><td>1</td><td>1</td><td>1</td><td>0</td><td>1</td><td>null</td><td>null</td><td>null</td><td>469641.334609</td><td>0</td><td>100.0</td><td>null</td><td>null</td><td>null</td><td>null</td><td>null</td><td>null</td><td>null</td><td>null</td><td>null</td><td>null</td><td>null</td><td>10.0</td><td>10.0</td><td>10.0</td><td>10.0</td><td>null</td><td>null</td></tr><tr><td>2014-06-01</td><td>&quot;AAPL&quot;</td><td>2014-03-31</td><td>2014-04-23</td><td>45646.0</td><td>25812.0</td><td>4354.0</td><td>10223.0</td><td>15480.0</td><td>24128.86</td><td>70541.0</td><td>205989.0</td><td>41350.0</td><td>15820.0</td><td>1829.0</td><td>15120.0</td><td>43208.0</td><td>16962.0</td><td>85810.0</td><td>98683.0</td><td>120179.0</td><td>13538.0</td><td>11741.0</td><td>-20407.0</td><td>2661.0</td><td>1382.0</td><td>137141.0</td><td>0.14</td><td>0</td><td>0</td><td>0.0</td><td>5</td><td>4.223</td><td>4.223</td><td>null</td><td>null</td><td>7.454372</td><td>&hellip;</td><td>null</td><td>null</td><td>0.013728</td><td>0.013236</td><td>2.254985</td><td>2.338806</td><td>35.078527</td><td>1.609697</td><td>1</td><td>1</td><td>1</td><td>1</td><td>0</td><td>1</td><td>null</td><td>null</td><td>0.191552</td><td>545484.598149</td><td>0</td><td>100.0</td><td>null</td><td>null</td><td>null</td><td>null</td><td>null</td><td>null</td><td>null</td><td>null</td><td>null</td><td>null</td><td>null</td><td>5.0</td><td>10.0</td><td>10.0</td><td>10.0</td><td>null</td><td>null</td></tr><tr><td>2014-09-01</td><td>&quot;AAPL&quot;</td><td>2014-06-30</td><td>2014-07-22</td><td>37432.0</td><td>20751.0</td><td>4453.0</td><td>7748.0</td><td>12228.0</td><td>23956.684</td><td>67949.0</td><td>222520.0</td><td>37805.0</td><td>16841.0</td><td>1594.0</td><td>17585.0</td><td>46205.0</td><td>29030.0</td><td>101580.0</td><td>98801.0</td><td>120940.0</td><td>10255.0</td><td>-22214.0</td><td>5987.0</td><td>2867.0</td><td>2378.0</td><td>149970.0</td><td>0.04</td><td>1</td><td>0</td><td>0.0</td><td>4</td><td>13.854</td><td>13.854</td><td>null</td><td>null</td><td>5.166367</td><td>&hellip;</td><td>null</td><td>null</td><td>0.016196</td><td>0.016293</td><td>1.202814</td><td>1.195697</td><td>10.624314</td><td>0.413226</td><td>0</td><td>0</td><td>0</td><td>1</td><td>0</td><td>1</td><td>null</td><td>null</td><td>0.112714</td><td>613890.0275</td><td>0</td><td>100.0</td><td>null</td><td>null</td><td>null</td><td>null</td><td>null</td><td>null</td><td>null</td><td>null</td><td>null</td><td>null</td><td>null</td><td>5.0</td><td>10.0</td><td>10.0</td><td>10.0</td><td>null</td><td>null</td></tr><tr><td>2014-12-01</td><td>&quot;AAPL&quot;</td><td>2014-09-30</td><td>2014-10-20</td><td>42123.0</td><td>24145.0</td><td>4844.0</td><td>8467.0</td><td>13134.0</td><td>23464.644</td><td>68531.0</td><td>231839.0</td><td>25077.0</td><td>27219.0</td><td>2111.0</td><td>20624.0</td><td>63448.0</td><td>28987.0</td><td>120292.0</td><td>88234.0</td><td>111547.0</td><td>13250.0</td><td>2997.0</td><td>-15380.0</td><td>2829.0</td><td>3826.0</td><td>140534.0</td><td>0.088</td><td>0</td><td>0</td><td>0.0</td><td>11</td><td>181.742</td><td>181.742</td><td>17.041999</td><td>39510.0</td><td>6.024877</td><td>&hellip;</td><td>null</td><td>null</td><td>0.016732</td><td>0.016339</td><td>0.60687</td><td>0.621467</td><td>2.962398</td><td>0.111528</td><td>0</td><td>0</td><td>0</td><td>1</td><td>0</td><td>1</td><td>1.0</td><td>null</td><td>0.172748</td><td>675019.14448</td><td>0</td><td>100.0</td><td>0.0</td><td>10.0</td><td>10.0</td><td>10.0</td><td>10.0</td><td>null</td><td>null</td><td>10.0</td><td>10.0</td><td>10.0</td><td>10.0</td><td>5.0</td><td>10.0</td><td>10.0</td><td>10.0</td><td>null</td><td>null</td></tr><tr><td>2015-03-01</td><td>&quot;AAPL&quot;</td><td>2014-12-31</td><td>2015-01-27</td><td>74599.0</td><td>42283.0</td><td>5495.0</td><td>18024.0</td><td>26821.0</td><td>23305.676</td><td>83403.0</td><td>261894.0</td><td>32463.0</td><td>29976.0</td><td>2283.0</td><td>20392.0</td><td>73611.0</td><td>32504.0</td><td>138566.0</td><td>99141.0</td><td>123328.0</td><td>33722.0</td><td>-21165.0</td><td>-6923.0</td><td>2801.0</td><td>3217.0</td><td>155832.0</td><td>0.175</td><td>0</td><td>0</td><td>0.0</td><td>3</td><td>5.983</td><td>5.983</td><td>16.977098</td><td>44462.0</td><td>11.566302</td><td>&hellip;</td><td>0.012254</td><td>null</td><td>0.017448</td><td>0.017705</td><td>0.13023</td><td>0.128339</td><td>-14.676183</td><td>-0.529879</td><td>0</td><td>0</td><td>0</td><td>1</td><td>0</td><td>1</td><td>1.0</td><td>0.704133</td><td>0.080131</td><td>748461.823858</td><td>0</td><td>100.0</td><td>0.0</td><td>5.0</td><td>10.0</td><td>5.0</td><td>10.0</td><td>10.0</td><td>10.0</td><td>10.0</td><td>10.0</td><td>10.0</td><td>10.0</td><td>5.0</td><td>10.0</td><td>10.0</td><td>10.0</td><td>10.0</td><td>10.0</td></tr><tr><td>&hellip;</td><td>&hellip;</td><td>&hellip;</td><td>&hellip;</td><td>&hellip;</td><td>&hellip;</td><td>&hellip;</td><td>&hellip;</td><td>&hellip;</td><td>&hellip;</td><td>&hellip;</td><td>&hellip;</td><td>&hellip;</td><td>&hellip;</td><td>&hellip;</td><td>&hellip;</td><td>&hellip;</td><td>&hellip;</td><td>&hellip;</td><td>&hellip;</td><td>&hellip;</td><td>&hellip;</td><td>&hellip;</td><td>&hellip;</td><td>&hellip;</td><td>&hellip;</td><td>&hellip;</td><td>&hellip;</td><td>&hellip;</td><td>&hellip;</td><td>&hellip;</td><td>&hellip;</td><td>&hellip;</td><td>&hellip;</td><td>&hellip;</td><td>&hellip;</td><td>&hellip;</td><td>&hellip;</td><td>&hellip;</td><td>&hellip;</td><td>&hellip;</td><td>&hellip;</td><td>&hellip;</td><td>&hellip;</td><td>&hellip;</td><td>&hellip;</td><td>&hellip;</td><td>&hellip;</td><td>&hellip;</td><td>&hellip;</td><td>&hellip;</td><td>&hellip;</td><td>&hellip;</td><td>&hellip;</td><td>&hellip;</td><td>&hellip;</td><td>&hellip;</td><td>&hellip;</td><td>&hellip;</td><td>&hellip;</td><td>&hellip;</td><td>&hellip;</td><td>&hellip;</td><td>&hellip;</td><td>&hellip;</td><td>&hellip;</td><td>&hellip;</td><td>&hellip;</td><td>&hellip;</td><td>&hellip;</td><td>&hellip;</td><td>&hellip;</td><td>&hellip;</td><td>&hellip;</td><td>&hellip;</td></tr><tr><td>2023-12-01</td><td>&quot;COST&quot;</td><td>2023-08-31</td><td>2023-09-26</td><td>78939.0</td><td>69219.0</td><td>6939.0</td><td>2160.0</td><td>3681.0</td><td>442.793</td><td>35879.0</td><td>68994.0</td><td>15234.0</td><td>2285.0</td><td>16651.0</td><td>29397.0</td><td>33583.0</td><td>5377.0</td><td>43936.0</td><td>19521.0</td><td>25058.0</td><td>3725.0</td><td>-1825.0</td><td>-664.0</td><td>452.0</td><td>1556.0</td><td>31516.0</td><td>0.015</td><td>0</td><td>0</td><td>0.0</td><td>8</td><td>10.797</td><td>10.797</td><td>9.119634</td><td>6292.0</td><td>6.853662</td><td>&hellip;</td><td>0.006554</td><td>7</td><td>0.012445</td><td>0.012781</td><td>3.425729</td><td>3.335819</td><td>31.673186</td><td>1.603212</td><td>1</td><td>1</td><td>1</td><td>2</td><td>1</td><td>0</td><td>1.0</td><td>0.105702</td><td>0.090655</td><td>264015.32625</td><td>0</td><td>100.0</td><td>0.0</td><td>10.0</td><td>10.0</td><td>10.0</td><td>10.0</td><td>10.0</td><td>10.0</td><td>5.0</td><td>10.0</td><td>5.0</td><td>10.0</td><td>5.0</td><td>10.0</td><td>5.0</td><td>10.0</td><td>5.0</td><td>10.0</td></tr><tr><td>2024-03-01</td><td>&quot;COST&quot;</td><td>2023-11-30</td><td>2023-12-14</td><td>57799.0</td><td>50457.0</td><td>5358.0</td><td>1589.0</td><td>2642.0</td><td>443.787</td><td>40080.0</td><td>73723.0</td><td>17864.0</td><td>2542.0</td><td>18001.0</td><td>29840.0</td><td>36768.0</td><td>5866.0</td><td>47576.0</td><td>20499.0</td><td>26147.0</td><td>4651.0</td><td>-366.0</td><td>-974.0</td><td>905.0</td><td>1040.0</td><td>33093.0</td><td>0.047</td><td>0</td><td>0</td><td>0.0</td><td>7</td><td>11.349</td><td>11.349</td><td>8.839846</td><td>6517.0</td><td>4.80162</td><td>&hellip;</td><td>0.009934</td><td>5</td><td>null</td><td>null</td><td>null</td><td>null</td><td>null</td><td>null</td><td>0</td><td>0</td><td>null</td><td>2</td><td>1</td><td>0</td><td>1.0</td><td>0.565672</td><td>0.256922</td><td>332591.730363</td><td>0</td><td>100.0</td><td>0.0</td><td>10.0</td><td>10.0</td><td>10.0</td><td>10.0</td><td>10.0</td><td>10.0</td><td>5.0</td><td>10.0</td><td>5.0</td><td>10.0</td><td>5.0</td><td>10.0</td><td>10.0</td><td>10.0</td><td>10.0</td><td>10.0</td></tr><tr><td>2024-06-01</td><td>&quot;COST&quot;</td><td>2024-02-29</td><td>2024-03-07</td><td>58442.0</td><td>51140.0</td><td>5240.0</td><td>1743.0</td><td>2761.0</td><td>443.504</td><td>32146.0</td><td>66323.0</td><td>10321.0</td><td>2779.0</td><td>17075.0</td><td>30341.0</td><td>34688.0</td><td>5865.0</td><td>45563.0</td><td>14980.0</td><td>20760.0</td><td>731.0</td><td>-1386.0</td><td>-7276.0</td><td>null</td><td>1031.0</td><td>27705.0</td><td>0.082</td><td>0</td><td>0</td><td>0.0</td><td>3</td><td>3.427</td><td>3.427</td><td>10.243807</td><td>6794.0</td><td>6.291283</td><td>&hellip;</td><td>-0.00071</td><td>6</td><td>null</td><td>null</td><td>null</td><td>null</td><td>null</td><td>null</td><td>0</td><td>0</td><td>null</td><td>2</td><td>1</td><td>0</td><td>1.0</td><td>0.583177</td><td>0.065715</td><td>359189.461057</td><td>0</td><td>100.0</td><td>0.0</td><td>10.0</td><td>10.0</td><td>10.0</td><td>10.0</td><td>10.0</td><td>10.0</td><td>5.0</td><td>10.0</td><td>5.0</td><td>10.0</td><td>5.0</td><td>10.0</td><td>5.0</td><td>10.0</td><td>10.0</td><td>10.0</td></tr><tr><td>2024-09-01</td><td>&quot;COST&quot;</td><td>2024-05-31</td><td>2024-08-19</td><td>58515.0</td><td>51173.0</td><td>5145.0</td><td>1681.0</td><td>2821.0</td><td>443.335</td><td>33288.0</td><td>67911.0</td><td>11499.0</td><td>2583.0</td><td>17430.0</td><td>30705.0</td><td>35361.0</td><td>5834.0</td><td>46140.0</td><td>15989.0</td><td>21771.0</td><td>2999.0</td><td>-954.0</td><td>-698.0</td><td>null</td><td>1062.0</td><td>28682.0</td><td>null</td><td>0</td><td>0</td><td>0.0</td><td>5</td><td>4.253</td><td>4.253</td><td>10.562354</td><td>7173.0</td><td>5.860819</td><td>&hellip;</td><td>0.00155</td><td>6</td><td>null</td><td>null</td><td>null</td><td>null</td><td>null</td><td>null</td><td>0</td><td>0</td><td>null</td><td>2</td><td>1</td><td>0</td><td>1.0</td><td>0.645668</td><td>0.078548</td><td>395623.289465</td><td>0</td><td>100.0</td><td>0.0</td><td>10.0</td><td>10.0</td><td>10.0</td><td>10.0</td><td>10.0</td><td>10.0</td><td>5.0</td><td>10.0</td><td>5.0</td><td>10.0</td><td>5.0</td><td>10.0</td><td>10.0</td><td>10.0</td><td>10.0</td><td>10.0</td></tr><tr><td>2024-12-01</td><td>&quot;COST&quot;</td><td>2024-08-31</td><td>2024-09-05</td><td>79697.0</td><td>69588.0</td><td>7067.0</td><td>2354.0</td><td>3896.0</td><td>443.126</td><td>34246.0</td><td>69831.0</td><td>11144.0</td><td>2721.0</td><td>18647.0</td><td>31649.0</td><td>35464.0</td><td>5794.0</td><td>46209.0</td><td>17619.0</td><td>23622.0</td><td>2958.0</td><td>-1703.0</td><td>-1816.0</td><td>null</td><td>1577.0</td><td>29519.0</td><td>0.0407</td><td>0</td><td>0</td><td>0.0</td><td>7</td><td>14.28</td><td>14.28</td><td>10.549756</td><td>7367.0</td><td>7.974525</td><td>&hellip;</td><td>0.001082</td><td>4</td><td>null</td><td>null</td><td>null</td><td>null</td><td>null</td><td>null</td><td>null</td><td>null</td><td>null</td><td>2</td><td>1</td><td>0</td><td>1.0</td><td>0.653251</td><td>0.091975</td><td>430665.299044</td><td>0</td><td>100.0</td><td>0.0</td><td>10.0</td><td>10.0</td><td>10.0</td><td>10.0</td><td>5.0</td><td>10.0</td><td>5.0</td><td>10.0</td><td>5.0</td><td>10.0</td><td>5.0</td><td>10.0</td><td>10.0</td><td>10.0</td><td>10.0</td><td>10.0</td></tr></tbody></table></div>"
      ],
      "text/plain": [
       "shape: (88, 223)\n",
       "┌────────────┬──────┬────────────┬────────────┬───┬────────────┬───────────┬───────────┬───────────┐\n",
       "│ tdq        ┆ tic  ┆ datadate   ┆ rdq        ┆ … ┆ price_mom_ ┆ price_mom ┆ price_yoy ┆ price_yoy │\n",
       "│ ---        ┆ ---  ┆ ---        ┆ ---        ┆   ┆ mkt_rank   ┆ _sec_rank ┆ _mkt_rank ┆ _sec_rank │\n",
       "│ date       ┆ str  ┆ date       ┆ date       ┆   ┆ ---        ┆ ---       ┆ ---       ┆ ---       │\n",
       "│            ┆      ┆            ┆            ┆   ┆ f64        ┆ f64       ┆ f64       ┆ f64       │\n",
       "╞════════════╪══════╪════════════╪════════════╪═══╪════════════╪═══════════╪═══════════╪═══════════╡\n",
       "│ 2014-03-01 ┆ AAPL ┆ 2013-12-31 ┆ 2014-01-27 ┆ … ┆ 10.0       ┆ 10.0      ┆ null      ┆ null      │\n",
       "│ 2014-06-01 ┆ AAPL ┆ 2014-03-31 ┆ 2014-04-23 ┆ … ┆ 10.0       ┆ 10.0      ┆ null      ┆ null      │\n",
       "│ 2014-09-01 ┆ AAPL ┆ 2014-06-30 ┆ 2014-07-22 ┆ … ┆ 10.0       ┆ 10.0      ┆ null      ┆ null      │\n",
       "│ 2014-12-01 ┆ AAPL ┆ 2014-09-30 ┆ 2014-10-20 ┆ … ┆ 10.0       ┆ 10.0      ┆ null      ┆ null      │\n",
       "│ 2015-03-01 ┆ AAPL ┆ 2014-12-31 ┆ 2015-01-27 ┆ … ┆ 10.0       ┆ 10.0      ┆ 10.0      ┆ 10.0      │\n",
       "│ …          ┆ …    ┆ …          ┆ …          ┆ … ┆ …          ┆ …         ┆ …         ┆ …         │\n",
       "│ 2023-12-01 ┆ COST ┆ 2023-08-31 ┆ 2023-09-26 ┆ … ┆ 5.0        ┆ 10.0      ┆ 5.0       ┆ 10.0      │\n",
       "│ 2024-03-01 ┆ COST ┆ 2023-11-30 ┆ 2023-12-14 ┆ … ┆ 10.0       ┆ 10.0      ┆ 10.0      ┆ 10.0      │\n",
       "│ 2024-06-01 ┆ COST ┆ 2024-02-29 ┆ 2024-03-07 ┆ … ┆ 5.0        ┆ 10.0      ┆ 10.0      ┆ 10.0      │\n",
       "│ 2024-09-01 ┆ COST ┆ 2024-05-31 ┆ 2024-08-19 ┆ … ┆ 10.0       ┆ 10.0      ┆ 10.0      ┆ 10.0      │\n",
       "│ 2024-12-01 ┆ COST ┆ 2024-08-31 ┆ 2024-09-05 ┆ … ┆ 10.0       ┆ 10.0      ┆ 10.0      ┆ 10.0      │\n",
       "└────────────┴──────┴────────────┴────────────┴───┴────────────┴───────────┴───────────┴───────────┘"
      ]
     },
     "execution_count": 40,
     "metadata": {},
     "output_type": "execute_result"
    }
   ],
   "source": [
    "df = pl.read_parquet(FIXTURE_PATH / \"processed_data.parquet\")\n",
    "df"
   ]
  },
  {
   "cell_type": "code",
   "execution_count": 6,
   "metadata": {},
   "outputs": [
    {
     "data": {
      "text/html": [
       "<div><style>\n",
       ".dataframe > thead > tr,\n",
       ".dataframe > tbody > tr {\n",
       "  text-align: right;\n",
       "  white-space: pre-wrap;\n",
       "}\n",
       "</style>\n",
       "<small>shape: (122, 152)</small><table border=\"1\" class=\"dataframe\"><thead><tr><th>tic</th><th>datadate</th><th>rdq</th><th>saleq</th><th>cogsq</th><th>xsgaq</th><th>niq</th><th>ebitdaq</th><th>cshoq</th><th>actq</th><th>atq</th><th>cheq</th><th>rectq</th><th>invtq</th><th>ppentq</th><th>lctq</th><th>dlttq</th><th>ltq</th><th>req</th><th>seqq</th><th>oancfq</th><th>ivncfq</th><th>fincfq</th><th>dvq</th><th>capxq</th><th>icaptq</th><th>surprise_pct</th><th>tdq</th><th>stock_split</th><th>n_purch</th><th>val_purch</th><th>n_sales</th><th>val_sales</th><th>insider_balance</th><th>roa</th><th>roe</th><th>gpm</th><th>&hellip;</th><th>roa_yoy</th><th>roe_qoq</th><th>roe_yoy</th><th>fcf_qoq</th><th>fcf_yoy</th><th>cr_qoq</th><th>cr_yoy</th><th>qr_qoq</th><th>qr_yoy</th><th>der_qoq</th><th>der_yoy</th><th>dr_qoq</th><th>dr_yoy</th><th>ltda_yoy</th><th>pe_qoq</th><th>pe_yoy</th><th>pb_qoq</th><th>pb_yoy</th><th>ps_qoq</th><th>ps_yoy</th><th>eps_qoq</th><th>eps_yoy</th><th>ev_ebitda_qoq</th><th>ev_ebitda_yoy</th><th>ltcr_yoy</th><th>itr_yoy</th><th>rtr_yoy</th><th>atr_yoy</th><th>f_score</th><th>index_freturn</th><th>freturn</th><th>adj_freturn</th><th>adj_fperf</th><th>fperf</th><th>sector_Consumer Staples</th><th>sector_Health Care</th><th>sector_Information Technology</th></tr><tr><td>str</td><td>date</td><td>date</td><td>f64</td><td>f64</td><td>f64</td><td>f64</td><td>f64</td><td>f64</td><td>f64</td><td>f64</td><td>f64</td><td>f64</td><td>f64</td><td>f64</td><td>f64</td><td>f64</td><td>f64</td><td>f64</td><td>f64</td><td>f64</td><td>f64</td><td>f64</td><td>f64</td><td>f64</td><td>f64</td><td>f64</td><td>date</td><td>bool</td><td>i8</td><td>f64</td><td>i8</td><td>f64</td><td>f64</td><td>f64</td><td>f64</td><td>f64</td><td>&hellip;</td><td>f64</td><td>f64</td><td>f64</td><td>f64</td><td>f64</td><td>f64</td><td>f64</td><td>f64</td><td>f64</td><td>f64</td><td>f64</td><td>f64</td><td>f64</td><td>f64</td><td>f64</td><td>f64</td><td>f64</td><td>f64</td><td>f64</td><td>f64</td><td>f64</td><td>f64</td><td>f64</td><td>f64</td><td>f64</td><td>f64</td><td>f64</td><td>f64</td><td>i8</td><td>f64</td><td>f64</td><td>f64</td><td>i8</td><td>i8</td><td>i8</td><td>i8</td><td>i8</td></tr></thead><tbody><tr><td>&quot;AAPL&quot;</td><td>2013-12-31</td><td>2014-01-27</td><td>57594.0</td><td>33604.0</td><td>4383.0</td><td>13072.0</td><td>19607.0</td><td>24988.516</td><td>80347.0</td><td>225184.0</td><td>40711.0</td><td>25198.0</td><td>2122.0</td><td>15488.0</td><td>53769.0</td><td>16961.0</td><td>95500.0</td><td>109125.0</td><td>129684.0</td><td>22670.0</td><td>-15103.0</td><td>-7749.0</td><td>2769.0</td><td>1985.0</td><td>146645.0</td><td>0.031</td><td>2014-03-01</td><td>false</td><td>0</td><td>0.0</td><td>3</td><td>4.994</td><td>4.994</td><td>null</td><td>null</td><td>0.416536</td><td>&hellip;</td><td>null</td><td>null</td><td>null</td><td>null</td><td>null</td><td>null</td><td>null</td><td>null</td><td>null</td><td>null</td><td>null</td><td>null</td><td>null</td><td>null</td><td>null</td><td>null</td><td>null</td><td>null</td><td>null</td><td>null</td><td>null</td><td>null</td><td>null</td><td>null</td><td>null</td><td>null</td><td>null</td><td>null</td><td>null</td><td>0.131786</td><td>0.741187</td><td>0.609401</td><td>1</td><td>1</td><td>0</td><td>0</td><td>1</td></tr><tr><td>&quot;AAPL&quot;</td><td>2014-03-31</td><td>2014-04-23</td><td>45646.0</td><td>25812.0</td><td>4354.0</td><td>10223.0</td><td>15480.0</td><td>24128.86</td><td>70541.0</td><td>205989.0</td><td>41350.0</td><td>15820.0</td><td>1829.0</td><td>15120.0</td><td>43208.0</td><td>16962.0</td><td>85810.0</td><td>98683.0</td><td>120179.0</td><td>13538.0</td><td>11741.0</td><td>-20407.0</td><td>2661.0</td><td>1382.0</td><td>137141.0</td><td>0.14</td><td>2014-06-01</td><td>false</td><td>0</td><td>0.0</td><td>5</td><td>4.223</td><td>4.223</td><td>null</td><td>null</td><td>0.434518</td><td>&hellip;</td><td>null</td><td>null</td><td>null</td><td>-0.412328</td><td>null</td><td>0.092546</td><td>null</td><td>0.079422</td><td>null</td><td>-0.030401</td><td>null</td><td>-0.017736</td><td>null</td><td>null</td><td>null</td><td>null</td><td>0.253355</td><td>null</td><td>null</td><td>null</td><td>null</td><td>null</td><td>null</td><td>null</td><td>null</td><td>null</td><td>null</td><td>null</td><td>null</td><td>0.097818</td><td>0.468902</td><td>0.371084</td><td>1</td><td>1</td><td>0</td><td>0</td><td>1</td></tr><tr><td>&quot;AAPL&quot;</td><td>2014-06-30</td><td>2014-07-22</td><td>37432.0</td><td>20751.0</td><td>4453.0</td><td>7748.0</td><td>12228.0</td><td>23956.684</td><td>67949.0</td><td>222520.0</td><td>37805.0</td><td>16841.0</td><td>1594.0</td><td>17585.0</td><td>46205.0</td><td>29030.0</td><td>101580.0</td><td>98801.0</td><td>120940.0</td><td>10255.0</td><td>-22214.0</td><td>5987.0</td><td>2867.0</td><td>2378.0</td><td>149970.0</td><td>0.04</td><td>2014-09-01</td><td>true</td><td>0</td><td>0.0</td><td>4</td><td>13.854</td><td>13.854</td><td>null</td><td>null</td><td>0.445635</td><td>&hellip;</td><td>null</td><td>null</td><td>null</td><td>-0.352007</td><td>null</td><td>-0.099224</td><td>null</td><td>-0.106148</td><td>null</td><td>0.176329</td><td>null</td><td>0.095835</td><td>null</td><td>null</td><td>null</td><td>null</td><td>0.118322</td><td>null</td><td>null</td><td>null</td><td>null</td><td>null</td><td>null</td><td>null</td><td>null</td><td>null</td><td>null</td><td>null</td><td>null</td><td>-0.044685</td><td>0.068892</td><td>0.113577</td><td>1</td><td>0</td><td>0</td><td>0</td><td>1</td></tr><tr><td>&quot;AAPL&quot;</td><td>2014-09-30</td><td>2014-10-20</td><td>42123.0</td><td>24145.0</td><td>4844.0</td><td>8467.0</td><td>13134.0</td><td>23464.644</td><td>68531.0</td><td>231839.0</td><td>25077.0</td><td>27219.0</td><td>2111.0</td><td>20624.0</td><td>63448.0</td><td>28987.0</td><td>120292.0</td><td>88234.0</td><td>111547.0</td><td>13250.0</td><td>2997.0</td><td>-15380.0</td><td>2829.0</td><td>3826.0</td><td>140534.0</td><td>0.088</td><td>2014-12-01</td><td>false</td><td>0</td><td>0.0</td><td>11</td><td>181.742</td><td>181.742</td><td>0.17042</td><td>0.3542</td><td>0.426798</td><td>&hellip;</td><td>null</td><td>null</td><td>null</td><td>0.196395</td><td>null</td><td>-0.265528</td><td>null</td><td>-0.303083</td><td>null</td><td>0.283928</td><td>null</td><td>0.136609</td><td>null</td><td>null</td><td>null</td><td>null</td><td>0.192168</td><td>null</td><td>null</td><td>null</td><td>null</td><td>null</td><td>null</td><td>null</td><td>null</td><td>null</td><td>null</td><td>null</td><td>null</td><td>0.023955</td><td>0.037102</td><td>0.013147</td><td>0</td><td>0</td><td>0</td><td>0</td><td>1</td></tr><tr><td>&quot;AAPL&quot;</td><td>2014-12-31</td><td>2015-01-27</td><td>74599.0</td><td>42283.0</td><td>5495.0</td><td>18024.0</td><td>26821.0</td><td>23305.676</td><td>83403.0</td><td>261894.0</td><td>32463.0</td><td>29976.0</td><td>2283.0</td><td>20392.0</td><td>73611.0</td><td>32504.0</td><td>138566.0</td><td>99141.0</td><td>123328.0</td><td>33722.0</td><td>-21165.0</td><td>-6923.0</td><td>2801.0</td><td>3217.0</td><td>155832.0</td><td>0.175</td><td>2015-03-01</td><td>false</td><td>0</td><td>0.0</td><td>3</td><td>5.983</td><td>5.983</td><td>0.169771</td><td>0.360518</td><td>0.433196</td><td>&hellip;</td><td>null</td><td>0.017837</td><td>null</td><td>2.236948</td><td>0.47474</td><td>0.048986</td><td>-0.24177</td><td>0.029112</td><td>-0.308009</td><td>0.041876</td><td>0.525731</td><td>0.01972</td><td>0.247571</td><td>0.647773</td><td>-0.014693</td><td>null</td><td>0.002882</td><td>0.675823</td><td>0.014431</td><td>null</td><td>0.133011</td><td>null</td><td>-0.008803</td><td>null</td><td>-0.230462</td><td>null</td><td>null</td><td>null</td><td>null</td><td>-0.059943</td><td>-0.202915</td><td>-0.142972</td><td>0</td><td>0</td><td>0</td><td>0</td><td>1</td></tr><tr><td>&hellip;</td><td>&hellip;</td><td>&hellip;</td><td>&hellip;</td><td>&hellip;</td><td>&hellip;</td><td>&hellip;</td><td>&hellip;</td><td>&hellip;</td><td>&hellip;</td><td>&hellip;</td><td>&hellip;</td><td>&hellip;</td><td>&hellip;</td><td>&hellip;</td><td>&hellip;</td><td>&hellip;</td><td>&hellip;</td><td>&hellip;</td><td>&hellip;</td><td>&hellip;</td><td>&hellip;</td><td>&hellip;</td><td>&hellip;</td><td>&hellip;</td><td>&hellip;</td><td>&hellip;</td><td>&hellip;</td><td>&hellip;</td><td>&hellip;</td><td>&hellip;</td><td>&hellip;</td><td>&hellip;</td><td>&hellip;</td><td>&hellip;</td><td>&hellip;</td><td>&hellip;</td><td>&hellip;</td><td>&hellip;</td><td>&hellip;</td><td>&hellip;</td><td>&hellip;</td><td>&hellip;</td><td>&hellip;</td><td>&hellip;</td><td>&hellip;</td><td>&hellip;</td><td>&hellip;</td><td>&hellip;</td><td>&hellip;</td><td>&hellip;</td><td>&hellip;</td><td>&hellip;</td><td>&hellip;</td><td>&hellip;</td><td>&hellip;</td><td>&hellip;</td><td>&hellip;</td><td>&hellip;</td><td>&hellip;</td><td>&hellip;</td><td>&hellip;</td><td>&hellip;</td><td>&hellip;</td><td>&hellip;</td><td>&hellip;</td><td>&hellip;</td><td>&hellip;</td><td>&hellip;</td><td>&hellip;</td><td>&hellip;</td><td>&hellip;</td><td>&hellip;</td><td>&hellip;</td><td>&hellip;</td></tr><tr><td>&quot;PFE&quot;</td><td>2022-12-31</td><td>2023-01-31</td><td>24289.0</td><td>9649.0</td><td>4645.0</td><td>4994.0</td><td>5900.0</td><td>5733.0</td><td>51259.0</td><td>197205.0</td><td>22732.0</td><td>10952.0</td><td>8981.0</td><td>16274.0</td><td>42138.0</td><td>32884.0</td><td>101288.0</td><td>125656.0</td><td>95916.0</td><td>8582.0</td><td>-4410.0</td><td>-5015.0</td><td>2245.0</td><td>0.0</td><td>128645.028</td><td>0.088</td><td>2023-03-01</td><td>false</td><td>0</td><td>0.0</td><td>0</td><td>0.0</td><td>0.0</td><td>0.159083</td><td>0.327078</td><td>0.602742</td><td>&hellip;</td><td>0.313517</td><td>0.020543</td><td>0.152741</td><td>0.436558</td><td>0.451133</td><td>-0.234322</td><td>-0.130428</td><td>-0.321377</td><td>-0.198316</td><td>-0.042607</td><td>-0.213556</td><td>-0.020728</td><td>-0.103869</td><td>-0.16394</td><td>-0.251575</td><td>-0.382008</td><td>-0.236208</td><td>-0.287614</td><td>-0.214872</td><td>-0.285319</td><td>0.05102</td><td>0.421138</td><td>-0.172027</td><td>-0.430906</td><td>0.597244</td><td>-0.024881</td><td>-0.118756</td><td>-0.063857</td><td>5</td><td>0.300069</td><td>-0.304179</td><td>-0.604248</td><td>0</td><td>0</td><td>0</td><td>1</td><td>0</td></tr><tr><td>&quot;PFE&quot;</td><td>2023-03-31</td><td>2023-05-02</td><td>18282.0</td><td>4886.0</td><td>3418.0</td><td>5543.0</td><td>7827.0</td><td>5727.0</td><td>50078.0</td><td>195617.0</td><td>19972.0</td><td>12305.0</td><td>9541.0</td><td>17052.0</td><td>36562.0</td><td>31704.0</td><td>94381.0</td><td>131102.0</td><td>101236.0</td><td>1212.0</td><td>3315.0</td><td>-2771.0</td><td>2303.0</td><td>0.0</td><td>132652.084</td><td>0.258</td><td>2023-06-01</td><td>false</td><td>1</td><td>0.077</td><td>1</td><td>0.397</td><td>0.32</td><td>0.14851</td><td>0.286963</td><td>0.732743</td><td>&hellip;</td><td>0.093573</td><td>-0.122646</td><td>-0.049606</td><td>-0.858774</td><td>-0.814707</td><td>0.125954</td><td>-0.011681</td><td>0.104367</td><td>-0.066164</td><td>-0.117159</td><td>-0.23794</td><td>-0.060627</td><td>-0.123134</td><td>-0.164364</td><td>0.020772</td><td>-0.379455</td><td>-0.104412</td><td>-0.410231</td><td>0.020291</td><td>-0.281944</td><td>-0.073013</td><td>0.169921</td><td>0.015855</td><td>-0.392979</td><td>-0.79161</td><td>-0.267709</td><td>-0.24323</td><td>-0.337442</td><td>6</td><td>null</td><td>null</td><td>null</td><td>null</td><td>null</td><td>0</td><td>1</td><td>0</td></tr><tr><td>&quot;PFE&quot;</td><td>2023-06-30</td><td>2023-08-01</td><td>12734.0</td><td>3237.0</td><td>3497.0</td><td>2327.0</td><td>4599.0</td><td>5645.0</td><td>73347.0</td><td>220168.0</td><td>44785.0</td><td>13425.0</td><td>10310.0</td><td>17488.0</td><td>34647.0</td><td>61356.0</td><td>120875.0</td><td>128796.0</td><td>99019.0</td><td>-1208.0</td><td>-25485.0</td><td>27174.0</td><td>0.0</td><td>914.0</td><td>164360.0</td><td>0.18</td><td>2023-09-01</td><td>false</td><td>0</td><td>0.0</td><td>0</td><td>0.0</td><td>0.0</td><td>0.097526</td><td>0.216847</td><td>0.745799</td><td>&hellip;</td><td>-0.350174</td><td>-0.244338</td><td>-0.352847</td><td>-2.750825</td><td>-1.259731</td><td>0.545609</td><td>0.487653</td><td>0.903131</td><td>0.643719</td><td>0.309388</td><td>-0.009695</td><td>0.137901</td><td>-0.005605</td><td>0.586955</td><td>0.255028</td><td>0.035092</td><td>-0.054239</td><td>-0.331985</td><td>0.106221</td><td>-0.014674</td><td>-0.25015</td><td>-0.258697</td><td>0.246018</td><td>0.02633</td><td>-1.145173</td><td>-0.527527</td><td>-0.49371</td><td>-0.58145</td><td>4</td><td>null</td><td>null</td><td>null</td><td>null</td><td>null</td><td>0</td><td>1</td><td>0</td></tr><tr><td>&quot;PFE&quot;</td><td>2023-09-30</td><td>2023-10-31</td><td>13232.0</td><td>9269.0</td><td>3281.0</td><td>-2382.0</td><td>-422.0</td><td>5646.0</td><td>74012.0</td><td>215021.0</td><td>44181.0</td><td>15003.0</td><td>10204.0</td><td>17862.0</td><td>31136.0</td><td>61048.0</td><td>117817.0</td><td>126411.0</td><td>96934.0</td><td>3456.0</td><td>888.0</td><td>-3779.0</td><td>2314.0</td><td>810.0</td><td>160530.0</td><td>0.494</td><td>2023-12-01</td><td>false</td><td>0</td><td>0.0</td><td>0</td><td>0.0</td><td>0.0</td><td>0.048749</td><td>0.108135</td><td>0.299501</td><td>&hellip;</td><td>-0.680123</td><td>-0.501329</td><td>-0.662598</td><td>2.246937</td><td>-0.557081</td><td>0.122852</td><td>0.496198</td><td>0.131383</td><td>0.613691</td><td>-0.004334</td><td>0.101933</td><td>-0.001967</td><td>0.044697</td><td>0.699809</td><td>0.655438</td><td>0.587242</td><td>-0.174496</td><td>-0.465948</td><td>-0.080955</td><td>-0.18559</td><td>-0.511916</td><td>-0.643422</td><td>0.353651</td><td>0.418661</td><td>-0.763268</td><td>-0.431082</td><td>-0.357864</td><td>-0.47533</td><td>5</td><td>null</td><td>null</td><td>null</td><td>null</td><td>null</td><td>0</td><td>1</td><td>0</td></tr><tr><td>&quot;PFE&quot;</td><td>2023-12-31</td><td>2024-01-30</td><td>14249.0</td><td>7563.0</td><td>4575.0</td><td>-3369.0</td><td>1487.0</td><td>5646.0</td><td>43333.0</td><td>226501.0</td><td>12690.0</td><td>15155.0</td><td>10189.0</td><td>18940.0</td><td>47794.0</td><td>60499.0</td><td>137213.0</td><td>118353.0</td><td>89014.0</td><td>5240.0</td><td>-10996.0</td><td>5442.0</td><td>0.0</td><td>1044.0</td><td>159859.0</td><td>1.458</td><td>2024-03-01</td><td>false</td><td>1</td><td>0.079</td><td>0</td><td>0.0</td><td>-0.079</td><td>0.009355</td><td>0.023805</td><td>0.469226</td><td>&hellip;</td><td>-0.941192</td><td>-0.779857</td><td>-0.927218</td><td>0.58579</td><td>-0.51107</td><td>-0.618578</td><td>-0.254669</td><td>-0.693499</td><td>-0.271174</td><td>0.268251</td><td>0.459722</td><td>0.1056</td><td>0.179465</td><td>0.601811</td><td>3.549707</td><td>8.648917</td><td>0.001293</td><td>-0.299884</td><td>0.07761</td><td>0.117801</td><td>-0.797844</td><td>-0.931415</td><td>0.53883</td><td>1.636656</td><td>-0.734244</td><td>-0.467984</td><td>-0.474242</td><td>-0.478418</td><td>4</td><td>null</td><td>null</td><td>null</td><td>null</td><td>null</td><td>0</td><td>1</td><td>0</td></tr></tbody></table></div>"
      ],
      "text/plain": [
       "shape: (122, 152)\n",
       "┌──────┬────────────┬────────────┬─────────┬───┬───────┬──────────────┬──────────────┬─────────────┐\n",
       "│ tic  ┆ datadate   ┆ rdq        ┆ saleq   ┆ … ┆ fperf ┆ sector_Consu ┆ sector_Healt ┆ sector_Info │\n",
       "│ ---  ┆ ---        ┆ ---        ┆ ---     ┆   ┆ ---   ┆ mer Staples  ┆ h Care       ┆ rmation     │\n",
       "│ str  ┆ date       ┆ date       ┆ f64     ┆   ┆ i8    ┆ ---          ┆ ---          ┆ Technology  │\n",
       "│      ┆            ┆            ┆         ┆   ┆       ┆ i8           ┆ i8           ┆ ---         │\n",
       "│      ┆            ┆            ┆         ┆   ┆       ┆              ┆              ┆ i8          │\n",
       "╞══════╪════════════╪════════════╪═════════╪═══╪═══════╪══════════════╪══════════════╪═════════════╡\n",
       "│ AAPL ┆ 2013-12-31 ┆ 2014-01-27 ┆ 57594.0 ┆ … ┆ 1     ┆ 0            ┆ 0            ┆ 1           │\n",
       "│ AAPL ┆ 2014-03-31 ┆ 2014-04-23 ┆ 45646.0 ┆ … ┆ 1     ┆ 0            ┆ 0            ┆ 1           │\n",
       "│ AAPL ┆ 2014-06-30 ┆ 2014-07-22 ┆ 37432.0 ┆ … ┆ 0     ┆ 0            ┆ 0            ┆ 1           │\n",
       "│ AAPL ┆ 2014-09-30 ┆ 2014-10-20 ┆ 42123.0 ┆ … ┆ 0     ┆ 0            ┆ 0            ┆ 1           │\n",
       "│ AAPL ┆ 2014-12-31 ┆ 2015-01-27 ┆ 74599.0 ┆ … ┆ 0     ┆ 0            ┆ 0            ┆ 1           │\n",
       "│ …    ┆ …          ┆ …          ┆ …       ┆ … ┆ …     ┆ …            ┆ …            ┆ …           │\n",
       "│ PFE  ┆ 2022-12-31 ┆ 2023-01-31 ┆ 24289.0 ┆ … ┆ 0     ┆ 0            ┆ 1            ┆ 0           │\n",
       "│ PFE  ┆ 2023-03-31 ┆ 2023-05-02 ┆ 18282.0 ┆ … ┆ null  ┆ 0            ┆ 1            ┆ 0           │\n",
       "│ PFE  ┆ 2023-06-30 ┆ 2023-08-01 ┆ 12734.0 ┆ … ┆ null  ┆ 0            ┆ 1            ┆ 0           │\n",
       "│ PFE  ┆ 2023-09-30 ┆ 2023-10-31 ┆ 13232.0 ┆ … ┆ null  ┆ 0            ┆ 1            ┆ 0           │\n",
       "│ PFE  ┆ 2023-12-31 ┆ 2024-01-30 ┆ 14249.0 ┆ … ┆ null  ┆ 0            ┆ 1            ┆ 0           │\n",
       "└──────┴────────────┴────────────┴─────────┴───┴───────┴──────────────┴──────────────┴─────────────┘"
      ]
     },
     "execution_count": 6,
     "metadata": {},
     "output_type": "execute_result"
    }
   ],
   "source": [
    "# Convert only integer columns to Int8, leave other types unchanged\n",
    "df = df.select(\n",
    "    [pl.col(col).cast(pl.Int8) if df[col].dtype.is_integer() else pl.col(col) for col in df.columns]\n",
    ")\n",
    "df"
   ]
  }
 ],
 "metadata": {
  "kernelspec": {
   "display_name": ".venv",
   "language": "python",
   "name": "python3"
  },
  "language_info": {
   "codemirror_mode": {
    "name": "ipython",
    "version": 3
   },
   "file_extension": ".py",
   "mimetype": "text/x-python",
   "name": "python",
   "nbconvert_exporter": "python",
   "pygments_lexer": "ipython3",
   "version": "3.11.0"
  }
 },
 "nbformat": 4,
 "nbformat_minor": 2
}
